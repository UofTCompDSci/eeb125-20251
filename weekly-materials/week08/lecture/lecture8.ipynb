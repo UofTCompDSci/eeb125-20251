{
 "cells": [
  {
   "cell_type": "markdown",
   "metadata": {
    "slideshow": {
     "slide_type": "slide"
    }
   },
   "source": [
    "# EEB125 Lecture 8: Merging, Grouping, and Plotting\n",
    "\n",
    "**March 5, 2025**\n",
    "\n",
    "**Karen Reid**"
   ]
  },
  {
   "cell_type": "markdown",
   "metadata": {
    "slideshow": {
     "slide_type": "slide"
    }
   },
   "source": [
    "## Recap\n",
    "\n",
    "Last class, we began learning how to use the Python library `pandas`, which provides lots of helpful data types and functions for performing data science."
   ]
  },
  {
   "cell_type": "markdown",
   "metadata": {},
   "source": [
    "We talked about a few different ways to extract data from a DataFrame.  Fill in the table below:"
   ]
  },
  {
   "cell_type": "markdown",
   "metadata": {
    "slideshow": {
     "slide_type": "slide"
    }
   },
   "source": [
    "| Type inside `[...]` | Example                    | Return type   | Which columns?  | Which rows? |\n",
    "|---------------------|----------------------------|---------------|-----------|-------|\n",
    "|    str`    | `species_data_final[\"Adult Body Mass (g)\"]` |      |           |       |\n",
    "|             | `species_data_final[[\"Genus\", \"Species\"]]`  |      |           |       |\n",
    "|             | `species_data_final[is_large]`              |      |           |       |"
   ]
  },
  {
   "cell_type": "markdown",
   "metadata": {
    "slideshow": {
     "slide_type": "slide"
    }
   },
   "source": [
    "Let's start by reading in the same PanTHERIA dataset as last week, from the file called **PanTHERIA_WR05_Aug2008.csv**."
   ]
  },
  {
   "cell_type": "code",
   "execution_count": null,
   "metadata": {
    "slideshow": {
     "slide_type": "-"
    }
   },
   "outputs": [],
   "source": [
    "import pandas as pd\n",
    "\n",
    "species_raw_data = pd.read_csv(\"PanTHERIA_WR05_Aug2008.csv\")"
   ]
  },
  {
   "cell_type": "markdown",
   "metadata": {
    "slideshow": {
     "slide_type": "slide"
    }
   },
   "source": [
    "Next, let's review some of the basic data cleaning operations from last class.\n",
    "\n",
    "1. **Extract** the following columns, and **rename** them.\n",
    "\n",
    "    | Original Name               | New Name               |\n",
    "    |-----------------------------|------------------------|\n",
    "    | `MSW05_Order`               | `Order`                |\n",
    "    | `MSW05_Binomial`            | `Binomial`             |\n",
    "    | `5-1_AdultBodyMass_g`       | `Mass (g)`             |\n",
    "    | `23-1_SexualMaturityAge_d`  | `Maturity (days)`      |\n",
    "    | `14-1_InterbirthInterval_d` | `Interbirth (days)`    |\n",
    "    | `17-1_MaxLongevity_m`       | `Longevity (months)`   |\n",
    "    | `15-1_LitterSize`           | `Litter Size`          |\n",
    "\n",
    "2. **Convert** all columns into their most specific types (using `DataFrame.convert_types()`).\n",
    "3. **Replace** all `-999` with `pd.NA`."
   ]
  },
  {
   "cell_type": "code",
   "execution_count": null,
   "metadata": {
    "slideshow": {
     "slide_type": "slide"
    }
   },
   "outputs": [],
   "source": [
    "# 1. Extract columns\n",
    "important_columns = [\n",
    "    \"MSW05_Order\",\n",
    "    \"MSW05_Binomial\",\n",
    "    \"5-1_AdultBodyMass_g\",\n",
    "    \"23-1_SexualMaturityAge_d\",\n",
    "    \"14-1_InterbirthInterval_d\",\n",
    "    \"17-1_MaxLongevity_m\",\n",
    "    \"15-1_LitterSize\"\n",
    "]\n",
    "\n",
    "species_subset_data = species_raw_data[important_columns]"
   ]
  },
  {
   "cell_type": "code",
   "execution_count": null,
   "metadata": {
    "slideshow": {
     "slide_type": "slide"
    }
   },
   "outputs": [],
   "source": [
    "# 1. Rename columns\n",
    "old_to_new = {\n",
    "    \"MSW05_Order\": \"Order\",\n",
    "    \"MSW05_Binomial\": \"Binomial\",\n",
    "    \"5-1_AdultBodyMass_g\": \"Mass (g)\",\n",
    "    \"23-1_SexualMaturityAge_d\": \"Maturity (days)\",\n",
    "    \"14-1_InterbirthInterval_d\": \"Interbirth (days)\",\n",
    "    \"17-1_MaxLongevity_m\": \"Longevity (months)\",\n",
    "    \"15-1_LitterSize\": \"Litter Size\"\n",
    "}\n",
    "species_renamed_data = species_subset_data.rename(columns=old_to_new)"
   ]
  },
  {
   "cell_type": "code",
   "execution_count": null,
   "metadata": {
    "slideshow": {
     "slide_type": "slide"
    }
   },
   "outputs": [],
   "source": [
    "# 2.Convert column types\n",
    "species_converted_data = species_renamed_data.convert_dtypes()\n",
    "species_converted_data.info()"
   ]
  },
  {
   "cell_type": "code",
   "execution_count": null,
   "metadata": {
    "slideshow": {
     "slide_type": "slide"
    }
   },
   "outputs": [],
   "source": [
    "# Replace -999 values\n",
    "species_data = species_converted_data.replace(-999, pd.NA)\n",
    "species_data"
   ]
  },
  {
   "cell_type": "markdown",
   "metadata": {
    "slideshow": {
     "slide_type": "slide"
    }
   },
   "source": [
    "## Exploring Maturity Age vs. Endangered Level\n",
    "\n",
    "**Question**: Are mammals that take longer go grow up at greater risk of extinction?"
   ]
  },
  {
   "cell_type": "markdown",
   "metadata": {
    "slideshow": {
     "slide_type": "fragment"
    }
   },
   "source": [
    "Right now, we have mammal maturity age: `species_data[\"Maturity (days)\"]`.\n",
    "\n",
    "But what about extinction level?"
   ]
  },
  {
   "cell_type": "markdown",
   "metadata": {
    "slideshow": {
     "slide_type": "slide"
    }
   },
   "source": [
    "We have information about extinction level, but it's in a different dataset: `iucn_status.csv`."
   ]
  },
  {
   "cell_type": "code",
   "execution_count": null,
   "metadata": {
    "slideshow": {
     "slide_type": "-"
    }
   },
   "outputs": [],
   "source": [
    "iucn_raw_data = pd.read_csv(\"iucn_status.csv\")\n",
    "iucn_data = iucn_raw_data.convert_dtypes()\n",
    "print(iucn_data.head())\n"
   ]
  },
  {
   "cell_type": "markdown",
   "metadata": {
    "slideshow": {
     "slide_type": "slide"
    }
   },
   "source": [
    "Now it seems like we can \"match\" the `species` column with the PanTHERIA's `Binomial` column, but unfortunately the format is different:"
   ]
  },
  {
   "cell_type": "code",
   "execution_count": null,
   "metadata": {},
   "outputs": [],
   "source": [
    "display(iucn_data[\"species\"].head())\n",
    "display(species_data[\"Binomial\"].sort_values())"
   ]
  },
  {
   "cell_type": "markdown",
   "metadata": {
    "slideshow": {
     "slide_type": "slide"
    }
   },
   "source": [
    "### Working with text columns\n",
    "\n",
    "Let's look at a single value first.\n",
    "\n",
    "```python\n",
    "'Abditomys_latidens'\n",
    "```\n",
    "\n",
    "We need to replace the underscore `_` with a space.\n",
    "For a single Python string, we can use the `str.replace(..., ...)` method:"
   ]
  },
  {
   "cell_type": "code",
   "execution_count": null,
   "metadata": {},
   "outputs": [],
   "source": [
    "single_species = \"Abditomys_latidens\"\n",
    "# Add line to replace '_'"
   ]
  },
  {
   "cell_type": "markdown",
   "metadata": {
    "slideshow": {
     "slide_type": "slide"
    }
   },
   "source": [
    "How do we do this for an entire `Series`? Is there a method like `.round()`?"
   ]
  },
  {
   "cell_type": "markdown",
   "metadata": {
    "slideshow": {
     "slide_type": "fragment"
    }
   },
   "source": [
    "**Yes**! Each `Series` has access to many string-specific methods, analogous to the built-in `str` methods in Python.\n",
    "\n",
    "But there's a catch: these methods must be accessed through a `.str` attribute. Here are some examples."
   ]
  },
  {
   "cell_type": "code",
   "execution_count": null,
   "metadata": {
    "slideshow": {
     "slide_type": "slide"
    }
   },
   "outputs": [],
   "source": [
    "species_series = iucn_data[\"species\"]\n",
    "species_series.str.upper()"
   ]
  },
  {
   "cell_type": "code",
   "execution_count": null,
   "metadata": {
    "slideshow": {
     "slide_type": "slide"
    }
   },
   "outputs": [],
   "source": [
    "species_series = iucn_data[\"species\"]\n",
    "species_series.str.len()"
   ]
  },
  {
   "cell_type": "markdown",
   "metadata": {
    "slideshow": {
     "slide_type": "slide"
    }
   },
   "source": [
    "And the one that we want:"
   ]
  },
  {
   "cell_type": "code",
   "execution_count": null,
   "metadata": {
    "scrolled": true,
    "slideshow": {
     "slide_type": "-"
    }
   },
   "outputs": [],
   "source": [
    "species_series = iucn_data[\"species\"]\n",
    "species_series.str.replace(\"_\", \" \")"
   ]
  },
  {
   "cell_type": "markdown",
   "metadata": {
    "slideshow": {
     "slide_type": "slide"
    }
   },
   "source": [
    "Hooray! Now let's store this `Series` as a new column in `iucn_data`:"
   ]
  },
  {
   "cell_type": "code",
   "execution_count": null,
   "metadata": {},
   "outputs": [],
   "source": [
    "species_series = iucn_data[\"species\"]\n",
    "formatted_species_series = species_series.str.replace(\"_\", \" \")\n",
    "# add a new column called \"Formatted Species\" to the iucn_data DataFrame\n",
    "\n",
    "iucn_data.head()"
   ]
  },
  {
   "cell_type": "markdown",
   "metadata": {
    "slideshow": {
     "slide_type": "slide"
    }
   },
   "source": [
    "## Merging `DataFrame`s"
   ]
  },
  {
   "cell_type": "markdown",
   "metadata": {
    "slideshow": {
     "slide_type": "slide"
    }
   },
   "source": [
    "In `pandas`, a **merge** operation allows us to combine two different `DataFrame`s, matching rows by their values on a specific column in each `DataFrame`."
   ]
  },
  {
   "cell_type": "markdown",
   "metadata": {
    "slideshow": {
     "slide_type": "slide"
    }
   },
   "source": [
    "In our datasets, `species_data[\"Binomial\"]` has the same data as `iucn_data[\"Formatted Species\"]`."
   ]
  },
  {
   "cell_type": "code",
   "execution_count": null,
   "metadata": {},
   "outputs": [],
   "source": [
    "display(species_data[\"Binomial\"].head())\n",
    "display(iucn_data[\"Formatted Species\"].head())"
   ]
  },
  {
   "cell_type": "markdown",
   "metadata": {
    "slideshow": {
     "slide_type": "slide"
    }
   },
   "source": [
    "Formally, we merge two `DataFrames` using a `pandas` function called `merge`.\n",
    "We'll use `merge` with four arguments:\n",
    "\n",
    "- `left`: the first `DataFrame` to merge\n",
    "- `right`: the second `DataFrame` to merge\n",
    "- `left_on`: the name of the column in the `left` `DataFrame` to match with\n",
    "- `right_on`: the name of the column in the `right` `DataFrame` to match with"
   ]
  },
  {
   "cell_type": "markdown",
   "metadata": {
    "slideshow": {
     "slide_type": "slide"
    }
   },
   "source": [
    "Here's how we can call `merge` for our two datasets:"
   ]
  },
  {
   "cell_type": "code",
   "execution_count": null,
   "metadata": {},
   "outputs": [],
   "source": [
    "combined_data = pd.merge(\n",
    "    left=species_data,\n",
    "    right=iucn_data,\n",
    "    left_on=\"Binomial\",\n",
    "    right_on=\"Formatted Species\"\n",
    ")\n",
    "combined_data.head()"
   ]
  },
  {
   "cell_type": "markdown",
   "metadata": {
    "slideshow": {
     "slide_type": "slide"
    }
   },
   "source": [
    "## Grouping\n",
    "\n",
    "Now suppose we want to determine the average maturity age for each `iucn_status` level.\n",
    "\n",
    "We can do this manually by filtering for each group separately (similar to what you did on last week's homework)."
   ]
  },
  {
   "cell_type": "code",
   "execution_count": null,
   "metadata": {
    "slideshow": {
     "slide_type": "slide"
    }
   },
   "outputs": [],
   "source": [
    "is_cr = combined_data[\"iucn_status\"] == \"CR\"  # Create a boolean Series\n",
    "cr_species = ?????            # Use the Series to *filter rows* of the dataset\n",
    "????         # Extract a column and compute a mean"
   ]
  },
  {
   "cell_type": "code",
   "execution_count": null,
   "metadata": {
    "slideshow": {
     "slide_type": "fragment"
    }
   },
   "outputs": [],
   "source": [
    "is_en = combined_data[\"iucn_status\"] == \"EN\"\n",
    "en_species = combined_data[is_en]\n",
    "en_species[\"Maturity (days)\"].mean()"
   ]
  },
  {
   "cell_type": "markdown",
   "metadata": {
    "slideshow": {
     "slide_type": "slide"
    }
   },
   "source": [
    "It's also possible to use a *for loop* to try each of the possible statuses (at least, assuming we know them in advance)."
   ]
  },
  {
   "cell_type": "code",
   "execution_count": null,
   "metadata": {},
   "outputs": [],
   "source": [
    "statuses = [\"CR\", \"EN\", \"VU\", \"NT\", \"LC\"]\n",
    "\n",
    "for status in statuses:\n",
    "    is_status = combined_data[\"iucn_status\"] == status\n",
    "    species_with_status = combined_data[is_status]\n",
    "    mean = species_with_status[\"Maturity (days)\"].mean()\n",
    "    print(f\"{status} species average time to maturity (in days): {mean}\")"
   ]
  },
  {
   "cell_type": "markdown",
   "metadata": {
    "slideshow": {
     "slide_type": "slide"
    }
   },
   "source": [
    "But there's a better approach that uses a new Pandas concept: **grouping**.\n",
    "This allows us to take a `DataFrame` and put the rows into groups based on their value in a given column."
   ]
  },
  {
   "cell_type": "code",
   "execution_count": null,
   "metadata": {
    "slideshow": {
     "slide_type": "fragment"
    }
   },
   "outputs": [],
   "source": [
    "combined_data.groupby(\"iucn_status\")"
   ]
  },
  {
   "cell_type": "markdown",
   "metadata": {
    "slideshow": {
     "slide_type": "fragment"
    }
   },
   "source": [
    "A `DataFrameGroupBy` object is conceptually similar to a \"dictionary of `DataFrame`s\", but is implemented by `pandas` in a more complex way.\n",
    "You aren't responsible for the details of this type of data, but you do need to know about how you can work with these groups."
   ]
  },
  {
   "cell_type": "markdown",
   "metadata": {
    "slideshow": {
     "slide_type": "slide"
    }
   },
   "source": [
    "### Retrieving a group\n",
    "\n",
    "Given a `DataFrameGroupBy` object, we can obtain the `DataFrame` for one of the groups using the `DataFrameGroupBy.get_group` method."
   ]
  },
  {
   "cell_type": "code",
   "execution_count": null,
   "metadata": {
    "scrolled": true,
    "slideshow": {
     "slide_type": "-"
    }
   },
   "outputs": [],
   "source": [
    "groups_by_status = combined_data.groupby(\"iucn_status\")\n",
    "groups_by_status.get_group(\"EN\")\n"
   ]
  },
  {
   "cell_type": "markdown",
   "metadata": {},
   "source": [
    "### Displaying a DataFrameGroupBy\n",
    "\n",
    "But what if we want to see the whole object?"
   ]
  },
  {
   "cell_type": "code",
   "execution_count": null,
   "metadata": {},
   "outputs": [],
   "source": [
    "# Loop over the groups\n",
    "for key, item in groups_by_status:\n",
    "    print(groups_by_status.get_group(key), \"\\n\\n\")"
   ]
  },
  {
   "cell_type": "markdown",
   "metadata": {
    "slideshow": {
     "slide_type": "slide"
    }
   },
   "source": [
    "### Computing descriptive statistics per group (!)\n",
    "\n",
    "Recall from last class, we can compute descriptive statistics on a numerical column by using `Series` methods:\n",
    "\n",
    "- `Series.count()`\n",
    "- `Series.sum()`\n",
    "- `Series.min()`\n",
    "- `Series.max()`\n",
    "- `Series.mean()`"
   ]
  },
  {
   "cell_type": "markdown",
   "metadata": {
    "slideshow": {
     "slide_type": "fragment"
    }
   },
   "source": [
    "We can do the same thing on a **per-group basis** in two steps:\n",
    "\n",
    "1. First, extract the relevant column (using familiar square bracket syntax).\n",
    "2. Call the desired descriptive statistics method."
   ]
  },
  {
   "cell_type": "markdown",
   "metadata": {
    "slideshow": {
     "slide_type": "slide"
    }
   },
   "source": [
    "**Example**: calculate the mean age to maturity for each IUCN status."
   ]
  },
  {
   "cell_type": "code",
   "execution_count": null,
   "metadata": {
    "scrolled": true
   },
   "outputs": [],
   "source": [
    "groups_by_status = combined_data.groupby(\"iucn_status\")\n",
    "maturities_by_status = groups_by_status[\"Maturity (days)\"]\n",
    "print(maturities_by_status.mean())"
   ]
  },
  {
   "cell_type": "markdown",
   "metadata": {
    "slideshow": {
     "slide_type": "slide"
    }
   },
   "source": [
    "Since the result is just a regular `Series`, we can apply the same methods as last time—including sorting it!"
   ]
  },
  {
   "cell_type": "code",
   "execution_count": null,
   "metadata": {
    "slideshow": {
     "slide_type": "-"
    }
   },
   "outputs": [],
   "source": [
    "maturities_by_status.mean().sort_values(ascending=False)"
   ]
  },
  {
   "cell_type": "markdown",
   "metadata": {
    "slideshow": {
     "slide_type": "slide"
    }
   },
   "source": [
    "## Data Visualization\n"
   ]
  },
  {
   "cell_type": "markdown",
   "metadata": {
    "slideshow": {
     "slide_type": "slide"
    }
   },
   "source": [
    "The last topic we'll learn about today is how to do some basic data visualization using pandas.\n",
    "Both `Series` and `DataFrame` have multiple methods for plotting data, which can be accessed through the `.plot` attribute."
   ]
  },
  {
   "cell_type": "markdown",
   "metadata": {
    "slideshow": {
     "slide_type": "slide"
    }
   },
   "source": [
    "### Plotting a `Series`\n",
    "\n",
    "We'll start with just plotting a `Series`, using the grouped means from the previous example."
   ]
  },
  {
   "cell_type": "code",
   "execution_count": null,
   "metadata": {
    "slideshow": {
     "slide_type": "-"
    }
   },
   "outputs": [],
   "source": [
    "mean_maturities = groups_by_status[\"Maturity (days)\"].mean().sort_values(ascending=False)\n",
    "mean_maturities"
   ]
  },
  {
   "cell_type": "markdown",
   "metadata": {
    "slideshow": {
     "slide_type": "slide"
    }
   },
   "source": [
    "Let's plot this series using a **bar plot**:"
   ]
  },
  {
   "cell_type": "code",
   "execution_count": null,
   "metadata": {},
   "outputs": [],
   "source": [
    "mean_maturities.plot.bar()"
   ]
  },
  {
   "cell_type": "markdown",
   "metadata": {
    "slideshow": {
     "slide_type": "slide"
    }
   },
   "source": [
    "Each plotting method accepts optional arguments to configure the appearance of the plot.\n",
    "For example:\n",
    "\n",
    "- `title`: the title of the plot\n",
    "- `xlabel`: the label for the x-axis\n",
    "- `ylabel`: the label for the y-axis"
   ]
  },
  {
   "cell_type": "code",
   "execution_count": null,
   "metadata": {
    "scrolled": true,
    "slideshow": {
     "slide_type": "slide"
    }
   },
   "outputs": [],
   "source": [
    "mean_maturities.plot.bar(\n",
    "    title=\"Mean Age to Maturity by IUCN Status\",\n",
    "    xlabel=\"IUCN Status\",\n",
    "    ylabel=\"Mean Age to Maturity (days)\"\n",
    ")"
   ]
  },
  {
   "cell_type": "markdown",
   "metadata": {
    "slideshow": {
     "slide_type": "slide"
    }
   },
   "source": [
    "By default, `Series.plot.bar` uses the `Series` *index* to label the bars.\n",
    "We can customize these labels by using the `Series.rename(index=...)`."
   ]
  },
  {
   "cell_type": "code",
   "execution_count": null,
   "metadata": {},
   "outputs": [],
   "source": [
    "old_to_new = {\n",
    "    \"DD\": \"Data Deficient\",\n",
    "    \"EN\": \"Endangered\",\n",
    "    \"CR\": \"Critically Endangered\",\n",
    "    \"VU\": \"Vulnerable\",\n",
    "    \"NT\": \"Near Threatened\",\n",
    "    \"LC\": \"Least Concern\",\n",
    "    \"EW\": \"Extinct in the Wild\",\n",
    "    \"EX\": \"Extinct\"\n",
    "}\n",
    "\n",
    "mean_maturities_renamed = mean_maturities.rename(index=old_to_new)\n"
   ]
  },
  {
   "cell_type": "markdown",
   "metadata": {
    "slideshow": {
     "slide_type": "slide"
    }
   },
   "source": [
    "Plotting a `DataFrame` is similar to plotting a `Series`, but we must specify the columns to use for the x- and y-axes of the plot.\n",
    "\n",
    "For example, we can take our `combined_data` and plot each species' litter size against its maturity age as a **scatter plot**."
   ]
  },
  {
   "cell_type": "code",
   "execution_count": null,
   "metadata": {
    "scrolled": true
   },
   "outputs": [],
   "source": [
    "mean_maturities_renamed.plot.bar(\n",
    "    title=\"Mean Age to Maturity by IUCN Status\",\n",
    "    xlabel=\"IUCN Status\",\n",
    "    ylabel=\"Mean Age to Maturity (days)\"\n",
    ")"
   ]
  },
  {
   "cell_type": "markdown",
   "metadata": {
    "slideshow": {
     "slide_type": "slide"
    }
   },
   "source": [
    "### Plotting (columns from) a `DataFrame`\n",
    "\n",
    "Since `DataFrame`s have multiple columns, we need to specify the columns we want to visualize."
   ]
  },
  {
   "cell_type": "markdown",
   "metadata": {
    "slideshow": {
     "slide_type": "fragment"
    }
   },
   "source": [
    "**Example**: create a *scatter plot* that plots litter size against age to maturity for each species."
   ]
  },
  {
   "cell_type": "code",
   "execution_count": null,
   "metadata": {
    "scrolled": true,
    "slideshow": {
     "slide_type": "slide"
    }
   },
   "outputs": [],
   "source": [
    "combined_data.plot.scatter(\n",
    "    x=\"Litter Size\",\n",
    "    y=\"Maturity (days)\",\n",
    "    title=\"Litter Size vs. Mean Age to Maturity Among Mammals\"\n",
    ")"
   ]
  },
  {
   "cell_type": "markdown",
   "metadata": {
    "slideshow": {
     "slide_type": "slide"
    }
   },
   "source": [
    "**Example**: create a *box plot* that plots IUCN status against age to maturity."
   ]
  },
  {
   "cell_type": "code",
   "execution_count": null,
   "metadata": {
    "scrolled": true,
    "slideshow": {
     "slide_type": "slide"
    }
   },
   "outputs": [],
   "source": [
    "combined_data.plot.box(\n",
    "    by=\"iucn_status\",\n",
    "    column=\"Maturity (days)\",\n",
    "    title=\"Age to Maturity Among Mammals by IUCN Status\"\n",
    ")"
   ]
  },
  {
   "cell_type": "markdown",
   "metadata": {
    "slideshow": {
     "slide_type": "slide"
    }
   },
   "source": [
    "## Further reading\n",
    "\n",
    "- [Pandas *Working with text data* guide](https://pandas.pydata.org/docs/user_guide/text.html)\n",
    "- [Pandas *Chart visualization* guide](https://pandas.pydata.org/docs/user_guide/visualization.html)\n"
   ]
  }
 ],
 "metadata": {
  "celltoolbar": "Slideshow",
  "kernelspec": {
   "display_name": "base",
   "language": "python",
   "name": "python3"
  },
  "language_info": {
   "codemirror_mode": {
    "name": "ipython",
    "version": 3
   },
   "file_extension": ".py",
   "mimetype": "text/x-python",
   "name": "python",
   "nbconvert_exporter": "python",
   "pygments_lexer": "ipython3",
   "version": "3.12.2"
  }
 },
 "nbformat": 4,
 "nbformat_minor": 2
}
