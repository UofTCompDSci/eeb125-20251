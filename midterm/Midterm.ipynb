{
 "cells": [
  {
   "cell_type": "markdown",
   "id": "b8916d01",
   "metadata": {},
   "source": [
    "# EEB125 Midterm - Wednesday February 12 2025\n",
    "\n",
    "<mark> **Read this section before starting the test** </mark>\n",
    "\n",
    "## Test Instructions\n",
    "\n",
    "- This test has 3 parts each with multiple questions.\n",
    "\n",
    "- Complete all questions (of all parts) below. \n",
    "\n",
    "- The answers to the questions will be submitted on MarkUs using a similar workflow to the homework assignments, except that MarkUs will *not* give you feedback on passing or failing the autotests.\n",
    "\n",
    "- Answers where you are asked to write Python code will be autograded, and written answers will be graded manually by the teaching team.\n",
    "\n",
    "\n",
    "## Marking Rubric\n",
    "\n",
    "\n",
    "| Part 1 (10 points total)    | Q1 (3 points) | Q2 (3 points) | Q3 (4 points) |     |\n",
    "|-----------------------------|---------------|---------------|---------------|-----|\n",
    "| Part 2 (15 points total)    | Q1 (2 points) | Q2 (3 points) | Q3 (2 points) | Q4 (8 points) |\n",
    "| Part 3 (10 points total)    | Q1 (4 points) | Q2 (6 points) |               |     |\n",
    "\n",
    "__The total number of marks for this test is 35 points.__"
   ]
  },
  {
   "cell_type": "markdown",
   "id": "53f7adc3",
   "metadata": {},
   "source": [
    "## Aids Allowed and Academic Integrity\n",
    "\n",
    "- You are allowed to use any materials from the course or any other written sources (e.g., books, websites). \n",
    "\n",
    "- You are not allowed to directly receive or give help during the test period.  In other words, all work must be your own, and you must not discuss or post any information about this test with anyone during the test period. You may not use AI assistants for the test.\n",
    "\n",
    "- As a student, you are responsible for ensuring the integrity of your work and for understanding what [constitutes an academic offense](https://www.artsci.utoronto.ca/current/academic-advising-and-support/student-academic-integrity/academic-misconduct).\n",
    "\n",
    "## Time Allowed\n",
    "\n",
    "- The test will be available at 1:10 PM and must be submitted on MarkUs (see Submission Instructions) by 3:00 PM. MarkUs has been set up to allow tests to be submitted up to 3:05 PM without penalty to allow for minor technical difficulties.\n",
    "\n",
    "- Late tests will receive a grade of zero unless you have an approved accommodation from your instructor.\n",
    "\n",
    "## How do I ask a question during the test?\n",
    "\n",
    "- The teaching team will be available in the lecture room during the test (WI 1017) in case you have any questions during the midterm.\n",
    "- Please check Quercus announcements for a zoom link to ask questions if you are taking the test remotely.\n",
    "- You are responsible for checking Quercus announcments during the test, since that is where we will post any announcements that affect everyone writing the test.\n",
    "\n",
    "- The class discussion forum on Piazza will be disabled during the test period. "
   ]
  },
  {
   "cell_type": "markdown",
   "id": "8cad9335",
   "metadata": {},
   "source": [
    "## Submission Instructions\n",
    "\n",
    "You will submit your work on [MarkUs](https://markus.teach.cs.toronto.edu/markus/main/login_remote_auth).\n",
    "To submit your work:\n",
    "\n",
    "1. Download this file (`Midterm.ipynb`) from JupyterHub. (See [our JupyterHub Guide](../guides/jupyterhub_guide.ipynb) for detailed instructions.)\n",
    "2. Submit this file to MarkUs under the **midterm** assignment. (See [our MarkUs Guide](../guides/markus_guide.ipynb) for detailed instructions.)\n",
    "All homeworks will take place in a Jupyter notebook (like this one). When you are done, you will download this notebook and submit it to MarkUs.\n",
    "\n",
    "**Note**: unlike the homeworks, there is no autograding preview for this midterm.\n"
   ]
  },
  {
   "cell_type": "markdown",
   "id": "2fce0dc7",
   "metadata": {},
   "source": [
    "## Part 1: Coding Exercises (10 points)"
   ]
  },
  {
   "cell_type": "markdown",
   "id": "33c3624e",
   "metadata": {},
   "source": [
    "### Part 1, Question 1 (3 points)\n",
    "\n",
    "**Create the following three variables:**\n",
    "\n",
    "- `name`: a *string* containing your full name\n",
    "- `no_space_name`: a *string* in which the `replace()` method is used to replace each space in `name` with an underscore '_'.  \n",
    "- `name_len`: an *integer* that is the length of `name`\n",
    "\n",
    "You may wish to verify your work by running `print()` on each of your newly created variables, and using `type()` to verify the type of each.\n",
    "\n"
   ]
  },
  {
   "cell_type": "code",
   "execution_count": null,
   "id": "f2f4cadf",
   "metadata": {},
   "outputs": [],
   "source": [
    "\n",
    "# Write your code in this cell\n",
    "\n",
    "\n",
    "\n",
    "# This code is provided to help check your work\n",
    "print(f\"Your name is {name}\")\n",
    "print(f\"Your name with dashes instead of spaces is {no_space_name}\")\n",
    "print(f\"The length of your name is {name_len}\")"
   ]
  },
  {
   "cell_type": "markdown",
   "id": "304cd2ac",
   "metadata": {},
   "source": [
    "### Part 1, Question 2 (3 points)\n",
    "\n",
    "Given a list of floating point numbers in `values`:\n",
    "1. Compute the number of values in the list that are less than 0, and store that in a variable named `below_zero`.\n",
    "2. Store the smallest value in a variable named `smallest_value`.\n",
    "\n",
    "Your solution should still work if we changed the list stored in `values`."
   ]
  },
  {
   "cell_type": "code",
   "execution_count": null,
   "id": "25085773",
   "metadata": {},
   "outputs": [],
   "source": [
    "# These variables are provided for you (to avoid copy-and-paste errors)\n",
    "values = [22.5, -42.3,  23.5, -1.1,  -2.8]\n",
    "\n",
    "# Write your code below\n",
    "\n",
    "\n",
    "\n",
    "# This code is provided to help you check your work\n",
    "print(f\"Count: {below_zero}\")\n",
    "print(f\"Smallest: {smallest_value}\")"
   ]
  },
  {
   "cell_type": "markdown",
   "id": "0778f02f",
   "metadata": {},
   "source": [
    "### Part 1, Question 3 (4 points)\n",
    "\n",
    "We have given you a long string in the cell below.\n",
    "You have 3 tasks:\n",
    "1. First, **split** the string into sentences using the `split()` method, and store the resulting list in a variable called `sentences`.\n",
    "2. Then create an empty list called `lengths`.  Using a loop, iterate over `sentences`, appending the number of words in each sentence to `lengths`.  (Hint: you will need to use `split()` again)\n",
    "3. Store the sentence with the largest number of words in a variable named `longest`.\n",
    "\n",
    "Do not hard-code your answers, we are looking for your use of Python methods, functions, and loops."
   ]
  },
  {
   "cell_type": "code",
   "execution_count": null,
   "id": "c926670e",
   "metadata": {},
   "outputs": [],
   "source": [
    "# This variable is given to you: do not change it!\n",
    "winter = \"Snow blankets the ground. Ice glazes the windows. Fire crackles warmly in the hearth. Boots crunch in the snow. Scarves wrap tightly. Stars shine brightly.\"\n",
    "\n",
    "# Write your code here\n",
    "\n",
    "\n",
    "\n",
    "\n",
    "# This code is provided to help you check your work\n",
    "print(sentences)\n",
    "print(lengths)\n",
    "print(longest)"
   ]
  },
  {
   "cell_type": "markdown",
   "id": "a3f233ad-4213-4da7-8a3a-97d54eca94ec",
   "metadata": {},
   "source": [
    "## Part 2: Mammalian Reproductive Strategies (15 points)\n",
    "\n",
    "Part two of this test will examine the average length of the gestation period for mammalian species. This is expressed in units of days. For example, a human fetus may spend approximately 270 days, on average, in utero.\n",
    "\n",
    "To begin, run the following code cell."
   ]
  },
  {
   "cell_type": "code",
   "execution_count": 33,
   "id": "e943e89d-1ee3-43af-8155-0fdcd32a3fa7",
   "metadata": {},
   "outputs": [],
   "source": [
    "# The code in this cell is provided to get you started on this part.\n",
    "# RUN THIS CELL, but do NOT modify the code.\n",
    "gest_file = open(\"gestation.csv\", \"r\")\n",
    "gest_lines = gest_file.readlines()\n",
    "gest_header = gest_lines[0]\n",
    "gest_data = gest_lines[1:]"
   ]
  },
  {
   "cell_type": "markdown",
   "id": "77c46830-c982-4f72-b65f-c552d3356461",
   "metadata": {},
   "source": [
    "### Part 2, Question 1 (2 points)\n",
    "\n",
    "a) What does the `open()` function do? Please explain what information each argument given (`\"gestation.csv\"` and `\"r\"`) is communicating to Python. _(1pt)_\n"
   ]
  },
  {
   "cell_type": "markdown",
   "id": "0235ac2a-87ad-45ae-a8aa-40238e67b38d",
   "metadata": {},
   "source": [
    "**WRITE YOUR ANSWER HERE**"
   ]
  },
  {
   "cell_type": "markdown",
   "id": "396f02ee-4d97-4ab3-9f3e-4f77f0a8a8bb",
   "metadata": {},
   "source": [
    "b) Please explain what the Python function `readlines()` does. _(1pt)_"
   ]
  },
  {
   "cell_type": "markdown",
   "id": "3fe6519b-cde0-479d-a3f3-75fce48bbe64",
   "metadata": {},
   "source": [
    "**WRITE YOUR ANSWER HERE**"
   ]
  },
  {
   "cell_type": "markdown",
   "id": "a5a294d9-dfd8-438b-9249-fdf3eb52877f",
   "metadata": {},
   "source": [
    "### Part 2, Question 2 (3 points)\n",
    "\n",
    "To start, run the following code cell."
   ]
  },
  {
   "cell_type": "code",
   "execution_count": 34,
   "id": "8769f691-345a-4b4b-bbf2-39e0c301ac88",
   "metadata": {},
   "outputs": [],
   "source": [
    "# The following code is provided for you.\n",
    "# Run the cell, but do NOT change any of the code.\n",
    "gest_times = {}\n",
    "\n",
    "for line in gest_data:\n",
    "    line_data = line.strip().split(\",\")\n",
    "    species = line_data[1]\n",
    "    gest_time = line_data[2]\n",
    "    if gest_time != \"NA\":\n",
    "        gest_times[species] = float(gest_time)"
   ]
  },
  {
   "cell_type": "markdown",
   "id": "6b49750e-746e-4f0b-9a24-08deedcc08e3",
   "metadata": {},
   "source": [
    "Q2. Describe the line of code: `if gest_time != 'NA'`. What does `'NA'` mean in this context? What is this `if` statement accomplishing? _(3pts)_\n"
   ]
  },
  {
   "cell_type": "markdown",
   "id": "68c13493-5fee-433c-b158-8b53856517ff",
   "metadata": {},
   "source": [
    "**WRITE YOUR ANSWER HERE**"
   ]
  },
  {
   "cell_type": "markdown",
   "id": "e8995027-0a2d-4208-baea-4fb4e59e7b6e",
   "metadata": {},
   "source": [
    "### Part 2, Question 3 (2 points)\n",
    "\n",
    "In the code cell below, complete the function `mean` to calculate the statistical average of its argument `pop`. You may assume that `pop` is not empty. The provided code below assumes that you will store the computed average in a variable named `average` before returning it."
   ]
  },
  {
   "cell_type": "code",
   "execution_count": 35,
   "id": "7b4e73cb-b9bf-48ac-afe7-e96ed821b597",
   "metadata": {},
   "outputs": [],
   "source": [
    "def mean(pop):\n",
    "    # Return the average of the values in the list pop.\n",
    "    # Complete this function.\n",
    "    \n",
    "\n",
    "\n",
    "    return average\n"
   ]
  },
  {
   "cell_type": "markdown",
   "id": "e62bcbdc-5f8e-4b3b-994f-4afc3d6710d1",
   "metadata": {},
   "source": [
    "### Part 2, Question 4 (8 points)\n",
    "\n",
    "_a)_ Please use your newly-defined function to calculate how long mammalian species take to gestate, on average. You will want to use as input `gest_times.values()`. Store the result in a variable called `mean_gestation_time`. _(1pt)_"
   ]
  },
  {
   "cell_type": "code",
   "execution_count": null,
   "id": "1abec818-01fa-40d1-b842-e755f9afd193",
   "metadata": {},
   "outputs": [],
   "source": [
    "# Write your code here\n",
    "\n",
    "\n",
    "# This code is provided to help you check your work\n",
    "print(f\"The average gestation time is {mean_gestation_time} days.\")"
   ]
  },
  {
   "cell_type": "markdown",
   "id": "7544265c-51e4-4f1f-82cb-125e86a615a6",
   "metadata": {},
   "source": [
    "Run the code below to create a dictionary that links the name of each species in the dataset to its order."
   ]
  },
  {
   "cell_type": "code",
   "execution_count": 37,
   "id": "ee175184-29b9-4875-9dbb-658942248d55",
   "metadata": {},
   "outputs": [],
   "source": [
    "sp_ord = {}\n",
    "\n",
    "for line in gest_data:\n",
    "    line_data = line.strip().split(\",\")\n",
    "    order = line_data[0]\n",
    "    species = line_data[1]\n",
    "    sp_ord[species] = order"
   ]
  },
  {
   "cell_type": "markdown",
   "id": "e8a16a63-672a-407d-91b1-dc9afad8c391",
   "metadata": {},
   "source": [
    "_b)_ In the code cell below, please create a list with all of the unique orders represented in the dataset. Assign it to the variable `unique_orders`. _(2pts)_"
   ]
  },
  {
   "cell_type": "code",
   "execution_count": null,
   "id": "e02caa4a-ecac-449d-b1c6-bf7e24292e2c",
   "metadata": {},
   "outputs": [],
   "source": [
    "# Write your code here\n",
    "\n",
    "\n",
    "\n",
    "# This code is provided to help you check your work\n",
    "print(unique_orders)"
   ]
  },
  {
   "cell_type": "markdown",
   "id": "4858081a-d3e2-445d-a6dd-1bb21198b4f1",
   "metadata": {},
   "source": [
    "_c)_ Please combine the information from the dictionaries `gest_times` and `sp_ord` to find the gestation times of all species from the order \"Primates\". Calculate the average gestation time for all Primate species and assign the result to the variable `primate_mean_gestation`. _(5pts)_\n",
    "\n",
    "(This question does not depend on `unique_orders`)"
   ]
  },
  {
   "cell_type": "code",
   "execution_count": null,
   "id": "abeaf880-a288-4d67-85fd-447e9e61d129",
   "metadata": {},
   "outputs": [],
   "source": [
    "# Write your code here\n",
    "\n",
    "\n",
    "\n",
    "# This code is provided to help you check your work\n",
    "print(primate_mean_gestation)"
   ]
  },
  {
   "cell_type": "markdown",
   "id": "46b5fd52-4946-42d7-af30-68c2aab4e01d",
   "metadata": {},
   "source": [
    "## Part 3. Gestation time and Conservation Risk (10 points)\n",
    "\n",
    "Next, we are going to examine what impact gestation time seems to have on a species' conservation risk. Our underlying question is: **Do at-risk species tend to take a shorter or longer amount of time in utero?**\n",
    "\n",
    "To start, run the following code cell."
   ]
  },
  {
   "cell_type": "code",
   "execution_count": null,
   "id": "3c88b8a4-48c5-453b-a0f7-17d9cf2d4364",
   "metadata": {},
   "outputs": [],
   "source": [
    "# The following code is provided for you.\n",
    "# Run the cell, but do NOT change any of the code.\n",
    "iucn = open(\"iucn_status.csv\", \"r\")\n",
    "iucn_lines = iucn.readlines()\n",
    "iucn_header = iucn_lines[0]\n",
    "iucn_data = iucn_lines[1:]\n",
    "\n",
    "iucn_map = {'LC': 1, 'NT': 2, 'VU': 3, 'EN': 4, 'CR': 5, 'EW': 6, 'EX': 7, 'DD': 0}\n",
    "\n",
    "sp_threat = {}\n",
    "for line in iucn_data:\n",
    "    line_data = line.strip().split(\",\")\n",
    "    species = line_data[1]\n",
    "    iucn_risk = line_data[2]\n",
    "    risk_numeric = iucn_map[iucn_risk]\n",
    "    threat = False\n",
    "    if risk_numeric >= 3: \n",
    "        threat = True\n",
    "    elif risk_numeric == 0:  # Skip over any lines that are level DD ('data deficient')\n",
    "        continue\n",
    "    sp_threat[species] = threat\n",
    "\n",
    "print(sp_threat)"
   ]
  },
  {
   "cell_type": "markdown",
   "id": "4a17e73b-7f02-46b4-81eb-888d83439162",
   "metadata": {},
   "source": [
    "### Part 3, Question 1 (4 points total)\n",
    "\n",
    "a) Please describe the contents of the dictionary `sp_threat` after running the block of code above. What python data types are the keys and values? What do these mean, biologically? _(2pts)_\n",
    "\n"
   ]
  },
  {
   "cell_type": "markdown",
   "id": "dbb3f5c8-242f-4fc3-8b74-578fd5db324a",
   "metadata": {},
   "source": [
    "**WRITE YOUR ANSWER HERE**"
   ]
  },
  {
   "cell_type": "markdown",
   "id": "d2570ad2-b3a1-4692-9dc8-516eb6a104b3",
   "metadata": {},
   "source": [
    "b) Please explain why we included the conditional statement `if risk_numeric >= 3:` _(2pts)_"
   ]
  },
  {
   "cell_type": "markdown",
   "id": "2feb9cd5-bcfe-49dd-9cf8-0f49455d94d8",
   "metadata": {},
   "source": [
    "**WRITE YOUR ANSWER HERE**"
   ]
  },
  {
   "cell_type": "markdown",
   "id": "b00266cc-8ab7-4a5c-8fd0-d7420df1dc0d",
   "metadata": {},
   "source": [
    "### Part 3, Question 2 (6 points)\n",
    "\n",
    "Start by running the code block below."
   ]
  },
  {
   "cell_type": "code",
   "execution_count": null,
   "id": "857b2c71-d4f2-499d-a4b7-5a64ac3e99dc",
   "metadata": {},
   "outputs": [],
   "source": [
    "# The following code is provided for you.\n",
    "# Run the cell, but do NOT change any of the code.\n",
    "import math\n",
    "\n",
    "def variance(data, mean_val):\n",
    "    diffs = []\n",
    "    for i in data:\n",
    "        diff = i - mean_val\n",
    "        sq_diff = diff ** 2\n",
    "        diffs.append(sq_diff)\n",
    "    return mean(diffs)\n",
    "\n",
    "def st_dev(data, mean_val):\n",
    "    var = variance(data, mean_val)\n",
    "    sd = math.sqrt(var)\n",
    "    return sd\n",
    "\n",
    "risk_gest = {True: [], False: []}\n",
    "for sp in sp_threat:\n",
    "    try:\n",
    "        gest_time = gest_times[sp]\n",
    "        threat = sp_threat[sp]\n",
    "        risk_gest[threat].append(gest_time)\n",
    "    except:\n",
    "        continue\n",
    "\n",
    "for threat in risk_gest:\n",
    "    sizes = risk_gest[threat]\n",
    "    if len(sizes) == 0:\n",
    "        continue\n",
    "    mean_size = mean(sizes)\n",
    "    sd_size = st_dev(sizes, mean_size)\n",
    "    print(f\"{threat}: mean size {mean_size}, standard deviation {sd_size}\")"
   ]
  },
  {
   "cell_type": "markdown",
   "id": "eb431ea9-a649-40df-920a-9f9e51c5da5c",
   "metadata": {},
   "source": [
    "_a)_ The code block above uses exception handling (`try:` and `except:`). Please explain why we needed to use exception handling to link the two dictionaries `gest_times` and `sp_threat` by their keys. _(3pts)_\n",
    "\n"
   ]
  },
  {
   "cell_type": "markdown",
   "id": "c6cc4ee1-2d37-400d-b93a-330e14329235",
   "metadata": {},
   "source": [
    "**WRITE YOUR ANSWER HERE**"
   ]
  },
  {
   "cell_type": "markdown",
   "id": "b845337d-0d7f-4d25-a005-448b12cc1c6b",
   "metadata": {},
   "source": [
    "_b)_ The code above calculates the mean gestation time among species within each threatened category, as well as its standard deviation. `True` represents species that ARE at risk. `False` represents species that are NOT at risk. \n",
    "\n",
    "Do species that are at risk tend to have shorter gestation times than those that are not at risk? Create an argument based on both the mean and standard deviation. _(3pts)_"
   ]
  },
  {
   "cell_type": "markdown",
   "id": "e17ea810-e46b-4fde-b201-fa535ad09750",
   "metadata": {},
   "source": [
    "**WRITE YOUR ANSWER HERE**"
   ]
  }
 ],
 "metadata": {
  "kernelspec": {
   "display_name": "Python 3 (ipykernel)",
   "language": "python",
   "name": "python3"
  },
  "language_info": {
   "codemirror_mode": {
    "name": "ipython",
    "version": 3
   },
   "file_extension": ".py",
   "mimetype": "text/x-python",
   "name": "python",
   "nbconvert_exporter": "python",
   "pygments_lexer": "ipython3",
   "version": "3.13.1"
  }
 },
 "nbformat": 4,
 "nbformat_minor": 5
}
