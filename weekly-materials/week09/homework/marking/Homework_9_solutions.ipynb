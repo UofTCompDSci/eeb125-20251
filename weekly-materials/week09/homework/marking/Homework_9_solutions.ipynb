{
 "cells": [
  {
   "cell_type": "markdown",
   "id": "d859b1b9",
   "metadata": {},
   "source": [
    "# Homework 9: Hypothesis Testing\n",
    "\n",
    "## Logistics\n",
    "\n",
    "**Due date**: The homework is due 11:59 pm on Tuesday, March 18.\n",
    "\n",
    "You will submit your work on [MarkUs](https://markus.teach.cs.toronto.edu/markus/main/login_remote_auth).\n",
    "To submit your work:\n",
    "\n",
    "1. Download this file (`Homework_9.ipynb`) from JupyterHub. (See [our JupyterHub Guide](../../../guides/jupyterhub_guide.ipynb) for detailed instructions.)\n",
    "2. Submit this file to MarkUs under the **hw9** assignment. (See [our MarkUs Guide](../../../guides/markus_guide.ipynb) for detailed instructions.)"
   ]
  },
  {
   "cell_type": "markdown",
   "id": "75945b5c",
   "metadata": {},
   "source": [
    "## Introduction\n",
    "\n",
    "For this week's homework, we will investigate the predominance of coral presence in relationship to temperature. We will analyze data coming from six sites within a coral reef French Polinesia, from 2005 to 2022. Throughout these sites, with a quadrat sampling design along transects, percentage cover of corals, macroalgae, microalgae and sand were estimated across different depths and temperatures.\n",
    "\n",
    "## Question\n",
    "\n",
    "_General Question: Do corals prefer warmer temperatures or colder temperatures?_\n",
    "\n",
    "_Specific Question: When comparing quadrats of high coral percentage and low coral percentage, is there a difference in the mean temperature between the two groups?_"
   ]
  },
  {
   "cell_type": "markdown",
   "id": "40c57462",
   "metadata": {},
   "source": [
    "## Learning Objectives\n",
    "\n",
    "You will be creating and submitting a data story answering a data science question. You will be required to submit your work in the format which has complete sections for *Introduction*, *Data*, *Methods*, *Computation*, and *Conclusion*.\n",
    "\n",
    "In this homework, you will:\n",
    "\n",
    "* Create a data story in a notebook exploring the question.\n",
    "* Work with the Moorea Coral reef long-term ecological research dataset to investigate changes in biodiversity as temperature changes.\n",
    "* Define a function that resamples from our original dataset and randomly shuffles treatment assignment \n",
    "* Create and modify for loops and functions to run sampling simulations\n",
    "* Visualize and analyze sampling distributions via histograms"
   ]
  },
  {
   "cell_type": "markdown",
   "id": "c382dae7",
   "metadata": {},
   "source": [
    "# Introduction section\n",
    "\n",
    "This should introduce the question being explored in a sentence. __(1 mark)__"
   ]
  },
  {
   "cell_type": "markdown",
   "id": "604f7eb7",
   "metadata": {},
   "source": [
    "## Data section\n",
    "\n",
    "The Data part of your notebook should read the raw data, extract a `DataFrame` containing the important columns, rename the columns, and filter out missing values.\n",
    "\n",
    "You might find it helpful to name intermediate values in your algorithms. That way you can examine them to make sure they have the type you expect and that they look like what you expect. Very helpful when debugging!"
   ]
  },
  {
   "cell_type": "markdown",
   "id": "707893c5",
   "metadata": {},
   "source": [
    "To start, replace the `...` with your student number in the code below.\n",
    "Then, run the cell."
   ]
  },
  {
   "cell_type": "code",
   "execution_count": null,
   "id": "a4e2f853",
   "metadata": {},
   "outputs": [],
   "source": [
    "import numpy as np\n",
    "import pandas as pd\n",
    "import matplotlib.pyplot as plt"
   ]
  },
  {
   "cell_type": "code",
   "execution_count": null,
   "id": "8d7274af",
   "metadata": {},
   "outputs": [],
   "source": [
    "# Please fill in this cell with your student number (as an int)\n",
    "# Give the following to students\n",
    "# student_number = ...\n",
    "\n",
    "# Solution\n",
    "student_number = 1000000000\n",
    "\n",
    "assert type(student_number) == int, \"Did you fill in the student_number variable correctly?\""
   ]
  },
  {
   "cell_type": "markdown",
   "id": "a2e15966",
   "metadata": {},
   "source": [
    "## Step 0\n",
    "\n",
    "Create the following pandas `DataFrame`s:\n",
    "\n",
    "a. `corals_data`: the `DataFrame` created by reading in the `LTER_data.csv` file."
   ]
  },
  {
   "cell_type": "code",
   "execution_count": null,
   "id": "e75a7868",
   "metadata": {},
   "outputs": [],
   "source": [
    "# SOLUTION\n",
    "corals_data = pd.read_csv(\"LTER_data.csv\")\n",
    "\n",
    "corals_data"
   ]
  },
  {
   "cell_type": "markdown",
   "id": "98016d23",
   "metadata": {},
   "source": [
    "## Step 1\n",
    "\n",
    "Apply the following data cleaning operations to `corals_data` to create another pandas `DataFrame` named `corals_clean`. Your `corals_data` should contain the original raw data from reading the `LTER_data.csv` file.\n",
    "\n",
    "- Convert column data types using `DataFrame.convert_dtypes()`.\n",
    "\n",
    "- Convert column names to the 'snake case' format using `<columns>.str.lower()`, `<columns>.str.replace()`, and `<columns>.str.strip()`. [Snake cases](https://en.wikipedia.org/wiki/Snake_case) uses fully lowercase letters and underscores instead of spaces. It is the [recommended naming convention](https://peps.python.org/pep-0008/#function-and-variable-names) for Python.  For example, if we have the column name: \"Tomo is a Great prof  \", the snake case equivalent would be 'tomo_is_a_great_prof'. Furthermore, we will replace the following symbols to the corresponding symbols/text:\n",
    "    * \" \" with \"_\",\n",
    "    * \"%\" to \"percent\"\n",
    "    * \"metres\" to \"m\"\n",
    "    * \"celsius\" to \"c\"\n",
    "    * \"temperature\" to \"temp\"\n",
    "\n",
    "    Check that your column names are correct using `list(corals_clean.columns)`.\n",
    "\n",
    "_**Note**: For this data the missing data has already been converted to `NA`s, so don't need to do any replacing of values. But keep in mind that when working on your final project or with any other future data, you might need a step to convert `-999` (or some other convention) to `NA`s._"
   ]
  },
  {
   "cell_type": "code",
   "execution_count": null,
   "id": "e6b7c41f",
   "metadata": {},
   "outputs": [],
   "source": [
    "# Solution\n",
    "corals_clean = corals_data.convert_dtypes()\n",
    "\n",
    "co_columns = corals_clean.columns\n",
    "\n",
    "co_columns_clean = co_columns.str.lower().str.replace(\n",
    "    \" \", \"_\").str.replace(\n",
    "    \"%\", \"percent\").str.replace(\n",
    "    \"metres\", \"m\").str.replace(\n",
    "    \"celsius\", \"c\").str.replace(\n",
    "    \"temperature\", \"temp\").str.strip(\"_\")\n",
    "\n",
    "corals_clean.columns = co_columns_clean\n",
    "\n",
    "corals_clean"
   ]
  },
  {
   "cell_type": "code",
   "execution_count": null,
   "id": "54391012",
   "metadata": {},
   "outputs": [],
   "source": [
    "# Check that you have the correct column names\n",
    "list(corals_clean.columns)"
   ]
  },
  {
   "cell_type": "markdown",
   "id": "f8f9532f",
   "metadata": {},
   "source": [
    "## Step 2\n",
    "\n",
    "Select the columns relevant to this week's analysis. Those are:\n",
    "\n",
    "+ `site`\n",
    "+ `year`\n",
    "+ `temp_c`\n",
    "+ `corals_percent`\n",
    "\n",
    "Name the final `DataFrame` `corals_select_data`."
   ]
  },
  {
   "cell_type": "code",
   "execution_count": null,
   "id": "4dce6b2e",
   "metadata": {},
   "outputs": [],
   "source": [
    "# Solution\n",
    "columns = [\"site\",\n",
    "           \"year\",\n",
    "           \"temp_c\",\n",
    "           \"corals_percent\"]\n",
    "\n",
    "corals_select_data = corals_clean[columns] \n",
    "\n",
    "corals_select_data.head()\n"
   ]
  },
  {
   "cell_type": "markdown",
   "id": "ecf30fd1",
   "metadata": {},
   "source": [
    "## Methods section\n",
    "\n",
    "Here we are describing all steps of the Computation Section for you.\n",
    "\n",
    "1. Create a copy of `corals_select_data` named `corals_labelled`; this steps is already written for you. Create a column named `is_corals_percent_gte_50` indicating whether a quadrat is represented by a greater surface area of corals than non-corals in the `corals_labelled` `DataFrame`. Assume a quadrat with __50% or more__ of its surface area composed of coral species is considered a quadrat having a greater surface area of corals.  \n",
    "\n",
    "    *Hint: Think about what column from `corals_select_data` provides us with this information, and the values in this column corresponding to a 'greater surface area of corals over non-corals'.*\n",
    "\n",
    "2. Create a function that computes the difference between:\n",
    "\n",
    "    + the mean temperature of all quadrats with a larger surface area of non-corals; and\n",
    "    + the mean temperature of all quadrats with a larger surface area of corals. \n",
    "\n",
    "    Furthermore, using this function, compute this difference as observed in our data.  \n",
    "\n",
    "3. Randomly shuffle the labels (values) corresponding to greater or lower coral percent cover. Design a function that re-samples the labels for the column created in 1., and then re-assigns it to that column. In Step 4, we will take multiple random re-samples.\n",
    "\n",
    "4. Complete a for loop that re-samples our data using the function defined in Step 3, then compute the mean difference temperature between quadrats with greater coral percentage and quadrats with lower coral percentage. \n",
    "\n",
    "5. Visualize our results in Step 4, with a histogram. \n",
    "\n",
    "6. Calculate the p-value, from our results in Step 4. "
   ]
  },
  {
   "cell_type": "markdown",
   "id": "556b7aed",
   "metadata": {},
   "source": [
    "## Computation section\n",
    "\n",
    "\n",
    "### Step 1: Create a column indicating whether a quadrat has a greater or equal percentage of coral surface area as non-coral surface area"
   ]
  },
  {
   "cell_type": "markdown",
   "id": "8235d595",
   "metadata": {},
   "source": [
    "\n",
    "**SOLUTION**\n",
    "\n",
    "Add a new column to `corals_labelled` named `is_corals_percent_gte_50` that has value `True` if the quadrat has a percentage surface area of corals greater than or equal to 50%, or `False` otherwise.\n"
   ]
  },
  {
   "cell_type": "code",
   "execution_count": null,
   "id": "f4da6245",
   "metadata": {},
   "outputs": [],
   "source": [
    "corals_labelled = corals_select_data.copy() # this creates a copy of corals_select_data\n",
    "# Write your code below\n",
    "is_percent_corals_over_50 = corals_select_data[\"corals_percent\"] >= 50.0\n",
    "corals_labelled[\"is_corals_percent_gte_50\"] = is_percent_corals_over_50\n",
    "\n",
    "corals_labelled.head()\n"
   ]
  },
  {
   "attachments": {},
   "cell_type": "markdown",
   "id": "2a96b50b",
   "metadata": {
    "tags": []
   },
   "source": [
    "### Step 2: Create a function to calculate mean differences in temperature by group\n",
    "\n",
    "We will create a *helper function* that computes the difference in mean temperature between quadrats with lower coral surface area and greater coral surface area. A helper function is a function that performs part of the computation of another function. Helper functions are used to make your programs easier to read by giving descriptive names to computations. \n",
    "\n",
    "In the following code cell, define a helper function as specified below.\n",
    "\n",
    "+  Function name: `compute_mean_diff_temperature_by_coral_sa`.\n",
    "+  Input argument:\n",
    "    1.  `data`: the `DataFrame` containing information about the coral surface area (`is_corals_percent_gte_50`) AND temperature by quadrat.\n",
    "+  Tasks: \n",
    "    1. Compute the mean temperature of all quadrats with greater surface area of corals based on the value of `is_corals_percent_gte_50`.\n",
    "    2. Compute the mean temperature of all quadrats with lower surface area of corals based on the value of `is_corals_percent_gte_50`.\n",
    "    3. Compute the difference in the mean temperatures as the value from step 2 minus the value from step 1.\n",
    "+  Output: Return the difference in the temperature means quadrats with a lower coral surface area and quadrats with a greater coral surface area.\n",
    "\n",
    "Finally, calculate the observed difference in mean temperature between quadrats with lower coral surface area and greater coral surface area by applying the function the `corals_labelled` `DataFrame`. The calculated result should be a `float`, and you should name it `observed_diff_in_mean_temperature`."
   ]
  },
  {
   "cell_type": "code",
   "execution_count": null,
   "id": "4ea793df",
   "metadata": {},
   "outputs": [],
   "source": [
    "# Write solution here\n",
    "# Give students blank code cell, they should be able to do this now\n",
    "def compute_mean_diff_temperature_by_coral_sa(data):\n",
    "    \n",
    "    mean_temp_high_coral_sa = data.loc[\n",
    "        data[\"is_corals_percent_gte_50\"] == True, \"temp_c\"].mean()\n",
    "    \n",
    "    mean_temp_low_coral_sa = data.loc[\n",
    "        data[\"is_corals_percent_gte_50\"] == False, \"temp_c\"].mean()\n",
    "    \n",
    "    return mean_temp_low_coral_sa - mean_temp_high_coral_sa\n",
    "\n",
    "\n",
    "observed_diff_in_mean_temperature = compute_mean_diff_temperature_by_coral_sa(corals_labelled)\n",
    "\n",
    "# Verify the result\n",
    "print(type(observed_diff_in_mean_temperature)) # print the data type\n",
    "observed_diff_in_mean_temperature\n"
   ]
  },
  {
   "cell_type": "markdown",
   "id": "57a9a4da",
   "metadata": {},
   "source": [
    "### Step 3: Write a helper function that shuffles our labels\n",
    "\n",
    "We will create another helper function that re-shuffles the labels (values) found in the column `is_corals_percent_gte_50`. In the following code cell, define a helper function as specified below.\n",
    "\n",
    "+  Function name: `shuffle_labels`.\n",
    "+  Input argument:\n",
    "    1.  `data`: the `DataFrame` containing information about the coral surface area (`is_corals_percent_gte_50`) AND temperature by quadrat.\n",
    "+  Tasks:\n",
    "    1. Shuffle the labelled values in `is_corals_percent_gte_50`.\n",
    "+  Output: Return the shuffled labelled values. The output will be a pandas `Series`."
   ]
  },
  {
   "cell_type": "code",
   "execution_count": null,
   "id": "1a112956",
   "metadata": {},
   "outputs": [],
   "source": [
    "# Complete the function body below (replace the ... with Python code).\n",
    "# Solution\n",
    "def shuffle_labels(data):\n",
    "    column = data[\"is_corals_percent_gte_50\"]\n",
    "    shuffled = column.sample(frac=1, replace=False).reset_index(drop=True)\n",
    "    return shuffled"
   ]
  },
  {
   "cell_type": "markdown",
   "id": "277d7395",
   "metadata": {},
   "source": [
    "### Step 4: Simulating our sample means\n",
    "\n",
    "Here, we will write code for the machinery of our hypothesis test. Specifically, we will simulate samples under assumption of the null hypothesis - that is, we will generate a sampling distribution of the difference in mean temperature between our two groups of quadrats. \n",
    "\n",
    "Write code to accomplish the following:\n",
    " + Create a copy of `corals_labelled` named `corals_shuffled_data`; this steps is already written for you. \n",
    " + Initialize a new list that will be used to store the sample test statistics we will compute. Name this list `resample_test_statistics`.\n",
    " + In a for loop, re-sample the labels of `is_corals_percent_gte_50` from the `DataFrame` `corals_shuffled_data` 1000 times. Assign these shuffled labels to the column `is_corals_percent_gte_50`.\n",
    " + Call the function you created in Step 2 to calculate the difference in mean temperature between quadrats with low and high coral surface area. Name this value `mean_diff`.\n",
    " + Append your result, `mean_diff`, above to `resample_test_statistics`.\n",
    " + Outside of the for loop, convert `resample_test_statistics` from a list to a `Series`.\n",
    " \n",
    "We will only autotest your final result, `resample_test_statistics`."
   ]
  },
  {
   "cell_type": "code",
   "execution_count": null,
   "id": "a5c20e78",
   "metadata": {},
   "outputs": [],
   "source": [
    "# The following line of code uses your student number to set a random seed.\n",
    "# This ensures that every time you run this cell, you'll get the same result.\n",
    "# Do not modify this line of code!\n",
    "np.random.seed(student_number)\n",
    "\n",
    "corals_shuffled_data = corals_labelled.copy() # this creates a copy of corals_labelled\n",
    "\n",
    "# Write your code here\n",
    "# Solution\n",
    "\n",
    "resample_test_statistics = []\n",
    "\n",
    "for _ in range(1000):\n",
    "    \n",
    "    resampled_labels = shuffle_labels(corals_shuffled_data)\n",
    "    \n",
    "    corals_shuffled_data[\"is_corals_percent_gte_50\"]=\\\n",
    "        resampled_labels\n",
    "    \n",
    "    resample_test_statistics.append(\n",
    "        compute_mean_diff_temperature_by_coral_sa(corals_shuffled_data))\n",
    "    \n",
    "resample_test_statistics = pd.Series(resample_test_statistics)\n",
    "\n",
    "# Verify the result\n",
    "resample_test_statistics"
   ]
  },
  {
   "cell_type": "markdown",
   "id": "f4fac061",
   "metadata": {},
   "source": [
    "### Step 5: Calculating our p-value\n",
    "\n",
    "We can calculate a p-value by following the following steps:\n",
    "\n",
    "+ Take the absolute value of the elements of the `Series` from the previous step. We do this because we want to consider both tails of our sample distribution regardless of the sign of the observed value.\n",
    "+ Create a boolean `Series` where the entry is `True` if the absolute value of test statistic is geater than or equal to the absolute value of the observed mean difference, as calculated in Step 2.\n",
    "+ Finally, determine the probability by calculating the proportion of entries that are `True` in `resample_test_statistics_series`. Name your result `p_value`. \n",
    "\n",
    "We will only check the name `p_value` in the autotester. "
   ]
  },
  {
   "cell_type": "code",
   "execution_count": null,
   "id": "ec2e210c",
   "metadata": {},
   "outputs": [],
   "source": [
    "abs_test_statistics = resample_test_statistics.abs()\n",
    "\n",
    "abs_observed_diff_in_mean_temperature = abs(observed_diff_in_mean_temperature)\n",
    "\n",
    "p_value = (abs_test_statistics >= abs_observed_diff_in_mean_temperature).mean()\n",
    "\n",
    "p_value"
   ]
  },
  {
   "cell_type": "markdown",
   "id": "3c2000f6",
   "metadata": {},
   "source": [
    "### Step 6: Visualizing our results\n",
    "\n",
    "We don't need a visualization to calculate our p-value, but it might help in illustrating whether our p-value makes sense. In one plot, plot the following three things: \n",
    "\n",
    "+ a histogram plotting the test statistics\n",
    "+ two vertical lines plotting the observed difference in mean temperature between quadrats of different groups (see lecture)\n",
    "\n",
    "The plots will be marked for completion - you can decide what parameters you'd like to play with, only the correct data needs to be passed to each plot. __(1 mark)__"
   ]
  },
  {
   "cell_type": "code",
   "execution_count": null,
   "id": "f509cdb3",
   "metadata": {},
   "outputs": [],
   "source": [
    "plt.hist(resample_test_statistics, color=\"white\", edgecolor=\"indigo\")\n",
    "plt.vlines(x=observed_diff_in_mean_temperature, ymin=0, ymax=400, color=\"pink\")\n",
    "plt.vlines(x=-1*observed_diff_in_mean_temperature, ymin=0, ymax=400, color=\"pink\")\n",
    "observed_diff_in_mean_temperature"
   ]
  },
  {
   "cell_type": "markdown",
   "id": "3c8c63d0",
   "metadata": {},
   "source": [
    "# Conclusion\n",
    "\n",
    "State the difference in mean temperature between quadrats with high coral surface area and those with low coral surface area. From your results, state the p-value, and give its interpretation. What conclusions can you make from the observed p-value? __(2 marks)__\n"
   ]
  },
  {
   "cell_type": "markdown",
   "id": "6e9426d2",
   "metadata": {},
   "source": [
    "**Sample Solution**\n",
    "\n",
    "> The difference in the mean temperature between quadrants with high coral surface area and those with low coral surface area is -0.06444 or 0.06444. The p-value is 0, meaning that there is strong evidence indicating that there is a difference in the mean temperature of quadrats with high coral percentage than those with low coral percentage.\n",
    ">\n",
    "> Specifically it looks like areas with higher coral percentages, have a higher mean temperature than areas with lower coral percentages."
   ]
  }
 ],
 "metadata": {
  "kernelspec": {
   "display_name": "eeb125",
   "language": "python",
   "name": "python3"
  },
  "language_info": {
   "codemirror_mode": {
    "name": "ipython",
    "version": 3
   },
   "file_extension": ".py",
   "mimetype": "text/x-python",
   "name": "python",
   "nbconvert_exporter": "python",
   "pygments_lexer": "ipython3",
   "version": "3.10.13"
  },
  "markus": {
   "assessment_id": 214,
   "course_id": 10,
   "url": "https://markus-ds.teach.cs.toronto.edu"
  }
 },
 "nbformat": 4,
 "nbformat_minor": 5
}
