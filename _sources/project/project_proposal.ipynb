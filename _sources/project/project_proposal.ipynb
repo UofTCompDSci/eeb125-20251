{
 "cells": [
  {
   "cell_type": "markdown",
   "id": "b9c9a079",
   "metadata": {},
   "source": [
    "# EEB125 Final Project Proposal\n",
    "\n",
    "## Due date: March 10, 23:59\n",
    "\n",
    "## Basics\n",
    "\n",
    "- You will work in a group comprised of either 3 or 4 students **in the same tutorial**.\n",
    "\n",
    "- All team members are expected to contribute equally to the completion of the proposal and the final project.  All team members must present part of the final oral video presentation.\n",
    "\n",
    "- Your group may not work with members of another group.  You may not discuss the project with anyone except for your team, professors, and the course TAs.\n",
    "\n",
    "- If you are concerned about any issues with your team, contact a member of the teaching team as soon as possible.\n",
    "\n",
    "\n",
    "## The Proposal\n",
    "\n",
    "- Each group must submit a project proposal. Your TA is aiming to give your group feedback within one week of submission. Submission instructions are at the end of this notebook.\n",
    "\n",
    "- The proposal must be submitted as a jupyter (`project_proposal.ipynb`) notebook. There are six sections that should be filled in, described further below.\n",
    "\n",
    "\n",
    "- The goal of the proposal is not to work out every detail around your group's presentation plans and analysis, but to ensure that the question is feasible and that each group has a work plan.  \n",
    "\n",
    "\n",
    "- Another goal is for the teaching team to be able to give your group feedback with enough time to incorporate the feedback.  Although, we view this as the start of the conversation between your group and your TA.\n",
    "\n",
    "\n",
    "- Further details about the Final Project Submission (due April 10) deliverables found here: [instructions for the final project](project_instructions.ipynb).\n",
    "\n",
    "## Grading\n",
    "\n",
    "- Each group member will recieve the same grade.\n",
    "\n",
    "- The six sections below will be graded as:\n",
    "\n",
    "\n",
    "Section     | 0 | 1 | 2 \n",
    "------------|---|---|---\n",
    "All sections| It's not clear how this section of the project will proceed| It's somewhat clear how this section will proceed, although there are several obvious items missing from the description| It's clear how this section will proceed."
   ]
  },
  {
   "cell_type": "markdown",
   "id": "f93e7c26",
   "metadata": {},
   "source": [
    " "
   ]
  },
  {
   "cell_type": "markdown",
   "id": "3d6867cc",
   "metadata": {},
   "source": [
    "\n",
    "## Final Project Expectations\n",
    "\n",
    "You will have the opportunity to tell your own data science story about conservation risk and organismal biology by combining evidence from several sources. Note that you do NOT have to use every possible data source in your project. However, successful projects will likely often combine at least two of the sources described below. Feel free to get in touch with one of the teaching team if you have an idea but aren't sure if it makes sufficient use of the data.\n",
    "\n",
    "We expect that your analysis will require data wrangling, exploratory data analysis (plots and summary statistics), statistical tests and modeling.  Your project does not need to include all of these statistical methods nor does it need to include all of the variables in the data set.  You might also choose not to include all observations, or to make new variables from the data that may be more suitable for answering your questions of interest.\n",
    "\n",
    "The goal is not to carry out an exhaustive analysis, nor to apply everything you have learned in the course.  The goal is to demonstrate that you have learned how to use Python, that you can appropriately apply the methods we have covered in class to address a question, and that you can effectively interpret and present the results.\n",
    "\n",
    "## The Data \n",
    "\n",
    "We have provided data files from each of the sources explained below. These data files are available at: https://www.dropbox.com/sh/gg03gepzp7r5w78/AAANz3mCiEf8LxBG_auGlAxCa?dl=0.\n",
    "\n",
    "### IUCN Red List\n",
    "\n",
    "A major focus of conservation research involves determining which geographic areas and political jurisdictions are in most need of conservation management. At the same time, many major questions in ecology and evolutionary biology surround discovering how ecological communities of organisms vary across space and time. Working in groups, you will combine several sources of data to evaluate conservation risk within an organismal group of your choice across a set of geographic regions of your choice.\n",
    "\n",
    "To examine the conservation risks across groups of species and regions, you may use data gathered from the IUCN Red List, which we have discussed in class. In the data folder, you will find two files that we have downloaded from the IUCN database: one encompassing animal species and one encompassing plants. You can find descriptions of the data included within the columns on the IUCN website (https://www.iucnredlist.org/). You will likely want to perform your own subset of these data to extract the groups of organisms with which you are most interested.\n",
    "\n",
    "\n",
    "## Global Biodiversity Information Facility (GBIF)\n",
    "\n",
    "You can use the Global Biodiversity Information Facility (GBIF) database to gather information on geographic locality (https://www.gbif.org/occurrence/search?occurrence_status=present&q=). We have provided species lists for several general geographic regions in the data folder. Each of these contain full lists of the species that have been documented within each region.\n",
    "\n",
    "**NOTE**: GBIF has sort of complicated download process. If you are interested in tackling a question using a geographic region not provided, please contact your TA or Prof. Parins-Fukuchi).\n",
    "\n",
    "## Amniote life history\n",
    "\n",
    "You might also be interested in examining how extinction risk correlates to certain life history variables, similar to what we have examined in class. We will use the \"amniote life history database\" contained within the data folder. This dataset compiles information like body size, lifespan, gestation time, across all amniotes (mammals, birds, amphibians, and reptiles). You can find metadata here:\n",
    "\n",
    "https://figshare.com/collections/An_amniote_life-history_database_to_perform_comparative_analyses_with_birds_mammals_and_reptiles/3308127\n",
    "\n",
    "\n",
    "## Sample Questions\n",
    "\n",
    "Below are some general questions that your group can choose to answer in your project. These general questions will require you and your group to decide which data to use to answer these questions. Your group should select one question.\n",
    "\n",
    "1. Some geographic regions often face differing severities of biodiversity risk, as measured by IUCN threat level. Pick two or more geographic regions and undertake a broad comparative survey of their overall risk. This will likely involve merging (by species) one or two of the provided regional species lists with one of the provided IUCN datasets (animal or plant) and then comparing the distribution of threats within each region.\n",
    "\n",
    "    - Do your chosen regions display a difference in what kinds of organisms are most at risk? For example, are mammals more at risk in one, while flowering plants are more at risk in another?  \n",
    "   \n",
    " \n",
    "2. Sometimes, geographic regions have substantially more similar biological diversity than one might expect. For example, East Asia (Japan, Korea, Taiwan, and Eastern China) has more overlap in plant species with the Appalachian mountain range in North America than one might expect given their distance. Use the GBIF data to examine the overlap in species (i.e., how many species do different regions share?) across three or more geographic regions, using the provided regional species lists. For example, using the provided GBIF data, you may compare the number of shared species or genera within North America and East Asia, and then identify whether those two regions are more similar to each other than to western Europe or eastern Africa.\n",
    "\n",
    "    - Which regions are most similar to one another (has the greatest overlap in resident species)? Is this the set of regions that you expected to be most similar from your sample?\n",
    "  \n",
    "    - Do you notice a change in species diversity according to latitude? In other words, are regions distant from the equator more or less species rich than regions near the equator? You do not need to perform this comparison quantitatively-- just use your existing geographic knowledge to compare regions (e.g., you may already know that tropical South America is closer to the equator than northern Europe).\n",
    "    \n",
    "    \n",
    "3. How do biological attributes correspond to extinction risk? Do species with certain biological properties tend to be at greater risk of extinction?\n",
    "\n",
    "    - How does litter/clutch size (as measured in the provided 'amniote' dataset) correspond to IUCN extinction risk? Do species that birth more offspring at once have a lower risk of going extinct, on average?\n",
    "    - Are communities of animals from different regions different in their biology, on average? For example, do species in region X tend to be larger than those in region Y? To perform this comparison you may join the provided species lists with the 'amniote' dataset (merging on species) and compare the distribution of measurements for each region. For example, you may wish to ask whether North American mammals tend to be longer or shorter lived than animals in tropical South America. Try speculating on any differences you find."
   ]
  },
  {
   "cell_type": "markdown",
   "id": "5d98879a",
   "metadata": {},
   "source": [
    "\n",
    "## What should the proposal contain?\n",
    "\n",
    "The proposal should be written in a Jupyter notebook (named `project_proposal.ipynb`) and contain the following section headers as below.  You can use the following sections of this notebook (Questions 0-5) as a template for the proposal.\n"
   ]
  },
  {
   "cell_type": "markdown",
   "id": "6fb66da6",
   "metadata": {},
   "source": [
    "0. **Division of labour:** How will each member contribute to completing this project? Make sure to list each member with a brief description of what they will do.  How will your group coordinate and work on the project?"
   ]
  },
  {
   "cell_type": "markdown",
   "id": "66534afd",
   "metadata": {},
   "source": [
    "**--Description here--**"
   ]
  },
  {
   "cell_type": "markdown",
   "id": "706a3240",
   "metadata": {},
   "source": [
    "1. **State the question:** What question(s) will your group answer?"
   ]
  },
  {
   "cell_type": "markdown",
   "id": "d66eac30",
   "metadata": {},
   "source": [
    "**--Write here--**"
   ]
  },
  {
   "cell_type": "markdown",
   "id": "05c5dd73",
   "metadata": {},
   "source": [
    "2. **Data sources:** What data will your group use?  State specific data sets, and columns within the data sets that you will use to answer your question(s)."
   ]
  },
  {
   "cell_type": "markdown",
   "id": "5cbc1fc8",
   "metadata": {},
   "source": [
    "**--Write here--**"
   ]
  },
  {
   "cell_type": "markdown",
   "id": "3e3eb8cf",
   "metadata": {},
   "source": [
    "3. **Methods:** How will your group wrangle the data?  Will new variables be created?  What statistical methods will be used?"
   ]
  },
  {
   "cell_type": "markdown",
   "id": "f963c7b9",
   "metadata": {},
   "source": [
    "**--Write here--**"
   ]
  },
  {
   "cell_type": "markdown",
   "id": "c03e1be3",
   "metadata": {},
   "source": [
    "4. **Results:** How will the results be presented?  Tables, graphs?  "
   ]
  },
  {
   "cell_type": "markdown",
   "id": "526d0335",
   "metadata": {},
   "source": [
    "**--Write here--**"
   ]
  },
  {
   "cell_type": "markdown",
   "id": "9bad809e",
   "metadata": {},
   "source": [
    "5. **Conclusions:** What types of conclusions does your group hope to make?  What do you hope to learn from this project?"
   ]
  },
  {
   "cell_type": "markdown",
   "id": "1f79d604",
   "metadata": {},
   "source": [
    "**--Write here--**"
   ]
  },
  {
   "cell_type": "markdown",
   "id": "422e59cb",
   "metadata": {},
   "source": [
    " "
   ]
  },
  {
   "cell_type": "markdown",
   "id": "d0b57bc4",
   "metadata": {},
   "source": [
    "## MarkUs Instructions\n",
    "\n",
    "### Forming a Group on MarkUs\n",
    "\n",
    "First, select one student in the group to create the group. That student should: \n",
    "\n",
    "1. Login to [MarkUs](https://markus-ds.teach.cs.toronto.edu/).\n",
    "\n",
    "2. Go to *Proj_01: Course Project Phase 1 (Proposal)*, and the `Submissions` tab.\n",
    "\n",
    "3. Click on `Create Group`. \n",
    "\n",
    "4. Then after your group is created, click on Invite student(s). \n",
    "\n",
    "5.  Enter the **UTORids** of each other group member (you'll need to ask them for this information). \n",
    "\n",
    "Then, every *other* student should: \n",
    "\n",
    "1. Login to [MarkUs](https://markus-ds.teach.cs.toronto.edu/).\n",
    "\n",
    "2. Go to *Proj_01: Course Project Phase 1 (Proposal)*, and the `Submissions` tab.\n",
    "\n",
    "3. Look for the group invitation and click on `Join Group`. **Warning**: this must be done before the due date!!\n",
    "\n",
    "### Submitting Files\n",
    "\n",
    "- Submitting your group's files works the same way as other assignments, except *only one person from the group needs to submit the files*. \n",
    "\n",
    "- Upload your `project_proposal.ipynb` notebook as the submission."
   ]
  }
 ],
 "metadata": {
  "kernelspec": {
   "display_name": "Python 3 (ipykernel)",
   "language": "python",
   "name": "python3"
  },
  "language_info": {
   "codemirror_mode": {
    "name": "ipython",
    "version": 3
   },
   "file_extension": ".py",
   "mimetype": "text/x-python",
   "name": "python",
   "nbconvert_exporter": "python",
   "pygments_lexer": "ipython3",
   "version": "3.13.1"
  }
 },
 "nbformat": 4,
 "nbformat_minor": 5
}
