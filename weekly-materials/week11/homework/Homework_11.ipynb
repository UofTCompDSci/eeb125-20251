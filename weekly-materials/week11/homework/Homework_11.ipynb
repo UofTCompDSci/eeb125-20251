{
 "cells": [
  {
   "cell_type": "markdown",
   "id": "d859b1b9",
   "metadata": {},
   "source": [
    "# Homework 11: Linear Regression\n",
    "\n",
    "## Logistics\n",
    "\n",
    "**Due date**: The homework is due 11:59 pm on Tuesday, April 1.\n",
    "\n",
    "You will submit your work on [MarkUs](https://markus-ds.teach.cs.toronto.edu).\n",
    "To submit your work:\n",
    "\n",
    "1. Download this file (`Homework_11.ipynb`) from JupyterHub. (See [our JupyterHub Guide](../../../guides/jupyterhub_guide.ipynb) for detailed instructions.)\n",
    "2. Submit this file to MarkUs under the **hw11** assignment. (See [our MarkUs Guide](../../../guides/markus_guide.ipynb) for detailed instructions.)\n",
    "All homeworks will take place in a Jupyter notebook (like this one). When you are done, you will download this notebook and submit it to MarkUs.\n",
    "We've incuded submission instructions at the end of this notebook."
   ]
  },
  {
   "cell_type": "markdown",
   "id": "75945b5c",
   "metadata": {},
   "source": [
    "## Introduction\n",
    "\n",
    "For this week's homework, we will look at the relationship between the length and width of fish with the weight of the fish, available in the `fish.csv` file. This dataset is a record of 7 common different fish species used in fish market sales. The 7 species include: Bream, Parkki, Perch, Pike, Roach, Smelt, and Whitefish.\n",
    "\n",
    "\n",
    "## Question\n",
    "\n",
    "_General Question: What can we say about the relationship between the length and width of a fish while trying to predict its weight?_\n"
   ]
  },
  {
   "cell_type": "markdown",
   "id": "40c57462",
   "metadata": {},
   "source": [
    "## Instructions and Learning Objectives\n",
    "\n",
    "In this homework, you will:\n",
    "* Create a data story in a notebook exploring the question.\n",
    "* Visualize and analyze the relationships between length, width and weight.\n",
    "* Create and compare different linear regression models."
   ]
  },
  {
   "attachments": {},
   "cell_type": "markdown",
   "id": "c382dae7",
   "metadata": {},
   "source": [
    "## Setup\n",
    "\n",
    "First import `numpy`, `pandas`, `matplotlib`, `seaborn`, and `statsmodels.formula.api` by running the cell below."
   ]
  },
  {
   "cell_type": "code",
   "execution_count": null,
   "id": "a4e2f853",
   "metadata": {},
   "outputs": [],
   "source": [
    "import numpy as np\n",
    "import pandas as pd\n",
    "import matplotlib.pyplot as plt\n",
    "import seaborn as sns\n",
    "import statsmodels.formula.api as smf"
   ]
  },
  {
   "cell_type": "markdown",
   "id": "604f7eb7",
   "metadata": {},
   "source": [
    "## Data section\n",
    "\n",
    "The this part of your notebook should read the raw data, extract a `DataFrame` containing the columns of interest.\n",
    "\n",
    "Create the following pandas `DataFrame`s:\n",
    "\n",
    "+ `fish_data`: the `DataFrame` created by reading in the `fish.csv` file."
   ]
  },
  {
   "cell_type": "code",
   "execution_count": null,
   "id": "7500713d",
   "metadata": {
    "scrolled": true
   },
   "outputs": [],
   "source": [
    "# Write your code below\n"
   ]
  },
  {
   "cell_type": "markdown",
   "id": "57d5db3d",
   "metadata": {},
   "source": [
    "## Exploring the data"
   ]
  },
  {
   "attachments": {},
   "cell_type": "markdown",
   "id": "791788c8",
   "metadata": {},
   "source": [
    "Create a histograms of the following:\n",
    "+ vertical length of the fish (in cm)\n",
    "+ width of the fish (in cm)\n",
    "+ weight of the fish (in grams)\n",
    "\n",
    "You do not need to store the results in a variable. Label the y-axis with \"Frequency\" and the x-axes with \"Vertical Length (cm)\", \"Width (cm)\" and \"Weight (g)\" where appropriate. Start with `bins=15` to create 15 bins and then try different number of bins as you see fti for each histogram.  **(3 marks)**\n"
   ]
  },
  {
   "cell_type": "code",
   "execution_count": null,
   "id": "b51cba2b",
   "metadata": {},
   "outputs": [],
   "source": [
    "# Write your code below\n",
    "# add additional cells as necessary\n"
   ]
  },
  {
   "attachments": {},
   "cell_type": "markdown",
   "id": "6a29f9c7",
   "metadata": {},
   "source": [
    "Comment on the shape of each histogram and the distribution of the vertical length, width, and weight of the fish in terms of the skewness, the range, and the number of modes. **(3 marks)**"
   ]
  },
  {
   "cell_type": "markdown",
   "id": "7d7f14eb",
   "metadata": {},
   "source": [
    "> **Answer goes here**"
   ]
  },
  {
   "attachments": {},
   "cell_type": "markdown",
   "id": "02ff7448",
   "metadata": {},
   "source": [
    "Create two scatterplots:\n",
    "+ one with `width_cm` on the x-axis and `weight_g` on the y-axis.\n",
    "+ one with `length_vertical_cm` on the x-axis and `weight_g` on the y-axis.\n",
    "\n",
    "Label the axes with \"Vertical Length (cm)\", \"Width (cm)\" and \"Weight (g)\" where appropriate. You do not need to save the values in a variable. **(2 marks)**"
   ]
  },
  {
   "cell_type": "code",
   "execution_count": null,
   "id": "1aabf2ff",
   "metadata": {},
   "outputs": [],
   "source": [
    "# Write your code below\n",
    "# add additional cells as necessary\n"
   ]
  },
  {
   "attachments": {},
   "cell_type": "markdown",
   "id": "08649b27",
   "metadata": {},
   "source": [
    "Comment on the shape of each scatterplot. Specifically commenting on whether the trends looks \"positive\" or \"negative\" and whether the trends appear linear or not. **(2 marks)**"
   ]
  },
  {
   "cell_type": "markdown",
   "id": "09b2d88f",
   "metadata": {},
   "source": [
    "> **Answer goes here**"
   ]
  },
  {
   "cell_type": "markdown",
   "id": "41392a2e",
   "metadata": {},
   "source": [
    "Create a new column in `fish_data` called `weight_g_sqrt` which takes the `weight_g` and square roots the values. _Hint: this can be done by using `.apply(np.sqrt)`_."
   ]
  },
  {
   "cell_type": "code",
   "execution_count": 8,
   "id": "850b0f90",
   "metadata": {},
   "outputs": [],
   "source": [
    "# Write your code below\n"
   ]
  },
  {
   "cell_type": "markdown",
   "id": "2d74b2bb",
   "metadata": {},
   "source": [
    "Now create two new scatterplots:\n",
    "+ one with `width_cm` on the x-axis and `weight_g_sqrt` on the y-axis.\n",
    "+ one with `length_vertical_cm` on the x-axis and `weight_g_sqrt` on the y-axis.\n",
    "\n",
    "Label the axes with \"Vertical Length (cm)\", \"Width (cm)\" and \"Weight Sqrt\" where appropriate. **(1 mark)**"
   ]
  },
  {
   "cell_type": "code",
   "execution_count": null,
   "id": "e22931dc",
   "metadata": {},
   "outputs": [],
   "source": [
    "# Write your code below\n",
    "# add additional cells as necessary\n"
   ]
  },
  {
   "cell_type": "markdown",
   "id": "20e2c31b",
   "metadata": {},
   "source": [
    "Comment on the linearity of the scatterplots with weight square rooted. **(1 mark)**"
   ]
  },
  {
   "cell_type": "markdown",
   "id": "f22f0a7e",
   "metadata": {},
   "source": [
    "> **Answer goes here**"
   ]
  },
  {
   "cell_type": "markdown",
   "id": "018643a2",
   "metadata": {},
   "source": [
    "## Methods"
   ]
  },
  {
   "attachments": {},
   "cell_type": "markdown",
   "id": "6ecdb7ea",
   "metadata": {},
   "source": [
    "Setup a linear regression, called `regmod1`, estimate and fit the model (call this `regmod1_fit`) and calculate the parameter estimates (using `.params`), specifically with `weight_g_sqrt` as the dependent variable and `width_cm` as the independent variable."
   ]
  },
  {
   "cell_type": "code",
   "execution_count": null,
   "id": "37f4d17a",
   "metadata": {},
   "outputs": [],
   "source": [
    "# Write your code below\n"
   ]
  },
  {
   "cell_type": "markdown",
   "id": "5d13490e",
   "metadata": {},
   "source": [
    "What is the estimated line of best fit for `regmod1`? Provide an interpretation for the y-intercept and slope estimates. Comment on whether the y-intercept makes sense. **(2 marks)**"
   ]
  },
  {
   "attachments": {},
   "cell_type": "markdown",
   "id": "b101c930",
   "metadata": {},
   "source": [
    "> **Answer goes here**"
   ]
  },
  {
   "attachments": {},
   "cell_type": "markdown",
   "id": "256f3277",
   "metadata": {},
   "source": [
    "Setup another linear regression, called `regmod2`, estimate and fit the model (call this `regmod2_fit`) and calculate the parameter estimates (using `.params`), specifically with `weight_g_sqrt` as the dependent variable and both `width_cm` and `length_vertical_cm` as the independent variables."
   ]
  },
  {
   "cell_type": "code",
   "execution_count": null,
   "id": "292d7740",
   "metadata": {},
   "outputs": [],
   "source": [
    "# Write your code below\n"
   ]
  },
  {
   "cell_type": "markdown",
   "id": "cb1f68d2",
   "metadata": {},
   "source": [
    "What is the estimated line of best fit for `regmod2`? Provide an interpretation for the y-intercept and slope estimates. **(2 marks)**"
   ]
  },
  {
   "cell_type": "markdown",
   "id": "d3fa1741",
   "metadata": {},
   "source": [
    "> **Answer goes here**"
   ]
  },
  {
   "cell_type": "markdown",
   "id": "23517e45",
   "metadata": {},
   "source": [
    "Print out the summary tables for both models (`regmod1` and `regmod2`) which display the p-values and 95% confidence intervals associated with the intercept and slope estimates. **(1 mark)**"
   ]
  },
  {
   "cell_type": "code",
   "execution_count": null,
   "id": "008a2e60",
   "metadata": {},
   "outputs": [],
   "source": [
    "# Write your code below\n"
   ]
  },
  {
   "cell_type": "markdown",
   "id": "3682d1aa",
   "metadata": {},
   "source": [
    "Calculate the $R^2$ for both models, and save them in `regmod1_rsquared` and `regmod2_rsquared`."
   ]
  },
  {
   "cell_type": "code",
   "execution_count": null,
   "id": "151cc1ae",
   "metadata": {},
   "outputs": [],
   "source": [
    "# Write your code below\n"
   ]
  },
  {
   "cell_type": "markdown",
   "id": "3c8c63d0",
   "metadata": {},
   "source": [
    "## Conclusion\n",
    "\n",
    "Based on the scatterplots, p-values, confidence intervals and $R^2$ which of the two models would you select to model a fish's weight (square rooted). You will be graded based on the appropriate justification(s) provided. __(2 marks)__\n"
   ]
  },
  {
   "attachments": {},
   "cell_type": "markdown",
   "id": "6e9426d2",
   "metadata": {},
   "source": [
    "> **Answer goes here**"
   ]
  }
 ],
 "metadata": {
  "kernelspec": {
   "display_name": "Python 3 (ipykernel)",
   "language": "python",
   "name": "python3"
  },
  "language_info": {
   "codemirror_mode": {
    "name": "ipython",
    "version": 3
   },
   "file_extension": ".py",
   "mimetype": "text/x-python",
   "name": "python",
   "nbconvert_exporter": "python",
   "pygments_lexer": "ipython3",
   "version": "3.10.13"
  },
  "markus": {
   "assessment_id": 216,
   "course_id": 10,
   "url": "https://markus-ds.teach.cs.toronto.edu"
  }
 },
 "nbformat": 4,
 "nbformat_minor": 5
}
