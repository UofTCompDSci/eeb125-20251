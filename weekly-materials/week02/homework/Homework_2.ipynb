{
 "cells": [
  {
   "cell_type": "markdown",
   "metadata": {},
   "source": [
    "# EEB125 Homework 2: Reading and manipulating some data\n",
    "\n",
    "## Logistics\n",
    "\n",
    "**Due date**: The homework is due on Tuesday, January 21 at 11:59pm.\n",
    "\n",
    "You will submit your work on [MarkUs](https://markus.teach.cs.toronto.edu/markus/main/login_remote_auth).\n",
    "To submit your work:\n",
    "\n",
    "1. Download this file (`Homework_2.ipynb`) from JupyterHub. (See [our JupyterHub Guide](../../../guides/jupyterhub_guide.ipynb) for detailed instructions.)\n",
    "2. Submit this file to MarkUs under the **hw2** assignment. (See [our MarkUs Guide](../../../guides/markus_guide.ipynb) for detailed instructions.)\n",
    "\n",
    "All homeworks will take place in a Jupyter notebook (like this one).\n",
    "\n",
    "\n",
    "## Overview\n",
    "\n",
    "This week, you will be building on and synthesizing some of the tools that we learned about in lecture this week to answer a data science question: **What is the most common fossil taxon found in Canada?** We will be using data sourced from the Paleobiology Database (https://paleobiodb.org/#/) to answer this question. \n",
    " "
   ]
  },
  {
   "cell_type": "markdown",
   "metadata": {},
   "source": [
    "## Task 1: Read in the data file\n",
    "\n",
    "### Problem 1a. Open the file `pbdb_data.csv` in Python and read in the lines. \n",
    "\n",
    "Open the data file we will use this week, `pbdb_data.csv`. Assign the result to a variable named `file`. Next, read in the lines and assign the output to a variable called `lines`.\n"
   ]
  },
  {
   "cell_type": "code",
   "execution_count": null,
   "metadata": {
    "slideshow": {
     "slide_type": "slide"
    }
   },
   "outputs": [],
   "source": [
    "# Write your code here\n"
   ]
  },
  {
   "cell_type": "markdown",
   "metadata": {},
   "source": [
    "### Problem 1b. Separate the header from the rest of the data\n",
    "\n",
    "Create a variable named `header` and assign the first line of the file to it. Create a second variable called `data` and assign the rest of the lines to it."
   ]
  },
  {
   "cell_type": "code",
   "execution_count": null,
   "metadata": {},
   "outputs": [],
   "source": [
    "# Write your code here\n"
   ]
  },
  {
   "cell_type": "markdown",
   "metadata": {},
   "source": [
    "### Problem 1c. Interpret the data file\n",
    "\n",
    "Please explain what data are contained in this file by examining the contents of the first line (the \"header\"). What can this header tell us about the data contained within this file? (*2pts*) Please pick one or two of the entries in this header and explain or speculate about what information they might contain. (*2pts*)"
   ]
  },
  {
   "cell_type": "code",
   "execution_count": null,
   "metadata": {},
   "outputs": [],
   "source": [
    "# Run this cell to print the headers. Do not modify this cell.\n",
    "print(header)"
   ]
  },
  {
   "cell_type": "markdown",
   "metadata": {},
   "source": [
    "**WRITE YOUR RESPONSE HERE.**"
   ]
  },
  {
   "cell_type": "markdown",
   "metadata": {},
   "source": [
    "### Problem 2a: Loop through the file and split up the data fields\n",
    "\n",
    "Create an empty list and assign it to the variable `line_lengths`. Loop through the lines of our data file. Remove any whitespace from the start and end of each line, and split each line using the comma as a delimiter. Find out how long the resulting list is and append the result to `line_lengths`.\n",
    "\n",
    "After the loop, find the unique values of `line_lengths` and assign the result to `unique_line_lengths`."
   ]
  },
  {
   "cell_type": "code",
   "execution_count": null,
   "metadata": {},
   "outputs": [],
   "source": [
    "# Write your code here\n",
    "\n",
    "\n",
    "# Run this code after creating line_lengths to see all the unique line lengths\n",
    "unique_line_lengths = set(line_lengths)\n",
    "print(unique_line_lengths)"
   ]
  },
  {
   "cell_type": "markdown",
   "metadata": {},
   "source": [
    "### Problem 2b: Interpret this step\n",
    "\n",
    "In the previous step, you found that some of the lines in our data file were split into different lengths. Why do you suppose this might have happened? Could it be a pose a problem for our analyses? In subsequent weeks, we will learn techniques for cleaning up our data a bit more rigorously, but for now we can just move on as-is.(*4pts*)"
   ]
  },
  {
   "cell_type": "markdown",
   "metadata": {},
   "source": [
    "**WRITE YOUR RESPONSE HERE.**"
   ]
  },
  {
   "cell_type": "markdown",
   "metadata": {},
   "source": [
    "### Problem 2c: Extract and clean the taxon names from each line\n",
    "\n",
    "Create an empty list and assign it to the variable `taxa`. Modify our loop to extract from each line the entry corresponding to `accepted_name` in the header. Remove any whitespace from the start and end of this string, and convert the string to all caps. Append each of these cleaned names to `taxa`."
   ]
  },
  {
   "cell_type": "code",
   "execution_count": null,
   "metadata": {},
   "outputs": [],
   "source": [
    "# Write your code here\n"
   ]
  },
  {
   "cell_type": "markdown",
   "metadata": {},
   "source": [
    "### Problem 3: Number of fossil taxa in Canada\n",
    "\n",
    "Next, find out how many unique fossil taxa have been reported in Canada. First, we will want to find all of the unique values in our list `taxa`. You can do this using the code provided below, which will convert our list, `taxa`, into another Python data type called a 'set', which removes duplicates. Assign the results from the provided code to the variable `unique`. Next, **find how many unique taxa there are. Assign the results to the variable `num_taxa`.**"
   ]
  },
  {
   "cell_type": "code",
   "execution_count": null,
   "metadata": {},
   "outputs": [],
   "source": [
    "unique = set(taxa)  # this provided instruction will remove duplicates by converting taxa to a set data type.\n",
    "\n",
    "# WRITE YOUR CODE HERE\n"
   ]
  },
  {
   "cell_type": "markdown",
   "metadata": {},
   "source": [
    "### Problem 4a: The most frequent taxa in our dataset\n",
    "\n",
    "\n",
    "Create an empty list and assign it to the variable `num_occur`. Loop over the items in `unique` and find the number of times it can be found in `taxa`. For each taxon, print the taxon name and the number of times it occurs in `taxa`. Also, append the number of times it has occurred to the variable `num_occur`. This last step is for autograding, but you will use the printed output to interpret your results."
   ]
  },
  {
   "cell_type": "code",
   "execution_count": null,
   "metadata": {},
   "outputs": [],
   "source": [
    "# Write your code here\n"
   ]
  },
  {
   "cell_type": "markdown",
   "metadata": {},
   "source": [
    "### Problem 4b: Find the most common taxon in the dataset\n",
    "\n",
    "That output was pretty long and hard to sort through. We will learn tools to do this later, but for now, we will achieve our answer using only functionality from base Python. We can use our variable `unique` to easily find the most common taxon in our dataset using the `max()` function built into Python. We just need to use a slightly funky syntax to do so. Run the provided code to find the most common taxon in the Canadian fossil record."
   ]
  },
  {
   "cell_type": "code",
   "execution_count": null,
   "metadata": {},
   "outputs": [],
   "source": [
    "# Run this cell. Do not change the code in this cell.\n",
    "\n",
    "most_common = max(unique, key=taxa.count)\n",
    "print(most_common)"
   ]
  },
  {
   "cell_type": "markdown",
   "metadata": {},
   "source": [
    "### Problem 5a: Interpret your results\n",
    "\n",
    "What is the name of the most common taxon in our dataset? (*2pts*) Google it. Can you think of any reasons why this taxon is so commonly found in Canada? There are no incorrect answers -- feel free to speculate. (*2pts*)"
   ]
  },
  {
   "cell_type": "markdown",
   "metadata": {},
   "source": [
    "**WRITE YOUR RESPONSE HERE.**"
   ]
  },
  {
   "cell_type": "markdown",
   "metadata": {},
   "source": [
    "### Problem 5b: Interpret your results\n",
    "\n",
    "Scroll through your results from Problem 4a. Google the names of a few of the taxa that have occured many times (let's say any that occurs more than 30 times). Do you notice anything in common about these lineages? Comment on any patterns you notice. (*2pts*)"
   ]
  },
  {
   "cell_type": "markdown",
   "metadata": {},
   "source": [
    "**WRITE YOUR RESPONSE HERE.**"
   ]
  }
 ],
 "metadata": {
  "kernelspec": {
   "display_name": "Python 3 (ipykernel)",
   "language": "python",
   "name": "python3"
  },
  "language_info": {
   "codemirror_mode": {
    "name": "ipython",
    "version": 3
   },
   "file_extension": ".py",
   "mimetype": "text/x-python",
   "name": "python",
   "nbconvert_exporter": "python",
   "pygments_lexer": "ipython3",
   "version": "3.13.1"
  },
  "markus": {
   "assessment_id": 207,
   "course_id": 14,
   "url": "https://markus.teach.cs.toronto.edu/markus/main/login_remote_auth"
  },
  "vscode": {
   "interpreter": {
    "hash": "8b8edaa195e148f815789564e9a10f57d8b792ac9e1a5daafce5fbae42bebd0e"
   }
  }
 },
 "nbformat": 4,
 "nbformat_minor": 4
}
