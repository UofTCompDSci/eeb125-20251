{
 "cells": [
  {
   "cell_type": "markdown",
   "metadata": {
    "slideshow": {
     "slide_type": "slide"
    }
   },
   "source": [
    "# Week 12: A short note on reproducibility\n",
    "\n",
    "## April 2, 2025\n",
    "\n",
    "**Michael Jongho Moon**"
   ]
  },
  {
   "cell_type": "markdown",
   "metadata": {
    "slideshow": {
     "slide_type": "slide"
    }
   },
   "source": [
    "## Example 1: Do salmons understand social experience of humans?\n",
    "\n",
    "_Can you bond with a pet salmon?_\n",
    "\n",
    "+  A group of researchers studying psychology conducted an experiement with an Atlantic Salmon.\n",
    "+  They showed a series of photos depicting humans experiencing either socially pleasant or unpleasant emotions.\n",
    "+  They measured the salmon's brain activity with a fMRI.\n",
    "+  They tested whether there was any statistically significant (p<0.001) difference in the measured signal in any of the brain regions the fMRI captured. "
   ]
  },
  {
   "cell_type": "markdown",
   "metadata": {
    "slideshow": {
     "slide_type": "subslide"
    }
   },
   "source": [
    "![](salmon-fMRI.png)"
   ]
  },
  {
   "cell_type": "markdown",
   "metadata": {
    "slideshow": {
     "slide_type": "subslide"
    }
   },
   "source": [
    "## What have they learned?\n",
    "\n",
    "+  The analysis indicates that Atlantic Salmons might understand, or at least react to, human's emotions in social settings."
   ]
  },
  {
   "cell_type": "markdown",
   "metadata": {
    "slideshow": {
     "slide_type": "fragment"
    }
   },
   "source": [
    "Found in the Journal of Serendipitous and Unexpected Results [article](https://teenspecies.github.io/pdfs/NeuralCorrelates.pdf) (Bennet et al., 2010)\n",
    "\n",
    "> One mature Atlantic Salmon (Salmo salar) participated in the fMRI study. The salmon measured approximately 18 inches long, weighed 3.8 lbs, and was not alive at the time of scanning. It is not known if the salmon was male or female, but given the post-mortem state of the subject this was not thought to be a critical variable.\n",
    "\n",
    "> Foam padding was placed within the head coil as a method of limi- ting salmon movement during the scan, but proved to be largely unnecessary as subject motion was exceptionally low. "
   ]
  },
  {
   "cell_type": "markdown",
   "metadata": {
    "slideshow": {
     "slide_type": "subslide"
    }
   },
   "source": [
    "![](https://imgs.xkcd.com/comics/significant.png)\n",
    "\n",
    "_Source: https://xkcd.com/882/_"
   ]
  },
  {
   "cell_type": "markdown",
   "metadata": {
    "slideshow": {
     "slide_type": "slide"
    }
   },
   "source": [
    "## Example 2: Too many siblings? \n",
    "\n",
    "![](blue-tit.jpg) \n",
    "\n",
    "_Photo by Francis C. Franklin. [Source](https://en.wikipedia.org/wiki/File:Eurasian_blue_tit_Lancashire.jpg)_"
   ]
  },
  {
   "cell_type": "markdown",
   "metadata": {
    "slideshow": {
     "slide_type": "subslide"
    }
   },
   "source": [
    "_How is the growth of nestlings influenced by the number of siblings in the nest?_\n",
    "\n",
    "+  Researchers set up 1,100 nest boxes for blue tits and manipulated brood sizes one or two days after hatching to artifically create nests with smaller brood sizes vs. larger brood sizes.\n",
    "+  They measured and recorded the growths of the chicks.\n",
    "+  They recruited many analysts teams and shared the same data to answer the question."
   ]
  },
  {
   "cell_type": "markdown",
   "metadata": {
    "slideshow": {
     "slide_type": "subslide"
    }
   },
   "source": [
    "The original data include many variables..."
   ]
  },
  {
   "cell_type": "code",
   "execution_count": null,
   "metadata": {},
   "outputs": [],
   "source": [
    "import pandas as pd\n",
    "import numpy as np\n",
    "bts = pd.read_csv(\"blue_tit_data_updated_2020-04-18.csv\")\n",
    "bts.head()"
   ]
  },
  {
   "cell_type": "markdown",
   "metadata": {
    "slideshow": {
     "slide_type": "subslide"
    }
   },
   "source": [
    "Let's look at the main variables of interest..."
   ]
  },
  {
   "cell_type": "code",
   "execution_count": null,
   "metadata": {},
   "outputs": [],
   "source": [
    "bts_selected = bts.copy()[\n",
    "    [\"rear_Cs_at_start_of_rearing\", \"day_14_weight\", \"day_14_tarsus_length\"]\n",
    "    ].rename(columns={\n",
    "        \"rear_Cs_at_start_of_rearing\":\"Maniuplated Brood Size\",\n",
    "        \"day_14_weight\":\"Weight on Day 14\",\n",
    "        \"day_14_tarsus_length\":\"Tarsus Length on Day 14\"\n",
    "    })\n",
    "bts_selected.loc[bts[\"rear_nest_trt\"] == 5, \"Brood Size Manipulation\"] = \"Increased\"\n",
    "bts_selected.loc[bts[\"rear_nest_trt\"] == 6, \"Brood Size Manipulation\"] = \"Decreased\"\n",
    "bts_selected.dropna(inplace=True)\n",
    "bts_selected.groupby(\"Brood Size Manipulation\").describe()"
   ]
  },
  {
   "cell_type": "code",
   "execution_count": null,
   "metadata": {
    "slideshow": {
     "slide_type": "subslide"
    }
   },
   "outputs": [],
   "source": [
    "import matplotlib.pyplot as plt\n",
    "fig, axs = plt.subplots(2, 2, tight_layout=True, sharex=True)\n",
    "axs[0][0].hist(\n",
    "    bts_selected.loc[\n",
    "        bts_selected[\"Brood Size Manipulation\"] == \"Increased\", \n",
    "        \"Weight on Day 14\"]);\n",
    "axs[0][0].set_title(\"Increased brood size\")\n",
    "axs[1][0].hist(\n",
    "    bts_selected.loc[\n",
    "        bts_selected[\"Brood Size Manipulation\"] == \"Decreased\", \n",
    "        \"Weight on Day 14\"]);\n",
    "axs[1][0].set_title(\"Decreased brood size\")\n",
    "axs[0][1].boxplot(\n",
    "    bts_selected.loc[\n",
    "        bts_selected[\"Brood Size Manipulation\"] == \"Increased\", \n",
    "        \"Weight on Day 14\"],\n",
    "    vert=False);\n",
    "axs[1][1].boxplot(\n",
    "    bts_selected.loc[\n",
    "        bts_selected[\"Brood Size Manipulation\"] == \"Decreased\", \n",
    "        \"Weight on Day 14\"],\n",
    "    vert=False);"
   ]
  },
  {
   "cell_type": "markdown",
   "metadata": {
    "slideshow": {
     "slide_type": "subslide"
    }
   },
   "source": [
    "_How is the growth of nestlings influenced by the number of siblings in the nest?_\n",
    "\n",
    "To answer the question, we can compute the difference in mean weights by day 14 between those placed in inflated broods vs. those placed in reduced broods."
   ]
  },
  {
   "cell_type": "code",
   "execution_count": null,
   "metadata": {},
   "outputs": [],
   "source": [
    "def compute_mean_diff(data, column):\n",
    "    \n",
    "    mean_weight_increaed_brood = data.loc[\n",
    "        data[\"Brood Size Manipulation\"] == \"Increased\", column].mean()\n",
    "    \n",
    "    mean_weight_reduced_brood = data.loc[\n",
    "        data[\"Brood Size Manipulation\"] == \"Decreased\", column].mean()\n",
    "    \n",
    "    return mean_weight_reduced_brood - mean_weight_increaed_brood\n",
    "\n",
    "observed_diff = compute_mean_diff(bts_selected, \"Weight on Day 14\")"
   ]
  },
  {
   "cell_type": "markdown",
   "metadata": {
    "slideshow": {
     "slide_type": "subslide"
    }
   },
   "source": [
    "We can also compute the associated 95% confidence interval."
   ]
  },
  {
   "cell_type": "code",
   "execution_count": null,
   "metadata": {},
   "outputs": [],
   "source": [
    "def boot_mean_diff(data, column=\"Weight on Day 14\"):\n",
    "    boot = data.sample(frac=1, replace=True)\n",
    "    boot_diff = compute_mean_diff(boot, column)\n",
    "    return boot_diff"
   ]
  },
  {
   "cell_type": "code",
   "execution_count": null,
   "metadata": {},
   "outputs": [],
   "source": [
    "boot_diffs = []\n",
    "\n",
    "for _ in range(5000):\n",
    "    boot_diffs.append(boot_mean_diff(bts_selected))\n",
    "    \n",
    "boot_diffs_series = pd.Series(boot_diffs)\n",
    "diff_ci_95 = np.round(np.percentile(boot_diffs, [2.5, 97.5]), 2)"
   ]
  },
  {
   "cell_type": "code",
   "execution_count": null,
   "metadata": {
    "slideshow": {
     "slide_type": "subslide"
    }
   },
   "outputs": [],
   "source": [
    "bins = np.arange(.83, 1.2, .01)\n",
    "plt.hist(boot_diffs_series, edgecolor=\"white\", color=\"teal\", bins=bins)\n",
    "plt.hist(boot_diffs_series[\n",
    "    (boot_diffs_series > diff_ci_95[1]) | (boot_diffs_series < diff_ci_95[0])], \n",
    "         edgecolor=\"white\", color=\"grey\", bins=bins);\n",
    "\n",
    "print(f\"The observed difference in mean weight on day 14 is {np.round(observed_diff,2)}.\")\n",
    "print(f\"The bootstrap 95% CI for the difference in means is {diff_ci_95}.\")"
   ]
  },
  {
   "cell_type": "markdown",
   "metadata": {
    "slideshow": {
     "slide_type": "subslide"
    }
   },
   "source": [
    "## There is more than one way answer the question with the data\n",
    "\n",
    "+  We could have answered the question by comparing the birds' Tarsus Lengths."
   ]
  },
  {
   "cell_type": "code",
   "execution_count": null,
   "metadata": {},
   "outputs": [],
   "source": [
    "observed_diff_length = compute_mean_diff(bts_selected, \"Tarsus Length on Day 14\")\n",
    "\n",
    "boot_diffs_length = []\n",
    "\n",
    "for _ in range(5000):\n",
    "    boot_diffs_length.append(boot_mean_diff(bts_selected, \"Tarsus Length on Day 14\"))\n",
    "    \n",
    "boot_diffs_length_series = pd.Series(boot_diffs_length)\n",
    "diff_length_ci_95 = np.round(np.percentile(boot_diffs_length, [2.5, 97.5]), 2)\n",
    "\n",
    "bins = np.arange(0.25, 0.52, .01)\n",
    "plt.hist(boot_diffs_length_series, edgecolor=\"white\", color=\"teal\", bins=bins)\n",
    "plt.hist(boot_diffs_length_series[\n",
    "    (boot_diffs_length_series > diff_length_ci_95[1]) \n",
    "    | (boot_diffs_length_series < diff_length_ci_95[0])], \n",
    "         edgecolor=\"white\", color=\"grey\", bins=bins);\n",
    "\n",
    "print(f\"The observed difference in mean weight on day 14 is {np.round(observed_diff_length,2)}.\")\n",
    "print(f\"The bootstrap 95% CI for the difference in means is {diff_length_ci_95}.\")"
   ]
  },
  {
   "cell_type": "markdown",
   "metadata": {
    "slideshow": {
     "slide_type": "subslide"
    }
   },
   "source": [
    "+  There are other analytical decisions and combinations of such decisions can lead to a large number of possible, and valid, analyses.\n",
    "+  The recruited teams for the project reported over 100 different results (Gould et al. 2024; https://egouldo.github.io/ManyAnalysts/#fig-forest-plots-Zr-1)"
   ]
  },
  {
   "cell_type": "markdown",
   "metadata": {
    "slideshow": {
     "slide_type": "fragment"
    }
   },
   "source": [
    "<iframe src=\"https://egouldo.github.io/ManyAnalysts/#fig-forest-plots-Zr-1\" width=\"100%\" height=\"800\"></iframe>"
   ]
  },
  {
   "cell_type": "markdown",
   "metadata": {
    "slideshow": {
     "slide_type": "slide"
    }
   },
   "source": [
    "## What does it mean for your project?\n",
    "\n",
    "+  One of the evaluation criteria for your final projects is _reproducibility of slide content_.\n",
    "+  You must demonstrate that you understand the concepts introduced in class and apply them to answer a research question.\n",
    "\n",
    "> - Your TA will attempt to reproduce your slides using the Jupyter notebook (.ipynb) and data files you submit. \n",
    "> \n",
    "> - If your TA cannot run the .ipynb files you submit to reproduce your slides content then your group will receive 0; if the TA has to make minor changes to get it to run then your group will receive 1; and if it runs with no changes then your group will receive 2. \n",
    "\n",
    "+  Producing reproducible research also helps communicate your analytical decisions/process in a transparent manner."
   ]
  },
  {
   "cell_type": "markdown",
   "metadata": {
    "slideshow": {
     "slide_type": "subslide"
    }
   },
   "source": [
    "**Help TAs!**\n",
    "\n",
    "+  The easiest method would be to place your data file(s) in the same folder as your notebook file and read the data file with the file name only.\n",
    "\n",
    "+  If you must use a folder, use a **relative path** to the folder from the notebook file's location. e.g., `data/datafile.csv` if your notebook file is in `project/notebook.ipynb` and data file is in `project/data/datafile.csv`"
   ]
  },
  {
   "cell_type": "markdown",
   "metadata": {
    "slideshow": {
     "slide_type": "slide"
    }
   },
   "source": [
    "### One more tip for your slides\n",
    "\n",
    "+  Code for creating plots are often very long.\n",
    "\n",
    "+  Displaying long lines of codes isn't effective way of communicating your work on a slide presentation; especially for a time-limited video.\n",
    "\n",
    "+  Include codes that generate and save plots as files (`plt.savefig()`). Then, use markdown to load the saved images. You can \"skip\" the codes in the slide show but your notebooks will still be reproducible."
   ]
  },
  {
   "cell_type": "code",
   "execution_count": null,
   "metadata": {
    "slideshow": {
     "slide_type": "subslide"
    }
   },
   "outputs": [],
   "source": [
    "import matplotlib.pyplot as plt\n",
    "# place multiple plots together\n",
    "fig, axs = plt.subplots(2, 2, tight_layout=True)\n",
    "bins = np.arange(5, 15, .5)\n",
    "axs[0][0].hist(\n",
    "    bts_selected.loc[\n",
    "        bts_selected[\"Brood Size Manipulation\"] == \"Increased\", \n",
    "        \"Weight on Day 14\"],\n",
    "    color=\"#999999\", edgecolor=\"white\", bins=bins);\n",
    "axs[0][0].set_title(\"Weight on Day 14\")\n",
    "axs[0][0].set_ylabel(\"Increased brood size\")\n",
    "axs[1][0].hist(\n",
    "    bts_selected.loc[\n",
    "        bts_selected[\"Brood Size Manipulation\"] == \"Decreased\", \n",
    "        \"Weight on Day 14\"],\n",
    "    color=\"#999999\", edgecolor=\"white\", bins=bins);\n",
    "\n",
    "axs[0][0].hist(\n",
    "    bts_selected.loc[\n",
    "        (bts_selected[\"Brood Size Manipulation\"] == \"Increased\")\n",
    "        & (bts_selected[\"Weight on Day 14\"] <=  bts_selected.loc[\n",
    "            bts_selected[\"Brood Size Manipulation\"] == \"Decreased\", \n",
    "            \"Weight on Day 14\"].min()), \n",
    "        \"Weight on Day 14\"],\n",
    "    color=\"royalblue\", edgecolor=\"white\", bins=bins);\n",
    "\n",
    "axs[1][0].set_ylabel(\"Decreased brood size\")\n",
    "bins = np.arange(13, 19.3, .3)\n",
    "axs[0][1].hist(\n",
    "    bts_selected.loc[\n",
    "        bts_selected[\"Brood Size Manipulation\"] == \"Increased\", \n",
    "        \"Tarsus Length on Day 14\"],\n",
    "    color=\"#999999\", edgecolor=\"white\", bins=bins);\n",
    "\n",
    "axs[0][1].hist(\n",
    "    bts_selected.loc[\n",
    "        (bts_selected[\"Brood Size Manipulation\"] == \"Increased\")\n",
    "        & (bts_selected[\"Tarsus Length on Day 14\"] <=  bts_selected.loc[\n",
    "            bts_selected[\"Brood Size Manipulation\"] == \"Decreased\", \n",
    "            \"Tarsus Length on Day 14\"].min()), \n",
    "        \"Tarsus Length on Day 14\"],\n",
    "    color=\"royalblue\", edgecolor=\"white\", bins=bins);\n",
    "\n",
    "axs[0][1].set_title(\"Tarsus Length on Day 14\")\n",
    "axs[1][1].hist(\n",
    "    bts_selected.loc[\n",
    "        bts_selected[\"Brood Size Manipulation\"] == \"Decreased\", \n",
    "        \"Tarsus Length on Day 14\"],\n",
    "    color=\"#999999\", edgecolor=\"white\", bins=bins);\n",
    "\n",
    "\n",
    "for i in [0, 1]:\n",
    "    for j in [0, 1]:\n",
    "        # remove plot frame except bottom\n",
    "        axs[i][j].spines['top'].set_visible(False)\n",
    "        axs[i][j].spines['right'].set_visible(False)\n",
    "        # axs[i][j].spines['bottom'].set_visible(False)\n",
    "        axs[i][j].spines['left'].set_visible(False)\n",
    "        # remoe y axis ticks\n",
    "        axs[i][j].set_yticks([]);\n",
    "\n",
    "# place a global plot title on top of the group of subplots\n",
    "fig.suptitle(\"There are more chicks that did not grow in 14 days as much as\\ntheir siblings among Blue Tits placed in broods with more siblings.\")\n",
    "plt.savefig(\"fig.png\", bbox_inches=\"tight\") # bbox_inches=\"tight\" avoids plot elements being cut off\n",
    "plt.close();"
   ]
  },
  {
   "cell_type": "markdown",
   "metadata": {
    "slideshow": {
     "slide_type": "subslide"
    }
   },
   "source": [
    "![](fig.png)"
   ]
  },
  {
   "cell_type": "markdown",
   "metadata": {
    "slideshow": {
     "slide_type": "slide"
    }
   },
   "source": [
    "# Good luck!"
   ]
  }
 ],
 "metadata": {
  "kernelspec": {
   "display_name": "eeb125",
   "language": "python",
   "name": "python3"
  },
  "language_info": {
   "codemirror_mode": {
    "name": "ipython",
    "version": 3
   },
   "file_extension": ".py",
   "mimetype": "text/x-python",
   "name": "python",
   "nbconvert_exporter": "python",
   "pygments_lexer": "ipython3",
   "version": "3.10.13"
  }
 },
 "nbformat": 4,
 "nbformat_minor": 2
}
