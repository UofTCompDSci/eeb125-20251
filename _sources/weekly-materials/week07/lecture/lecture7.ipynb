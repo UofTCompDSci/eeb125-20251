{
 "cells": [
  {
   "cell_type": "markdown",
   "metadata": {
    "slideshow": {
     "slide_type": "slide"
    }
   },
   "source": [
    "# EEB125 Lecture 7: Introduction to Pandas\n",
    "\n",
    "## Feb 26, 2025\n",
    "\n",
    "## Karen Reid"
   ]
  },
  {
   "cell_type": "markdown",
   "metadata": {
    "slideshow": {
     "slide_type": "slide"
    }
   },
   "source": [
    "## Introducing `pandas`\n",
    "\n",
    "So far this semester, you've worked in *base Python*, using only types of data, functions, and methods that are built into Python.\n",
    "\n",
    "For the next few weeks, we'll learn how to use one of the most common **libraries** for doing data science in Python: `pandas`."
   ]
  },
  {
   "cell_type": "markdown",
   "metadata": {
    "slideshow": {
     "slide_type": "slide"
    }
   },
   "source": [
    "## What is `pandas`?\n",
    "\n",
    "[`pandas`](https://pandas.pydata.org/) \"is a fast, powerful, flexible and easy to use open source data analysis and manipulation tool,\n",
    "built on top of the Python programming language.\" \n",
    "\n",
    "<img width=\"400\" src=\"https://cdn.britannica.com/80/150980-050-84B9202C/Giant-panda-cub-branch.jpg\" alt=\"Image of a panda\"/>"
   ]
  },
  {
   "cell_type": "markdown",
   "metadata": {
    "slideshow": {
     "slide_type": "slide"
    }
   },
   "source": [
    "Today, we'll learn how to use `pandas` to:\n",
    "\n",
    "- Read in a dataset from a CSV file\n",
    "- Identify, use, and differentiate two new Pandas data types, `DataFrame` and `Series`\n",
    "- Describe the properties of a dataset representation in Pandas\n",
    "- Inspect parts of a large dataset\n",
    "- Perform simple *data cleaning* and *data transformation* operations on a dataset\n",
    "- Compute some summary statistics on a dataset"
   ]
  },
  {
   "cell_type": "markdown",
   "metadata": {
    "slideshow": {
     "slide_type": "slide"
    }
   },
   "source": [
    "## Importing `pandas`\n",
    "\n",
    "Because `pandas` doesn't come built-in with Python, we need to **import it** to be able to use it in our code.\n",
    "\n",
    "This is done with a Python statement called an **import statement**."
   ]
  },
  {
   "cell_type": "code",
   "execution_count": 39,
   "metadata": {
    "slideshow": {
     "slide_type": "fragment"
    }
   },
   "outputs": [],
   "source": [
    "import pandas"
   ]
  },
  {
   "cell_type": "markdown",
   "metadata": {
    "slideshow": {
     "slide_type": "fragment"
    }
   },
   "source": [
    "Common alternate: import with a renaming (\"nickname\"):"
   ]
  },
  {
   "cell_type": "code",
   "execution_count": null,
   "metadata": {
    "slideshow": {
     "slide_type": "-"
    }
   },
   "outputs": [],
   "source": [
    "import pandas as pd"
   ]
  },
  {
   "cell_type": "markdown",
   "metadata": {
    "slideshow": {
     "slide_type": "slide"
    }
   },
   "source": [
    "## Reading in data from a CSV file\n",
    "\n",
    "Using pandas, we can read in data from a csv file using the `read_csv` function."
   ]
  },
  {
   "cell_type": "code",
   "execution_count": 3,
   "metadata": {},
   "outputs": [],
   "source": [
    "species_data = pd.read_csv('PanTHERIA_WR05_Aug2008.csv')"
   ]
  },
  {
   "cell_type": "markdown",
   "metadata": {
    "slideshow": {
     "slide_type": "slide"
    }
   },
   "source": [
    "Let's explore: what is `species_data`?"
   ]
  },
  {
   "cell_type": "code",
   "execution_count": 41,
   "metadata": {
    "scrolled": false
   },
   "outputs": [
    {
     "data": {
      "text/html": [
       "<div>\n",
       "<style scoped>\n",
       "    .dataframe tbody tr th:only-of-type {\n",
       "        vertical-align: middle;\n",
       "    }\n",
       "\n",
       "    .dataframe tbody tr th {\n",
       "        vertical-align: top;\n",
       "    }\n",
       "\n",
       "    .dataframe thead th {\n",
       "        text-align: right;\n",
       "    }\n",
       "</style>\n",
       "<table border=\"1\" class=\"dataframe\">\n",
       "  <thead>\n",
       "    <tr style=\"text-align: right;\">\n",
       "      <th></th>\n",
       "      <th>MSW05_Order</th>\n",
       "      <th>MSW05_Family</th>\n",
       "      <th>MSW05_Genus</th>\n",
       "      <th>MSW05_Species</th>\n",
       "      <th>MSW05_Binomial</th>\n",
       "      <th>1-1_ActivityCycle</th>\n",
       "      <th>5-1_AdultBodyMass_g</th>\n",
       "      <th>8-1_AdultForearmLen_mm</th>\n",
       "      <th>13-1_AdultHeadBodyLen_mm</th>\n",
       "      <th>2-1_AgeatEyeOpening_d</th>\n",
       "      <th>...</th>\n",
       "      <th>26-6_GR_MinLong_dd</th>\n",
       "      <th>26-7_GR_MidRangeLong_dd</th>\n",
       "      <th>27-1_HuPopDen_Min_n/km2</th>\n",
       "      <th>27-2_HuPopDen_Mean_n/km2</th>\n",
       "      <th>27-3_HuPopDen_5p_n/km2</th>\n",
       "      <th>27-4_HuPopDen_Change</th>\n",
       "      <th>28-1_Precip_Mean_mm</th>\n",
       "      <th>28-2_Temp_Mean_01degC</th>\n",
       "      <th>30-1_AET_Mean_mm</th>\n",
       "      <th>30-2_PET_Mean_mm</th>\n",
       "    </tr>\n",
       "  </thead>\n",
       "  <tbody>\n",
       "    <tr>\n",
       "      <th>0</th>\n",
       "      <td>Artiodactyla</td>\n",
       "      <td>Camelidae</td>\n",
       "      <td>Camelus</td>\n",
       "      <td>dromedarius</td>\n",
       "      <td>Camelus dromedarius</td>\n",
       "      <td>3</td>\n",
       "      <td>492714.47</td>\n",
       "      <td>-999.0</td>\n",
       "      <td>-999.00</td>\n",
       "      <td>-999.00</td>\n",
       "      <td>...</td>\n",
       "      <td>-999.00</td>\n",
       "      <td>-999.00</td>\n",
       "      <td>-999</td>\n",
       "      <td>-999.00</td>\n",
       "      <td>-999.0</td>\n",
       "      <td>-999.00</td>\n",
       "      <td>-999.00</td>\n",
       "      <td>-999.00</td>\n",
       "      <td>-999.00</td>\n",
       "      <td>-999.00</td>\n",
       "    </tr>\n",
       "    <tr>\n",
       "      <th>1</th>\n",
       "      <td>Carnivora</td>\n",
       "      <td>Canidae</td>\n",
       "      <td>Canis</td>\n",
       "      <td>adustus</td>\n",
       "      <td>Canis adustus</td>\n",
       "      <td>1</td>\n",
       "      <td>10392.49</td>\n",
       "      <td>-999.0</td>\n",
       "      <td>745.32</td>\n",
       "      <td>-999.00</td>\n",
       "      <td>...</td>\n",
       "      <td>-17.53</td>\n",
       "      <td>13.00</td>\n",
       "      <td>0</td>\n",
       "      <td>35.20</td>\n",
       "      <td>1.0</td>\n",
       "      <td>0.14</td>\n",
       "      <td>90.75</td>\n",
       "      <td>236.51</td>\n",
       "      <td>922.90</td>\n",
       "      <td>1534.40</td>\n",
       "    </tr>\n",
       "    <tr>\n",
       "      <th>2</th>\n",
       "      <td>Carnivora</td>\n",
       "      <td>Canidae</td>\n",
       "      <td>Canis</td>\n",
       "      <td>aureus</td>\n",
       "      <td>Canis aureus</td>\n",
       "      <td>2</td>\n",
       "      <td>9658.70</td>\n",
       "      <td>-999.0</td>\n",
       "      <td>827.53</td>\n",
       "      <td>7.50</td>\n",
       "      <td>...</td>\n",
       "      <td>-17.05</td>\n",
       "      <td>45.74</td>\n",
       "      <td>0</td>\n",
       "      <td>79.29</td>\n",
       "      <td>0.0</td>\n",
       "      <td>0.10</td>\n",
       "      <td>44.61</td>\n",
       "      <td>217.23</td>\n",
       "      <td>438.02</td>\n",
       "      <td>1358.98</td>\n",
       "    </tr>\n",
       "    <tr>\n",
       "      <th>3</th>\n",
       "      <td>Carnivora</td>\n",
       "      <td>Canidae</td>\n",
       "      <td>Canis</td>\n",
       "      <td>latrans</td>\n",
       "      <td>Canis latrans</td>\n",
       "      <td>2</td>\n",
       "      <td>11989.10</td>\n",
       "      <td>-999.0</td>\n",
       "      <td>872.39</td>\n",
       "      <td>11.94</td>\n",
       "      <td>...</td>\n",
       "      <td>-168.12</td>\n",
       "      <td>-117.60</td>\n",
       "      <td>0</td>\n",
       "      <td>27.27</td>\n",
       "      <td>0.0</td>\n",
       "      <td>0.06</td>\n",
       "      <td>53.03</td>\n",
       "      <td>58.18</td>\n",
       "      <td>503.02</td>\n",
       "      <td>728.37</td>\n",
       "    </tr>\n",
       "    <tr>\n",
       "      <th>4</th>\n",
       "      <td>Carnivora</td>\n",
       "      <td>Canidae</td>\n",
       "      <td>Canis</td>\n",
       "      <td>lupus</td>\n",
       "      <td>Canis lupus</td>\n",
       "      <td>2</td>\n",
       "      <td>31756.51</td>\n",
       "      <td>-999.0</td>\n",
       "      <td>1055.00</td>\n",
       "      <td>14.01</td>\n",
       "      <td>...</td>\n",
       "      <td>-171.84</td>\n",
       "      <td>3.90</td>\n",
       "      <td>0</td>\n",
       "      <td>37.87</td>\n",
       "      <td>0.0</td>\n",
       "      <td>0.04</td>\n",
       "      <td>34.79</td>\n",
       "      <td>4.82</td>\n",
       "      <td>313.33</td>\n",
       "      <td>561.11</td>\n",
       "    </tr>\n",
       "    <tr>\n",
       "      <th>...</th>\n",
       "      <td>...</td>\n",
       "      <td>...</td>\n",
       "      <td>...</td>\n",
       "      <td>...</td>\n",
       "      <td>...</td>\n",
       "      <td>...</td>\n",
       "      <td>...</td>\n",
       "      <td>...</td>\n",
       "      <td>...</td>\n",
       "      <td>...</td>\n",
       "      <td>...</td>\n",
       "      <td>...</td>\n",
       "      <td>...</td>\n",
       "      <td>...</td>\n",
       "      <td>...</td>\n",
       "      <td>...</td>\n",
       "      <td>...</td>\n",
       "      <td>...</td>\n",
       "      <td>...</td>\n",
       "      <td>...</td>\n",
       "      <td>...</td>\n",
       "    </tr>\n",
       "    <tr>\n",
       "      <th>5411</th>\n",
       "      <td>Rodentia</td>\n",
       "      <td>Muridae</td>\n",
       "      <td>Zyzomys</td>\n",
       "      <td>argurus</td>\n",
       "      <td>Zyzomys argurus</td>\n",
       "      <td>-999</td>\n",
       "      <td>40.42</td>\n",
       "      <td>-999.0</td>\n",
       "      <td>107.83</td>\n",
       "      <td>-999.00</td>\n",
       "      <td>...</td>\n",
       "      <td>114.33</td>\n",
       "      <td>131.09</td>\n",
       "      <td>0</td>\n",
       "      <td>1.10</td>\n",
       "      <td>0.0</td>\n",
       "      <td>0.02</td>\n",
       "      <td>62.33</td>\n",
       "      <td>256.75</td>\n",
       "      <td>692.93</td>\n",
       "      <td>1704.98</td>\n",
       "    </tr>\n",
       "    <tr>\n",
       "      <th>5412</th>\n",
       "      <td>Rodentia</td>\n",
       "      <td>Muridae</td>\n",
       "      <td>Zyzomys</td>\n",
       "      <td>maini</td>\n",
       "      <td>Zyzomys maini</td>\n",
       "      <td>-999</td>\n",
       "      <td>93.99</td>\n",
       "      <td>-999.0</td>\n",
       "      <td>-999.00</td>\n",
       "      <td>-999.00</td>\n",
       "      <td>...</td>\n",
       "      <td>131.45</td>\n",
       "      <td>132.66</td>\n",
       "      <td>0</td>\n",
       "      <td>0.17</td>\n",
       "      <td>0.0</td>\n",
       "      <td>0.00</td>\n",
       "      <td>90.76</td>\n",
       "      <td>265.30</td>\n",
       "      <td>877.90</td>\n",
       "      <td>1755.73</td>\n",
       "    </tr>\n",
       "    <tr>\n",
       "      <th>5413</th>\n",
       "      <td>Rodentia</td>\n",
       "      <td>Muridae</td>\n",
       "      <td>Zyzomys</td>\n",
       "      <td>palatilis</td>\n",
       "      <td>Zyzomys palatilis</td>\n",
       "      <td>-999</td>\n",
       "      <td>123.00</td>\n",
       "      <td>-999.0</td>\n",
       "      <td>-999.00</td>\n",
       "      <td>-999.00</td>\n",
       "      <td>...</td>\n",
       "      <td>136.72</td>\n",
       "      <td>137.08</td>\n",
       "      <td>0</td>\n",
       "      <td>0.00</td>\n",
       "      <td>0.0</td>\n",
       "      <td>-999.00</td>\n",
       "      <td>49.00</td>\n",
       "      <td>247.16</td>\n",
       "      <td>637.90</td>\n",
       "      <td>1638.67</td>\n",
       "    </tr>\n",
       "    <tr>\n",
       "      <th>5414</th>\n",
       "      <td>Rodentia</td>\n",
       "      <td>Muridae</td>\n",
       "      <td>Zyzomys</td>\n",
       "      <td>pedunculatus</td>\n",
       "      <td>Zyzomys pedunculatus</td>\n",
       "      <td>-999</td>\n",
       "      <td>100.00</td>\n",
       "      <td>-999.0</td>\n",
       "      <td>126.79</td>\n",
       "      <td>-999.00</td>\n",
       "      <td>...</td>\n",
       "      <td>130.16</td>\n",
       "      <td>132.97</td>\n",
       "      <td>0</td>\n",
       "      <td>0.09</td>\n",
       "      <td>0.0</td>\n",
       "      <td>0.25</td>\n",
       "      <td>21.64</td>\n",
       "      <td>215.72</td>\n",
       "      <td>291.82</td>\n",
       "      <td>1405.85</td>\n",
       "    </tr>\n",
       "    <tr>\n",
       "      <th>5415</th>\n",
       "      <td>Rodentia</td>\n",
       "      <td>Muridae</td>\n",
       "      <td>Zyzomys</td>\n",
       "      <td>woodwardi</td>\n",
       "      <td>Zyzomys woodwardi</td>\n",
       "      <td>-999</td>\n",
       "      <td>95.02</td>\n",
       "      <td>-999.0</td>\n",
       "      <td>146.07</td>\n",
       "      <td>-999.00</td>\n",
       "      <td>...</td>\n",
       "      <td>123.42</td>\n",
       "      <td>125.55</td>\n",
       "      <td>0</td>\n",
       "      <td>0.00</td>\n",
       "      <td>0.0</td>\n",
       "      <td>-999.00</td>\n",
       "      <td>79.45</td>\n",
       "      <td>280.41</td>\n",
       "      <td>798.86</td>\n",
       "      <td>1765.19</td>\n",
       "    </tr>\n",
       "  </tbody>\n",
       "</table>\n",
       "<p>5416 rows × 55 columns</p>\n",
       "</div>"
      ],
      "text/plain": [
       "       MSW05_Order MSW05_Family MSW05_Genus MSW05_Species  \\\n",
       "0     Artiodactyla    Camelidae     Camelus   dromedarius   \n",
       "1        Carnivora      Canidae       Canis       adustus   \n",
       "2        Carnivora      Canidae       Canis        aureus   \n",
       "3        Carnivora      Canidae       Canis       latrans   \n",
       "4        Carnivora      Canidae       Canis         lupus   \n",
       "...            ...          ...         ...           ...   \n",
       "5411      Rodentia      Muridae     Zyzomys       argurus   \n",
       "5412      Rodentia      Muridae     Zyzomys         maini   \n",
       "5413      Rodentia      Muridae     Zyzomys     palatilis   \n",
       "5414      Rodentia      Muridae     Zyzomys  pedunculatus   \n",
       "5415      Rodentia      Muridae     Zyzomys     woodwardi   \n",
       "\n",
       "            MSW05_Binomial  1-1_ActivityCycle  5-1_AdultBodyMass_g  \\\n",
       "0      Camelus dromedarius                  3            492714.47   \n",
       "1            Canis adustus                  1             10392.49   \n",
       "2             Canis aureus                  2              9658.70   \n",
       "3            Canis latrans                  2             11989.10   \n",
       "4              Canis lupus                  2             31756.51   \n",
       "...                    ...                ...                  ...   \n",
       "5411       Zyzomys argurus               -999                40.42   \n",
       "5412         Zyzomys maini               -999                93.99   \n",
       "5413     Zyzomys palatilis               -999               123.00   \n",
       "5414  Zyzomys pedunculatus               -999               100.00   \n",
       "5415     Zyzomys woodwardi               -999                95.02   \n",
       "\n",
       "      8-1_AdultForearmLen_mm  13-1_AdultHeadBodyLen_mm  2-1_AgeatEyeOpening_d  \\\n",
       "0                     -999.0                   -999.00                -999.00   \n",
       "1                     -999.0                    745.32                -999.00   \n",
       "2                     -999.0                    827.53                   7.50   \n",
       "3                     -999.0                    872.39                  11.94   \n",
       "4                     -999.0                   1055.00                  14.01   \n",
       "...                      ...                       ...                    ...   \n",
       "5411                  -999.0                    107.83                -999.00   \n",
       "5412                  -999.0                   -999.00                -999.00   \n",
       "5413                  -999.0                   -999.00                -999.00   \n",
       "5414                  -999.0                    126.79                -999.00   \n",
       "5415                  -999.0                    146.07                -999.00   \n",
       "\n",
       "      ...  26-6_GR_MinLong_dd  26-7_GR_MidRangeLong_dd  \\\n",
       "0     ...             -999.00                  -999.00   \n",
       "1     ...              -17.53                    13.00   \n",
       "2     ...              -17.05                    45.74   \n",
       "3     ...             -168.12                  -117.60   \n",
       "4     ...             -171.84                     3.90   \n",
       "...   ...                 ...                      ...   \n",
       "5411  ...              114.33                   131.09   \n",
       "5412  ...              131.45                   132.66   \n",
       "5413  ...              136.72                   137.08   \n",
       "5414  ...              130.16                   132.97   \n",
       "5415  ...              123.42                   125.55   \n",
       "\n",
       "      27-1_HuPopDen_Min_n/km2  27-2_HuPopDen_Mean_n/km2  \\\n",
       "0                        -999                   -999.00   \n",
       "1                           0                     35.20   \n",
       "2                           0                     79.29   \n",
       "3                           0                     27.27   \n",
       "4                           0                     37.87   \n",
       "...                       ...                       ...   \n",
       "5411                        0                      1.10   \n",
       "5412                        0                      0.17   \n",
       "5413                        0                      0.00   \n",
       "5414                        0                      0.09   \n",
       "5415                        0                      0.00   \n",
       "\n",
       "      27-3_HuPopDen_5p_n/km2  27-4_HuPopDen_Change  28-1_Precip_Mean_mm  \\\n",
       "0                     -999.0               -999.00              -999.00   \n",
       "1                        1.0                  0.14                90.75   \n",
       "2                        0.0                  0.10                44.61   \n",
       "3                        0.0                  0.06                53.03   \n",
       "4                        0.0                  0.04                34.79   \n",
       "...                      ...                   ...                  ...   \n",
       "5411                     0.0                  0.02                62.33   \n",
       "5412                     0.0                  0.00                90.76   \n",
       "5413                     0.0               -999.00                49.00   \n",
       "5414                     0.0                  0.25                21.64   \n",
       "5415                     0.0               -999.00                79.45   \n",
       "\n",
       "      28-2_Temp_Mean_01degC  30-1_AET_Mean_mm  30-2_PET_Mean_mm  \n",
       "0                   -999.00           -999.00           -999.00  \n",
       "1                    236.51            922.90           1534.40  \n",
       "2                    217.23            438.02           1358.98  \n",
       "3                     58.18            503.02            728.37  \n",
       "4                      4.82            313.33            561.11  \n",
       "...                     ...               ...               ...  \n",
       "5411                 256.75            692.93           1704.98  \n",
       "5412                 265.30            877.90           1755.73  \n",
       "5413                 247.16            637.90           1638.67  \n",
       "5414                 215.72            291.82           1405.85  \n",
       "5415                 280.41            798.86           1765.19  \n",
       "\n",
       "[5416 rows x 55 columns]"
      ]
     },
     "execution_count": 41,
     "metadata": {},
     "output_type": "execute_result"
    }
   ],
   "source": [
    "species_data"
   ]
  },
  {
   "cell_type": "code",
   "execution_count": 5,
   "metadata": {
    "slideshow": {
     "slide_type": "slide"
    }
   },
   "outputs": [
    {
     "data": {
      "text/plain": [
       "pandas.core.frame.DataFrame"
      ]
     },
     "execution_count": 5,
     "metadata": {},
     "output_type": "execute_result"
    }
   ],
   "source": [
    "type(species_data)"
   ]
  },
  {
   "cell_type": "markdown",
   "metadata": {
    "slideshow": {
     "slide_type": "fragment"
    }
   },
   "source": [
    "Formally, `species_data` is a `DataFrame`, which is a custom data type defined by `pandas` to represent **tabular data**."
   ]
  },
  {
   "cell_type": "markdown",
   "metadata": {
    "slideshow": {
     "slide_type": "slide"
    }
   },
   "source": [
    "## Exploring `DataFrame`s"
   ]
  },
  {
   "cell_type": "markdown",
   "metadata": {
    "slideshow": {
     "slide_type": "slide"
    }
   },
   "source": [
    "We can use the `DataFrame.head()` method to quickly see the first few rows."
   ]
  },
  {
   "cell_type": "code",
   "execution_count": 42,
   "metadata": {},
   "outputs": [
    {
     "data": {
      "text/html": [
       "<div>\n",
       "<style scoped>\n",
       "    .dataframe tbody tr th:only-of-type {\n",
       "        vertical-align: middle;\n",
       "    }\n",
       "\n",
       "    .dataframe tbody tr th {\n",
       "        vertical-align: top;\n",
       "    }\n",
       "\n",
       "    .dataframe thead th {\n",
       "        text-align: right;\n",
       "    }\n",
       "</style>\n",
       "<table border=\"1\" class=\"dataframe\">\n",
       "  <thead>\n",
       "    <tr style=\"text-align: right;\">\n",
       "      <th></th>\n",
       "      <th>MSW05_Order</th>\n",
       "      <th>MSW05_Family</th>\n",
       "      <th>MSW05_Genus</th>\n",
       "      <th>MSW05_Species</th>\n",
       "      <th>MSW05_Binomial</th>\n",
       "      <th>1-1_ActivityCycle</th>\n",
       "      <th>5-1_AdultBodyMass_g</th>\n",
       "      <th>8-1_AdultForearmLen_mm</th>\n",
       "      <th>13-1_AdultHeadBodyLen_mm</th>\n",
       "      <th>2-1_AgeatEyeOpening_d</th>\n",
       "      <th>...</th>\n",
       "      <th>26-6_GR_MinLong_dd</th>\n",
       "      <th>26-7_GR_MidRangeLong_dd</th>\n",
       "      <th>27-1_HuPopDen_Min_n/km2</th>\n",
       "      <th>27-2_HuPopDen_Mean_n/km2</th>\n",
       "      <th>27-3_HuPopDen_5p_n/km2</th>\n",
       "      <th>27-4_HuPopDen_Change</th>\n",
       "      <th>28-1_Precip_Mean_mm</th>\n",
       "      <th>28-2_Temp_Mean_01degC</th>\n",
       "      <th>30-1_AET_Mean_mm</th>\n",
       "      <th>30-2_PET_Mean_mm</th>\n",
       "    </tr>\n",
       "  </thead>\n",
       "  <tbody>\n",
       "    <tr>\n",
       "      <th>0</th>\n",
       "      <td>Artiodactyla</td>\n",
       "      <td>Camelidae</td>\n",
       "      <td>Camelus</td>\n",
       "      <td>dromedarius</td>\n",
       "      <td>Camelus dromedarius</td>\n",
       "      <td>3</td>\n",
       "      <td>492714.47</td>\n",
       "      <td>-999.0</td>\n",
       "      <td>-999.00</td>\n",
       "      <td>-999.00</td>\n",
       "      <td>...</td>\n",
       "      <td>-999.00</td>\n",
       "      <td>-999.00</td>\n",
       "      <td>-999</td>\n",
       "      <td>-999.00</td>\n",
       "      <td>-999.0</td>\n",
       "      <td>-999.00</td>\n",
       "      <td>-999.00</td>\n",
       "      <td>-999.00</td>\n",
       "      <td>-999.00</td>\n",
       "      <td>-999.00</td>\n",
       "    </tr>\n",
       "    <tr>\n",
       "      <th>1</th>\n",
       "      <td>Carnivora</td>\n",
       "      <td>Canidae</td>\n",
       "      <td>Canis</td>\n",
       "      <td>adustus</td>\n",
       "      <td>Canis adustus</td>\n",
       "      <td>1</td>\n",
       "      <td>10392.49</td>\n",
       "      <td>-999.0</td>\n",
       "      <td>745.32</td>\n",
       "      <td>-999.00</td>\n",
       "      <td>...</td>\n",
       "      <td>-17.53</td>\n",
       "      <td>13.00</td>\n",
       "      <td>0</td>\n",
       "      <td>35.20</td>\n",
       "      <td>1.0</td>\n",
       "      <td>0.14</td>\n",
       "      <td>90.75</td>\n",
       "      <td>236.51</td>\n",
       "      <td>922.90</td>\n",
       "      <td>1534.40</td>\n",
       "    </tr>\n",
       "    <tr>\n",
       "      <th>2</th>\n",
       "      <td>Carnivora</td>\n",
       "      <td>Canidae</td>\n",
       "      <td>Canis</td>\n",
       "      <td>aureus</td>\n",
       "      <td>Canis aureus</td>\n",
       "      <td>2</td>\n",
       "      <td>9658.70</td>\n",
       "      <td>-999.0</td>\n",
       "      <td>827.53</td>\n",
       "      <td>7.50</td>\n",
       "      <td>...</td>\n",
       "      <td>-17.05</td>\n",
       "      <td>45.74</td>\n",
       "      <td>0</td>\n",
       "      <td>79.29</td>\n",
       "      <td>0.0</td>\n",
       "      <td>0.10</td>\n",
       "      <td>44.61</td>\n",
       "      <td>217.23</td>\n",
       "      <td>438.02</td>\n",
       "      <td>1358.98</td>\n",
       "    </tr>\n",
       "    <tr>\n",
       "      <th>3</th>\n",
       "      <td>Carnivora</td>\n",
       "      <td>Canidae</td>\n",
       "      <td>Canis</td>\n",
       "      <td>latrans</td>\n",
       "      <td>Canis latrans</td>\n",
       "      <td>2</td>\n",
       "      <td>11989.10</td>\n",
       "      <td>-999.0</td>\n",
       "      <td>872.39</td>\n",
       "      <td>11.94</td>\n",
       "      <td>...</td>\n",
       "      <td>-168.12</td>\n",
       "      <td>-117.60</td>\n",
       "      <td>0</td>\n",
       "      <td>27.27</td>\n",
       "      <td>0.0</td>\n",
       "      <td>0.06</td>\n",
       "      <td>53.03</td>\n",
       "      <td>58.18</td>\n",
       "      <td>503.02</td>\n",
       "      <td>728.37</td>\n",
       "    </tr>\n",
       "    <tr>\n",
       "      <th>4</th>\n",
       "      <td>Carnivora</td>\n",
       "      <td>Canidae</td>\n",
       "      <td>Canis</td>\n",
       "      <td>lupus</td>\n",
       "      <td>Canis lupus</td>\n",
       "      <td>2</td>\n",
       "      <td>31756.51</td>\n",
       "      <td>-999.0</td>\n",
       "      <td>1055.00</td>\n",
       "      <td>14.01</td>\n",
       "      <td>...</td>\n",
       "      <td>-171.84</td>\n",
       "      <td>3.90</td>\n",
       "      <td>0</td>\n",
       "      <td>37.87</td>\n",
       "      <td>0.0</td>\n",
       "      <td>0.04</td>\n",
       "      <td>34.79</td>\n",
       "      <td>4.82</td>\n",
       "      <td>313.33</td>\n",
       "      <td>561.11</td>\n",
       "    </tr>\n",
       "  </tbody>\n",
       "</table>\n",
       "<p>5 rows × 55 columns</p>\n",
       "</div>"
      ],
      "text/plain": [
       "    MSW05_Order MSW05_Family MSW05_Genus MSW05_Species       MSW05_Binomial  \\\n",
       "0  Artiodactyla    Camelidae     Camelus   dromedarius  Camelus dromedarius   \n",
       "1     Carnivora      Canidae       Canis       adustus        Canis adustus   \n",
       "2     Carnivora      Canidae       Canis        aureus         Canis aureus   \n",
       "3     Carnivora      Canidae       Canis       latrans        Canis latrans   \n",
       "4     Carnivora      Canidae       Canis         lupus          Canis lupus   \n",
       "\n",
       "   1-1_ActivityCycle  5-1_AdultBodyMass_g  8-1_AdultForearmLen_mm  \\\n",
       "0                  3            492714.47                  -999.0   \n",
       "1                  1             10392.49                  -999.0   \n",
       "2                  2              9658.70                  -999.0   \n",
       "3                  2             11989.10                  -999.0   \n",
       "4                  2             31756.51                  -999.0   \n",
       "\n",
       "   13-1_AdultHeadBodyLen_mm  2-1_AgeatEyeOpening_d  ...  26-6_GR_MinLong_dd  \\\n",
       "0                   -999.00                -999.00  ...             -999.00   \n",
       "1                    745.32                -999.00  ...              -17.53   \n",
       "2                    827.53                   7.50  ...              -17.05   \n",
       "3                    872.39                  11.94  ...             -168.12   \n",
       "4                   1055.00                  14.01  ...             -171.84   \n",
       "\n",
       "   26-7_GR_MidRangeLong_dd  27-1_HuPopDen_Min_n/km2  27-2_HuPopDen_Mean_n/km2  \\\n",
       "0                  -999.00                     -999                   -999.00   \n",
       "1                    13.00                        0                     35.20   \n",
       "2                    45.74                        0                     79.29   \n",
       "3                  -117.60                        0                     27.27   \n",
       "4                     3.90                        0                     37.87   \n",
       "\n",
       "   27-3_HuPopDen_5p_n/km2  27-4_HuPopDen_Change  28-1_Precip_Mean_mm  \\\n",
       "0                  -999.0               -999.00              -999.00   \n",
       "1                     1.0                  0.14                90.75   \n",
       "2                     0.0                  0.10                44.61   \n",
       "3                     0.0                  0.06                53.03   \n",
       "4                     0.0                  0.04                34.79   \n",
       "\n",
       "   28-2_Temp_Mean_01degC  30-1_AET_Mean_mm  30-2_PET_Mean_mm  \n",
       "0                -999.00           -999.00           -999.00  \n",
       "1                 236.51            922.90           1534.40  \n",
       "2                 217.23            438.02           1358.98  \n",
       "3                  58.18            503.02            728.37  \n",
       "4                   4.82            313.33            561.11  \n",
       "\n",
       "[5 rows x 55 columns]"
      ]
     },
     "execution_count": 42,
     "metadata": {},
     "output_type": "execute_result"
    }
   ],
   "source": [
    "species_data.head()"
   ]
  },
  {
   "cell_type": "markdown",
   "metadata": {
    "slideshow": {
     "slide_type": "slide"
    }
   },
   "source": [
    "We use the `.shape` **attribute** to obtain the number of rows and columns of a `DataFrame`.\n",
    "\n",
    "- An **attribute** is like a method, but it just stores a piece of data, and is not a function.\n",
    "- You do *not* write parentheses after an attribute name."
   ]
  },
  {
   "cell_type": "code",
   "execution_count": 7,
   "metadata": {},
   "outputs": [
    {
     "data": {
      "text/plain": [
       "(5416, 55)"
      ]
     },
     "execution_count": 7,
     "metadata": {},
     "output_type": "execute_result"
    }
   ],
   "source": [
    "species_data.shape"
   ]
  },
  {
   "cell_type": "markdown",
   "metadata": {
    "slideshow": {
     "slide_type": "slide"
    }
   },
   "source": [
    "We can access just the number of rows or columns by using indexing on `.shape` (with square brackets), just like with lists."
   ]
  },
  {
   "cell_type": "code",
   "execution_count": 8,
   "metadata": {},
   "outputs": [
    {
     "name": "stdout",
     "output_type": "stream",
     "text": [
      "There are 5416 rows and 55 columns in the dataset.\n"
     ]
    }
   ],
   "source": [
    "num_rows = species_data.shape[0]\n",
    "num_cols = species_data.shape[1]\n",
    "\n",
    "print(f\"There are {num_rows} rows and {num_cols} columns in the dataset.\")"
   ]
  },
  {
   "cell_type": "markdown",
   "metadata": {
    "slideshow": {
     "slide_type": "slide"
    }
   },
   "source": [
    "## `DataFrame` columns properties\n",
    "\n",
    "One of the most important properties of a `DataFrame` are its **columns**.\n",
    "Each column has two important pieces of \"metadata\":\n",
    "\n",
    "- the column's name\n",
    "- the column's type (i.e., the type of data stored in that column)"
   ]
  },
  {
   "cell_type": "markdown",
   "metadata": {
    "slideshow": {
     "slide_type": "slide"
    }
   },
   "source": [
    "We can see the **column names** by accessing the `.columns` attribute of a `DataFrame`."
   ]
  },
  {
   "cell_type": "code",
   "execution_count": 9,
   "metadata": {},
   "outputs": [
    {
     "data": {
      "text/plain": [
       "Index(['MSW05_Order', 'MSW05_Family', 'MSW05_Genus', 'MSW05_Species',\n",
       "       'MSW05_Binomial', '1-1_ActivityCycle', '5-1_AdultBodyMass_g',\n",
       "       '8-1_AdultForearmLen_mm', '13-1_AdultHeadBodyLen_mm',\n",
       "       '2-1_AgeatEyeOpening_d', '3-1_AgeatFirstBirth_d',\n",
       "       '18-1_BasalMetRate_mLO2hr', '5-2_BasalMetRateMass_g', '6-1_DietBreadth',\n",
       "       '7-1_DispersalAge_d', '9-1_GestationLen_d', '12-1_HabitatBreadth',\n",
       "       '22-1_HomeRange_km2', '22-2_HomeRange_Indiv_km2',\n",
       "       '14-1_InterbirthInterval_d', '15-1_LitterSize', '16-1_LittersPerYear',\n",
       "       '17-1_MaxLongevity_m', '5-3_NeonateBodyMass_g',\n",
       "       '13-2_NeonateHeadBodyLen_mm', '21-1_PopulationDensity_n/km2',\n",
       "       '10-1_PopulationGrpSize', '23-1_SexualMaturityAge_d',\n",
       "       '10-2_SocialGrpSize', '24-1_TeatNumber', '12-2_Terrestriality',\n",
       "       '6-2_TrophicLevel', '25-1_WeaningAge_d', '5-4_WeaningBodyMass_g',\n",
       "       '13-3_WeaningHeadBodyLen_mm', 'References', '5-5_AdultBodyMass_g_EXT',\n",
       "       '16-2_LittersPerYear_EXT', '5-6_NeonateBodyMass_g_EXT',\n",
       "       '5-7_WeaningBodyMass_g_EXT', '26-1_GR_Area_km2', '26-2_GR_MaxLat_dd',\n",
       "       '26-3_GR_MinLat_dd', '26-4_GR_MidRangeLat_dd', '26-5_GR_MaxLong_dd',\n",
       "       '26-6_GR_MinLong_dd', '26-7_GR_MidRangeLong_dd',\n",
       "       '27-1_HuPopDen_Min_n/km2', '27-2_HuPopDen_Mean_n/km2',\n",
       "       '27-3_HuPopDen_5p_n/km2', '27-4_HuPopDen_Change', '28-1_Precip_Mean_mm',\n",
       "       '28-2_Temp_Mean_01degC', '30-1_AET_Mean_mm', '30-2_PET_Mean_mm'],\n",
       "      dtype='object')"
      ]
     },
     "execution_count": 9,
     "metadata": {},
     "output_type": "execute_result"
    }
   ],
   "source": [
    "species_data.columns"
   ]
  },
  {
   "cell_type": "markdown",
   "metadata": {
    "slideshow": {
     "slide_type": "slide"
    }
   },
   "source": [
    "The `.columns` attribute has a special type called `Index`, which is like a `list`.\n",
    "\n",
    "You don't need to worry about what `Index` is exactly, but if you want you can convert it into a `list`:"
   ]
  },
  {
   "cell_type": "code",
   "execution_count": 10,
   "metadata": {},
   "outputs": [
    {
     "data": {
      "text/plain": [
       "['MSW05_Order',\n",
       " 'MSW05_Family',\n",
       " 'MSW05_Genus',\n",
       " 'MSW05_Species',\n",
       " 'MSW05_Binomial',\n",
       " '1-1_ActivityCycle',\n",
       " '5-1_AdultBodyMass_g',\n",
       " '8-1_AdultForearmLen_mm',\n",
       " '13-1_AdultHeadBodyLen_mm',\n",
       " '2-1_AgeatEyeOpening_d',\n",
       " '3-1_AgeatFirstBirth_d',\n",
       " '18-1_BasalMetRate_mLO2hr',\n",
       " '5-2_BasalMetRateMass_g',\n",
       " '6-1_DietBreadth',\n",
       " '7-1_DispersalAge_d',\n",
       " '9-1_GestationLen_d',\n",
       " '12-1_HabitatBreadth',\n",
       " '22-1_HomeRange_km2',\n",
       " '22-2_HomeRange_Indiv_km2',\n",
       " '14-1_InterbirthInterval_d',\n",
       " '15-1_LitterSize',\n",
       " '16-1_LittersPerYear',\n",
       " '17-1_MaxLongevity_m',\n",
       " '5-3_NeonateBodyMass_g',\n",
       " '13-2_NeonateHeadBodyLen_mm',\n",
       " '21-1_PopulationDensity_n/km2',\n",
       " '10-1_PopulationGrpSize',\n",
       " '23-1_SexualMaturityAge_d',\n",
       " '10-2_SocialGrpSize',\n",
       " '24-1_TeatNumber',\n",
       " '12-2_Terrestriality',\n",
       " '6-2_TrophicLevel',\n",
       " '25-1_WeaningAge_d',\n",
       " '5-4_WeaningBodyMass_g',\n",
       " '13-3_WeaningHeadBodyLen_mm',\n",
       " 'References',\n",
       " '5-5_AdultBodyMass_g_EXT',\n",
       " '16-2_LittersPerYear_EXT',\n",
       " '5-6_NeonateBodyMass_g_EXT',\n",
       " '5-7_WeaningBodyMass_g_EXT',\n",
       " '26-1_GR_Area_km2',\n",
       " '26-2_GR_MaxLat_dd',\n",
       " '26-3_GR_MinLat_dd',\n",
       " '26-4_GR_MidRangeLat_dd',\n",
       " '26-5_GR_MaxLong_dd',\n",
       " '26-6_GR_MinLong_dd',\n",
       " '26-7_GR_MidRangeLong_dd',\n",
       " '27-1_HuPopDen_Min_n/km2',\n",
       " '27-2_HuPopDen_Mean_n/km2',\n",
       " '27-3_HuPopDen_5p_n/km2',\n",
       " '27-4_HuPopDen_Change',\n",
       " '28-1_Precip_Mean_mm',\n",
       " '28-2_Temp_Mean_01degC',\n",
       " '30-1_AET_Mean_mm',\n",
       " '30-2_PET_Mean_mm']"
      ]
     },
     "execution_count": 10,
     "metadata": {},
     "output_type": "execute_result"
    }
   ],
   "source": [
    "list(species_data.columns)"
   ]
  },
  {
   "cell_type": "markdown",
   "metadata": {
    "slideshow": {
     "slide_type": "slide"
    }
   },
   "source": [
    "We can access *column types* by using the `.dtypes` attribute:"
   ]
  },
  {
   "cell_type": "code",
   "execution_count": 11,
   "metadata": {},
   "outputs": [
    {
     "data": {
      "text/plain": [
       "MSW05_Order                      object\n",
       "MSW05_Family                     object\n",
       "MSW05_Genus                      object\n",
       "MSW05_Species                    object\n",
       "MSW05_Binomial                   object\n",
       "1-1_ActivityCycle                 int64\n",
       "5-1_AdultBodyMass_g             float64\n",
       "8-1_AdultForearmLen_mm          float64\n",
       "13-1_AdultHeadBodyLen_mm        float64\n",
       "2-1_AgeatEyeOpening_d           float64\n",
       "3-1_AgeatFirstBirth_d           float64\n",
       "18-1_BasalMetRate_mLO2hr        float64\n",
       "5-2_BasalMetRateMass_g          float64\n",
       "6-1_DietBreadth                   int64\n",
       "7-1_DispersalAge_d              float64\n",
       "9-1_GestationLen_d              float64\n",
       "12-1_HabitatBreadth               int64\n",
       "22-1_HomeRange_km2              float64\n",
       "22-2_HomeRange_Indiv_km2        float64\n",
       "14-1_InterbirthInterval_d       float64\n",
       "15-1_LitterSize                 float64\n",
       "16-1_LittersPerYear             float64\n",
       "17-1_MaxLongevity_m             float64\n",
       "5-3_NeonateBodyMass_g           float64\n",
       "13-2_NeonateHeadBodyLen_mm      float64\n",
       "21-1_PopulationDensity_n/km2    float64\n",
       "10-1_PopulationGrpSize          float64\n",
       "23-1_SexualMaturityAge_d        float64\n",
       "10-2_SocialGrpSize              float64\n",
       "24-1_TeatNumber                   int64\n",
       "12-2_Terrestriality               int64\n",
       "6-2_TrophicLevel                  int64\n",
       "25-1_WeaningAge_d               float64\n",
       "5-4_WeaningBodyMass_g           float64\n",
       "13-3_WeaningHeadBodyLen_mm        int64\n",
       "References                       object\n",
       "5-5_AdultBodyMass_g_EXT         float64\n",
       "16-2_LittersPerYear_EXT         float64\n",
       "5-6_NeonateBodyMass_g_EXT       float64\n",
       "5-7_WeaningBodyMass_g_EXT       float64\n",
       "26-1_GR_Area_km2                float64\n",
       "26-2_GR_MaxLat_dd               float64\n",
       "26-3_GR_MinLat_dd               float64\n",
       "26-4_GR_MidRangeLat_dd          float64\n",
       "26-5_GR_MaxLong_dd              float64\n",
       "26-6_GR_MinLong_dd              float64\n",
       "26-7_GR_MidRangeLong_dd         float64\n",
       "27-1_HuPopDen_Min_n/km2           int64\n",
       "27-2_HuPopDen_Mean_n/km2        float64\n",
       "27-3_HuPopDen_5p_n/km2          float64\n",
       "27-4_HuPopDen_Change            float64\n",
       "28-1_Precip_Mean_mm             float64\n",
       "28-2_Temp_Mean_01degC           float64\n",
       "30-1_AET_Mean_mm                float64\n",
       "30-2_PET_Mean_mm                float64\n",
       "dtype: object"
      ]
     },
     "execution_count": 11,
     "metadata": {},
     "output_type": "execute_result"
    }
   ],
   "source": [
    "species_data.dtypes"
   ]
  },
  {
   "cell_type": "markdown",
   "metadata": {
    "slideshow": {
     "slide_type": "slide"
    }
   },
   "source": [
    "Pandas uses its own custom data types to represent large datasets efficiently.\n",
    "They typically correspond to Python's built-in data types.\n",
    "\n",
    "For example:\n",
    "\n",
    "- `float64` corresponds to a Python `float`\n",
    "- `object` is a special `dtype` that means \"any value\""
   ]
  },
  {
   "cell_type": "markdown",
   "metadata": {
    "slideshow": {
     "slide_type": "fragment"
    }
   },
   "source": [
    "**Note**: by default, Pandas reads in text column data as `object`, not `string`.\n",
    "\n",
    "We'll see how to improve this later this lecture."
   ]
  },
  {
   "cell_type": "markdown",
   "metadata": {
    "slideshow": {
     "slide_type": "slide"
    }
   },
   "source": [
    "Finally, we can use the `DataFrame.info()` **method** to display all of the previous information and more:"
   ]
  },
  {
   "cell_type": "code",
   "execution_count": 12,
   "metadata": {},
   "outputs": [
    {
     "name": "stdout",
     "output_type": "stream",
     "text": [
      "<class 'pandas.core.frame.DataFrame'>\n",
      "RangeIndex: 5416 entries, 0 to 5415\n",
      "Data columns (total 55 columns):\n",
      " #   Column                        Non-Null Count  Dtype  \n",
      "---  ------                        --------------  -----  \n",
      " 0   MSW05_Order                   5416 non-null   object \n",
      " 1   MSW05_Family                  5416 non-null   object \n",
      " 2   MSW05_Genus                   5416 non-null   object \n",
      " 3   MSW05_Species                 5416 non-null   object \n",
      " 4   MSW05_Binomial                5416 non-null   object \n",
      " 5   1-1_ActivityCycle             5416 non-null   int64  \n",
      " 6   5-1_AdultBodyMass_g           5416 non-null   float64\n",
      " 7   8-1_AdultForearmLen_mm        5416 non-null   float64\n",
      " 8   13-1_AdultHeadBodyLen_mm      5416 non-null   float64\n",
      " 9   2-1_AgeatEyeOpening_d         5416 non-null   float64\n",
      " 10  3-1_AgeatFirstBirth_d         5416 non-null   float64\n",
      " 11  18-1_BasalMetRate_mLO2hr      5416 non-null   float64\n",
      " 12  5-2_BasalMetRateMass_g        5416 non-null   float64\n",
      " 13  6-1_DietBreadth               5416 non-null   int64  \n",
      " 14  7-1_DispersalAge_d            5416 non-null   float64\n",
      " 15  9-1_GestationLen_d            5416 non-null   float64\n",
      " 16  12-1_HabitatBreadth           5416 non-null   int64  \n",
      " 17  22-1_HomeRange_km2            5416 non-null   float64\n",
      " 18  22-2_HomeRange_Indiv_km2      5416 non-null   float64\n",
      " 19  14-1_InterbirthInterval_d     5416 non-null   float64\n",
      " 20  15-1_LitterSize               5416 non-null   float64\n",
      " 21  16-1_LittersPerYear           5416 non-null   float64\n",
      " 22  17-1_MaxLongevity_m           5416 non-null   float64\n",
      " 23  5-3_NeonateBodyMass_g         5416 non-null   float64\n",
      " 24  13-2_NeonateHeadBodyLen_mm    5416 non-null   float64\n",
      " 25  21-1_PopulationDensity_n/km2  5416 non-null   float64\n",
      " 26  10-1_PopulationGrpSize        5416 non-null   float64\n",
      " 27  23-1_SexualMaturityAge_d      5416 non-null   float64\n",
      " 28  10-2_SocialGrpSize            5416 non-null   float64\n",
      " 29  24-1_TeatNumber               5416 non-null   int64  \n",
      " 30  12-2_Terrestriality           5416 non-null   int64  \n",
      " 31  6-2_TrophicLevel              5416 non-null   int64  \n",
      " 32  25-1_WeaningAge_d             5416 non-null   float64\n",
      " 33  5-4_WeaningBodyMass_g         5416 non-null   float64\n",
      " 34  13-3_WeaningHeadBodyLen_mm    5416 non-null   int64  \n",
      " 35  References                    5416 non-null   object \n",
      " 36  5-5_AdultBodyMass_g_EXT       5416 non-null   float64\n",
      " 37  16-2_LittersPerYear_EXT       5416 non-null   float64\n",
      " 38  5-6_NeonateBodyMass_g_EXT     5416 non-null   float64\n",
      " 39  5-7_WeaningBodyMass_g_EXT     5416 non-null   float64\n",
      " 40  26-1_GR_Area_km2              5416 non-null   float64\n",
      " 41  26-2_GR_MaxLat_dd             5416 non-null   float64\n",
      " 42  26-3_GR_MinLat_dd             5416 non-null   float64\n",
      " 43  26-4_GR_MidRangeLat_dd        5416 non-null   float64\n",
      " 44  26-5_GR_MaxLong_dd            5416 non-null   float64\n",
      " 45  26-6_GR_MinLong_dd            5416 non-null   float64\n",
      " 46  26-7_GR_MidRangeLong_dd       5416 non-null   float64\n",
      " 47  27-1_HuPopDen_Min_n/km2       5416 non-null   int64  \n",
      " 48  27-2_HuPopDen_Mean_n/km2      5416 non-null   float64\n",
      " 49  27-3_HuPopDen_5p_n/km2        5416 non-null   float64\n",
      " 50  27-4_HuPopDen_Change          5416 non-null   float64\n",
      " 51  28-1_Precip_Mean_mm           5416 non-null   float64\n",
      " 52  28-2_Temp_Mean_01degC         5416 non-null   float64\n",
      " 53  30-1_AET_Mean_mm              5416 non-null   float64\n",
      " 54  30-2_PET_Mean_mm              5416 non-null   float64\n",
      "dtypes: float64(41), int64(8), object(6)\n",
      "memory usage: 2.3+ MB\n"
     ]
    }
   ],
   "source": [
    "species_data.info()"
   ]
  },
  {
   "cell_type": "markdown",
   "metadata": {
    "slideshow": {
     "slide_type": "slide"
    }
   },
   "source": [
    "### Summary\n",
    "\n",
    "Given a `DataFrame`, we can access the following attributes/methods to obtain information about it.\n",
    "\n",
    "| Attribute/Method | Description                                       |\n",
    "|------------------|---------------------------------------------------|\n",
    "| `.shape`         | (number of rows, number of columns)               |\n",
    "| `.columns`       | column names                                      |\n",
    "| `.dtypes`        | column names and types                            |\n",
    "| `.info()`        | all of the above, and more (e.g. non-null counts) |\n",
    "| `.head()`        | display the first few rows of the `DataFrame`     |\n"
   ]
  },
  {
   "cell_type": "markdown",
   "metadata": {
    "slideshow": {
     "slide_type": "slide"
    }
   },
   "source": [
    "## Data Wrangling: Columns"
   ]
  },
  {
   "cell_type": "markdown",
   "metadata": {
    "slideshow": {
     "slide_type": "slide"
    }
   },
   "source": [
    "In data science, **data wrangling** is the process of turning raw data into a format more suitable for subsequent computation, analysis, and visualization.  This might be more properly called Data Cleaning.\n",
    "\n",
    "There are many different types of data wrangling, but for now we'll look at three techniques centred on *columns*:\n",
    "\n",
    "- renaming columns\n",
    "- converting column types\n",
    "- identifying and replacing \"invalid\" values\n",
    "- extracting a subset of columns to work with"
   ]
  },
  {
   "cell_type": "markdown",
   "metadata": {
    "slideshow": {
     "slide_type": "slide"
    }
   },
   "source": [
    "### Renaming columns\n",
    "\n",
    "We rename columns by using the `DataFrame.rename(columns=...)` method, where we pass in a **dictionary** mapping \"original column name\" to \"new column name\"."
   ]
  },
  {
   "cell_type": "code",
   "execution_count": 13,
   "metadata": {
    "slideshow": {
     "slide_type": "slide"
    }
   },
   "outputs": [
    {
     "data": {
      "text/html": [
       "<div>\n",
       "<style scoped>\n",
       "    .dataframe tbody tr th:only-of-type {\n",
       "        vertical-align: middle;\n",
       "    }\n",
       "\n",
       "    .dataframe tbody tr th {\n",
       "        vertical-align: top;\n",
       "    }\n",
       "\n",
       "    .dataframe thead th {\n",
       "        text-align: right;\n",
       "    }\n",
       "</style>\n",
       "<table border=\"1\" class=\"dataframe\">\n",
       "  <thead>\n",
       "    <tr style=\"text-align: right;\">\n",
       "      <th></th>\n",
       "      <th>MSW05_Order</th>\n",
       "      <th>MSW05_Family</th>\n",
       "      <th>Genus</th>\n",
       "      <th>Species</th>\n",
       "      <th>MSW05_Binomial</th>\n",
       "      <th>Activity Cycle</th>\n",
       "      <th>Adult Body Mass (g)</th>\n",
       "      <th>8-1_AdultForearmLen_mm</th>\n",
       "      <th>13-1_AdultHeadBodyLen_mm</th>\n",
       "      <th>Age at Eye Opening (days)</th>\n",
       "      <th>...</th>\n",
       "      <th>26-6_GR_MinLong_dd</th>\n",
       "      <th>26-7_GR_MidRangeLong_dd</th>\n",
       "      <th>27-1_HuPopDen_Min_n/km2</th>\n",
       "      <th>27-2_HuPopDen_Mean_n/km2</th>\n",
       "      <th>27-3_HuPopDen_5p_n/km2</th>\n",
       "      <th>27-4_HuPopDen_Change</th>\n",
       "      <th>28-1_Precip_Mean_mm</th>\n",
       "      <th>28-2_Temp_Mean_01degC</th>\n",
       "      <th>30-1_AET_Mean_mm</th>\n",
       "      <th>30-2_PET_Mean_mm</th>\n",
       "    </tr>\n",
       "  </thead>\n",
       "  <tbody>\n",
       "    <tr>\n",
       "      <th>0</th>\n",
       "      <td>Artiodactyla</td>\n",
       "      <td>Camelidae</td>\n",
       "      <td>Camelus</td>\n",
       "      <td>dromedarius</td>\n",
       "      <td>Camelus dromedarius</td>\n",
       "      <td>3</td>\n",
       "      <td>492714.47</td>\n",
       "      <td>-999.0</td>\n",
       "      <td>-999.00</td>\n",
       "      <td>-999.00</td>\n",
       "      <td>...</td>\n",
       "      <td>-999.00</td>\n",
       "      <td>-999.00</td>\n",
       "      <td>-999</td>\n",
       "      <td>-999.00</td>\n",
       "      <td>-999.0</td>\n",
       "      <td>-999.00</td>\n",
       "      <td>-999.00</td>\n",
       "      <td>-999.00</td>\n",
       "      <td>-999.00</td>\n",
       "      <td>-999.00</td>\n",
       "    </tr>\n",
       "    <tr>\n",
       "      <th>1</th>\n",
       "      <td>Carnivora</td>\n",
       "      <td>Canidae</td>\n",
       "      <td>Canis</td>\n",
       "      <td>adustus</td>\n",
       "      <td>Canis adustus</td>\n",
       "      <td>1</td>\n",
       "      <td>10392.49</td>\n",
       "      <td>-999.0</td>\n",
       "      <td>745.32</td>\n",
       "      <td>-999.00</td>\n",
       "      <td>...</td>\n",
       "      <td>-17.53</td>\n",
       "      <td>13.00</td>\n",
       "      <td>0</td>\n",
       "      <td>35.20</td>\n",
       "      <td>1.0</td>\n",
       "      <td>0.14</td>\n",
       "      <td>90.75</td>\n",
       "      <td>236.51</td>\n",
       "      <td>922.90</td>\n",
       "      <td>1534.40</td>\n",
       "    </tr>\n",
       "    <tr>\n",
       "      <th>2</th>\n",
       "      <td>Carnivora</td>\n",
       "      <td>Canidae</td>\n",
       "      <td>Canis</td>\n",
       "      <td>aureus</td>\n",
       "      <td>Canis aureus</td>\n",
       "      <td>2</td>\n",
       "      <td>9658.70</td>\n",
       "      <td>-999.0</td>\n",
       "      <td>827.53</td>\n",
       "      <td>7.50</td>\n",
       "      <td>...</td>\n",
       "      <td>-17.05</td>\n",
       "      <td>45.74</td>\n",
       "      <td>0</td>\n",
       "      <td>79.29</td>\n",
       "      <td>0.0</td>\n",
       "      <td>0.10</td>\n",
       "      <td>44.61</td>\n",
       "      <td>217.23</td>\n",
       "      <td>438.02</td>\n",
       "      <td>1358.98</td>\n",
       "    </tr>\n",
       "    <tr>\n",
       "      <th>3</th>\n",
       "      <td>Carnivora</td>\n",
       "      <td>Canidae</td>\n",
       "      <td>Canis</td>\n",
       "      <td>latrans</td>\n",
       "      <td>Canis latrans</td>\n",
       "      <td>2</td>\n",
       "      <td>11989.10</td>\n",
       "      <td>-999.0</td>\n",
       "      <td>872.39</td>\n",
       "      <td>11.94</td>\n",
       "      <td>...</td>\n",
       "      <td>-168.12</td>\n",
       "      <td>-117.60</td>\n",
       "      <td>0</td>\n",
       "      <td>27.27</td>\n",
       "      <td>0.0</td>\n",
       "      <td>0.06</td>\n",
       "      <td>53.03</td>\n",
       "      <td>58.18</td>\n",
       "      <td>503.02</td>\n",
       "      <td>728.37</td>\n",
       "    </tr>\n",
       "    <tr>\n",
       "      <th>4</th>\n",
       "      <td>Carnivora</td>\n",
       "      <td>Canidae</td>\n",
       "      <td>Canis</td>\n",
       "      <td>lupus</td>\n",
       "      <td>Canis lupus</td>\n",
       "      <td>2</td>\n",
       "      <td>31756.51</td>\n",
       "      <td>-999.0</td>\n",
       "      <td>1055.00</td>\n",
       "      <td>14.01</td>\n",
       "      <td>...</td>\n",
       "      <td>-171.84</td>\n",
       "      <td>3.90</td>\n",
       "      <td>0</td>\n",
       "      <td>37.87</td>\n",
       "      <td>0.0</td>\n",
       "      <td>0.04</td>\n",
       "      <td>34.79</td>\n",
       "      <td>4.82</td>\n",
       "      <td>313.33</td>\n",
       "      <td>561.11</td>\n",
       "    </tr>\n",
       "  </tbody>\n",
       "</table>\n",
       "<p>5 rows × 55 columns</p>\n",
       "</div>"
      ],
      "text/plain": [
       "    MSW05_Order MSW05_Family    Genus      Species       MSW05_Binomial  \\\n",
       "0  Artiodactyla    Camelidae  Camelus  dromedarius  Camelus dromedarius   \n",
       "1     Carnivora      Canidae    Canis      adustus        Canis adustus   \n",
       "2     Carnivora      Canidae    Canis       aureus         Canis aureus   \n",
       "3     Carnivora      Canidae    Canis      latrans        Canis latrans   \n",
       "4     Carnivora      Canidae    Canis        lupus          Canis lupus   \n",
       "\n",
       "   Activity Cycle  Adult Body Mass (g)  8-1_AdultForearmLen_mm  \\\n",
       "0               3            492714.47                  -999.0   \n",
       "1               1             10392.49                  -999.0   \n",
       "2               2              9658.70                  -999.0   \n",
       "3               2             11989.10                  -999.0   \n",
       "4               2             31756.51                  -999.0   \n",
       "\n",
       "   13-1_AdultHeadBodyLen_mm  Age at Eye Opening (days)  ...  \\\n",
       "0                   -999.00                    -999.00  ...   \n",
       "1                    745.32                    -999.00  ...   \n",
       "2                    827.53                       7.50  ...   \n",
       "3                    872.39                      11.94  ...   \n",
       "4                   1055.00                      14.01  ...   \n",
       "\n",
       "   26-6_GR_MinLong_dd  26-7_GR_MidRangeLong_dd  27-1_HuPopDen_Min_n/km2  \\\n",
       "0             -999.00                  -999.00                     -999   \n",
       "1              -17.53                    13.00                        0   \n",
       "2              -17.05                    45.74                        0   \n",
       "3             -168.12                  -117.60                        0   \n",
       "4             -171.84                     3.90                        0   \n",
       "\n",
       "   27-2_HuPopDen_Mean_n/km2  27-3_HuPopDen_5p_n/km2  27-4_HuPopDen_Change  \\\n",
       "0                   -999.00                  -999.0               -999.00   \n",
       "1                     35.20                     1.0                  0.14   \n",
       "2                     79.29                     0.0                  0.10   \n",
       "3                     27.27                     0.0                  0.06   \n",
       "4                     37.87                     0.0                  0.04   \n",
       "\n",
       "   28-1_Precip_Mean_mm  28-2_Temp_Mean_01degC  30-1_AET_Mean_mm  \\\n",
       "0              -999.00                -999.00           -999.00   \n",
       "1                90.75                 236.51            922.90   \n",
       "2                44.61                 217.23            438.02   \n",
       "3                53.03                  58.18            503.02   \n",
       "4                34.79                   4.82            313.33   \n",
       "\n",
       "   30-2_PET_Mean_mm  \n",
       "0           -999.00  \n",
       "1           1534.40  \n",
       "2           1358.98  \n",
       "3            728.37  \n",
       "4            561.11  \n",
       "\n",
       "[5 rows x 55 columns]"
      ]
     },
     "execution_count": 13,
     "metadata": {},
     "output_type": "execute_result"
    }
   ],
   "source": [
    "old_to_new = {\n",
    "    'MSW05_Genus': 'Genus',\n",
    "    'MSW05_Species': 'Species',\n",
    "    '1-1_ActivityCycle': 'Activity Cycle',\n",
    "    '5-1_AdultBodyMass_g': 'Adult Body Mass (g)',\n",
    "    '2-1_AgeatEyeOpening_d': 'Age at Eye Opening (days)',\n",
    "    '17-1_MaxLongevity_m': 'Max Longevity (months)'\n",
    "}\n",
    "\n",
    "species_data_renamed = species_data.rename(columns=old_to_new)\n",
    "species_data_renamed.head()"
   ]
  },
  {
   "cell_type": "markdown",
   "metadata": {
    "slideshow": {
     "slide_type": "slide"
    }
   },
   "source": [
    "### Converting column types\n",
    "\n",
    "We can also ask Pandas to *automatically choose* the best column types for an existing `DataFrame`.\n",
    "This is done with the `DataFrame.convert_dtypes()` method."
   ]
  },
  {
   "cell_type": "code",
   "execution_count": 14,
   "metadata": {
    "slideshow": {
     "slide_type": "slide"
    }
   },
   "outputs": [
    {
     "data": {
      "text/plain": [
       "MSW05_Order                     string[python]\n",
       "MSW05_Family                    string[python]\n",
       "Genus                           string[python]\n",
       "Species                         string[python]\n",
       "MSW05_Binomial                  string[python]\n",
       "Activity Cycle                           Int64\n",
       "Adult Body Mass (g)                    Float64\n",
       "8-1_AdultForearmLen_mm                 Float64\n",
       "13-1_AdultHeadBodyLen_mm               Float64\n",
       "Age at Eye Opening (days)              Float64\n",
       "3-1_AgeatFirstBirth_d                  Float64\n",
       "18-1_BasalMetRate_mLO2hr               Float64\n",
       "5-2_BasalMetRateMass_g                 Float64\n",
       "6-1_DietBreadth                          Int64\n",
       "7-1_DispersalAge_d                     Float64\n",
       "9-1_GestationLen_d                     Float64\n",
       "12-1_HabitatBreadth                      Int64\n",
       "22-1_HomeRange_km2                     Float64\n",
       "22-2_HomeRange_Indiv_km2               Float64\n",
       "14-1_InterbirthInterval_d              Float64\n",
       "15-1_LitterSize                        Float64\n",
       "16-1_LittersPerYear                    Float64\n",
       "Max Longevity (months)                 Float64\n",
       "5-3_NeonateBodyMass_g                  Float64\n",
       "13-2_NeonateHeadBodyLen_mm             Float64\n",
       "21-1_PopulationDensity_n/km2           Float64\n",
       "10-1_PopulationGrpSize                 Float64\n",
       "23-1_SexualMaturityAge_d               Float64\n",
       "10-2_SocialGrpSize                     Float64\n",
       "24-1_TeatNumber                          Int64\n",
       "12-2_Terrestriality                      Int64\n",
       "6-2_TrophicLevel                         Int64\n",
       "25-1_WeaningAge_d                      Float64\n",
       "5-4_WeaningBodyMass_g                  Float64\n",
       "13-3_WeaningHeadBodyLen_mm               Int64\n",
       "References                      string[python]\n",
       "5-5_AdultBodyMass_g_EXT                Float64\n",
       "16-2_LittersPerYear_EXT                Float64\n",
       "5-6_NeonateBodyMass_g_EXT              Float64\n",
       "5-7_WeaningBodyMass_g_EXT              Float64\n",
       "26-1_GR_Area_km2                       Float64\n",
       "26-2_GR_MaxLat_dd                      Float64\n",
       "26-3_GR_MinLat_dd                      Float64\n",
       "26-4_GR_MidRangeLat_dd                 Float64\n",
       "26-5_GR_MaxLong_dd                     Float64\n",
       "26-6_GR_MinLong_dd                     Float64\n",
       "26-7_GR_MidRangeLong_dd                Float64\n",
       "27-1_HuPopDen_Min_n/km2                  Int64\n",
       "27-2_HuPopDen_Mean_n/km2               Float64\n",
       "27-3_HuPopDen_5p_n/km2                 Float64\n",
       "27-4_HuPopDen_Change                   Float64\n",
       "28-1_Precip_Mean_mm                    Float64\n",
       "28-2_Temp_Mean_01degC                  Float64\n",
       "30-1_AET_Mean_mm                       Float64\n",
       "30-2_PET_Mean_mm                       Float64\n",
       "dtype: object"
      ]
     },
     "execution_count": 14,
     "metadata": {},
     "output_type": "execute_result"
    }
   ],
   "source": [
    "species_data_converted = species_data_renamed.convert_dtypes()\n",
    "\n",
    "species_data_converted.dtypes"
   ]
  },
  {
   "cell_type": "markdown",
   "metadata": {
    "slideshow": {
     "slide_type": "slide"
    }
   },
   "source": [
    "### Identifying and replacing \"missing\" values\n",
    "\n",
    "The PanTHERIA dataset uses a special value, `-999`, to represent missing or unknown data.\n",
    "\n",
    "Instead of leaving these values in our `DataFrame`, we'll **replace** them with a special `pandas` value called `NA`."
   ]
  },
  {
   "cell_type": "code",
   "execution_count": 15,
   "metadata": {
    "slideshow": {
     "slide_type": "slide"
    }
   },
   "outputs": [
    {
     "data": {
      "text/html": [
       "<div>\n",
       "<style scoped>\n",
       "    .dataframe tbody tr th:only-of-type {\n",
       "        vertical-align: middle;\n",
       "    }\n",
       "\n",
       "    .dataframe tbody tr th {\n",
       "        vertical-align: top;\n",
       "    }\n",
       "\n",
       "    .dataframe thead th {\n",
       "        text-align: right;\n",
       "    }\n",
       "</style>\n",
       "<table border=\"1\" class=\"dataframe\">\n",
       "  <thead>\n",
       "    <tr style=\"text-align: right;\">\n",
       "      <th></th>\n",
       "      <th>MSW05_Order</th>\n",
       "      <th>MSW05_Family</th>\n",
       "      <th>Genus</th>\n",
       "      <th>Species</th>\n",
       "      <th>MSW05_Binomial</th>\n",
       "      <th>Activity Cycle</th>\n",
       "      <th>Adult Body Mass (g)</th>\n",
       "      <th>8-1_AdultForearmLen_mm</th>\n",
       "      <th>13-1_AdultHeadBodyLen_mm</th>\n",
       "      <th>Age at Eye Opening (days)</th>\n",
       "      <th>...</th>\n",
       "      <th>26-6_GR_MinLong_dd</th>\n",
       "      <th>26-7_GR_MidRangeLong_dd</th>\n",
       "      <th>27-1_HuPopDen_Min_n/km2</th>\n",
       "      <th>27-2_HuPopDen_Mean_n/km2</th>\n",
       "      <th>27-3_HuPopDen_5p_n/km2</th>\n",
       "      <th>27-4_HuPopDen_Change</th>\n",
       "      <th>28-1_Precip_Mean_mm</th>\n",
       "      <th>28-2_Temp_Mean_01degC</th>\n",
       "      <th>30-1_AET_Mean_mm</th>\n",
       "      <th>30-2_PET_Mean_mm</th>\n",
       "    </tr>\n",
       "  </thead>\n",
       "  <tbody>\n",
       "    <tr>\n",
       "      <th>0</th>\n",
       "      <td>Artiodactyla</td>\n",
       "      <td>Camelidae</td>\n",
       "      <td>Camelus</td>\n",
       "      <td>dromedarius</td>\n",
       "      <td>Camelus dromedarius</td>\n",
       "      <td>3</td>\n",
       "      <td>492714.47</td>\n",
       "      <td>&lt;NA&gt;</td>\n",
       "      <td>&lt;NA&gt;</td>\n",
       "      <td>&lt;NA&gt;</td>\n",
       "      <td>...</td>\n",
       "      <td>&lt;NA&gt;</td>\n",
       "      <td>&lt;NA&gt;</td>\n",
       "      <td>&lt;NA&gt;</td>\n",
       "      <td>&lt;NA&gt;</td>\n",
       "      <td>&lt;NA&gt;</td>\n",
       "      <td>&lt;NA&gt;</td>\n",
       "      <td>&lt;NA&gt;</td>\n",
       "      <td>&lt;NA&gt;</td>\n",
       "      <td>&lt;NA&gt;</td>\n",
       "      <td>&lt;NA&gt;</td>\n",
       "    </tr>\n",
       "    <tr>\n",
       "      <th>1</th>\n",
       "      <td>Carnivora</td>\n",
       "      <td>Canidae</td>\n",
       "      <td>Canis</td>\n",
       "      <td>adustus</td>\n",
       "      <td>Canis adustus</td>\n",
       "      <td>1</td>\n",
       "      <td>10392.49</td>\n",
       "      <td>&lt;NA&gt;</td>\n",
       "      <td>745.32</td>\n",
       "      <td>&lt;NA&gt;</td>\n",
       "      <td>...</td>\n",
       "      <td>-17.53</td>\n",
       "      <td>13.0</td>\n",
       "      <td>0</td>\n",
       "      <td>35.2</td>\n",
       "      <td>1.0</td>\n",
       "      <td>0.14</td>\n",
       "      <td>90.75</td>\n",
       "      <td>236.51</td>\n",
       "      <td>922.9</td>\n",
       "      <td>1534.4</td>\n",
       "    </tr>\n",
       "    <tr>\n",
       "      <th>2</th>\n",
       "      <td>Carnivora</td>\n",
       "      <td>Canidae</td>\n",
       "      <td>Canis</td>\n",
       "      <td>aureus</td>\n",
       "      <td>Canis aureus</td>\n",
       "      <td>2</td>\n",
       "      <td>9658.7</td>\n",
       "      <td>&lt;NA&gt;</td>\n",
       "      <td>827.53</td>\n",
       "      <td>7.5</td>\n",
       "      <td>...</td>\n",
       "      <td>-17.05</td>\n",
       "      <td>45.74</td>\n",
       "      <td>0</td>\n",
       "      <td>79.29</td>\n",
       "      <td>0.0</td>\n",
       "      <td>0.1</td>\n",
       "      <td>44.61</td>\n",
       "      <td>217.23</td>\n",
       "      <td>438.02</td>\n",
       "      <td>1358.98</td>\n",
       "    </tr>\n",
       "    <tr>\n",
       "      <th>3</th>\n",
       "      <td>Carnivora</td>\n",
       "      <td>Canidae</td>\n",
       "      <td>Canis</td>\n",
       "      <td>latrans</td>\n",
       "      <td>Canis latrans</td>\n",
       "      <td>2</td>\n",
       "      <td>11989.1</td>\n",
       "      <td>&lt;NA&gt;</td>\n",
       "      <td>872.39</td>\n",
       "      <td>11.94</td>\n",
       "      <td>...</td>\n",
       "      <td>-168.12</td>\n",
       "      <td>-117.6</td>\n",
       "      <td>0</td>\n",
       "      <td>27.27</td>\n",
       "      <td>0.0</td>\n",
       "      <td>0.06</td>\n",
       "      <td>53.03</td>\n",
       "      <td>58.18</td>\n",
       "      <td>503.02</td>\n",
       "      <td>728.37</td>\n",
       "    </tr>\n",
       "    <tr>\n",
       "      <th>4</th>\n",
       "      <td>Carnivora</td>\n",
       "      <td>Canidae</td>\n",
       "      <td>Canis</td>\n",
       "      <td>lupus</td>\n",
       "      <td>Canis lupus</td>\n",
       "      <td>2</td>\n",
       "      <td>31756.51</td>\n",
       "      <td>&lt;NA&gt;</td>\n",
       "      <td>1055.0</td>\n",
       "      <td>14.01</td>\n",
       "      <td>...</td>\n",
       "      <td>-171.84</td>\n",
       "      <td>3.9</td>\n",
       "      <td>0</td>\n",
       "      <td>37.87</td>\n",
       "      <td>0.0</td>\n",
       "      <td>0.04</td>\n",
       "      <td>34.79</td>\n",
       "      <td>4.82</td>\n",
       "      <td>313.33</td>\n",
       "      <td>561.11</td>\n",
       "    </tr>\n",
       "  </tbody>\n",
       "</table>\n",
       "<p>5 rows × 55 columns</p>\n",
       "</div>"
      ],
      "text/plain": [
       "    MSW05_Order MSW05_Family    Genus      Species       MSW05_Binomial  \\\n",
       "0  Artiodactyla    Camelidae  Camelus  dromedarius  Camelus dromedarius   \n",
       "1     Carnivora      Canidae    Canis      adustus        Canis adustus   \n",
       "2     Carnivora      Canidae    Canis       aureus         Canis aureus   \n",
       "3     Carnivora      Canidae    Canis      latrans        Canis latrans   \n",
       "4     Carnivora      Canidae    Canis        lupus          Canis lupus   \n",
       "\n",
       "   Activity Cycle  Adult Body Mass (g)  8-1_AdultForearmLen_mm  \\\n",
       "0               3            492714.47                    <NA>   \n",
       "1               1             10392.49                    <NA>   \n",
       "2               2               9658.7                    <NA>   \n",
       "3               2              11989.1                    <NA>   \n",
       "4               2             31756.51                    <NA>   \n",
       "\n",
       "   13-1_AdultHeadBodyLen_mm  Age at Eye Opening (days)  ...  \\\n",
       "0                      <NA>                       <NA>  ...   \n",
       "1                    745.32                       <NA>  ...   \n",
       "2                    827.53                        7.5  ...   \n",
       "3                    872.39                      11.94  ...   \n",
       "4                    1055.0                      14.01  ...   \n",
       "\n",
       "   26-6_GR_MinLong_dd  26-7_GR_MidRangeLong_dd  27-1_HuPopDen_Min_n/km2  \\\n",
       "0                <NA>                     <NA>                     <NA>   \n",
       "1              -17.53                     13.0                        0   \n",
       "2              -17.05                    45.74                        0   \n",
       "3             -168.12                   -117.6                        0   \n",
       "4             -171.84                      3.9                        0   \n",
       "\n",
       "   27-2_HuPopDen_Mean_n/km2  27-3_HuPopDen_5p_n/km2  27-4_HuPopDen_Change  \\\n",
       "0                      <NA>                    <NA>                  <NA>   \n",
       "1                      35.2                     1.0                  0.14   \n",
       "2                     79.29                     0.0                   0.1   \n",
       "3                     27.27                     0.0                  0.06   \n",
       "4                     37.87                     0.0                  0.04   \n",
       "\n",
       "   28-1_Precip_Mean_mm  28-2_Temp_Mean_01degC  30-1_AET_Mean_mm  \\\n",
       "0                 <NA>                   <NA>              <NA>   \n",
       "1                90.75                 236.51             922.9   \n",
       "2                44.61                 217.23            438.02   \n",
       "3                53.03                  58.18            503.02   \n",
       "4                34.79                   4.82            313.33   \n",
       "\n",
       "   30-2_PET_Mean_mm  \n",
       "0              <NA>  \n",
       "1            1534.4  \n",
       "2           1358.98  \n",
       "3            728.37  \n",
       "4            561.11  \n",
       "\n",
       "[5 rows x 55 columns]"
      ]
     },
     "execution_count": 15,
     "metadata": {},
     "output_type": "execute_result"
    }
   ],
   "source": [
    "species_data_with_na = species_data_converted.replace(-999, pd.NA)\n",
    "species_data_with_na.head()"
   ]
  },
  {
   "cell_type": "markdown",
   "metadata": {
    "slideshow": {
     "slide_type": "slide"
    }
   },
   "source": [
    "### Extracting a subset of columns\n",
    "\n",
    "Sometimes our full dataset contains *too much information*, and we only care about a subset of the data.\n",
    "\n",
    "One common occurrence is when we only want a *subset of the columns* in a dataset.\n",
    "\n",
    "For example, suppose we only care about the *genus*, *species*, *body mass*, and *longevity* of each species in our dataset."
   ]
  },
  {
   "cell_type": "markdown",
   "metadata": {
    "slideshow": {
     "slide_type": "slide"
    }
   },
   "source": [
    "### Extracting a subset of columns\n",
    "\n",
    "We select a subset of columns in two steps:\n",
    "\n",
    "1. Define a *list* containing the *column names* that we want to select.\n",
    "2. Use *square bracket \"lookup\" syntax* on a `DataFrame`, with the list inside the square brackets."
   ]
  },
  {
   "cell_type": "code",
   "execution_count": 16,
   "metadata": {
    "slideshow": {
     "slide_type": "slide"
    }
   },
   "outputs": [
    {
     "data": {
      "text/html": [
       "<div>\n",
       "<style scoped>\n",
       "    .dataframe tbody tr th:only-of-type {\n",
       "        vertical-align: middle;\n",
       "    }\n",
       "\n",
       "    .dataframe tbody tr th {\n",
       "        vertical-align: top;\n",
       "    }\n",
       "\n",
       "    .dataframe thead th {\n",
       "        text-align: right;\n",
       "    }\n",
       "</style>\n",
       "<table border=\"1\" class=\"dataframe\">\n",
       "  <thead>\n",
       "    <tr style=\"text-align: right;\">\n",
       "      <th></th>\n",
       "      <th>Genus</th>\n",
       "      <th>Species</th>\n",
       "      <th>Adult Body Mass (g)</th>\n",
       "      <th>Max Longevity (months)</th>\n",
       "    </tr>\n",
       "  </thead>\n",
       "  <tbody>\n",
       "    <tr>\n",
       "      <th>0</th>\n",
       "      <td>Camelus</td>\n",
       "      <td>dromedarius</td>\n",
       "      <td>492714.47</td>\n",
       "      <td>480.0</td>\n",
       "    </tr>\n",
       "    <tr>\n",
       "      <th>1</th>\n",
       "      <td>Canis</td>\n",
       "      <td>adustus</td>\n",
       "      <td>10392.49</td>\n",
       "      <td>137.0</td>\n",
       "    </tr>\n",
       "    <tr>\n",
       "      <th>2</th>\n",
       "      <td>Canis</td>\n",
       "      <td>aureus</td>\n",
       "      <td>9658.7</td>\n",
       "      <td>192.0</td>\n",
       "    </tr>\n",
       "    <tr>\n",
       "      <th>3</th>\n",
       "      <td>Canis</td>\n",
       "      <td>latrans</td>\n",
       "      <td>11989.1</td>\n",
       "      <td>262.0</td>\n",
       "    </tr>\n",
       "    <tr>\n",
       "      <th>4</th>\n",
       "      <td>Canis</td>\n",
       "      <td>lupus</td>\n",
       "      <td>31756.51</td>\n",
       "      <td>354.0</td>\n",
       "    </tr>\n",
       "  </tbody>\n",
       "</table>\n",
       "</div>"
      ],
      "text/plain": [
       "     Genus      Species  Adult Body Mass (g)  Max Longevity (months)\n",
       "0  Camelus  dromedarius            492714.47                   480.0\n",
       "1    Canis      adustus             10392.49                   137.0\n",
       "2    Canis       aureus               9658.7                   192.0\n",
       "3    Canis      latrans              11989.1                   262.0\n",
       "4    Canis        lupus             31756.51                   354.0"
      ]
     },
     "execution_count": 16,
     "metadata": {},
     "output_type": "execute_result"
    }
   ],
   "source": [
    "columns_to_keep = [\n",
    "    'Genus',\n",
    "    'Species',\n",
    "    'Adult Body Mass (g)',\n",
    "    'Max Longevity (months)'\n",
    "]\n",
    "\n",
    "species_data_final = species_data_with_na[columns_to_keep]\n",
    "species_data_final.head()"
   ]
  },
  {
   "cell_type": "markdown",
   "metadata": {
    "slideshow": {
     "slide_type": "slide"
    }
   },
   "source": [
    "## Data Transformation: computing on columns"
   ]
  },
  {
   "cell_type": "markdown",
   "metadata": {
    "slideshow": {
     "slide_type": "slide"
    }
   },
   "source": [
    "A typical step in analysis of a dataset is to perform computations on invididual columns, or operations that combine columns in some way.\n",
    "\n",
    "For example:\n",
    "\n",
    "- Add 1 to each value in a column\n",
    "- Multiply the values in two columns together\n",
    "- \"Find and Replace\" values in a column"
   ]
  },
  {
   "cell_type": "markdown",
   "metadata": {
    "slideshow": {
     "slide_type": "slide"
    }
   },
   "source": [
    "### Retrieving a column by name\n",
    "\n",
    "We can extract a *single* column from a `DataFrame` using square brackets with a *single string* instead of a list of strings."
   ]
  },
  {
   "cell_type": "code",
   "execution_count": 17,
   "metadata": {
    "slideshow": {
     "slide_type": "slide"
    }
   },
   "outputs": [
    {
     "data": {
      "text/plain": [
       "0       492714.47\n",
       "1        10392.49\n",
       "2          9658.7\n",
       "3         11989.1\n",
       "4        31756.51\n",
       "          ...    \n",
       "5411        40.42\n",
       "5412        93.99\n",
       "5413        123.0\n",
       "5414        100.0\n",
       "5415        95.02\n",
       "Name: Adult Body Mass (g), Length: 5416, dtype: Float64"
      ]
     },
     "execution_count": 17,
     "metadata": {},
     "output_type": "execute_result"
    }
   ],
   "source": [
    "masses = species_data_final['Adult Body Mass (g)']\n",
    "\n",
    "masses"
   ]
  },
  {
   "cell_type": "markdown",
   "metadata": {
    "slideshow": {
     "slide_type": "slide"
    }
   },
   "source": [
    "But what exactly is `totals`?"
   ]
  },
  {
   "cell_type": "code",
   "execution_count": 18,
   "metadata": {
    "slideshow": {
     "slide_type": "-"
    }
   },
   "outputs": [
    {
     "data": {
      "text/plain": [
       "pandas.core.series.Series"
      ]
     },
     "execution_count": 18,
     "metadata": {},
     "output_type": "execute_result"
    }
   ],
   "source": [
    "type(masses)"
   ]
  },
  {
   "cell_type": "markdown",
   "metadata": {
    "slideshow": {
     "slide_type": "slide"
    }
   },
   "source": [
    "`masses` is a `Series`, which is a `pandas` data type that represents a single column of data.\n",
    "\n",
    "A `Series` is similar to a `DataFrame`, but it can only hold one \"series\" of data, rather than storing a whole table."
   ]
  },
  {
   "cell_type": "markdown",
   "metadata": {
    "slideshow": {
     "slide_type": "slide"
    }
   },
   "source": [
    "But most of the descriptive attributes/methods we learned for `DataFrame`s can be applied to `Series` as well:"
   ]
  },
  {
   "cell_type": "code",
   "execution_count": 19,
   "metadata": {},
   "outputs": [
    {
     "data": {
      "text/plain": [
       "(5416,)"
      ]
     },
     "execution_count": 19,
     "metadata": {},
     "output_type": "execute_result"
    }
   ],
   "source": [
    "masses.shape"
   ]
  },
  {
   "cell_type": "code",
   "execution_count": 20,
   "metadata": {
    "slideshow": {
     "slide_type": "fragment"
    }
   },
   "outputs": [
    {
     "data": {
      "text/plain": [
       "Float64Dtype()"
      ]
     },
     "execution_count": 20,
     "metadata": {},
     "output_type": "execute_result"
    }
   ],
   "source": [
    "masses.dtypes"
   ]
  },
  {
   "cell_type": "code",
   "execution_count": 21,
   "metadata": {
    "slideshow": {
     "slide_type": "fragment"
    }
   },
   "outputs": [
    {
     "name": "stdout",
     "output_type": "stream",
     "text": [
      "<class 'pandas.core.series.Series'>\n",
      "RangeIndex: 5416 entries, 0 to 5415\n",
      "Series name: Adult Body Mass (g)\n",
      "Non-Null Count  Dtype  \n",
      "--------------  -----  \n",
      "3542 non-null   Float64\n",
      "dtypes: Float64(1)\n",
      "memory usage: 47.7 KB\n"
     ]
    }
   ],
   "source": [
    "masses.info()"
   ]
  },
  {
   "cell_type": "code",
   "execution_count": 22,
   "metadata": {
    "slideshow": {
     "slide_type": "slide"
    }
   },
   "outputs": [
    {
     "data": {
      "text/plain": [
       "'Adult Body Mass (g)'"
      ]
     },
     "execution_count": 22,
     "metadata": {},
     "output_type": "execute_result"
    }
   ],
   "source": [
    "# We can even obtain the original column name from the Series\n",
    "masses.name"
   ]
  },
  {
   "cell_type": "markdown",
   "metadata": {
    "slideshow": {
     "slide_type": "slide"
    }
   },
   "source": [
    "But if `Series` are a simplified version of `DataFrame`s, why bother with them?"
   ]
  },
  {
   "cell_type": "markdown",
   "metadata": {
    "slideshow": {
     "slide_type": "fragment"
    }
   },
   "source": [
    "Because we can perform computations on `Series` \"one element at a time\", without needing to use for loops!"
   ]
  },
  {
   "cell_type": "markdown",
   "metadata": {
    "slideshow": {
     "slide_type": "slide"
    }
   },
   "source": [
    "### Example: transform a single Series\n",
    "\n",
    "**Goal**: Given the species masses, convert to kg by dividing each one by 1000 and rounding to one decimal place."
   ]
  },
  {
   "cell_type": "markdown",
   "metadata": {
    "slideshow": {
     "slide_type": "fragment"
    }
   },
   "source": [
    "Example: for a single mass like `492714.47`, we'd compute\n",
    "\n",
    "```python\n",
    "round(492714.47 / 1000, 1)  # 492.7\n",
    "```\n",
    "\n",
    "But we want to do this for every mass!"
   ]
  },
  {
   "cell_type": "code",
   "execution_count": 23,
   "metadata": {
    "slideshow": {
     "slide_type": "slide"
    }
   },
   "outputs": [
    {
     "data": {
      "text/plain": [
       "0       492.7\n",
       "1        10.4\n",
       "2         9.7\n",
       "3        12.0\n",
       "4        31.8\n",
       "        ...  \n",
       "5411      0.0\n",
       "5412      0.1\n",
       "5413      0.1\n",
       "5414      0.1\n",
       "5415      0.1\n",
       "Name: Adult Body Mass (g), Length: 5416, dtype: Float64"
      ]
     },
     "execution_count": 23,
     "metadata": {},
     "output_type": "execute_result"
    }
   ],
   "source": [
    "masses_kg = masses / 1000\n",
    "masses_kg_rounded = masses_kg.round(1)\n",
    "masses_kg_rounded"
   ]
  },
  {
   "cell_type": "markdown",
   "metadata": {
    "slideshow": {
     "slide_type": "slide"
    }
   },
   "source": [
    "### Example: combine two `Series`\n",
    "\n",
    "Now let's consider another problem: we'll calculate the ratio between the longevity and mass of each species.\n",
    "\n",
    "Example: for *Camelus dromedarius*, we'll compute\n",
    "\n",
    "```python\n",
    "480.0 / 492714.47\n",
    "```\n",
    "\n",
    "But again, we want to do ths for each species!"
   ]
  },
  {
   "cell_type": "code",
   "execution_count": 24,
   "metadata": {
    "slideshow": {
     "slide_type": "slide"
    }
   },
   "outputs": [
    {
     "data": {
      "text/plain": [
       "0       0.000974\n",
       "1       0.013183\n",
       "2       0.019878\n",
       "3       0.021853\n",
       "4       0.011147\n",
       "          ...   \n",
       "5411        <NA>\n",
       "5412        <NA>\n",
       "5413        <NA>\n",
       "5414        <NA>\n",
       "5415        <NA>\n",
       "Length: 5416, dtype: Float64"
      ]
     },
     "execution_count": 24,
     "metadata": {},
     "output_type": "execute_result"
    }
   ],
   "source": [
    "masses = species_data_final[\"Adult Body Mass (g)\"]\n",
    "longevities = species_data_final[\"Max Longevity (months)\"]\n",
    "\n",
    "\n",
    "longevities / masses"
   ]
  },
  {
   "cell_type": "markdown",
   "metadata": {
    "slideshow": {
     "slide_type": "slide"
    }
   },
   "source": [
    "### Adding a new column to a `DataFrame`\n",
    "\n",
    "In addition to creating new variables to store computed `Series`, it is common to modify existing `DataFrame` by adding a computed `Series` as a new column.\n",
    "\n",
    "We can do this using square bracket notation again, this time on the left-hand side of an assignment statement."
   ]
  },
  {
   "cell_type": "code",
   "execution_count": 25,
   "metadata": {
    "slideshow": {
     "slide_type": "slide"
    }
   },
   "outputs": [
    {
     "data": {
      "text/html": [
       "<div>\n",
       "<style scoped>\n",
       "    .dataframe tbody tr th:only-of-type {\n",
       "        vertical-align: middle;\n",
       "    }\n",
       "\n",
       "    .dataframe tbody tr th {\n",
       "        vertical-align: top;\n",
       "    }\n",
       "\n",
       "    .dataframe thead th {\n",
       "        text-align: right;\n",
       "    }\n",
       "</style>\n",
       "<table border=\"1\" class=\"dataframe\">\n",
       "  <thead>\n",
       "    <tr style=\"text-align: right;\">\n",
       "      <th></th>\n",
       "      <th>Genus</th>\n",
       "      <th>Species</th>\n",
       "      <th>Adult Body Mass (g)</th>\n",
       "      <th>Max Longevity (months)</th>\n",
       "      <th>Longevity-to-Mass Ratio</th>\n",
       "    </tr>\n",
       "  </thead>\n",
       "  <tbody>\n",
       "    <tr>\n",
       "      <th>0</th>\n",
       "      <td>Camelus</td>\n",
       "      <td>dromedarius</td>\n",
       "      <td>492714.47</td>\n",
       "      <td>480.0</td>\n",
       "      <td>0.000974</td>\n",
       "    </tr>\n",
       "    <tr>\n",
       "      <th>1</th>\n",
       "      <td>Canis</td>\n",
       "      <td>adustus</td>\n",
       "      <td>10392.49</td>\n",
       "      <td>137.0</td>\n",
       "      <td>0.013183</td>\n",
       "    </tr>\n",
       "    <tr>\n",
       "      <th>2</th>\n",
       "      <td>Canis</td>\n",
       "      <td>aureus</td>\n",
       "      <td>9658.7</td>\n",
       "      <td>192.0</td>\n",
       "      <td>0.019878</td>\n",
       "    </tr>\n",
       "    <tr>\n",
       "      <th>3</th>\n",
       "      <td>Canis</td>\n",
       "      <td>latrans</td>\n",
       "      <td>11989.1</td>\n",
       "      <td>262.0</td>\n",
       "      <td>0.021853</td>\n",
       "    </tr>\n",
       "    <tr>\n",
       "      <th>4</th>\n",
       "      <td>Canis</td>\n",
       "      <td>lupus</td>\n",
       "      <td>31756.51</td>\n",
       "      <td>354.0</td>\n",
       "      <td>0.011147</td>\n",
       "    </tr>\n",
       "    <tr>\n",
       "      <th>...</th>\n",
       "      <td>...</td>\n",
       "      <td>...</td>\n",
       "      <td>...</td>\n",
       "      <td>...</td>\n",
       "      <td>...</td>\n",
       "    </tr>\n",
       "    <tr>\n",
       "      <th>5411</th>\n",
       "      <td>Zyzomys</td>\n",
       "      <td>argurus</td>\n",
       "      <td>40.42</td>\n",
       "      <td>&lt;NA&gt;</td>\n",
       "      <td>&lt;NA&gt;</td>\n",
       "    </tr>\n",
       "    <tr>\n",
       "      <th>5412</th>\n",
       "      <td>Zyzomys</td>\n",
       "      <td>maini</td>\n",
       "      <td>93.99</td>\n",
       "      <td>&lt;NA&gt;</td>\n",
       "      <td>&lt;NA&gt;</td>\n",
       "    </tr>\n",
       "    <tr>\n",
       "      <th>5413</th>\n",
       "      <td>Zyzomys</td>\n",
       "      <td>palatilis</td>\n",
       "      <td>123.0</td>\n",
       "      <td>&lt;NA&gt;</td>\n",
       "      <td>&lt;NA&gt;</td>\n",
       "    </tr>\n",
       "    <tr>\n",
       "      <th>5414</th>\n",
       "      <td>Zyzomys</td>\n",
       "      <td>pedunculatus</td>\n",
       "      <td>100.0</td>\n",
       "      <td>&lt;NA&gt;</td>\n",
       "      <td>&lt;NA&gt;</td>\n",
       "    </tr>\n",
       "    <tr>\n",
       "      <th>5415</th>\n",
       "      <td>Zyzomys</td>\n",
       "      <td>woodwardi</td>\n",
       "      <td>95.02</td>\n",
       "      <td>&lt;NA&gt;</td>\n",
       "      <td>&lt;NA&gt;</td>\n",
       "    </tr>\n",
       "  </tbody>\n",
       "</table>\n",
       "<p>5416 rows × 5 columns</p>\n",
       "</div>"
      ],
      "text/plain": [
       "        Genus       Species  Adult Body Mass (g)  Max Longevity (months)  \\\n",
       "0     Camelus   dromedarius            492714.47                   480.0   \n",
       "1       Canis       adustus             10392.49                   137.0   \n",
       "2       Canis        aureus               9658.7                   192.0   \n",
       "3       Canis       latrans              11989.1                   262.0   \n",
       "4       Canis         lupus             31756.51                   354.0   \n",
       "...       ...           ...                  ...                     ...   \n",
       "5411  Zyzomys       argurus                40.42                    <NA>   \n",
       "5412  Zyzomys         maini                93.99                    <NA>   \n",
       "5413  Zyzomys     palatilis                123.0                    <NA>   \n",
       "5414  Zyzomys  pedunculatus                100.0                    <NA>   \n",
       "5415  Zyzomys     woodwardi                95.02                    <NA>   \n",
       "\n",
       "      Longevity-to-Mass Ratio  \n",
       "0                    0.000974  \n",
       "1                    0.013183  \n",
       "2                    0.019878  \n",
       "3                    0.021853  \n",
       "4                    0.011147  \n",
       "...                       ...  \n",
       "5411                     <NA>  \n",
       "5412                     <NA>  \n",
       "5413                     <NA>  \n",
       "5414                     <NA>  \n",
       "5415                     <NA>  \n",
       "\n",
       "[5416 rows x 5 columns]"
      ]
     },
     "execution_count": 25,
     "metadata": {},
     "output_type": "execute_result"
    }
   ],
   "source": [
    "# You don't need to worry about the following line.\n",
    "# It just hides a warning message that's beyond the scope of this course.\n",
    "pd.set_option('mode.chained_assignment', None)\n",
    "\n",
    "species_data_final[\"Longevity-to-Mass Ratio\"] = longevities / masses\n",
    "\n",
    "species_data_final"
   ]
  },
  {
   "cell_type": "markdown",
   "metadata": {
    "slideshow": {
     "slide_type": "slide"
    }
   },
   "source": [
    "### WARNING!\n",
    "\n",
    "**Warning**: the previous code cell *changes* the existing data frame `species_data_final`, rather than creating a new `DataFrame`."
   ]
  },
  {
   "cell_type": "markdown",
   "metadata": {
    "slideshow": {
     "slide_type": "slide"
    }
   },
   "source": [
    "## Boolean `Series` and filtering rows"
   ]
  },
  {
   "cell_type": "markdown",
   "metadata": {
    "slideshow": {
     "slide_type": "slide"
    }
   },
   "source": [
    "Another common type of data transformation is to **filter** for specific rows in a dataset based on one or more conditions."
   ]
  },
  {
   "cell_type": "markdown",
   "metadata": {
    "slideshow": {
     "slide_type": "fragment"
    }
   },
   "source": [
    "**Goal**: filter the rows of the dataset to keep the species with a mass *greater than or equal to 100 kg*."
   ]
  },
  {
   "cell_type": "markdown",
   "metadata": {
    "slideshow": {
     "slide_type": "slide"
    }
   },
   "source": [
    "As a first step, we create a *boolean `Series`* that stores `True` for the rows we want to keep, and `False` for the other rows."
   ]
  },
  {
   "cell_type": "code",
   "execution_count": 26,
   "metadata": {
    "slideshow": {
     "slide_type": "fragment"
    }
   },
   "outputs": [
    {
     "data": {
      "text/plain": [
       "0        True\n",
       "1       False\n",
       "2       False\n",
       "3       False\n",
       "4       False\n",
       "        ...  \n",
       "5411    False\n",
       "5412    False\n",
       "5413    False\n",
       "5414    False\n",
       "5415    False\n",
       "Name: Adult Body Mass (g), Length: 5416, dtype: boolean"
      ]
     },
     "execution_count": 26,
     "metadata": {},
     "output_type": "execute_result"
    }
   ],
   "source": [
    "is_large = species_data_final[\"Adult Body Mass (g)\"] >= 100000\n",
    "is_large"
   ]
  },
  {
   "cell_type": "markdown",
   "metadata": {
    "slideshow": {
     "slide_type": "slide"
    }
   },
   "source": [
    "Then, we use this `Series` to index `species_data_final` by using square bracket notation."
   ]
  },
  {
   "cell_type": "code",
   "execution_count": 27,
   "metadata": {
    "slideshow": {
     "slide_type": "-"
    }
   },
   "outputs": [
    {
     "data": {
      "text/html": [
       "<div>\n",
       "<style scoped>\n",
       "    .dataframe tbody tr th:only-of-type {\n",
       "        vertical-align: middle;\n",
       "    }\n",
       "\n",
       "    .dataframe tbody tr th {\n",
       "        vertical-align: top;\n",
       "    }\n",
       "\n",
       "    .dataframe thead th {\n",
       "        text-align: right;\n",
       "    }\n",
       "</style>\n",
       "<table border=\"1\" class=\"dataframe\">\n",
       "  <thead>\n",
       "    <tr style=\"text-align: right;\">\n",
       "      <th></th>\n",
       "      <th>Genus</th>\n",
       "      <th>Species</th>\n",
       "      <th>Adult Body Mass (g)</th>\n",
       "      <th>Max Longevity (months)</th>\n",
       "      <th>Longevity-to-Mass Ratio</th>\n",
       "    </tr>\n",
       "  </thead>\n",
       "  <tbody>\n",
       "    <tr>\n",
       "      <th>0</th>\n",
       "      <td>Camelus</td>\n",
       "      <td>dromedarius</td>\n",
       "      <td>492714.47</td>\n",
       "      <td>480.0</td>\n",
       "      <td>0.000974</td>\n",
       "    </tr>\n",
       "    <tr>\n",
       "      <th>5</th>\n",
       "      <td>Bos</td>\n",
       "      <td>frontalis</td>\n",
       "      <td>800143.05</td>\n",
       "      <td>314.4</td>\n",
       "      <td>0.000393</td>\n",
       "    </tr>\n",
       "    <tr>\n",
       "      <th>6</th>\n",
       "      <td>Bos</td>\n",
       "      <td>grunniens</td>\n",
       "      <td>500000.0</td>\n",
       "      <td>267.0</td>\n",
       "      <td>0.000534</td>\n",
       "    </tr>\n",
       "    <tr>\n",
       "      <th>7</th>\n",
       "      <td>Bos</td>\n",
       "      <td>javanicus</td>\n",
       "      <td>635974.34</td>\n",
       "      <td>318.96</td>\n",
       "      <td>0.000502</td>\n",
       "    </tr>\n",
       "    <tr>\n",
       "      <th>23</th>\n",
       "      <td>Camelus</td>\n",
       "      <td>bactrianus</td>\n",
       "      <td>554515.91</td>\n",
       "      <td>480.0</td>\n",
       "      <td>0.000866</td>\n",
       "    </tr>\n",
       "    <tr>\n",
       "      <th>...</th>\n",
       "      <td>...</td>\n",
       "      <td>...</td>\n",
       "      <td>...</td>\n",
       "      <td>...</td>\n",
       "      <td>...</td>\n",
       "    </tr>\n",
       "    <tr>\n",
       "      <th>5331</th>\n",
       "      <td>Ursus</td>\n",
       "      <td>americanus</td>\n",
       "      <td>110500.0</td>\n",
       "      <td>384.0</td>\n",
       "      <td>0.003475</td>\n",
       "    </tr>\n",
       "    <tr>\n",
       "      <th>5332</th>\n",
       "      <td>Ursus</td>\n",
       "      <td>arctos</td>\n",
       "      <td>196287.5</td>\n",
       "      <td>600.0</td>\n",
       "      <td>0.003057</td>\n",
       "    </tr>\n",
       "    <tr>\n",
       "      <th>5333</th>\n",
       "      <td>Ursus</td>\n",
       "      <td>maritimus</td>\n",
       "      <td>371703.81</td>\n",
       "      <td>458.4</td>\n",
       "      <td>0.001233</td>\n",
       "    </tr>\n",
       "    <tr>\n",
       "      <th>5398</th>\n",
       "      <td>Zalophus</td>\n",
       "      <td>californianus</td>\n",
       "      <td>137194.86</td>\n",
       "      <td>360.0</td>\n",
       "      <td>0.002624</td>\n",
       "    </tr>\n",
       "    <tr>\n",
       "      <th>5407</th>\n",
       "      <td>Ziphius</td>\n",
       "      <td>cavirostris</td>\n",
       "      <td>4774999.99</td>\n",
       "      <td>432.0</td>\n",
       "      <td>0.00009</td>\n",
       "    </tr>\n",
       "  </tbody>\n",
       "</table>\n",
       "<p>173 rows × 5 columns</p>\n",
       "</div>"
      ],
      "text/plain": [
       "         Genus        Species  Adult Body Mass (g)  Max Longevity (months)  \\\n",
       "0      Camelus    dromedarius            492714.47                   480.0   \n",
       "5          Bos      frontalis            800143.05                   314.4   \n",
       "6          Bos      grunniens             500000.0                   267.0   \n",
       "7          Bos      javanicus            635974.34                  318.96   \n",
       "23     Camelus     bactrianus            554515.91                   480.0   \n",
       "...        ...            ...                  ...                     ...   \n",
       "5331     Ursus     americanus             110500.0                   384.0   \n",
       "5332     Ursus         arctos             196287.5                   600.0   \n",
       "5333     Ursus      maritimus            371703.81                   458.4   \n",
       "5398  Zalophus  californianus            137194.86                   360.0   \n",
       "5407   Ziphius    cavirostris           4774999.99                   432.0   \n",
       "\n",
       "      Longevity-to-Mass Ratio  \n",
       "0                    0.000974  \n",
       "5                    0.000393  \n",
       "6                    0.000534  \n",
       "7                    0.000502  \n",
       "23                   0.000866  \n",
       "...                       ...  \n",
       "5331                 0.003475  \n",
       "5332                 0.003057  \n",
       "5333                 0.001233  \n",
       "5398                 0.002624  \n",
       "5407                  0.00009  \n",
       "\n",
       "[173 rows x 5 columns]"
      ]
     },
     "execution_count": 27,
     "metadata": {},
     "output_type": "execute_result"
    }
   ],
   "source": [
    "species_data_final[is_large]"
   ]
  },
  {
   "cell_type": "markdown",
   "metadata": {
    "slideshow": {
     "slide_type": "slide"
    }
   },
   "source": [
    "### Note: lots of square brackets!\n",
    "\n",
    "One of the tricky things about `DataFrame`s is that there are different ways of obtaining subsets of the dataset that all have very similar code syntax:\n",
    "\n",
    "```python\n",
    "species_data_final[...]\n",
    "```\n",
    "\n",
    "The key principle is that **the type of the value inside the square brackets determines what kind of \"subsetting\" operation is being performed**."
   ]
  },
  {
   "cell_type": "markdown",
   "metadata": {
    "slideshow": {
     "slide_type": "slide"
    }
   },
   "source": [
    "| Type inside `[...]` | Example                    | Return type   | Which columns?  | Which rows? |\n",
    "|---------------------|----------------------------|---------------|-----------|-------|\n",
    "| `str`               | `species_data_final[\"Adult Body Mass (g)\"]` | `Series` | The one specified | All rows |\n",
    "| `list` of `str`     | `species_data_final[[\"Genus\", \"Species\"]]` | `DataFrame` | The ones specified | All rows |\n",
    "| `Series` of `bool`  | `species_data_final[is_large]` | `DataFrame` | All columns | The ones specified |"
   ]
  },
  {
   "cell_type": "markdown",
   "metadata": {
    "slideshow": {
     "slide_type": "slide"
    }
   },
   "source": [
    "### Logical operators: `&` and `|`\n",
    "\n",
    "Sometimes we want to filter on two conditions.\n",
    "To start, suppose we have these two boolean `Series`:"
   ]
  },
  {
   "cell_type": "code",
   "execution_count": 28,
   "metadata": {},
   "outputs": [],
   "source": [
    "is_large = species_data_final[\"Adult Body Mass (g)\"] >= 100000\n",
    "is_long_lived = species_data_final[\"Max Longevity (months)\"] >= 240"
   ]
  },
  {
   "cell_type": "markdown",
   "metadata": {
    "slideshow": {
     "slide_type": "fragment"
    }
   },
   "source": [
    "There are two common ways to filter based on a combination of these two conditions."
   ]
  },
  {
   "cell_type": "markdown",
   "metadata": {
    "slideshow": {
     "slide_type": "slide"
    }
   },
   "source": [
    "**Filter 1**: find rows where the species is large **and** is long-lived.\n",
    "\n",
    "To do this, we use the `&` operator to combine the two `Series`."
   ]
  },
  {
   "cell_type": "code",
   "execution_count": 29,
   "metadata": {},
   "outputs": [
    {
     "data": {
      "text/html": [
       "<div>\n",
       "<style scoped>\n",
       "    .dataframe tbody tr th:only-of-type {\n",
       "        vertical-align: middle;\n",
       "    }\n",
       "\n",
       "    .dataframe tbody tr th {\n",
       "        vertical-align: top;\n",
       "    }\n",
       "\n",
       "    .dataframe thead th {\n",
       "        text-align: right;\n",
       "    }\n",
       "</style>\n",
       "<table border=\"1\" class=\"dataframe\">\n",
       "  <thead>\n",
       "    <tr style=\"text-align: right;\">\n",
       "      <th></th>\n",
       "      <th>Genus</th>\n",
       "      <th>Species</th>\n",
       "      <th>Adult Body Mass (g)</th>\n",
       "      <th>Max Longevity (months)</th>\n",
       "      <th>Longevity-to-Mass Ratio</th>\n",
       "    </tr>\n",
       "  </thead>\n",
       "  <tbody>\n",
       "    <tr>\n",
       "      <th>0</th>\n",
       "      <td>Camelus</td>\n",
       "      <td>dromedarius</td>\n",
       "      <td>492714.47</td>\n",
       "      <td>480.0</td>\n",
       "      <td>0.000974</td>\n",
       "    </tr>\n",
       "    <tr>\n",
       "      <th>5</th>\n",
       "      <td>Bos</td>\n",
       "      <td>frontalis</td>\n",
       "      <td>800143.05</td>\n",
       "      <td>314.4</td>\n",
       "      <td>0.000393</td>\n",
       "    </tr>\n",
       "    <tr>\n",
       "      <th>6</th>\n",
       "      <td>Bos</td>\n",
       "      <td>grunniens</td>\n",
       "      <td>500000.0</td>\n",
       "      <td>267.0</td>\n",
       "      <td>0.000534</td>\n",
       "    </tr>\n",
       "    <tr>\n",
       "      <th>7</th>\n",
       "      <td>Bos</td>\n",
       "      <td>javanicus</td>\n",
       "      <td>635974.34</td>\n",
       "      <td>318.96</td>\n",
       "      <td>0.000502</td>\n",
       "    </tr>\n",
       "    <tr>\n",
       "      <th>23</th>\n",
       "      <td>Camelus</td>\n",
       "      <td>bactrianus</td>\n",
       "      <td>554515.91</td>\n",
       "      <td>480.0</td>\n",
       "      <td>0.000866</td>\n",
       "    </tr>\n",
       "    <tr>\n",
       "      <th>...</th>\n",
       "      <td>...</td>\n",
       "      <td>...</td>\n",
       "      <td>...</td>\n",
       "      <td>...</td>\n",
       "      <td>...</td>\n",
       "    </tr>\n",
       "    <tr>\n",
       "      <th>5331</th>\n",
       "      <td>Ursus</td>\n",
       "      <td>americanus</td>\n",
       "      <td>110500.0</td>\n",
       "      <td>384.0</td>\n",
       "      <td>0.003475</td>\n",
       "    </tr>\n",
       "    <tr>\n",
       "      <th>5332</th>\n",
       "      <td>Ursus</td>\n",
       "      <td>arctos</td>\n",
       "      <td>196287.5</td>\n",
       "      <td>600.0</td>\n",
       "      <td>0.003057</td>\n",
       "    </tr>\n",
       "    <tr>\n",
       "      <th>5333</th>\n",
       "      <td>Ursus</td>\n",
       "      <td>maritimus</td>\n",
       "      <td>371703.81</td>\n",
       "      <td>458.4</td>\n",
       "      <td>0.001233</td>\n",
       "    </tr>\n",
       "    <tr>\n",
       "      <th>5398</th>\n",
       "      <td>Zalophus</td>\n",
       "      <td>californianus</td>\n",
       "      <td>137194.86</td>\n",
       "      <td>360.0</td>\n",
       "      <td>0.002624</td>\n",
       "    </tr>\n",
       "    <tr>\n",
       "      <th>5407</th>\n",
       "      <td>Ziphius</td>\n",
       "      <td>cavirostris</td>\n",
       "      <td>4774999.99</td>\n",
       "      <td>432.0</td>\n",
       "      <td>0.00009</td>\n",
       "    </tr>\n",
       "  </tbody>\n",
       "</table>\n",
       "<p>110 rows × 5 columns</p>\n",
       "</div>"
      ],
      "text/plain": [
       "         Genus        Species  Adult Body Mass (g)  Max Longevity (months)  \\\n",
       "0      Camelus    dromedarius            492714.47                   480.0   \n",
       "5          Bos      frontalis            800143.05                   314.4   \n",
       "6          Bos      grunniens             500000.0                   267.0   \n",
       "7          Bos      javanicus            635974.34                  318.96   \n",
       "23     Camelus     bactrianus            554515.91                   480.0   \n",
       "...        ...            ...                  ...                     ...   \n",
       "5331     Ursus     americanus             110500.0                   384.0   \n",
       "5332     Ursus         arctos             196287.5                   600.0   \n",
       "5333     Ursus      maritimus            371703.81                   458.4   \n",
       "5398  Zalophus  californianus            137194.86                   360.0   \n",
       "5407   Ziphius    cavirostris           4774999.99                   432.0   \n",
       "\n",
       "      Longevity-to-Mass Ratio  \n",
       "0                    0.000974  \n",
       "5                    0.000393  \n",
       "6                    0.000534  \n",
       "7                    0.000502  \n",
       "23                   0.000866  \n",
       "...                       ...  \n",
       "5331                 0.003475  \n",
       "5332                 0.003057  \n",
       "5333                 0.001233  \n",
       "5398                 0.002624  \n",
       "5407                  0.00009  \n",
       "\n",
       "[110 rows x 5 columns]"
      ]
     },
     "execution_count": 29,
     "metadata": {},
     "output_type": "execute_result"
    }
   ],
   "source": [
    "filter1 = is_large & is_long_lived\n",
    "\n",
    "species_data_final[filter1]"
   ]
  },
  {
   "cell_type": "markdown",
   "metadata": {
    "slideshow": {
     "slide_type": "slide"
    }
   },
   "source": [
    "**Filter 2**: find rows where the species is large **or** is long-lived.\n",
    "\n",
    "To do this, we use the `|` operator to combine the two `Series`."
   ]
  },
  {
   "cell_type": "code",
   "execution_count": 30,
   "metadata": {},
   "outputs": [
    {
     "data": {
      "text/html": [
       "<div>\n",
       "<style scoped>\n",
       "    .dataframe tbody tr th:only-of-type {\n",
       "        vertical-align: middle;\n",
       "    }\n",
       "\n",
       "    .dataframe tbody tr th {\n",
       "        vertical-align: top;\n",
       "    }\n",
       "\n",
       "    .dataframe thead th {\n",
       "        text-align: right;\n",
       "    }\n",
       "</style>\n",
       "<table border=\"1\" class=\"dataframe\">\n",
       "  <thead>\n",
       "    <tr style=\"text-align: right;\">\n",
       "      <th></th>\n",
       "      <th>Genus</th>\n",
       "      <th>Species</th>\n",
       "      <th>Adult Body Mass (g)</th>\n",
       "      <th>Max Longevity (months)</th>\n",
       "      <th>Longevity-to-Mass Ratio</th>\n",
       "    </tr>\n",
       "  </thead>\n",
       "  <tbody>\n",
       "    <tr>\n",
       "      <th>0</th>\n",
       "      <td>Camelus</td>\n",
       "      <td>dromedarius</td>\n",
       "      <td>492714.47</td>\n",
       "      <td>480.0</td>\n",
       "      <td>0.000974</td>\n",
       "    </tr>\n",
       "    <tr>\n",
       "      <th>3</th>\n",
       "      <td>Canis</td>\n",
       "      <td>latrans</td>\n",
       "      <td>11989.1</td>\n",
       "      <td>262.0</td>\n",
       "      <td>0.021853</td>\n",
       "    </tr>\n",
       "    <tr>\n",
       "      <th>4</th>\n",
       "      <td>Canis</td>\n",
       "      <td>lupus</td>\n",
       "      <td>31756.51</td>\n",
       "      <td>354.0</td>\n",
       "      <td>0.011147</td>\n",
       "    </tr>\n",
       "    <tr>\n",
       "      <th>5</th>\n",
       "      <td>Bos</td>\n",
       "      <td>frontalis</td>\n",
       "      <td>800143.05</td>\n",
       "      <td>314.4</td>\n",
       "      <td>0.000393</td>\n",
       "    </tr>\n",
       "    <tr>\n",
       "      <th>6</th>\n",
       "      <td>Bos</td>\n",
       "      <td>grunniens</td>\n",
       "      <td>500000.0</td>\n",
       "      <td>267.0</td>\n",
       "      <td>0.000534</td>\n",
       "    </tr>\n",
       "    <tr>\n",
       "      <th>...</th>\n",
       "      <td>...</td>\n",
       "      <td>...</td>\n",
       "      <td>...</td>\n",
       "      <td>...</td>\n",
       "      <td>...</td>\n",
       "    </tr>\n",
       "    <tr>\n",
       "      <th>5377</th>\n",
       "      <td>Vulpes</td>\n",
       "      <td>macrotis</td>\n",
       "      <td>4499.97</td>\n",
       "      <td>240.0</td>\n",
       "      <td>0.053334</td>\n",
       "    </tr>\n",
       "    <tr>\n",
       "      <th>5380</th>\n",
       "      <td>Vulpes</td>\n",
       "      <td>velox</td>\n",
       "      <td>2088.0</td>\n",
       "      <td>240.0</td>\n",
       "      <td>0.114943</td>\n",
       "    </tr>\n",
       "    <tr>\n",
       "      <th>5397</th>\n",
       "      <td>Zaglossus</td>\n",
       "      <td>bruijni</td>\n",
       "      <td>8951.71</td>\n",
       "      <td>372.0</td>\n",
       "      <td>0.041556</td>\n",
       "    </tr>\n",
       "    <tr>\n",
       "      <th>5398</th>\n",
       "      <td>Zalophus</td>\n",
       "      <td>californianus</td>\n",
       "      <td>137194.86</td>\n",
       "      <td>360.0</td>\n",
       "      <td>0.002624</td>\n",
       "    </tr>\n",
       "    <tr>\n",
       "      <th>5407</th>\n",
       "      <td>Ziphius</td>\n",
       "      <td>cavirostris</td>\n",
       "      <td>4774999.99</td>\n",
       "      <td>432.0</td>\n",
       "      <td>0.00009</td>\n",
       "    </tr>\n",
       "  </tbody>\n",
       "</table>\n",
       "<p>387 rows × 5 columns</p>\n",
       "</div>"
      ],
      "text/plain": [
       "          Genus        Species  Adult Body Mass (g)  Max Longevity (months)  \\\n",
       "0       Camelus    dromedarius            492714.47                   480.0   \n",
       "3         Canis        latrans              11989.1                   262.0   \n",
       "4         Canis          lupus             31756.51                   354.0   \n",
       "5           Bos      frontalis            800143.05                   314.4   \n",
       "6           Bos      grunniens             500000.0                   267.0   \n",
       "...         ...            ...                  ...                     ...   \n",
       "5377     Vulpes       macrotis              4499.97                   240.0   \n",
       "5380     Vulpes          velox               2088.0                   240.0   \n",
       "5397  Zaglossus        bruijni              8951.71                   372.0   \n",
       "5398   Zalophus  californianus            137194.86                   360.0   \n",
       "5407    Ziphius    cavirostris           4774999.99                   432.0   \n",
       "\n",
       "      Longevity-to-Mass Ratio  \n",
       "0                    0.000974  \n",
       "3                    0.021853  \n",
       "4                    0.011147  \n",
       "5                    0.000393  \n",
       "6                    0.000534  \n",
       "...                       ...  \n",
       "5377                 0.053334  \n",
       "5380                 0.114943  \n",
       "5397                 0.041556  \n",
       "5398                 0.002624  \n",
       "5407                  0.00009  \n",
       "\n",
       "[387 rows x 5 columns]"
      ]
     },
     "execution_count": 30,
     "metadata": {},
     "output_type": "execute_result"
    }
   ],
   "source": [
    "filter2 = is_large | is_long_lived\n",
    "\n",
    "species_data_final[filter2]"
   ]
  },
  {
   "cell_type": "markdown",
   "metadata": {
    "slideshow": {
     "slide_type": "slide"
    }
   },
   "source": [
    "## Exploratory analysis: sorting and basic descriptive statistics"
   ]
  },
  {
   "cell_type": "markdown",
   "metadata": {
    "slideshow": {
     "slide_type": "slide"
    }
   },
   "source": [
    "### Sorting\n",
    "\n",
    "Suppose we want to take our `DataFrame` and sort it by the `\"Adult Body Mass (g)\"` column to see which species have the largest mass."
   ]
  },
  {
   "cell_type": "markdown",
   "metadata": {
    "slideshow": {
     "slide_type": "slide"
    }
   },
   "source": [
    "We do this by using the `DataFrame.sort_values(by=...)` method, where we pass in a `str` that names the column to sort by."
   ]
  },
  {
   "cell_type": "code",
   "execution_count": 31,
   "metadata": {},
   "outputs": [
    {
     "data": {
      "text/html": [
       "<div>\n",
       "<style scoped>\n",
       "    .dataframe tbody tr th:only-of-type {\n",
       "        vertical-align: middle;\n",
       "    }\n",
       "\n",
       "    .dataframe tbody tr th {\n",
       "        vertical-align: top;\n",
       "    }\n",
       "\n",
       "    .dataframe thead th {\n",
       "        text-align: right;\n",
       "    }\n",
       "</style>\n",
       "<table border=\"1\" class=\"dataframe\">\n",
       "  <thead>\n",
       "    <tr style=\"text-align: right;\">\n",
       "      <th></th>\n",
       "      <th>Genus</th>\n",
       "      <th>Species</th>\n",
       "      <th>Adult Body Mass (g)</th>\n",
       "      <th>Max Longevity (months)</th>\n",
       "      <th>Longevity-to-Mass Ratio</th>\n",
       "    </tr>\n",
       "  </thead>\n",
       "  <tbody>\n",
       "    <tr>\n",
       "      <th>965</th>\n",
       "      <td>Craseonycteris</td>\n",
       "      <td>thonglongyai</td>\n",
       "      <td>1.96</td>\n",
       "      <td>&lt;NA&gt;</td>\n",
       "      <td>&lt;NA&gt;</td>\n",
       "    </tr>\n",
       "    <tr>\n",
       "      <th>1866</th>\n",
       "      <td>Kerivoula</td>\n",
       "      <td>minuta</td>\n",
       "      <td>2.03</td>\n",
       "      <td>&lt;NA&gt;</td>\n",
       "      <td>&lt;NA&gt;</td>\n",
       "    </tr>\n",
       "    <tr>\n",
       "      <th>4630</th>\n",
       "      <td>Suncus</td>\n",
       "      <td>etruscus</td>\n",
       "      <td>2.26</td>\n",
       "      <td>32.4</td>\n",
       "      <td>14.336283</td>\n",
       "    </tr>\n",
       "    <tr>\n",
       "      <th>4505</th>\n",
       "      <td>Sorex</td>\n",
       "      <td>minutissimus</td>\n",
       "      <td>2.46</td>\n",
       "      <td>&lt;NA&gt;</td>\n",
       "      <td>&lt;NA&gt;</td>\n",
       "    </tr>\n",
       "    <tr>\n",
       "      <th>4635</th>\n",
       "      <td>Suncus</td>\n",
       "      <td>madagascariensis</td>\n",
       "      <td>2.47</td>\n",
       "      <td>&lt;NA&gt;</td>\n",
       "      <td>&lt;NA&gt;</td>\n",
       "    </tr>\n",
       "    <tr>\n",
       "      <th>...</th>\n",
       "      <td>...</td>\n",
       "      <td>...</td>\n",
       "      <td>...</td>\n",
       "      <td>...</td>\n",
       "      <td>...</td>\n",
       "    </tr>\n",
       "    <tr>\n",
       "      <th>5368</th>\n",
       "      <td>Volemys</td>\n",
       "      <td>musseri</td>\n",
       "      <td>&lt;NA&gt;</td>\n",
       "      <td>&lt;NA&gt;</td>\n",
       "      <td>&lt;NA&gt;</td>\n",
       "    </tr>\n",
       "    <tr>\n",
       "      <th>5395</th>\n",
       "      <td>Zaglossus</td>\n",
       "      <td>attenboroughi</td>\n",
       "      <td>&lt;NA&gt;</td>\n",
       "      <td>&lt;NA&gt;</td>\n",
       "      <td>&lt;NA&gt;</td>\n",
       "    </tr>\n",
       "    <tr>\n",
       "      <th>5396</th>\n",
       "      <td>Zaglossus</td>\n",
       "      <td>bartoni</td>\n",
       "      <td>&lt;NA&gt;</td>\n",
       "      <td>&lt;NA&gt;</td>\n",
       "      <td>&lt;NA&gt;</td>\n",
       "    </tr>\n",
       "    <tr>\n",
       "      <th>5399</th>\n",
       "      <td>Zalophus</td>\n",
       "      <td>japonicus</td>\n",
       "      <td>&lt;NA&gt;</td>\n",
       "      <td>&lt;NA&gt;</td>\n",
       "      <td>&lt;NA&gt;</td>\n",
       "    </tr>\n",
       "    <tr>\n",
       "      <th>5400</th>\n",
       "      <td>Zalophus</td>\n",
       "      <td>wollebaeki</td>\n",
       "      <td>&lt;NA&gt;</td>\n",
       "      <td>&lt;NA&gt;</td>\n",
       "      <td>&lt;NA&gt;</td>\n",
       "    </tr>\n",
       "  </tbody>\n",
       "</table>\n",
       "<p>5416 rows × 5 columns</p>\n",
       "</div>"
      ],
      "text/plain": [
       "               Genus           Species  Adult Body Mass (g)  \\\n",
       "965   Craseonycteris      thonglongyai                 1.96   \n",
       "1866       Kerivoula            minuta                 2.03   \n",
       "4630          Suncus          etruscus                 2.26   \n",
       "4505           Sorex      minutissimus                 2.46   \n",
       "4635          Suncus  madagascariensis                 2.47   \n",
       "...              ...               ...                  ...   \n",
       "5368         Volemys           musseri                 <NA>   \n",
       "5395       Zaglossus     attenboroughi                 <NA>   \n",
       "5396       Zaglossus           bartoni                 <NA>   \n",
       "5399        Zalophus         japonicus                 <NA>   \n",
       "5400        Zalophus        wollebaeki                 <NA>   \n",
       "\n",
       "      Max Longevity (months)  Longevity-to-Mass Ratio  \n",
       "965                     <NA>                     <NA>  \n",
       "1866                    <NA>                     <NA>  \n",
       "4630                    32.4                14.336283  \n",
       "4505                    <NA>                     <NA>  \n",
       "4635                    <NA>                     <NA>  \n",
       "...                      ...                      ...  \n",
       "5368                    <NA>                     <NA>  \n",
       "5395                    <NA>                     <NA>  \n",
       "5396                    <NA>                     <NA>  \n",
       "5399                    <NA>                     <NA>  \n",
       "5400                    <NA>                     <NA>  \n",
       "\n",
       "[5416 rows x 5 columns]"
      ]
     },
     "execution_count": 31,
     "metadata": {},
     "output_type": "execute_result"
    }
   ],
   "source": [
    "species_data_final.sort_values(by=\"Adult Body Mass (g)\")"
   ]
  },
  {
   "cell_type": "markdown",
   "metadata": {
    "slideshow": {
     "slide_type": "slide"
    }
   },
   "source": [
    "By default, the column values are sorted in *ascending* (low-to-high) order.\n",
    "\n",
    "If we want to sort in *descending* (high-to-low) order, we can pass in an *optional* argument `ascending=False` to `DataFrame.sort_values`:"
   ]
  },
  {
   "cell_type": "code",
   "execution_count": 32,
   "metadata": {},
   "outputs": [
    {
     "data": {
      "text/html": [
       "<div>\n",
       "<style scoped>\n",
       "    .dataframe tbody tr th:only-of-type {\n",
       "        vertical-align: middle;\n",
       "    }\n",
       "\n",
       "    .dataframe tbody tr th {\n",
       "        vertical-align: top;\n",
       "    }\n",
       "\n",
       "    .dataframe thead th {\n",
       "        text-align: right;\n",
       "    }\n",
       "</style>\n",
       "<table border=\"1\" class=\"dataframe\">\n",
       "  <thead>\n",
       "    <tr style=\"text-align: right;\">\n",
       "      <th></th>\n",
       "      <th>Genus</th>\n",
       "      <th>Species</th>\n",
       "      <th>Adult Body Mass (g)</th>\n",
       "      <th>Max Longevity (months)</th>\n",
       "      <th>Longevity-to-Mass Ratio</th>\n",
       "    </tr>\n",
       "  </thead>\n",
       "  <tbody>\n",
       "    <tr>\n",
       "      <th>136</th>\n",
       "      <td>Balaenoptera</td>\n",
       "      <td>musculus</td>\n",
       "      <td>154321304.5</td>\n",
       "      <td>1320.0</td>\n",
       "      <td>0.000009</td>\n",
       "    </tr>\n",
       "    <tr>\n",
       "      <th>391</th>\n",
       "      <td>Balaena</td>\n",
       "      <td>mysticetus</td>\n",
       "      <td>79691178.99</td>\n",
       "      <td>480.0</td>\n",
       "      <td>0.000006</td>\n",
       "    </tr>\n",
       "    <tr>\n",
       "      <th>137</th>\n",
       "      <td>Balaenoptera</td>\n",
       "      <td>physalus</td>\n",
       "      <td>47506008.23</td>\n",
       "      <td>1392.0</td>\n",
       "      <td>0.000029</td>\n",
       "    </tr>\n",
       "    <tr>\n",
       "      <th>32</th>\n",
       "      <td>Caperea</td>\n",
       "      <td>marginata</td>\n",
       "      <td>31999999.98</td>\n",
       "      <td>&lt;NA&gt;</td>\n",
       "      <td>&lt;NA&gt;</td>\n",
       "    </tr>\n",
       "    <tr>\n",
       "      <th>1951</th>\n",
       "      <td>Megaptera</td>\n",
       "      <td>novaeangliae</td>\n",
       "      <td>30000000.01</td>\n",
       "      <td>1140.0</td>\n",
       "      <td>0.000038</td>\n",
       "    </tr>\n",
       "    <tr>\n",
       "      <th>...</th>\n",
       "      <td>...</td>\n",
       "      <td>...</td>\n",
       "      <td>...</td>\n",
       "      <td>...</td>\n",
       "      <td>...</td>\n",
       "    </tr>\n",
       "    <tr>\n",
       "      <th>5368</th>\n",
       "      <td>Volemys</td>\n",
       "      <td>musseri</td>\n",
       "      <td>&lt;NA&gt;</td>\n",
       "      <td>&lt;NA&gt;</td>\n",
       "      <td>&lt;NA&gt;</td>\n",
       "    </tr>\n",
       "    <tr>\n",
       "      <th>5395</th>\n",
       "      <td>Zaglossus</td>\n",
       "      <td>attenboroughi</td>\n",
       "      <td>&lt;NA&gt;</td>\n",
       "      <td>&lt;NA&gt;</td>\n",
       "      <td>&lt;NA&gt;</td>\n",
       "    </tr>\n",
       "    <tr>\n",
       "      <th>5396</th>\n",
       "      <td>Zaglossus</td>\n",
       "      <td>bartoni</td>\n",
       "      <td>&lt;NA&gt;</td>\n",
       "      <td>&lt;NA&gt;</td>\n",
       "      <td>&lt;NA&gt;</td>\n",
       "    </tr>\n",
       "    <tr>\n",
       "      <th>5399</th>\n",
       "      <td>Zalophus</td>\n",
       "      <td>japonicus</td>\n",
       "      <td>&lt;NA&gt;</td>\n",
       "      <td>&lt;NA&gt;</td>\n",
       "      <td>&lt;NA&gt;</td>\n",
       "    </tr>\n",
       "    <tr>\n",
       "      <th>5400</th>\n",
       "      <td>Zalophus</td>\n",
       "      <td>wollebaeki</td>\n",
       "      <td>&lt;NA&gt;</td>\n",
       "      <td>&lt;NA&gt;</td>\n",
       "      <td>&lt;NA&gt;</td>\n",
       "    </tr>\n",
       "  </tbody>\n",
       "</table>\n",
       "<p>5416 rows × 5 columns</p>\n",
       "</div>"
      ],
      "text/plain": [
       "             Genus        Species  Adult Body Mass (g)  \\\n",
       "136   Balaenoptera       musculus          154321304.5   \n",
       "391        Balaena     mysticetus          79691178.99   \n",
       "137   Balaenoptera       physalus          47506008.23   \n",
       "32         Caperea      marginata          31999999.98   \n",
       "1951     Megaptera   novaeangliae          30000000.01   \n",
       "...            ...            ...                  ...   \n",
       "5368       Volemys        musseri                 <NA>   \n",
       "5395     Zaglossus  attenboroughi                 <NA>   \n",
       "5396     Zaglossus        bartoni                 <NA>   \n",
       "5399      Zalophus      japonicus                 <NA>   \n",
       "5400      Zalophus     wollebaeki                 <NA>   \n",
       "\n",
       "      Max Longevity (months)  Longevity-to-Mass Ratio  \n",
       "136                   1320.0                 0.000009  \n",
       "391                    480.0                 0.000006  \n",
       "137                   1392.0                 0.000029  \n",
       "32                      <NA>                     <NA>  \n",
       "1951                  1140.0                 0.000038  \n",
       "...                      ...                      ...  \n",
       "5368                    <NA>                     <NA>  \n",
       "5395                    <NA>                     <NA>  \n",
       "5396                    <NA>                     <NA>  \n",
       "5399                    <NA>                     <NA>  \n",
       "5400                    <NA>                     <NA>  \n",
       "\n",
       "[5416 rows x 5 columns]"
      ]
     },
     "execution_count": 32,
     "metadata": {},
     "output_type": "execute_result"
    }
   ],
   "source": [
    "species_data_final.sort_values(by=\"Adult Body Mass (g)\", ascending=False)"
   ]
  },
  {
   "cell_type": "markdown",
   "metadata": {
    "slideshow": {
     "slide_type": "slide"
    }
   },
   "source": [
    "### Descriptive statistics\n",
    "\n",
    "Here are five simple *descriptive statistics* that we can use to describe a collection of numbers:\n",
    "\n",
    "- sum\n",
    "- count (i.e., size; number of elements)\n",
    "- mean (average)\n",
    "- min\n",
    "- max"
   ]
  },
  {
   "cell_type": "markdown",
   "metadata": {
    "slideshow": {
     "slide_type": "slide"
    }
   },
   "source": [
    "Unsurprisingly, we can compute all of these on any Pandas `Series` containing numeric data by calling a corresponding `Series` method.\n",
    "\n",
    "| Statistic | `Series` method |\n",
    "|-----------|-----------------|\n",
    "| sum       | `Series.sum()`  |\n",
    "| count     | `Series.count()` |\n",
    "| mean      | `Series.mean()` |\n",
    "| min       | `Series.min()`  |\n",
    "| max       | `Series.max()`  |\n",
    "\n",
    "**Note**: all five of these methods *ignore* `NA` values."
   ]
  },
  {
   "cell_type": "markdown",
   "metadata": {
    "slideshow": {
     "slide_type": "slide"
    }
   },
   "source": [
    "Let's start by extracting the body mass column (again)."
   ]
  },
  {
   "cell_type": "code",
   "execution_count": 33,
   "metadata": {
    "slideshow": {
     "slide_type": "-"
    }
   },
   "outputs": [
    {
     "data": {
      "text/plain": [
       "0    492714.47\n",
       "1     10392.49\n",
       "2       9658.7\n",
       "3      11989.1\n",
       "4     31756.51\n",
       "Name: Adult Body Mass (g), dtype: Float64"
      ]
     },
     "execution_count": 33,
     "metadata": {},
     "output_type": "execute_result"
    }
   ],
   "source": [
    "totals = species_data_final[\"Adult Body Mass (g)\"]\n",
    "totals.head()"
   ]
  },
  {
   "cell_type": "code",
   "execution_count": 34,
   "metadata": {
    "slideshow": {
     "slide_type": "slide"
    }
   },
   "outputs": [
    {
     "data": {
      "text/plain": [
       "629803664.9200003"
      ]
     },
     "execution_count": 34,
     "metadata": {},
     "output_type": "execute_result"
    }
   ],
   "source": [
    "totals.sum()"
   ]
  },
  {
   "cell_type": "code",
   "execution_count": 35,
   "metadata": {
    "slideshow": {
     "slide_type": "-"
    }
   },
   "outputs": [
    {
     "data": {
      "text/plain": [
       "3542"
      ]
     },
     "execution_count": 35,
     "metadata": {},
     "output_type": "execute_result"
    }
   ],
   "source": [
    "totals.count()"
   ]
  },
  {
   "cell_type": "code",
   "execution_count": 36,
   "metadata": {},
   "outputs": [
    {
     "data": {
      "text/plain": [
       "177810.18207792216"
      ]
     },
     "execution_count": 36,
     "metadata": {},
     "output_type": "execute_result"
    }
   ],
   "source": [
    "totals.mean()"
   ]
  },
  {
   "cell_type": "code",
   "execution_count": 37,
   "metadata": {},
   "outputs": [
    {
     "data": {
      "text/plain": [
       "1.96"
      ]
     },
     "execution_count": 37,
     "metadata": {},
     "output_type": "execute_result"
    }
   ],
   "source": [
    "totals.min()"
   ]
  },
  {
   "cell_type": "code",
   "execution_count": 38,
   "metadata": {},
   "outputs": [
    {
     "data": {
      "text/plain": [
       "154321304.5"
      ]
     },
     "execution_count": 38,
     "metadata": {},
     "output_type": "execute_result"
    }
   ],
   "source": [
    "totals.max()"
   ]
  },
  {
   "cell_type": "markdown",
   "metadata": {
    "slideshow": {
     "slide_type": "slide"
    }
   },
   "source": [
    "## Further reading\n",
    "\n",
    "`pandas` is the most complex part of Python we've studied so far in this course, and so we expect you'll need to review and practice more as we dive deeper into this library.\n",
    "\n",
    "The official Pandas website has some great introductory materials, including:\n",
    "\n",
    "- [10 minutes to pandas](https://pandas.pydata.org/docs/user_guide/10min.html)\n",
    "- [*Getting Started* tutorials](https://pandas.pydata.org/docs/getting_started/intro_tutorials/index.html)\n"
   ]
  }
 ],
 "metadata": {
  "celltoolbar": "Slideshow",
  "kernelspec": {
   "display_name": "base",
   "language": "python",
   "name": "python3"
  },
  "language_info": {
   "codemirror_mode": {
    "name": "ipython",
    "version": 3
   },
   "file_extension": ".py",
   "mimetype": "text/x-python",
   "name": "python",
   "nbconvert_exporter": "python",
   "pygments_lexer": "ipython3",
   "version": "3.12.2"
  }
 },
 "nbformat": 4,
 "nbformat_minor": 2
}
