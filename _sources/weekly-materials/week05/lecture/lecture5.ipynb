{
 "cells": [
  {
   "cell_type": "markdown",
   "id": "a928b76f",
   "metadata": {
    "slideshow": {
     "slide_type": "slide"
    }
   },
   "source": [
    "# Class 5: Statistical variables, distributions, life history and conservation \n",
    "## EEB 125 "
   ]
  },
  {
   "cell_type": "markdown",
   "id": "58b32978-7fd0-4eb6-82b3-d368e38b63fb",
   "metadata": {
    "slideshow": {
     "slide_type": "slide"
    }
   },
   "source": [
    "## Today's data story:\n",
    "### Are mammals that take longer to grow up at greater risk of extinction?"
   ]
  },
  {
   "cell_type": "markdown",
   "id": "2a632bb6",
   "metadata": {
    "slideshow": {
     "slide_type": "slide"
    }
   },
   "source": [
    "## Read in maturation data\n",
    "\n",
    "- How long does each species usually take to grow to maturity?\n",
    "- Measured in days"
   ]
  },
  {
   "cell_type": "code",
   "execution_count": null,
   "id": "87d2be5f",
   "metadata": {
    "slideshow": {
     "slide_type": "fragment"
    }
   },
   "outputs": [],
   "source": [
    "file = open(\"maturity.csv\")\n",
    "lines = file.readlines()\n",
    "header = lines[0]\n",
    "data = lines[1:]\n",
    "#print(header)\n",
    "#print(data[1:4])"
   ]
  },
  {
   "cell_type": "markdown",
   "id": "82ee6102",
   "metadata": {
    "slideshow": {
     "slide_type": "slide"
    }
   },
   "source": [
    "## Read in IUCN data\n",
    "\n",
    "- Extinction risk across mammalian speciecs"
   ]
  },
  {
   "cell_type": "code",
   "execution_count": null,
   "id": "4dd34652",
   "metadata": {
    "slideshow": {
     "slide_type": "fragment"
    }
   },
   "outputs": [],
   "source": [
    "# get our data read in and prepped\n",
    "\n",
    "iucn=open(\"iucn_status.csv\")\n",
    "iucn_lines = iucn.readlines()\n",
    "iucn_header = iucn_lines[0]\n",
    "iucn_data = iucn_lines[1:]\n"
   ]
  },
  {
   "cell_type": "markdown",
   "id": "e30f21ba",
   "metadata": {
    "slideshow": {
     "slide_type": "slide"
    }
   },
   "source": [
    "## IUCN Red List\n",
    "\n",
    "- To assess extinction risk, we will use IUCN status\n",
    "- IUCN is a conservation organization that manages information on threats to wild animals\n",
    " - https://www.iucnredlist.org/"
   ]
  },
  {
   "cell_type": "markdown",
   "id": "5ca7203a",
   "metadata": {
    "slideshow": {
     "slide_type": "slide"
    }
   },
   "source": [
    "## IUCN Red List\n",
    "\n",
    "![](images/iucn.png)"
   ]
  },
  {
   "cell_type": "markdown",
   "id": "7ccd4298",
   "metadata": {
    "slideshow": {
     "slide_type": "slide"
    }
   },
   "source": [
    "## IUCN Red List\n",
    "\n",
    "- We will need to combine information from both datasets to ask our question\n"
   ]
  },
  {
   "cell_type": "code",
   "execution_count": null,
   "id": "733e1f1b",
   "metadata": {
    "slideshow": {
     "slide_type": "fragment"
    }
   },
   "outputs": [],
   "source": [
    "print(iucn_header)\n",
    "print(header)"
   ]
  },
  {
   "cell_type": "markdown",
   "id": "d94d7148",
   "metadata": {
    "slideshow": {
     "slide_type": "slide"
    }
   },
   "source": [
    "##  Our approach:\n",
    " \n",
    "- We will calculate the mean maturation time for all of the mammal species within a given risk category\n",
    "- Need to merge the two datasets by linking information for all the species shared between datasets"
   ]
  },
  {
   "cell_type": "markdown",
   "id": "3523e2d0",
   "metadata": {
    "slideshow": {
     "slide_type": "slide"
    }
   },
   "source": [
    "## Setup both datasets\n",
    "\n",
    "- Map the IUCN threat level to each species using a dictionary"
   ]
  },
  {
   "cell_type": "code",
   "execution_count": null,
   "id": "36b452ee",
   "metadata": {
    "slideshow": {
     "slide_type": "fragment"
    }
   },
   "outputs": [],
   "source": [
    "sp_iucn = {}\n",
    "for line in iucn_data:\n",
    "    line_dat = line.strip().split(\",\")\n",
    "    species = line_dat[1]\n",
    "    iucn_risk = line_dat[2]\n",
    "    sp_iucn[species] = iucn_risk"
   ]
  },
  {
   "cell_type": "markdown",
   "id": "432de81c",
   "metadata": {
    "slideshow": {
     "slide_type": "slide"
    }
   },
   "source": [
    "## Setup both datasets\n",
    "\n",
    "- Map maturation time to each species using a dictionary"
   ]
  },
  {
   "cell_type": "code",
   "execution_count": null,
   "id": "12627ec2",
   "metadata": {
    "slideshow": {
     "slide_type": "fragment"
    }
   },
   "outputs": [],
   "source": [
    "sp_mat = {}\n",
    "for line in data:\n",
    "    line_dat = line.strip().split(\",\")\n",
    "    species = line_dat[1]\n",
    "    mat_time = line_dat[2]\n",
    "    if mat_time != \"NA\":\n",
    "        sp_mat[species] = float(mat_time) / 365 # convert to years"
   ]
  },
  {
   "cell_type": "markdown",
   "id": "a5c1e176",
   "metadata": {
    "slideshow": {
     "slide_type": "slide"
    }
   },
   "source": [
    "## Linking things up\n",
    "\n",
    "- We will want to calculate the mean maturation time for the species within each risk category\n",
    "- First, how can we find what unique risk categories exist in our dataset?"
   ]
  },
  {
   "cell_type": "code",
   "execution_count": null,
   "id": "f493ba13",
   "metadata": {
    "slideshow": {
     "slide_type": "fragment"
    }
   },
   "outputs": [],
   "source": [
    "risk_cat = sp_iucn.values() "
   ]
  },
  {
   "cell_type": "code",
   "execution_count": null,
   "id": "54cb17f0",
   "metadata": {
    "slideshow": {
     "slide_type": "fragment"
    }
   },
   "outputs": [],
   "source": [
    "unique_risk_cat = set(risk_cat)\n",
    "print(unique_risk_cat)"
   ]
  },
  {
   "cell_type": "markdown",
   "id": "c79abd92",
   "metadata": {
    "slideshow": {
     "slide_type": "slide"
    }
   },
   "source": [
    "## Getting setup\n",
    "\n",
    "- create our container that links maturation times with IUCN risk level\n",
    "- we will want to store the maturation times associated with each level in a list"
   ]
  },
  {
   "cell_type": "code",
   "execution_count": null,
   "id": "1baa518d",
   "metadata": {
    "slideshow": {
     "slide_type": "fragment"
    }
   },
   "outputs": [],
   "source": [
    "iucn_mat = {}\n",
    "for cat in unique_risk_cat:\n",
    "    iucn_mat[cat] = []"
   ]
  },
  {
   "cell_type": "markdown",
   "id": "1c3a8f2c",
   "metadata": {
    "slideshow": {
     "slide_type": "slide"
    }
   },
   "source": [
    "## Link our two dictionaries to a third\n",
    "\n",
    "- Both of our dictionaries, `sp_mat` and `sp_iucn` have species names as the keys\n",
    "- We can use the keys of one to look up the values from the other\n",
    "- We then need to add values to our third dictionary, `iucn_mat`"
   ]
  },
  {
   "cell_type": "markdown",
   "id": "403f799b",
   "metadata": {
    "slideshow": {
     "slide_type": "slide"
    }
   },
   "source": [
    "## Dictionary overload\n",
    "\n",
    "- `sp_mat`: keys = species name, values = maturation time\n",
    "- `sp_iucn`: keys = species name, values = iucn risk level\n",
    "- `iucn_mat`: keys = iucn risk level, values = empty list (to be populated with maturation times)"
   ]
  },
  {
   "cell_type": "markdown",
   "id": "fb43b662",
   "metadata": {
    "slideshow": {
     "slide_type": "slide"
    }
   },
   "source": [
    "## The approach (in English)\n",
    "\n",
    "- iterate through `sp_mat`\n",
    "  - keys are species, values are maturation time\n",
    "- look up the IUCN risk level stored in `sp_iucn` using the keys we are iterating over\n",
    "- populate the lists associated with each key in `iucn_mat`"
   ]
  },
  {
   "cell_type": "code",
   "execution_count": null,
   "id": "1b7f9419",
   "metadata": {
    "slideshow": {
     "slide_type": "fragment"
    }
   },
   "outputs": [],
   "source": [
    "for sp in sp_mat:\n",
    "    mat = sp_mat[sp]\n",
    "    try:\n",
    "        iucn_cat = sp_iucn[sp]           ## \n",
    "        iucn_mat[iucn_cat].append(mat)\n",
    "    except:\n",
    "        continue"
   ]
  },
  {
   "cell_type": "markdown",
   "id": "37444591",
   "metadata": {
    "slideshow": {
     "slide_type": "slide"
    }
   },
   "source": [
    "## Calculate means\n",
    "\n",
    "- loop through iucn_mat and calculate the mean for each risk level"
   ]
  },
  {
   "cell_type": "code",
   "execution_count": null,
   "id": "466010b6",
   "metadata": {
    "slideshow": {
     "slide_type": "slide"
    }
   },
   "outputs": [],
   "source": [
    "# let's calculate a function that does this\n",
    "def mean(pop):\n",
    "    tot = 0\n",
    "    for i in pop:\n",
    "        tot += i\n",
    "    mean = tot / len(pop)\n",
    "    return mean"
   ]
  },
  {
   "cell_type": "code",
   "execution_count": null,
   "id": "0d48bab5",
   "metadata": {
    "slideshow": {
     "slide_type": "fragment"
    }
   },
   "outputs": [],
   "source": [
    "iucn_means = {}\n",
    "\n",
    "for cat in iucn_mat:\n",
    "    mat_times = iucn_mat[cat]\n",
    "    if len(mat_times)>0:\n",
    "        cat_mean = mean(mat_times)\n",
    "        iucn_means[cat] = cat_mean\n"
   ]
  },
  {
   "cell_type": "code",
   "execution_count": null,
   "id": "0090a555",
   "metadata": {
    "slideshow": {
     "slide_type": "fragment"
    }
   },
   "outputs": [],
   "source": [
    "for cat in iucn_means:\n",
    "    print(cat, iucn_means[cat])"
   ]
  },
  {
   "cell_type": "markdown",
   "id": "e9228b21",
   "metadata": {
    "slideshow": {
     "slide_type": "slide"
    }
   },
   "source": [
    "## What categories should we consider 'at risk'?\n",
    "\n",
    "![](images/iucn_list.png)"
   ]
  },
  {
   "cell_type": "markdown",
   "id": "62b00007",
   "metadata": {
    "slideshow": {
     "slide_type": "slide"
    }
   },
   "source": [
    "## What categories should we consider 'at risk'?\n",
    "\n",
    "- We will say anything above level 2 is \"at risk\", while anything below is not.\n"
   ]
  },
  {
   "cell_type": "code",
   "execution_count": null,
   "id": "c01ec3e8",
   "metadata": {
    "slideshow": {
     "slide_type": "fragment"
    }
   },
   "outputs": [],
   "source": [
    "iucn_map={'LC':1,'NT':2,'VU':3,'EN':4,'CR':5,'EW':6,'EX':7,'DD':0}\n"
   ]
  },
  {
   "cell_type": "markdown",
   "id": "fd99196e",
   "metadata": {
    "slideshow": {
     "slide_type": "slide"
    }
   },
   "source": [
    "## Mark species at risk, or not at risk\n",
    "\n",
    "- We will say anything above level 2 is \"at risk\", while anything below is not.\n"
   ]
  },
  {
   "cell_type": "code",
   "execution_count": null,
   "id": "67abe556",
   "metadata": {
    "slideshow": {
     "slide_type": "fragment"
    }
   },
   "outputs": [],
   "source": [
    "sp_threat = {}\n",
    "for line in iucn_data:\n",
    "    line_dat = line.strip().split(\",\")\n",
    "    species = line_dat[1]\n",
    "    iucn_risk = line_dat[2]\n",
    "    risk_numeric = iucn_map[iucn_risk]\n",
    "    threat = False\n",
    "    if risk_numeric > 2:\n",
    "        threat = True\n",
    "    elif risk_numeric == 0:\n",
    "        continue\n",
    "    sp_threat[species] = threat"
   ]
  },
  {
   "cell_type": "markdown",
   "id": "39249b75",
   "metadata": {
    "slideshow": {
     "slide_type": "slide"
    }
   },
   "source": [
    "##  Our approach:\n",
    " \n",
    "- We will calculate the mean maturation time for all at risk, vs not at risk mammals"
   ]
  },
  {
   "cell_type": "markdown",
   "id": "8d256460",
   "metadata": {
    "slideshow": {
     "slide_type": "slide"
    }
   },
   "source": [
    "## Setup both datasets\n",
    "\n",
    "- Map maturation time to each species using a dictionary"
   ]
  },
  {
   "cell_type": "code",
   "execution_count": null,
   "id": "b5ae4185",
   "metadata": {
    "slideshow": {
     "slide_type": "fragment"
    }
   },
   "outputs": [],
   "source": [
    "sp_mat = {}\n",
    "for line in data:\n",
    "    line_dat = line.strip().split(\",\")\n",
    "    species = line_dat[1]\n",
    "    mat_time = line_dat[2]\n",
    "    if mat_time != \"NA\":\n",
    "        sp_mat[species] = float(mat_time) / 365 # convert to years\n"
   ]
  },
  {
   "cell_type": "markdown",
   "id": "29f87f2e",
   "metadata": {
    "slideshow": {
     "slide_type": "slide"
    }
   },
   "source": [
    "## Link our two dictionaries to a third\n",
    "\n",
    "- Both of our dictionaries, `sp_mat` and `sp_iucn` have species names as the keys\n",
    "- We can use the keys of one to look up the values from the other\n",
    "- We then need to add values to a third dictionary, `threat_mat`"
   ]
  },
  {
   "cell_type": "code",
   "execution_count": null,
   "id": "06df1f84",
   "metadata": {
    "slideshow": {
     "slide_type": "fragment"
    }
   },
   "outputs": [],
   "source": [
    "threat_mat={True:[],False:[]}"
   ]
  },
  {
   "cell_type": "markdown",
   "id": "c3f8f5e9",
   "metadata": {
    "slideshow": {
     "slide_type": "slide"
    }
   },
   "source": [
    "## Dictionary overload\n",
    "\n",
    "- `sp_mat`: keys = species name, values = maturation time\n",
    "- `sp_iucn`: keys = species name, values = iucn risk level\n",
    "- `threat_mat`: keys = threat, values = empty list (to be populated with maturation times)"
   ]
  },
  {
   "cell_type": "markdown",
   "id": "326b29a0",
   "metadata": {
    "slideshow": {
     "slide_type": "slide"
    }
   },
   "source": [
    "## The approach (in English)\n",
    "\n",
    "- iterate through `sp_mat`\n",
    "  - keys are species, values are maturation time\n",
    "- look up the IUCN risk level stored in `sp_iucn` using the keys we are iterating over\n",
    "- populate the lists associated with each key in `threat_mat`"
   ]
  },
  {
   "cell_type": "code",
   "execution_count": null,
   "id": "f3e5a532",
   "metadata": {
    "slideshow": {
     "slide_type": "fragment"
    }
   },
   "outputs": [],
   "source": [
    "for sp in sp_mat:\n",
    "    mat = sp_mat[sp]\n",
    "    try:\n",
    "        threat = sp_threat[sp]\n",
    "        threat_mat[threat].append(mat)\n",
    "    except:\n",
    "        continue"
   ]
  },
  {
   "cell_type": "code",
   "execution_count": null,
   "id": "fd45ea23",
   "metadata": {
    "slideshow": {
     "slide_type": "fragment"
    }
   },
   "outputs": [],
   "source": [
    "print(threat_mat)"
   ]
  },
  {
   "cell_type": "markdown",
   "id": "d36165b5",
   "metadata": {
    "slideshow": {
     "slide_type": "slide"
    }
   },
   "source": [
    "## Calculate means\n",
    "\n",
    "- loop through iucn_mat and calculate the mean for threatened vs non-threatened species"
   ]
  },
  {
   "cell_type": "code",
   "execution_count": null,
   "id": "66cef70e",
   "metadata": {
    "slideshow": {
     "slide_type": "fragment"
    }
   },
   "outputs": [],
   "source": [
    "threat_means = {}\n",
    "\n",
    "for threat in threat_mat:\n",
    "    mat_times = threat_mat[threat]    \n",
    "    threat_mean = mean(mat_times)\n",
    "    threat_means[threat] = threat_mean\n",
    "\n",
    "print(threat_means)"
   ]
  },
  {
   "cell_type": "markdown",
   "id": "e9ed58b4-68fd-43f4-8e45-8156a9a9661f",
   "metadata": {
    "slideshow": {
     "slide_type": "slide"
    }
   },
   "source": [
    "## Today's data story:\n",
    "### Are mammals that take longer to grow up at greater risk of extinction?"
   ]
  },
  {
   "cell_type": "markdown",
   "id": "edab823a-afe3-4b88-b9ba-e14abf2c060d",
   "metadata": {
    "slideshow": {
     "slide_type": "slide"
    }
   },
   "source": [
    "## Today's data story:\n",
    "### Are mammals that take longer to grow up at greater risk of extinction?\n",
    "\n",
    "- Possibly? We will learn more sophisticated statistical techniques later to examine questions like this more closely"
   ]
  },
  {
   "cell_type": "markdown",
   "id": "f76dc9a6",
   "metadata": {
    "slideshow": {
     "slide_type": "slide"
    }
   },
   "source": [
    "\n",
    "## Statistical Distributions\n",
    "\n",
    "- What is a statistical distribution?\n",
    "\n",
    "- How can a distribution be summarized?\n",
    "\n",
    "- What questions can we answer using a distribution? "
   ]
  },
  {
   "cell_type": "markdown",
   "id": "310e27ed",
   "metadata": {
    "slideshow": {
     "slide_type": "slide"
    }
   },
   "source": [
    "## What is the distribution of conservation risk across mammals?\n",
    "\n",
    "How many species belong to each category?\n",
    "\n",
    "![](images/iucn_list.png)"
   ]
  },
  {
   "cell_type": "code",
   "execution_count": null,
   "id": "f834cfd5",
   "metadata": {
    "slideshow": {
     "slide_type": "fragment"
    }
   },
   "outputs": [],
   "source": [
    "# create two lists, one that will be the keys and another that will be values\n",
    "keys = list(iucn_map.keys())\n",
    "vals = [0 for i in range(len(keys))]   #  we will tally species counts for each iucn level later\n",
    "\n",
    "# wrap the two lists together into a single dictionary \n",
    "iucn_counts = dict(zip(keys,vals))  \n",
    "print(iucn_counts)"
   ]
  },
  {
   "cell_type": "markdown",
   "id": "a56e7594",
   "metadata": {
    "slideshow": {
     "slide_type": "slide"
    }
   },
   "source": [
    "## What is the distribution of conservation risk across mammals?"
   ]
  },
  {
   "cell_type": "code",
   "execution_count": null,
   "id": "17a0a287",
   "metadata": {
    "slideshow": {
     "slide_type": "-"
    }
   },
   "outputs": [],
   "source": [
    "for line in iucn_data:\n",
    "    line_dat = line.strip().split(\",\")\n",
    "    iucn_risk = line_dat[2]\n",
    "    iucn_counts[iucn_risk]+=1"
   ]
  },
  {
   "cell_type": "markdown",
   "id": "c396cee7",
   "metadata": {
    "slideshow": {
     "slide_type": "slide"
    }
   },
   "source": [
    "## What is the distribution of conservation risk across mammals?"
   ]
  },
  {
   "cell_type": "code",
   "execution_count": null,
   "id": "ec876411",
   "metadata": {
    "slideshow": {
     "slide_type": "fragment"
    }
   },
   "outputs": [],
   "source": [
    "print(iucn_counts)"
   ]
  },
  {
   "cell_type": "markdown",
   "id": "3150c8c7",
   "metadata": {
    "slideshow": {
     "slide_type": "slide"
    }
   },
   "source": [
    "## Importing modules\n",
    "\n",
    "- There are often times where something we want to do is so common that someone has already written code that does it\n",
    "- These are packeged in the form of python 'modules'\n",
    "- We need to **import** these modules to use this code\n",
    "- We will use one for plotting data called **matplotlib**\n",
    "    - (you will not need to do this yourself yet-- just watch for now)"
   ]
  },
  {
   "cell_type": "code",
   "execution_count": null,
   "id": "46d38bd1",
   "metadata": {
    "slideshow": {
     "slide_type": "fragment"
    }
   },
   "outputs": [],
   "source": [
    "import matplotlib.pyplot as plt"
   ]
  },
  {
   "cell_type": "markdown",
   "id": "788321f7",
   "metadata": {
    "slideshow": {
     "slide_type": "slide"
    }
   },
   "source": [
    "## What is the distribution of conservation risk across mammals?"
   ]
  },
  {
   "cell_type": "markdown",
   "id": "656a95ec",
   "metadata": {
    "slideshow": {
     "slide_type": "fragment"
    }
   },
   "source": [
    "- The bars represent the frequency of observations and the labels on the horizontal axis represent the number of species at a conservation risk level. \n",
    "\n",
    "- This is called the **frequency distribution** of conservation risk."
   ]
  },
  {
   "cell_type": "markdown",
   "id": "7f3eaa69",
   "metadata": {
    "slideshow": {
     "slide_type": "slide"
    }
   },
   "source": [
    "## What is the distribution of conservation risk across mammals?"
   ]
  },
  {
   "cell_type": "code",
   "execution_count": null,
   "id": "cd40e00c",
   "metadata": {
    "scrolled": true,
    "slideshow": {
     "slide_type": "-"
    }
   },
   "outputs": [],
   "source": [
    "rel_counts = [i/sum(iucn_counts.values()) for i in iucn_counts.values()]\n",
    "plt.bar(iucn_counts.keys(),rel_counts)\n",
    "plt.show()"
   ]
  },
  {
   "cell_type": "markdown",
   "id": "58ed737f",
   "metadata": {
    "slideshow": {
     "slide_type": "fragment"
    }
   },
   "source": [
    "- If we want to plot proportions instead of counts then we can transform `activity_dist` by dividing by the total number of observations.\n",
    "\n",
    "- This is called the *relative frequency distribution* of activity.\n",
    "\n",
    "- **Q: About what proportion of mammals is at risk?**"
   ]
  },
  {
   "cell_type": "code",
   "execution_count": null,
   "id": "934b0fa9",
   "metadata": {},
   "outputs": [],
   "source": [
    "rel_counts = [i/sum(iucn_counts.values()) for i in iucn_counts.values()]\n",
    "plt.bar(iucn_counts.keys(),rel_counts)\n",
    "plt.show()"
   ]
  },
  {
   "cell_type": "markdown",
   "id": "264f4971",
   "metadata": {
    "slideshow": {
     "slide_type": "slide"
    }
   },
   "source": [
    "## Summarizing the distribution of a continuous variable\n",
    "\n",
    "### What is the distribution of the time it takes to grow up across mammals?"
   ]
  },
  {
   "cell_type": "markdown",
   "id": "5eab7f4a",
   "metadata": {
    "slideshow": {
     "slide_type": "slide"
    }
   },
   "source": [
    "## Variation\n",
    "\n",
    "- One of the most important concepts in statistics and biology\n",
    "\n",
    "- Standard deviation is average deviation from the mean \n",
    "  + **Large** values mean lots of variation and **small** values mean less variation.   \n",
    "\n",
    "- Other measures of variation also exist (e.g., the range-- max - min)"
   ]
  },
  {
   "cell_type": "markdown",
   "id": "70ce3086",
   "metadata": {
    "slideshow": {
     "slide_type": "slide"
    }
   },
   "source": [
    "## Variance\n",
    "\n",
    "- How far from the mean are the data, on average?\n",
    "- Calculate the difference between each data point and the mean\n",
    "- Calculate the mean of these differences\n"
   ]
  },
  {
   "cell_type": "code",
   "execution_count": null,
   "id": "2169253b",
   "metadata": {
    "slideshow": {
     "slide_type": "slide"
    }
   },
   "outputs": [],
   "source": [
    "def variance(data,mean_val):\n",
    "    diffs=[]\n",
    "    for i in data:\n",
    "        diff = i - mean_val\n",
    "        sq_diff = diff ** 2\n",
    "        diffs.append(sq_diff)\n",
    "    var = mean(diffs)\n",
    "    return var"
   ]
  },
  {
   "cell_type": "markdown",
   "id": "0353bd6d",
   "metadata": {
    "slideshow": {
     "slide_type": "slide"
    }
   },
   "source": [
    "## Standard Deviation\n",
    "\n",
    "- Square root of the variance\n",
    "- Descibes the variation in values, expressed in the same units as the data"
   ]
  },
  {
   "cell_type": "code",
   "execution_count": null,
   "id": "b246e303",
   "metadata": {
    "slideshow": {
     "slide_type": "slide"
    }
   },
   "outputs": [],
   "source": [
    "import math\n",
    "\n",
    "def st_dev(data,mean_val):\n",
    "    var = variance(data,mean_val)\n",
    "    sd = math.sqrt(var)\n",
    "    return sd"
   ]
  },
  {
   "cell_type": "markdown",
   "id": "9b5b32c6",
   "metadata": {
    "slideshow": {
     "slide_type": "slide"
    }
   },
   "source": [
    "## Calculate means\n",
    "\n",
    "- loop through iucn_mat and calculate the mean for each risk level"
   ]
  },
  {
   "cell_type": "code",
   "execution_count": null,
   "id": "f1850bb6",
   "metadata": {
    "scrolled": true,
    "slideshow": {
     "slide_type": "fragment"
    }
   },
   "outputs": [],
   "source": [
    "threat_sds = {}\n",
    "\n",
    "for threat in threat_mat:\n",
    "    mat_times = threat_mat[threat]  \n",
    "    threat_mean = threat_means[threat]\n",
    "    threat_sd = st_dev(mat_times,threat_mean)\n",
    "    threat_sds[threat] = threat_sd\n",
    "threat_sds"
   ]
  },
  {
   "cell_type": "code",
   "execution_count": null,
   "id": "a0a6dbc4",
   "metadata": {
    "slideshow": {
     "slide_type": "fragment"
    }
   },
   "outputs": [],
   "source": [
    "for threat in threat_means:\n",
    "    threat_mean = threat_means[threat]\n",
    "    threat_sd = threat_sds[threat]\n",
    "    print(threat,threat_mean,threat_sd)"
   ]
  },
  {
   "cell_type": "markdown",
   "id": "bd6184f8",
   "metadata": {
    "slideshow": {
     "slide_type": "slide"
    }
   },
   "source": [
    "## Histograms\n",
    "\n",
    "- We can also visualize central tendency and variation using a type of plot called a **histogram**"
   ]
  },
  {
   "cell_type": "code",
   "execution_count": null,
   "id": "a179a959",
   "metadata": {
    "scrolled": true,
    "slideshow": {
     "slide_type": "slide"
    }
   },
   "outputs": [],
   "source": [
    "plt.hist(sp_mat.values())\n",
    "plt.show()"
   ]
  },
  {
   "cell_type": "markdown",
   "id": "c0081684",
   "metadata": {
    "slideshow": {
     "slide_type": "slide"
    }
   },
   "source": [
    "## Histograms\n",
    "\n",
    "- We can also visualize the *relative* frequency, or proportion of individuals with each maturation time"
   ]
  },
  {
   "cell_type": "code",
   "execution_count": null,
   "id": "9f639454",
   "metadata": {
    "scrolled": true,
    "slideshow": {
     "slide_type": "slide"
    }
   },
   "outputs": [],
   "source": [
    "plt.hist(sp_mat.values(),density=True)\n",
    "plt.show()"
   ]
  },
  {
   "cell_type": "markdown",
   "id": "9e4280d1",
   "metadata": {
    "slideshow": {
     "slide_type": "slide"
    }
   },
   "source": [
    "## Histograms\n",
    "\n",
    "- Histograms can be useful to visualize differences in how data are distributed"
   ]
  },
  {
   "cell_type": "code",
   "execution_count": null,
   "id": "cf9bcdfa",
   "metadata": {
    "slideshow": {
     "slide_type": "fragment"
    }
   },
   "outputs": [],
   "source": [
    "plt.hist(threat_mat[False],density=True,alpha=0.5,label=\"not at risk\")\n",
    "plt.hist(threat_mat[True],density=True,alpha=0.5,label=\"at risk\")\n",
    "plt.legend(loc='upper right')\n",
    "plt.xlabel(\"maturation time (years)\")\n",
    "plt.show()"
   ]
  },
  {
   "cell_type": "markdown",
   "id": "3553d1a5",
   "metadata": {
    "scrolled": true,
    "slideshow": {
     "slide_type": "slide"
    }
   },
   "source": [
    "## Midterm\n",
    "\n",
    "- Computer-based\n",
    "- Will take place in this classroom at our normal lecture time\n",
    "  - Feb. 12, 1pm-3pm"
   ]
  },
  {
   "cell_type": "markdown",
   "id": "e4852412",
   "metadata": {
    "slideshow": {
     "slide_type": "slide"
    }
   },
   "source": [
    "## Format\n",
    "\n",
    "- Mix of:\n",
    "  + (simple) programming exercises (i.e., produce your own code)\n",
    "  + code reading/interpretation (i.e., explain some pre-written code)\n",
    "  + data interpretation (i.e., look at some data summaries and interpret them)\n",
    "- Will be largely similar to the structure of a homework assignment\n"
   ]
  },
  {
   "cell_type": "code",
   "execution_count": null,
   "id": "1a4fc2b4",
   "metadata": {
    "scrolled": true,
    "slideshow": {
     "slide_type": "slide"
    }
   },
   "outputs": [],
   "source": []
  }
 ],
 "metadata": {
  "celltoolbar": "Slideshow",
  "kernelspec": {
   "display_name": "Python 3 (ipykernel)",
   "language": "python",
   "name": "python3"
  },
  "language_info": {
   "codemirror_mode": {
    "name": "ipython",
    "version": 3
   },
   "file_extension": ".py",
   "mimetype": "text/x-python",
   "name": "python",
   "nbconvert_exporter": "python",
   "pygments_lexer": "ipython3",
   "version": "3.13.1"
  }
 },
 "nbformat": 4,
 "nbformat_minor": 5
}
