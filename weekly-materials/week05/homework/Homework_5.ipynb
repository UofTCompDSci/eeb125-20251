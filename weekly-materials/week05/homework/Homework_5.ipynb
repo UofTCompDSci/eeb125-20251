{
 "cells": [
  {
   "cell_type": "markdown",
   "id": "463e6150",
   "metadata": {},
   "source": [
    "# Homework 5 - Investigating Mammalian Fecundity and Conservation\n",
    "\n",
    "## Logistics\n",
    "\n",
    "**Due date**: The homework is due 11:59pm on Tuesday, February 11.\n",
    "\n",
    "You will submit your work on [MarkUs](https://markus-ds.teach.cs.toronto.edu).\n",
    "To submit your work:\n",
    "\n",
    "1. Download this file (`Homework_5.ipynb`) from JupyterHub. (See [our JupyterHub Guide](../../../../guides/jupyterhub_guide.ipynb) for detailed instructions.)\n",
    "2. Submit this file to MarkUs under the **hw5** assignment. (See [our MarkUs Guide](../../../../guides/markus_guide.ipynb) for detailed instructions.)\n",
    "All homeworks will take place in a Jupyter notebook (like this one). When you are done, you will download this notebook and submit it to MarkUs.\n",
    "We've incuded submission instructions at the end of this notebook.\n"
   ]
  },
  {
   "cell_type": "markdown",
   "id": "76bd0863",
   "metadata": {},
   "source": [
    "## Introduction\n",
    "\n",
    "In this assignment, we will ask a question about how mammalian reproductive strategies relate to their conservation risk. We will combine information from two different datasets to investigate this question.\n",
    "\n",
    "### Data science question for the week:\n",
    "\n",
    "This week, we will be combining data on mammalian ecology to compute a metric that we will call \"maximum lifetime fecundity\". This value estimates a species' __reproductive potential__. That is, *how prodigious is each species at producing new offspring*? \n",
    "\n",
    "As biologists, we may have an intuition that species that are more capable at reproducing quickly maybe more resilient to extinction as the environment changes. We will see how this metric relates to extinction risk, as calclated from IUCN data to ask a targeted question about mammalian conservation:\n",
    "\n",
    "**_Is there a difference in extinction risk between species with higher reproductive potential (greater maximum lifetime fecundity) vs. species with lower reproductive potential smaller maximum lifetime fecundity)?_**"
   ]
  },
  {
   "cell_type": "markdown",
   "id": "ac55b025",
   "metadata": {},
   "source": [
    "## Problem 1. Calculate maximum lifetime fecundity across mammals"
   ]
  },
  {
   "cell_type": "markdown",
   "id": "ac6a1853",
   "metadata": {},
   "source": [
    "### Problem 1a. Read in Mammalian life history data\n",
    "\n",
    "Please open the file `fecundity.csv` and read all the lines into Python's memory. Assign the header to the variable `lh_header` and the rest of the data to `lh_data`. You may wish to examine the header and first couple lines of the data file."
   ]
  },
  {
   "cell_type": "code",
   "execution_count": 1,
   "id": "2ad3ab49",
   "metadata": {},
   "outputs": [],
   "source": [
    "# Write your code here\n"
   ]
  },
  {
   "cell_type": "markdown",
   "id": "17126e37",
   "metadata": {},
   "source": [
    "### Problem 1b. Calculate our lifetime fecundity metric\n",
    "\n",
    "We will now estimate a new measurement that we will call `max_lifetime_fecundity`. Use the following formula to calculate this metric:\n",
    "\n",
    "$$ \\frac{longevity - maturity}{interbirth} * litter\\_size $$\n",
    "\n",
    "This will be computed using the following columns:\n",
    "\n",
    "- `maturity_d`: How long it takes for the average individual to grow to sexual maturity. This is the earliest age at which an individual can reproduce. This is measured in *days* as the interval between birth and the time when the individual first reproduces.\n",
    " \n",
    "- `longevity_m`: The maximum observed lifespan of an individual within each species, expressed in *months*.\n",
    "\n",
    "- `interbirth_d`: How long adult females wait, on average, between giving birth and becoming pregnant again, expressed in *days*.\n",
    "\n",
    "- `litter_size_ind`: How many babies females within each species have at one time, on average. The units are individuals, or number of offspring.\n",
    "\n",
    "#### Instructions\n",
    "\n",
    "Create an empty dictionary and assign it to a variable called `max_fecund`.\n",
    "\n",
    "Loop over the lines of data and split up the columns using a comma delimiter and apply the above formula to the data across each column. Keep in mind that you will need to mind missing data, which is expressed in this datafile as an empty string, `\"\"`. Since you will not be able to calculate the metric unless all four measurements are present, use exception handling to skip over any line that is missing any one or more of these.\n",
    "\n",
    "Once you calcuate the metric for each line, store the name of the species represented on that line as the key in `max_fecund` with the metric you calculate as the value.\n",
    "\n",
    "#### A note on units (important!!!)\n",
    "\n",
    "The three measurements relating to time (`'maturity_d'`, `'longevity_m'`, and `'interbirth_d'`) are expressed in two different units. As you loop over the lines and calculate this metric from the values in each column, convert each of these columns so that they are expressed in years. \n"
   ]
  },
  {
   "cell_type": "code",
   "execution_count": 2,
   "id": "a5a34ba6",
   "metadata": {},
   "outputs": [],
   "source": [
    "# Write your code here\n"
   ]
  },
  {
   "cell_type": "markdown",
   "id": "971d4cc4",
   "metadata": {},
   "source": [
    "### Problem 1c. Interpret\n",
    "\n",
    "Please explain what our maximum fecundity metric is measuring **(2pts)**. In what units is it expressed **(2pts)**? Can you think of any reasons the metric might be inaccurate **(optional)**?"
   ]
  },
  {
   "cell_type": "markdown",
   "id": "3204b80f",
   "metadata": {},
   "source": [
    "**WRITE YOUR RESPONSE HERE.**"
   ]
  },
  {
   "cell_type": "markdown",
   "id": "194880f9",
   "metadata": {},
   "source": [
    "## Problem 2. IUCN Conservation Risk\n",
    "\n",
    "Next, we will read in the IUCN conservation risk data and use it to classify whether species are or are not at risk."
   ]
  },
  {
   "cell_type": "markdown",
   "id": "2bf9915c",
   "metadata": {},
   "source": [
    "### Problem 2a. Read in IUCN Data\n",
    "\n",
    "Read in the IUCN data. Assign the header (first line) to the variable `iucn_header`. Assign the rest of the data to `iucn_data`. You may wish to examine the header and first few lines to familiarize yourself with how the dataset is structured."
   ]
  },
  {
   "cell_type": "code",
   "execution_count": 3,
   "id": "0d6038f6",
   "metadata": {},
   "outputs": [],
   "source": [
    "# Write your code here\n"
   ]
  },
  {
   "cell_type": "markdown",
   "id": "1333445a",
   "metadata": {},
   "source": [
    "### Problem 2b. Define IUCN Risk Levels\n",
    "\n",
    "Next, we will want to order the IUCN risk levels according to their severity. We will use the following numbering scheme (defined in lecture):\n",
    "\n",
    "![](images/iucn.svg)\n",
    "\n",
    "First, run the code below to create a dictionary, assigned to the variable `iucn_map`, mapping each IUCN level with a numbered level, expressed as a python integer. \n",
    "\n",
    "Next, create an empty dictionary and assign it to the variable `at_risk`. Loop over the lines of the file, splitting them using a comma (the delimiting character for this dataset). Next, we will want to know if the species for each row is at significant conservation risk. **We will consider any species at IUCN level \"VU\" or above (numerically, level 3 or above) to be at risk**. Look up the numeric expression of the IUCN level using `iucn_map`. Add the species name for each line to `at_risk` as the key. If the IUCN level is at or above 3, set the value as `True`. If it is below 3, set it to `False`. \n",
    "\n",
    "As an example of how things should look, let's consider humans, Homo sapiens. Homo sapiens are at IUCN level \"LC\", or 1 in our numeric mapping scheme. Humans would be stored in `at_risk` as follows:\n",
    "\n",
    "```python\n",
    "{\"Homo_sapiens\": False}\n",
    "```\n",
    "\n",
    "On the other hand, the bat species _Acerodon jubatus_ is at level \"EN\", or 4 in our numbered scheme, and so would be assigned the value `True` when added to the dictionary. Our dictionary with both species would appear as follows: \n",
    "\n",
    "```python\n",
    "{\"Homo_sapiens\": False, \"Acerodon_jubatus\": True}\n",
    "```\n",
    "\n",
    "\n"
   ]
  },
  {
   "cell_type": "code",
   "execution_count": 5,
   "id": "86089c5c",
   "metadata": {},
   "outputs": [],
   "source": [
    "# Run this cell to define iucn_map\n",
    "\n",
    "iucn_map = {'LC': 1,'NT': 2,'VU': 3,'EN': 4,'CR': 5,'EW': 6,'EX': 7,'DD': 0}"
   ]
  },
  {
   "cell_type": "code",
   "execution_count": 6,
   "id": "175b9ef8",
   "metadata": {},
   "outputs": [],
   "source": [
    "# Write your code here\n"
   ]
  },
  {
   "cell_type": "markdown",
   "id": "eeae9946",
   "metadata": {},
   "source": [
    "### Problem 3. Put everything together\n",
    "\n",
    "Here, we will want to calculate whether species that are at risk tend to have more or fewer offspring throughout their lifespan. To do this, we can calculate the mean maximum lifetime fecundity separately for species that are and are not at risk. First, copy the `calc_mean()` function that you defined in last week's homework and paste it below."
   ]
  },
  {
   "cell_type": "code",
   "execution_count": 7,
   "id": "01460c1a",
   "metadata": {},
   "outputs": [],
   "source": [
    "# Write your code here\n"
   ]
  },
  {
   "cell_type": "markdown",
   "id": "d6f532e7",
   "metadata": {},
   "source": [
    "### Problem 3a. Partition data according to threatened status\n",
    "\n",
    "In this problem, you will follow a similar procedure to last week's homework, where you compared risk between democrat and republican-controlled states. Create two empty lists and assign them, respectively, to the variables `threat_fecund` and `unthreat_fecund`. Next, loop over `max_fecund`. Look up whether each species is threatened by checking `at_risk`. If it is, append its maximum lifetime fecundity stored as the value in `max_fecund` to `threat_fecund`, and if not, append it to `unthreat_fecund`. \n",
    "\n",
    "HINT: one new hiccup this week is that some of the species in `max_fecund` do not have entries in `at_risk`. This is because they were not present in the original IUCN data. As a result, you will want to use exception handling to skip over any instances where looking up a species from `max_fecund` in `at_risk` fails. "
   ]
  },
  {
   "cell_type": "code",
   "execution_count": 8,
   "id": "a39b1941",
   "metadata": {},
   "outputs": [],
   "source": [
    "# Write your code here\n"
   ]
  },
  {
   "cell_type": "markdown",
   "id": "ef3dc342",
   "metadata": {},
   "source": [
    "### Problem 3b. Compare mean lifetime fecundity between threatened and unthreatened species\n",
    "\n",
    "Calculate the mean lifetime fecundity in each of the lists populated in the previous question. Assign each to `mean_threat_fecund` and `mean_unthreat_fecund`. "
   ]
  },
  {
   "cell_type": "code",
   "execution_count": 9,
   "id": "88a59161",
   "metadata": {},
   "outputs": [],
   "source": [
    "# Write your code here\n"
   ]
  },
  {
   "cell_type": "code",
   "execution_count": 10,
   "id": "61bdfdbf",
   "metadata": {},
   "outputs": [],
   "source": [
    "print(mean_threat_fecund)\n",
    "print(mean_unthreat_fecund)"
   ]
  },
  {
   "cell_type": "markdown",
   "id": "0a21fa69",
   "metadata": {},
   "source": [
    "### Problem 3c. Interpret\n",
    "\n",
    "1. Do threatened species or non-threatened species tend to have more potential offspring over their lifespan **(1 pt)**? \n",
    "\n",
    "2. Please speculate on why this might be the case **(2pt)**. "
   ]
  },
  {
   "cell_type": "markdown",
   "id": "2098e48f",
   "metadata": {},
   "source": [
    "**WRITE YOUR RESPONSE HERE.**"
   ]
  }
 ],
 "metadata": {
  "kernelspec": {
   "display_name": "Python 3 (ipykernel)",
   "language": "python",
   "name": "python3"
  },
  "language_info": {
   "codemirror_mode": {
    "name": "ipython",
    "version": 3
   },
   "file_extension": ".py",
   "mimetype": "text/x-python",
   "name": "python",
   "nbconvert_exporter": "python",
   "pygments_lexer": "ipython3",
   "version": "3.13.1"
  },
  "markus": {
   "assessment_id": 210,
   "course_id": 14,
   "url": "https://markus-ds.teach.cs.toronto.edu"
  },
  "vscode": {
   "interpreter": {
    "hash": "8b8edaa195e148f815789564e9a10f57d8b792ac9e1a5daafce5fbae42bebd0e"
   }
  }
 },
 "nbformat": 4,
 "nbformat_minor": 5
}
