{
 "cells": [
  {
   "cell_type": "markdown",
   "metadata": {
    "tags": []
   },
   "source": [
    "# EEB125 Lab 9: Final Project Proposal \n",
    "\n",
    "- The goal of this lab is to work with your final project group on the project proposal.\n",
    "\n",
    "- Information on the final project is available [here](../../../project/project_instructions.ipynb) and you can find more details about the proposal [here](../../../project/project_proposal.ipynb).\n",
    "\n",
    "- Discuss with your teammates and aim to finalize a draft of the project proposal if you haven't already.\n",
    "\n",
    "- When you have a draft, feel free to present your proposal ideas to the TA for feedback.\n"
   ]
  },
  {
   "cell_type": "markdown",
   "metadata": {},
   "source": [
    "## Project proposal questions\n",
    "\n",
    "- Each group must submit one project proposal.  Your TA is aiming to give your group feedback within one week of submission.\n",
    "\n",
    "\n",
    "- The goal of the proposal is not to work out every detail around your group's presentation plans and analysis, but to ensure that the question is feasible and that each group has a work plan.  \n",
    "\n",
    "\n",
    "- Another goal is for the teaching team to be able to give your group feedback with enough time to incorporate the feedback.  Although, we view this as the start of the conversation between your group and your TA."
   ]
  },
  {
   "cell_type": "markdown",
   "metadata": {},
   "source": [
    "0. **Division of labour:** How will each member contribute to completing this project? Make sure to list each member with a brief description of what they will do.  How will your group coordinate and work on the project?"
   ]
  },
  {
   "cell_type": "markdown",
   "metadata": {},
   "source": []
  },
  {
   "cell_type": "markdown",
   "metadata": {},
   "source": [
    "1. **State the question:** What question(s) will your group answer?"
   ]
  },
  {
   "cell_type": "markdown",
   "metadata": {},
   "source": []
  },
  {
   "cell_type": "markdown",
   "metadata": {},
   "source": [
    "2. **Data sources:** What data will your group use?  State specific data sets, and columns within the data sets that you will use to answer your question(s)."
   ]
  },
  {
   "cell_type": "markdown",
   "metadata": {},
   "source": []
  },
  {
   "cell_type": "markdown",
   "metadata": {},
   "source": [
    "3. **Methods:** How will your group wrangle the data?  Will new variables be created?  What statistical methods will be used?"
   ]
  },
  {
   "cell_type": "markdown",
   "metadata": {},
   "source": []
  },
  {
   "cell_type": "markdown",
   "metadata": {},
   "source": [
    "4. **Results:** How will the results be presented?  Tables, graphs?  "
   ]
  },
  {
   "cell_type": "markdown",
   "metadata": {},
   "source": []
  },
  {
   "cell_type": "markdown",
   "metadata": {},
   "source": [
    "5. **Conclusions:** What types of conclusions does your group hope to make?  What do you hope to learn from this project?"
   ]
  },
  {
   "cell_type": "markdown",
   "metadata": {},
   "source": []
  },
  {
   "cell_type": "markdown",
   "metadata": {},
   "source": [
    "## Grading\n",
    "\n",
    "- Each group member will recieve the same grade.\n",
    "\n",
    "- The six sections below will be graded as:\n",
    "\n",
    "\n",
    "Section     | 0 | 1 | 2 \n",
    "------------|---|---|---\n",
    "All sections| It's not clear how this section of the project will proceed| It's somewhat clear how this section will proceed, although there are several obvious items missing from the description| It's clear how this section will proceed.\n"
   ]
  }
 ],
 "metadata": {
  "interpreter": {
   "hash": "ad9581ae519af95332d69424cf8bb4afaad24f2850b41edae9bd9c31ca8df22d"
  },
  "kernelspec": {
   "display_name": "Python 3 (ipykernel)",
   "language": "python",
   "name": "python3"
  },
  "language_info": {
   "codemirror_mode": {
    "name": "ipython",
    "version": 3
   },
   "file_extension": ".py",
   "mimetype": "text/x-python",
   "name": "python",
   "nbconvert_exporter": "python",
   "pygments_lexer": "ipython3",
   "version": "3.8.8"
  }
 },
 "nbformat": 4,
 "nbformat_minor": 4
}
