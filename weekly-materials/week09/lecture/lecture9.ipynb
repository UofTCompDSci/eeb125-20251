{
 "cells": [
  {
   "cell_type": "markdown",
   "id": "e7dfaecc",
   "metadata": {
    "slideshow": {
     "slide_type": "slide"
    }
   },
   "source": [
    "# Week 9: Hypothesis Testing\n",
    "\n",
    "## March 12, 2025\n",
    "\n",
    "**Michael Jongho Moon**"
   ]
  },
  {
   "cell_type": "markdown",
   "id": "31b8e4e9",
   "metadata": {
    "slideshow": {
     "slide_type": "slide"
    }
   },
   "source": [
    "## Recall: U.S. COVID statistics\n",
    "\n",
    "In homework 7, we looked at the relationship between population size and COVID-10 infection rates."
   ]
  },
  {
   "cell_type": "code",
   "execution_count": null,
   "id": "11cbdc34",
   "metadata": {},
   "outputs": [],
   "source": [
    "import pandas as pd\n",
    "covid_raw_data = pd.read_csv(\"covid_raw.csv\")\n",
    "covid_final_data = (\n",
    "    covid_raw_data[[\"State\", \"Total_cases\", \"pop\"]]\n",
    "    .rename(columns = {\"Total_cases\": \"Total Cases\", \"pop\": \"Population\"})\n",
    "    .convert_dtypes()\n",
    ")\n",
    "covid_final_data[\"Case Rate (%)\"] = covid_final_data[\"Total Cases\"] / covid_final_data[\"Population\"] * 100\n",
    "# with .loc[] (.iloc[]) you can access rows and columns at the same time\n",
    "threshold = 7500000\n",
    "covid_final_data.loc[covid_final_data[\"Population\"] > threshold, \"State Size\"] = \"Large\"\n",
    "covid_final_data.loc[covid_final_data[\"Population\"] <= threshold, \"State Size\"] = \"Small\"\n",
    "print(\"Large state mean: {} vs. Small state mean: {}\".format(\n",
    "    covid_final_data.loc[\n",
    "        covid_final_data[\"State Size\"] == \"Large\", \"Case Rate (%)\"\n",
    "        ].mean().round(3),\n",
    "    covid_final_data.loc[\n",
    "        covid_final_data[\"State Size\"] == \"Small\", \"Case Rate (%)\"\n",
    "        ].mean().round(3)))"
   ]
  },
  {
   "cell_type": "markdown",
   "id": "b907c9c2",
   "metadata": {
    "slideshow": {
     "slide_type": "fragment"
    }
   },
   "source": [
    "> With `.loc[]` (and `.iloc[]`), you can access rows and columns at the same time. See [here](https://pandas.pydata.org/pandas-docs/version/1.0/getting_started/intro_tutorials/03_subset_data.html) for more examples."
   ]
  },
  {
   "cell_type": "markdown",
   "id": "9876c37a",
   "metadata": {
    "slideshow": {
     "slide_type": "subslide"
    }
   },
   "source": [
    "_Does this imply smaller states face a higher COVID-19 infection rate on average?_"
   ]
  },
  {
   "cell_type": "markdown",
   "id": "177249b3",
   "metadata": {
    "slideshow": {
     "slide_type": "fragment"
    }
   },
   "source": [
    "**OR**\n",
    "\n",
    "_Did we observe the difference only by chance?_"
   ]
  },
  {
   "cell_type": "markdown",
   "id": "516f4a6f",
   "metadata": {
    "slideshow": {
     "slide_type": "subslide"
    }
   },
   "source": [
    "## How we view data\n",
    "\n",
    "_The data values we see (observe) are one instance of sampling from the population._\n",
    "\n",
    "### Population vs. sample\n",
    "\n",
    "**Population**: the group that we wish to study \n",
    "> e.g., _all_ members of the U.S. population throughout the period of the COVID-19 pandemic.\n",
    "\n",
    "**Sample**: a sub-group from the population that we can actually access/study, and use this to make *inference* about the population \n",
    "> e.g., those whose COVID-19 infection was recorded in the public health system during the report period."
   ]
  },
  {
   "cell_type": "markdown",
   "id": "526698e8",
   "metadata": {
    "slideshow": {
     "slide_type": "subslide"
    }
   },
   "source": [
    "<img src=\"sample+pop.png\" width=\"800\">\n"
   ]
  },
  {
   "cell_type": "markdown",
   "id": "3d40a7e3",
   "metadata": {
    "slideshow": {
     "slide_type": "subslide"
    }
   },
   "source": [
    "### Parameter vs. mean\n",
    "\n",
    "**Parameter**: a metric from the population  \n",
    "\n",
    "**Statistic**: a metric from the sample\n",
    "\n",
    "\n",
    "<img src=\"stats.png\" width=\"800\">\n"
   ]
  },
  {
   "cell_type": "markdown",
   "id": "3d10f53b",
   "metadata": {
    "slideshow": {
     "slide_type": "subslide"
    }
   },
   "source": [
    "More often than not, we are interested in parameters that are unknown to us.\n",
    "\n",
    "- In a population of voters, what percent will vote for Candidate A?\n",
    "\n",
    "- In a population of TikTok users, what is the largest number of followers for a user?\n",
    "\n",
    "- In a population of Air Canada flights, what is the median departure delay?\n"
   ]
  },
  {
   "cell_type": "markdown",
   "id": "f1752861",
   "metadata": {
    "slideshow": {
     "slide_type": "subslide"
    }
   },
   "source": [
    "## Does Neanderthal genes increase or decrease the chance of experiencing a servere COVID-19 case?\n",
    "\n",
    "![](neanderthar-gene-does-all.png)"
   ]
  },
  {
   "cell_type": "markdown",
   "id": "a348ae75",
   "metadata": {
    "slideshow": {
     "slide_type": "subslide"
    }
   },
   "source": [
    "## We use statistics to make our best guess about parameters\n",
    "\n",
    "**Parameter**: usually we use greek letters ($\\mu$) to denote this\n",
    "\n",
    "**Statistic**: usually we use roman alphabet ($\\bar{y}$) to denote this.\n",
    "\n",
    "\n",
    "\n",
    "Note:\n",
    "+ $\\mu$ often represents the population mean\n",
    "+ $\\bar{y}$ often represents the sample mean\n",
    "+ There are other types of parameters and statistics that use different notations.\n"
   ]
  },
  {
   "cell_type": "markdown",
   "id": "40955c29",
   "metadata": {
    "slideshow": {
     "slide_type": "slide"
    }
   },
   "source": [
    "## How we make decisions based on data\n",
    "\n",
    "### Hypothesis Testing\n",
    "\n",
    "+ Hypothesis testing allows us to test if a hypothesis is true or not.\n",
    "+ We usually build a hypothesis about the population using parameter(s)\n",
    "+ Collect some data and see if the data is in support of the hypothesis or not."
   ]
  },
  {
   "cell_type": "markdown",
   "id": "504a82fb",
   "metadata": {
    "slideshow": {
     "slide_type": "fragment"
    }
   },
   "source": [
    "Let's explore this, by revisiting an event from ~~my~~ childhood."
   ]
  },
  {
   "cell_type": "markdown",
   "id": "248568ee",
   "metadata": {
    "slideshow": {
     "slide_type": "subslide"
    }
   },
   "source": [
    "[Smarties](https://www.madewithnestle.ca/smarties) had an [ad campaign](https://www.youtube.com/watch?v=kYbKvBBvAG4) in the 1990s asking \"When you eating your Smarties do you eat the red ones last?\".\n",
    "\n",
    "![smarties2.png](smarties.png)"
   ]
  },
  {
   "cell_type": "markdown",
   "id": "30944193",
   "metadata": {
    "slideshow": {
     "slide_type": "subslide"
    }
   },
   "source": [
    "So shortly after I went to go eat a pack of Smarties, planning on saving the red ones for the end, I was disappointed to find no red ones in my box of Smarties."
   ]
  },
  {
   "cell_type": "markdown",
   "id": "8977f32d",
   "metadata": {
    "slideshow": {
     "slide_type": "fragment"
    }
   },
   "source": [
    "But I had to eat a red one last. I went out and bought another 20 boxes of Smarties."
   ]
  },
  {
   "cell_type": "markdown",
   "id": "07f6671c",
   "metadata": {
    "slideshow": {
     "slide_type": "fragment"
    }
   },
   "source": [
    "Now, Smarties has **8** colours in Canada (red, blue, purple, brown, pink, green, orange, and yellow) and I was buying packs with **48**. Smarties claimed to have an equal number of each colour. So, they they claim that the expected number of red Smarties of all packs is $\\mu=\\cfrac{48}{8}=6$. "
   ]
  },
  {
   "cell_type": "markdown",
   "id": "67a80748",
   "metadata": {
    "slideshow": {
     "slide_type": "fragment"
    }
   },
   "source": [
    "+ I counted the number of red Smarties in each box. \n",
    "+ The average number of red Smarties among all 20 boxes I bought was $\\bar{y}$ = 5.\n",
    "+ The is the **sample mean**."
   ]
  },
  {
   "cell_type": "markdown",
   "id": "37fe050b",
   "metadata": {
    "slideshow": {
     "slide_type": "subslide"
    }
   },
   "source": [
    "The 5 is different from $\\mu=6$, the **population mean** claimed by Nestle. I should be rightfully upset at Nestle, right? Or, could it be that I'm just an unlucky person?"
   ]
  },
  {
   "cell_type": "markdown",
   "id": "9a96f9a0",
   "metadata": {
    "slideshow": {
     "slide_type": "fragment"
    }
   },
   "source": [
    "We want to see how likely our 5 is, if we had kept collecting samples of size 20 under the assumption of Nestle's claim is true."
   ]
  },
  {
   "cell_type": "code",
   "execution_count": null,
   "id": "82862077",
   "metadata": {},
   "outputs": [],
   "source": [
    "import numpy as np\n",
    "import matplotlib.pyplot as plt\n",
    "red_smarties = np.array([])"
   ]
  },
  {
   "cell_type": "code",
   "execution_count": null,
   "id": "2887cf5f",
   "metadata": {},
   "outputs": [],
   "source": [
    "# custom function to create the plot\n",
    "# for demonstration purpose only\n",
    "def dot_plot(data, binwidth, bindots, **kwargs):\n",
    "    bins = np.arange(\n",
    "        np.floor(min(data) * binwidth) / binwidth, \n",
    "        np.ceil(max(data) * binwidth) / binwidth + binwidth, \n",
    "        binwidth)\n",
    "    counts, bins = np.histogram(data, bins=bins)\n",
    "    x = []\n",
    "    y = []\n",
    "    fig, ax = plt.subplots()\n",
    "\n",
    "    for spine in ['top', 'right', 'left']:\n",
    "        ax.spines[spine].set_visible(False)\n",
    "    ax.yaxis.set_visible(False)\n",
    "    ax.set_xticks(bins)\n",
    "    ax.set_ylim(-(max(counts) / bindots) / 50, max(counts) / bindots)\n",
    "    \n",
    "    for i, b in  enumerate(bins[:-1]):\n",
    "        ax.axvspan(b, bins[i+1], color=[\"white\", \"lightgrey\"][i % 2])\n",
    "        for c in range(0, counts[i]):\n",
    "            x.append(b + (c % bindots) * binwidth * .8 / bindots + binwidth * .1)\n",
    "            y.append(np.floor(c / bindots))\n",
    "\n",
    "    ax.scatter(x, y, **kwargs)\n"
   ]
  },
  {
   "cell_type": "code",
   "execution_count": null,
   "id": "f57eed95",
   "metadata": {},
   "outputs": [],
   "source": [
    "# the code simulates the average of red Smarties from 20 Smarties packages if Nestle was truthful\n",
    "# don't worry about understanding the code for now\n",
    "red_smarties = np.append(red_smarties, np.random.binomial(48, 1/8, 20).mean())\n",
    "# call the custom function\n",
    "dot_plot(red_smarties, .5, 5, color=\"steelblue\")"
   ]
  },
  {
   "cell_type": "markdown",
   "id": "80863781",
   "metadata": {
    "slideshow": {
     "slide_type": "subslide"
    }
   },
   "source": [
    "Assuming that Smarties claim is true (i.e., $\\mu=6$), maybe 100 repeats of the experiment would look like this:"
   ]
  },
  {
   "cell_type": "code",
   "execution_count": null,
   "id": "e9df5567",
   "metadata": {},
   "outputs": [],
   "source": [
    "np.random.seed(634)\n",
    "red_smarties = np.array([])\n",
    "for _ in range(100): # repeeat 100 times\n",
    "    red_smarties = np.append(red_smarties, np.random.binomial(48, 1/8, 20).mean())\n",
    "dot_plot(red_smarties, .5, 5, color=\"steelblue\")"
   ]
  },
  {
   "cell_type": "markdown",
   "id": "6f806b1d",
   "metadata": {
    "slideshow": {
     "slide_type": "fragment"
    }
   },
   "source": [
    "The *hypothesis* is that $\\mu=6$."
   ]
  },
  {
   "cell_type": "markdown",
   "id": "9ab99b9f",
   "metadata": {
    "slideshow": {
     "slide_type": "subslide"
    }
   },
   "source": [
    "Now, here is where our data ($\\bar{y}=5$) falls, when we assume that Smarties claim is true (i.e., $\\mu=6$)."
   ]
  },
  {
   "cell_type": "code",
   "execution_count": null,
   "id": "9e596feb",
   "metadata": {},
   "outputs": [],
   "source": [
    "observed = [\"coral\" if x  == 5 else \"#A9A9A9\" for x in np.sort(red_smarties)]\n",
    "dot_plot(red_smarties, .5, 5, color=observed)"
   ]
  },
  {
   "cell_type": "markdown",
   "id": "6713a3ae",
   "metadata": {
    "slideshow": {
     "slide_type": "subslide"
    }
   },
   "source": [
    "### Null & alternative hypotheses, test statistic, and p-value\n",
    "\n",
    "+ Our value of 5 is known as the **test statistic** --- a _statsistic_ used to perfomr our hypothesis _test_.\n"
   ]
  },
  {
   "cell_type": "markdown",
   "id": "de38a863",
   "metadata": {
    "slideshow": {
     "slide_type": "fragment"
    }
   },
   "source": [
    "+  The hypothesis under which we compute the test statistic is called the **null hypothesis**. The \"opposite\" claim or the complement hypothesis is called the **alternative hypothesis**."
   ]
  },
  {
   "cell_type": "markdown",
   "id": "de64feac",
   "metadata": {
    "slideshow": {
     "slide_type": "fragment"
    }
   },
   "source": [
    "+ How probable was our data/test statistic, if the null hypothesis is actually true? The answer to this is the **p-value**."
   ]
  },
  {
   "cell_type": "markdown",
   "id": "ab65a58f",
   "metadata": {
    "slideshow": {
     "slide_type": "fragment"
    }
   },
   "source": [
    "+ Specifically, the **p-value** is the probability of observing any data points _more or as extreme_ as our test statistic (given that the null hypothesis was true).\n",
    "\n",
    "  + We typically test with _\"more or as extreme\"_ in both directions using absolute difference from the null hypothesis."
   ]
  },
  {
   "cell_type": "markdown",
   "id": "087037f7",
   "metadata": {
    "slideshow": {
     "slide_type": "subslide"
    }
   },
   "source": [
    "So our **p-value is $0.05$**. Since there are 3 instances of $\\bar{y}$ equal to or less than 5 out of 100."
   ]
  },
  {
   "cell_type": "code",
   "execution_count": null,
   "id": "d4e3f90c",
   "metadata": {},
   "outputs": [],
   "source": [
    "extremes = [\"coral\" if abs(x - 6)  >= 1 else \"#A9A9A9\" for x in np.sort(red_smarties)]\n",
    "dot_plot(red_smarties, .5, 5, color=extremes)\n",
    "plt.plot([6, 6], [-1, 10], markersize=15, color=\"steelblue\")\n",
    "plt.plot([5, 5], [-1, 10], \"--\", markersize=15, color=\"coral\")\n",
    "plt.plot([7, 7], [-1, 10], \"--\", markersize=15, color=\"coral\")\n",
    "print(\"p-value: {}\".format((abs(red_smarties - 6) >= 1).mean().round(4)))"
   ]
  },
  {
   "cell_type": "markdown",
   "id": "21958df6",
   "metadata": {
    "slideshow": {
     "slide_type": "subslide"
    }
   },
   "source": [
    "## How do we interpret a p-value?\n",
    "\n",
    "+ The smaller your p-value is, the more \"convinced\" we are that the **null hypothesis is false**.\n",
    "\n",
    "+ Typically...\n",
    "\n",
    "p-value | Conclusion\n",
    ":--:|:------------\n",
    "$>0.1$ | Weak evidence against the null hypothsis.\n",
    "Between 0.05 and 0.1 | Moderate evidence against the null hypothesis.\n",
    "Between 0.01 and 0.05 | Strong evidence against the null hypothesis.\n",
    "$<0.01$ | Very strong evidence against the null hypothesis.\n",
    "\n",
    "+ A large p-value doesn't provide evidence for the null hypothesis. By construction, a hypothesis test starts under the assumption of the null hypothesis and we either find evidence _against_ it or don't."
   ]
  },
  {
   "cell_type": "markdown",
   "id": "93ba4116",
   "metadata": {
    "slideshow": {
     "slide_type": "fragment"
    }
   },
   "source": [
    "In this case 0.05 is quite small, so we would say there is strong evidence against the hypothesis that there were 6 red smarties on average in all boxes of smarties."
   ]
  },
  {
   "cell_type": "markdown",
   "id": "e8b9cc78",
   "metadata": {
    "slideshow": {
     "slide_type": "slide"
    }
   },
   "source": [
    "## Goals of Data Science\n",
    "\n",
    "- Deeper understanding of the world.\n",
    "\n",
    "- Make the world a better place to live.\n",
    "\n",
    "- For example, help expose injustice.\n",
    "\n",
    "- The skills you are learning help empower you to do this."
   ]
  },
  {
   "cell_type": "markdown",
   "id": "e4b31173-640c-4206-802f-882c1bfbd0ed",
   "metadata": {
    "slideshow": {
     "slide_type": "subslide"
    }
   },
   "source": [
    "## Jury Selection\n",
    "\n",
    "- U.S. Constitution grants equal protection under the law."
   ]
  },
  {
   "cell_type": "markdown",
   "id": "7e2cf99a-2aa8-4b14-9c23-b8e78a8d9790",
   "metadata": {
    "slideshow": {
     "slide_type": "fragment"
    }
   },
   "source": [
    "- All defendants have the right to due process."
   ]
  },
  {
   "cell_type": "markdown",
   "id": "6cbd9e27-efe0-4b74-839b-25ca515452c2",
   "metadata": {
    "slideshow": {
     "slide_type": "fragment"
    }
   },
   "source": [
    "- Robert Swain, a black man, was convicted in Talladega County, AL."
   ]
  },
  {
   "cell_type": "markdown",
   "id": "ad8ca92f-3521-4ff7-b6ab-fbca2f61d6ab",
   "metadata": {
    "slideshow": {
     "slide_type": "fragment"
    }
   },
   "source": [
    "- He appealed to the U.S. Supreme Court."
   ]
  },
  {
   "cell_type": "markdown",
   "id": "95c8d14b-3610-4b27-a505-892dbbf05c7f",
   "metadata": {
    "slideshow": {
     "slide_type": "fragment"
    }
   },
   "source": [
    "- Main reason: Unfair jury selection in the County’s trials."
   ]
  },
  {
   "cell_type": "markdown",
   "id": "c0182cde-45c3-4a51-af3e-f7c0de116345",
   "metadata": {
    "slideshow": {
     "slide_type": "subslide"
    }
   },
   "source": [
    "- At the time of the trial, only men aged 21 or more were eligible to serve on juries in Talladega County. In that population, 26% of the men were black. "
   ]
  },
  {
   "cell_type": "markdown",
   "id": "783143cf-5965-4021-a415-d3ea85e5fd29",
   "metadata": {
    "slideshow": {
     "slide_type": "fragment"
    }
   },
   "source": [
    "- But only eight men among the panel of 100 men (that is, 8%) were black."
   ]
  },
  {
   "cell_type": "markdown",
   "id": "b41d10c9-b10f-469b-b9be-925f3891c364",
   "metadata": {
    "slideshow": {
     "slide_type": "fragment"
    }
   },
   "source": [
    "- The U.S. Supreme Court reviewed the appeal and concluded, “the overall percentage disparity has been small.” But was this assertion reasonable? "
   ]
  },
  {
   "cell_type": "markdown",
   "id": "cbee0229-eb35-4e88-bcb9-0835a162a6e2",
   "metadata": {
    "slideshow": {
     "slide_type": "fragment"
    }
   },
   "source": [
    "- If jury panelists were selected at random from the county’s eligible population, there would be some chance variation. We wouldn’t get exactly 26 black panelists on every 100-person panel. But would we expect as few as eight?"
   ]
  },
  {
   "cell_type": "markdown",
   "id": "8db4e297",
   "metadata": {
    "slideshow": {
     "slide_type": "subslide"
    }
   },
   "source": [
    "## A model of random selection\n",
    "\n",
    "- A model of the data is that the panel was selected at random and ended up with a small number of black panelists just due to chance.\n",
    "\n",
    "- Since the panel was supposed to resemble the population of all eligible jurors, the model of random selection is important to assess. Let’s see if it stands up to scrutiny.\n",
    "\n",
    "- The `numpy.random` function `multinomial(n, pvals, size)` can be used to simulate sample proportions or counts with two or more categories."
   ]
  },
  {
   "cell_type": "markdown",
   "id": "ad2501ff",
   "metadata": {
    "slideshow": {
     "slide_type": "subslide"
    }
   },
   "source": [
    "## Example 1: Rolling a six-sided die 20 times"
   ]
  },
  {
   "cell_type": "code",
   "execution_count": null,
   "id": "9591aa67",
   "metadata": {},
   "outputs": [],
   "source": [
    "import numpy as np\n",
    "\n",
    "sample_size = 20\n",
    "num_simulations = 1\n",
    "true_probabilities = [1 / 6] * 6\n",
    "\n",
    "counts = np.random.multinomial(n=sample_size, \n",
    "                               pvals=true_probabilities, \n",
    "                               size=num_simulations)\n",
    "\n",
    "proportions = counts / sample_size\n",
    "\n",
    "print(\"True probabilities: \\n\", true_probabilities)\n",
    "print(\"Sample counts: \\n\", counts) \n",
    "print(\"Sample proportions: \\n\", proportions)"
   ]
  },
  {
   "cell_type": "markdown",
   "id": "1c44a31d",
   "metadata": {
    "slideshow": {
     "slide_type": "subslide"
    }
   },
   "source": [
    "## Example 2: Rolling a loaded six-side 100 times more likely to land on 6 - repeated 3 times"
   ]
  },
  {
   "cell_type": "code",
   "execution_count": null,
   "id": "b12853f1",
   "metadata": {},
   "outputs": [],
   "source": [
    "sample_size = 100\n",
    "num_simulations = 3\n",
    "true_probabilities = [1 / 7] * 5 + [2 / 7]\n",
    "\n",
    "counts = np.random.multinomial(sample_size, \n",
    "                               true_probabilities, \n",
    "                               num_simulations)\n",
    "\n",
    "proportions = counts / sample_size\n",
    "\n",
    "print(\"True probabilities: \\n\", true_probabilities)\n",
    "print(\"Sample counts:\\n\", counts) \n",
    "print(\"Sample proportions: \\n\", proportions)"
   ]
  },
  {
   "cell_type": "markdown",
   "id": "dd5d4d57",
   "metadata": {
    "slideshow": {
     "slide_type": "subslide"
    }
   },
   "source": [
    "- Let's use this to simulate the jury selection process.\n",
    "\n",
    "- The size of the jury panel is 100, so `sample_size` is 100. \n",
    "\n",
    "- The distribution from which we will draw the sample is the distribution in the population of eligible jurors: 26% of them were Black, so 100% - 26% = 74% are white (very simplistic assumption, but let's go with it for now). \n",
    "\n",
    "- This mean `true_proportions` is `[0.26, 0.74]`.\n",
    "\n",
    "- One simulation is below."
   ]
  },
  {
   "cell_type": "code",
   "execution_count": null,
   "id": "2baab484",
   "metadata": {
    "slideshow": {
     "slide_type": "subslide"
    }
   },
   "outputs": [],
   "source": [
    "import pandas as pd\n",
    "\n",
    "sample_size = 100\n",
    "true_probabilities = [0.26, 0.74]\n",
    "num_simulations = 1\n",
    "\n",
    "counts = np.random.multinomial(sample_size, \n",
    "                               true_probabilities, \n",
    "                               num_simulations)\n",
    "\n",
    "proportions = counts / sample_size\n",
    "\n",
    "sim_counts = pd.DataFrame(proportions, columns=[\"Black\", \"White\"])\n",
    "\n",
    "sim_counts\n"
   ]
  },
  {
   "cell_type": "code",
   "execution_count": null,
   "id": "2abb41f4",
   "metadata": {},
   "outputs": [],
   "source": [
    "# extract the element in the first row, first column\n",
    "sim_counts.iloc[0, 0]"
   ]
  },
  {
   "cell_type": "markdown",
   "id": "d9dfe4d7",
   "metadata": {
    "slideshow": {
     "slide_type": "subslide"
    }
   },
   "source": [
    "## Simulate one value"
   ]
  },
  {
   "cell_type": "code",
   "execution_count": null,
   "id": "221a2bc9",
   "metadata": {},
   "outputs": [],
   "source": [
    "def simulate_one_count():\n",
    "   \"\"\"Simulate a panel of 100 randomly selected from a population of 26% black and 74% white males.\n",
    "    \n",
    "   Returns:\n",
    "      integer : the simulated number of black males selected for the panel of 100.\n",
    "   \"\"\"\n",
    "   sample_size = 100\n",
    "   true_probabilities = [0.26, 0.74]\n",
    "   num_simulations = 1\n",
    "   counts = np.random.multinomial(sample_size, \n",
    "                                  true_probabilities, \n",
    "                                  num_simulations)\n",
    "    \n",
    "   # sim_counts = pd.DataFrame(counts, columns=[\"Black\", \"White\"])\n",
    "   # return sim_counts.iloc[0, 0]\n",
    "   return counts[0, 0]"
   ]
  },
  {
   "cell_type": "code",
   "execution_count": null,
   "id": "5f0bc688",
   "metadata": {},
   "outputs": [],
   "source": [
    "simulate_one_count()"
   ]
  },
  {
   "cell_type": "markdown",
   "id": "043afceb",
   "metadata": {
    "slideshow": {
     "slide_type": "subslide"
    }
   },
   "source": [
    "## Simulate multiple values\n",
    "\n",
    "-  Our analysis is focused on the variability in the counts. \n",
    "\n",
    "- Let’s generate 10,000 simulated values of the count and see how they vary.\n",
    "\n",
    "- We will do this by using a for loop and collecting all the simulated counts in a list."
   ]
  },
  {
   "cell_type": "code",
   "execution_count": null,
   "id": "2f8af087",
   "metadata": {},
   "outputs": [],
   "source": [
    "sim_counts = []\n",
    "for _ in np.arange(10000): # repeat 10000 times\n",
    "    sim_counts.append(simulate_one_count())\n"
   ]
  },
  {
   "cell_type": "code",
   "execution_count": null,
   "id": "57c255c9",
   "metadata": {},
   "outputs": [],
   "source": [
    "# can you see the 10,000 dots?\n",
    "dot_plot(sim_counts, 1, 5, color=\"grey\")"
   ]
  },
  {
   "cell_type": "markdown",
   "id": "3039c68e",
   "metadata": {
    "slideshow": {
     "slide_type": "subslide"
    }
   },
   "source": [
    "## Histogram\n",
    "\n",
    "+  A histogram plots bars representing the (relative) frequency of data observed in each _bin_.\n",
    "+  `matplotlib.pyplot` library provides functions to visualize data and is the default backend used for `pandas` plotting functions.\n",
    "+  We can specify the bins with `np.arange(start=5.5, stop=47, step=1)` which creates a `numpy` array (like a `Serries` but for numpy) with numbers starting at 5.5 and increasing by 1 until reaching 47."
   ]
  },
  {
   "cell_type": "code",
   "execution_count": null,
   "id": "4fc7a1b1",
   "metadata": {},
   "outputs": [],
   "source": [
    "np.arange(start=5.5, stop=47, step=1)"
   ]
  },
  {
   "cell_type": "code",
   "execution_count": null,
   "id": "a9663f95",
   "metadata": {},
   "outputs": [],
   "source": [
    "import matplotlib.pyplot as plt\n",
    "bins=np.arange(5.5, 50, 1)  # numpy array\n",
    "plt.hist(sim_counts,        # data to plot in the histogram\n",
    "         bins=bins,         # specify the bounds of the bins\n",
    "         edgecolor=\"white\", # you can specify other aesthetics\n",
    "         color=\"grey\")\n",
    "plt.xlabel(\"Count in random sample\")  # update the x-axis label of the current plot\n",
    "plt.ylabel(\"Frequency\");              # update the y-axis label of the current plot"
   ]
  },
  {
   "cell_type": "markdown",
   "id": "e0280829",
   "metadata": {
    "slideshow": {
     "slide_type": "subslide"
    }
   },
   "source": [
    "+ Setting `density=True` in the `plt.hist()` function creates a \"density\" histogram.\n",
    "+ The bar heights are adjusted to relative frequencies such that the total area of the bars is 1.\n",
    "+ When the width of the bins are 1, the heights represent the proportions."
   ]
  },
  {
   "cell_type": "code",
   "execution_count": null,
   "id": "16751cf5",
   "metadata": {},
   "outputs": [],
   "source": [
    "plt.hist(sim_counts, \n",
    "         bins=bins, \n",
    "         edgecolor=\"white\", \n",
    "         color=\"grey\", \n",
    "         density=True);\n",
    "plt.xlabel(\"Count in random sample\")\n",
    "plt.ylabel(\"Density\");"
   ]
  },
  {
   "cell_type": "markdown",
   "id": "ef48d35d",
   "metadata": {},
   "source": [
    "## How likely was Mr. Swain's experience?"
   ]
  },
  {
   "cell_type": "code",
   "execution_count": null,
   "id": "9540bd4e",
   "metadata": {},
   "outputs": [],
   "source": [
    "plt.hist(sim_counts, \n",
    "         bins=bins, \n",
    "         edgecolor=\"white\", \n",
    "         color=\"grey\", \n",
    "         density=True);\n",
    "plt.xlabel(\"Count in random sample\")\n",
    "plt.ylabel(\"Density\")\n",
    "plt.scatter(8, 0, color=\"coral\", s=150, marker=7);"
   ]
  },
  {
   "cell_type": "markdown",
   "id": "edfa790c",
   "metadata": {
    "slideshow": {
     "slide_type": "subslide"
    }
   },
   "source": [
    "+ The simulation also could have been done using `np.random.multinomial`.\n",
    "+ This is an example of a 'vectorized' computation, and are usually faster than non-vectorized computations."
   ]
  },
  {
   "cell_type": "code",
   "execution_count": null,
   "id": "e14e687f",
   "metadata": {},
   "outputs": [],
   "source": [
    "sample_size = 100\n",
    "\n",
    "true_probabilities = [0.26, 0.74]\n",
    "\n",
    "num_simulations = 10000\n",
    "\n",
    "counts = np.random.multinomial(sample_size, \n",
    "                               true_probabilities, \n",
    "                               num_simulations)\n",
    "\n",
    "counts\n",
    "# counts[:,0] # returns the first item of the individual arrays"
   ]
  },
  {
   "cell_type": "markdown",
   "id": "049e6d0e",
   "metadata": {
    "slideshow": {
     "slide_type": "subslide"
    }
   },
   "source": [
    "## Conclusion of the data analysis\n",
    "\n",
    "- The histogram shows that if we select a panel of size 100 at random from the eligible population, we are very unlikely to get counts of Black panelists that are as low as the eight that were observed on the panel in the trial.\n",
    "\n",
    "- This is evidence that the model of random selection of the jurors in the panel is not consistent with the data from the panel. While it is possible that the panel could have been generated by chance, our simulation demonstrates that it is hugely unlikely.\n",
    "\n",
    "- Therefore the most *reasonable* conclusion is that the assumption of random selection is unjustified for this jury panel."
   ]
  },
  {
   "cell_type": "markdown",
   "id": "a876da65-7cbb-4197-ae3c-f6855f23b27f",
   "metadata": {
    "slideshow": {
     "slide_type": "slide"
    },
    "tags": []
   },
   "source": [
    "## Comparing two samples\n",
    "\n",
    "### Comparing plant fertilizers\n",
    "\n",
    "- A gardener wanted to discover whether a change in fertilizer mixture applied to their tomato plants would result in improved yield.\n",
    "\n",
    "- She had 11 plants set out in a single row:\n",
    "   + 5 were given standard fertilizer mixture A\n",
    "   + 6 were given a supposedly improved mixture B\n",
    "\n",
    "- The A's and B's were randomly applied to positions along the row to give the following data:\n",
    "\n",
    "|                |  |   |   |   |   |   |   |   |   |   |   |\n",
    "|----------------|---|---|---|---|---|---|---|---|---|---|---|\n",
    "|Position in row | 1 | 2 | 3 | 4 | 5 | 6 | 7 | 8 | 9 | 10| 11 |\n",
    "|Fertilizer      | A | A | B | B | A | B |B  |B  | A | A | B  |\n",
    "|Tomatoe yields (lbs) | 29.2 | 11.4 | 26.6 | 23.7 | 25.3 | 28.5 | 14.2 | 17.9 | 16.5 | 21.1 | 24.3 |"
   ]
  },
  {
   "cell_type": "markdown",
   "id": "cf024bf8",
   "metadata": {
    "slideshow": {
     "slide_type": "subslide"
    }
   },
   "source": [
    "|                |  |   |   |   |   |   |   |   |   |   |   |\n",
    "|----------------|---|---|---|---|---|---|---|---|---|---|---|\n",
    "|Position in row | 1 | 2 | 3 | 4 | 5 | 6 | 7 | 8 | 9 | 10| 11 |\n",
    "|Fertilizer      | A | A | B | B | A | B |B  |B  | A | A | B  |\n",
    "|Tomatoe yields (lbs) | 29.2 | 11.4 | 26.6 | 23.7 | 25.3 | 28.5 | 14.2 | 17.9 | 16.5 | 21.1 | 24.3 |\n",
    "\n",
    "\n",
    "- The random arrangement was arrived at by taking 11 playing cards, 5 marked A, and 6 marked B.\n",
    "\n",
    "- Thoroughly shuffling the cards once the gardener arrived at the arrangement above."
   ]
  },
  {
   "cell_type": "markdown",
   "id": "b2d4d58d",
   "metadata": {
    "slideshow": {
     "slide_type": "fragment"
    }
   },
   "source": [
    "- To test for an improvement, the null hypothesis is: $\\mu_A = \\mu_B$ or $\\mu_B-\\mu_A=0$"
   ]
  },
  {
   "cell_type": "markdown",
   "id": "1f63e4f6",
   "metadata": {
    "slideshow": {
     "slide_type": "subslide"
    }
   },
   "source": [
    "Let's store the results in a DataFrame."
   ]
  },
  {
   "cell_type": "code",
   "execution_count": null,
   "id": "aa1ad9ba-973e-445d-82b0-b5677254b037",
   "metadata": {},
   "outputs": [],
   "source": [
    "import pandas as pd\n",
    "\n",
    "fertilizer = [\"A\", \"A\", \"B\", \"B\", \"A\", \"B\", \"B\", \"B\", \"A\", \"A\", \"B\"]\n",
    "\n",
    "tomatoes = [29.2, 11.4, 26.6, 23.7, 25.3, 28.5, 14.2, 17.9, 16.5, 21.1, 24.3]\n",
    "# this is a dictionary\n",
    "data = {\"fert\": fertilizer, \"tomatoes\": tomatoes}\n",
    "# this is a DataFrame\n",
    "plant_df = pd.DataFrame(data)\n",
    "\n",
    "print(plant_df)"
   ]
  },
  {
   "cell_type": "markdown",
   "id": "3fa5bd3a-dbd5-45d7-a5f4-c751486e4282",
   "metadata": {
    "slideshow": {
     "slide_type": "subslide"
    }
   },
   "source": [
    "We can use the DataFrame to compute the observed mean difference."
   ]
  },
  {
   "cell_type": "code",
   "execution_count": null,
   "id": "8e341866-3f2f-4f4e-b231-6972044f0376",
   "metadata": {},
   "outputs": [],
   "source": [
    "# mean of plants assigned fert A\n",
    "mean_A_obs = plant_df.loc[plant_df[\"fert\"] == \"A\", \"tomatoes\"].mean() # note the use of .loc[]\n",
    "\n",
    "# mean of plants assigned fert B\n",
    "mean_B_obs = plant_df.loc[plant_df[\"fert\"] == \"B\", \"tomatoes\"].mean()\n",
    "\n",
    "# mean difference\n",
    "obs_diff =  mean_B_obs - mean_A_obs\n",
    "\n",
    "print(f\"The mean tomato yield using the standard fertilizer was {round(mean_A_obs, 3)} lbs \"\n",
    "      + f\"while using the new fertlizer yielded {round(mean_B_obs, 3)} lbs on average. \" \n",
    "      + f\"The difference is {round(obs_diff, 3)} lbs.\")"
   ]
  },
  {
   "cell_type": "markdown",
   "id": "ef1612ac-9289-476e-8924-60f9fe167851",
   "metadata": {
    "slideshow": {
     "slide_type": "subslide"
    }
   },
   "source": [
    "- Since the assignment of fertilizers to plants is random it could have happened another way.\n",
    "\n",
    "- If the null hypothesis is true, the difference we observed happened only by chance; i.e., only because we happened to randomly shuffle the cards in the particular order.\n",
    "\n",
    "- We can use the `pandas` `sample` function with `frac` and `replace` parameters to simulate these other potential assignments of fertilizers to plants.\n",
    "\n",
    "    + `frac=1` - specifies the fraction of rows to return (1 means return all the rows)\n",
    "    + `replace=False` - specifies to sample without replacement"
   ]
  },
  {
   "cell_type": "code",
   "execution_count": null,
   "id": "f6598bf1-e89d-4f1c-920a-41e67d82fdd2",
   "metadata": {
    "slideshow": {
     "slide_type": "subslide"
    }
   },
   "outputs": [],
   "source": [
    "plant_df[\"fert\"].sample(frac=1, replace=False)"
   ]
  },
  {
   "cell_type": "markdown",
   "id": "067fc15b-afde-43c3-8900-4d7af636ffa3",
   "metadata": {
    "slideshow": {
     "slide_type": "fragment"
    }
   },
   "source": [
    "- Notice that the index is out of order.\n",
    "\n",
    "- We are going to want to have an ordered index later on.  \n",
    "\n",
    "- To do this we can use the `pandas` function `reset_index(drop=True)`. \n",
    "\n",
    "- `drop=True` indicates that we don't want to keep the previous index. "
   ]
  },
  {
   "cell_type": "code",
   "execution_count": null,
   "id": "8971c69e-aee5-4f6b-981a-c3bb9f257148",
   "metadata": {
    "slideshow": {
     "slide_type": "subslide"
    }
   },
   "outputs": [],
   "source": [
    "plant_df[\"fert\"].sample(frac=1, replace=False).reset_index(drop=True)"
   ]
  },
  {
   "cell_type": "markdown",
   "id": "c8bc0791-a51a-45f8-a58a-c4327dfed0d9",
   "metadata": {
    "slideshow": {
     "slide_type": "subslide"
    }
   },
   "source": [
    "## Steps for the hypothesis test\n",
    "\n",
    "### 1. Hypotheses\n",
    "\n",
    "Two claims:\n",
    "\n",
    "1. There is no difference in the mean weight between fertilizers A and B.  This is called the null hypothesis.\n",
    "\n",
    "2. There is no difference in the mean weight between fertilizers A and B.  This is called the alternative hypothesis."
   ]
  },
  {
   "cell_type": "markdown",
   "id": "6b8e2ad1-1fc5-4c4f-b9e7-f38f51063918",
   "metadata": {
    "slideshow": {
     "slide_type": "subslide"
    }
   },
   "source": [
    "### 2. Test statistic\n",
    "\n",
    "The test statistic is a number, calculated from the data, that captures what we're interested in.\n",
    "\n",
    "What would be a useful test statistic for this study?  1.833 (`obs_diff`)"
   ]
  },
  {
   "cell_type": "markdown",
   "id": "a08b2dc4-437f-48af-a5f7-9e50bb5fad52",
   "metadata": {
    "slideshow": {
     "slide_type": "subslide"
    }
   },
   "source": [
    "### 3. Simulate what the null hypothesis predicts will happen\n",
    "\n",
    "- If the null hypothesis is true then the weight of tomatoes for each plant will be the same regardless of how they are labeled. That means we can randomly shuffle the labels and the mean difference should be close to 0.\n",
    "\n",
    "Assume that there is no difference in mean weight between A and B (i.e., the null hypothesis is true).  Now, consider the following **thought experiment (we don't actually do this, this is a model for the data)**:\n",
    "\n",
    "- Imagine we have 5 playing cards labelled `A` and 6 cards labelled `B`.\n",
    "\n",
    "\n",
    "- Shuffle the cards ...\n",
    "\n",
    "\n",
    "- Assign the cards to the 11 plants then calculate the mean weight difference between `A` and `B`.  This is one simulated value of the test statistic. \n",
    "\n",
    "\n",
    "- Shuffle the cards again ...\n",
    "\n",
    "\n",
    "- Assign the cards to the 11 plants then calculate the mean weight difference between `A` and `B`.  This is second simulated value of the test statistic. \n",
    "\n",
    "\n",
    "- Continue shuffling, assigning , and computing the mean difference."
   ]
  },
  {
   "cell_type": "markdown",
   "id": "87a36f01-5c5c-4728-9e7c-24300b228469",
   "metadata": {
    "slideshow": {
     "slide_type": "subslide"
    }
   },
   "source": [
    "## Simulating what the null hypothesis predicts\n",
    "\n",
    "Let's assume the null hypothesis is true and simulate what the null hypothesis predicts.\n",
    "\n",
    "### Step 1\n",
    "\n",
    "Randomly shuffle the assignment of fertilizers to plants. "
   ]
  },
  {
   "cell_type": "code",
   "execution_count": null,
   "id": "b733b0c9-feaf-423d-a3c1-cf1113ad7c50",
   "metadata": {},
   "outputs": [],
   "source": [
    "fert_sim = plant_df[\"fert\"].sample(frac=1, replace=False).reset_index(drop=True)\n",
    "fert_sim"
   ]
  },
  {
   "cell_type": "markdown",
   "id": "3faf11f1-c8af-4570-969b-808060aa3447",
   "metadata": {
    "slideshow": {
     "slide_type": "subslide"
    }
   },
   "source": [
    "### Step 2\n",
    "\n",
    "Compute the mean difference between fertilizers A and B."
   ]
  },
  {
   "cell_type": "code",
   "execution_count": null,
   "id": "1fd7abbc-a219-48b9-9b24-db9a74445cbe",
   "metadata": {},
   "outputs": [],
   "source": [
    "mean_A = plant_df.loc[fert_sim == \"A\", \"tomatoes\"].mean()\n",
    "\n",
    "mean_B = plant_df.loc[fert_sim == \"B\", \"tomatoes\"].mean()\n",
    "\n",
    "sim_diff = mean_B - mean_A\n",
    "\n",
    "sim_diff"
   ]
  },
  {
   "cell_type": "markdown",
   "id": "5928541e-659b-4c9e-b296-cbea290f1715",
   "metadata": {
    "slideshow": {
     "slide_type": "subslide"
    },
    "tags": []
   },
   "source": [
    "### Step 3\n",
    "\n",
    "Repeat Steps 1 and 2 a large number of times (e.g., 5000) to get the distribution of mean differences. "
   ]
  },
  {
   "cell_type": "code",
   "execution_count": null,
   "id": "15509508-7971-4415-b675-239cb4640000",
   "metadata": {},
   "outputs": [],
   "source": [
    "simulated_diffs = []\n",
    "\n",
    "for _ in range(5000):\n",
    "    fert_sim = plant_df[\"fert\"].sample(frac=1, replace=False).reset_index(drop=True)\n",
    "    mean_A = plant_df.loc[fert_sim == \"A\", \"tomatoes\"].mean()\n",
    "    mean_B = plant_df.loc[fert_sim == \"B\", \"tomatoes\"].mean()\n",
    "    sim_diff = mean_B - mean_A\n",
    "    simulated_diffs.append(sim_diff)\n",
    "    "
   ]
  },
  {
   "cell_type": "code",
   "execution_count": null,
   "id": "df3ba009-63bc-4533-8742-d16e3c02e502",
   "metadata": {
    "slideshow": {
     "slide_type": "subslide"
    }
   },
   "outputs": [],
   "source": [
    "plt.hist(simulated_diffs, edgecolor=\"white\", color=\"lightgrey\", bins=np.arange(-12.2, 13.8, 2))\n",
    "plt.vlines(x=obs_diff, ymin=10, ymax=1150, color=\"coral\", linewidth=3) # a vertical line\n",
    "plt.scatter(obs_diff, 0, color=\"coral\", s=150, marker=7);              # an arrowhead\n",
    "obs_diff"
   ]
  },
  {
   "cell_type": "markdown",
   "id": "fdcfcc68-03ae-4cb4-beb7-1673250a22f7",
   "metadata": {
    "slideshow": {
     "slide_type": "fragment"
    }
   },
   "source": [
    "- The histogram above shows the randomization distribution with the observed difference as the black line.\n",
    "\n",
    "- What proportion of the simulated differences are \"as unusual as or more than\" the observed mean difference of 1.833 assuming the null hypothesis of 0 difference?  This is known as the **p-value**."
   ]
  },
  {
   "cell_type": "code",
   "execution_count": null,
   "id": "795b3655-300b-4a47-9e71-89c9ea6e69a4",
   "metadata": {
    "slideshow": {
     "slide_type": "subslide"
    }
   },
   "outputs": [],
   "source": [
    "simulated_diffs_series = pd.Series(simulated_diffs)\n",
    "\n",
    "plt.hist(simulated_diffs_series, edgecolor=\"white\", color=\"lightgrey\", bins=np.arange(-12.2, 13.8, 2));\n",
    "plt.hist(simulated_diffs_series[abs(simulated_diffs_series) >= abs(obs_diff)], edgecolor=\"white\", color=\"orange\", alpha=.5, bins=np.arange(-12.2, 13.8, 2));\n",
    "plt.vlines(x=obs_diff, ymin=0, ymax=1150, color=\"orange\", linewidth=3)\n",
    "plt.vlines(x=-obs_diff, ymin=0, ymax=1150, color=\"orange\", linewidth=3);\n",
    "\n",
    "right_extreme_count = (simulated_diffs_series >= obs_diff).sum()\n",
    "left_extreme_count = (simulated_diffs_series <= -obs_diff).sum()\n",
    "\n",
    "\n",
    "all_extreme = right_extreme_count + left_extreme_count\n",
    "\n",
    "print(\"The number of simulated differences as far or further away from 0 difference as the observed mean difference is:\", all_extreme)\n",
    "\n",
    "pvalue = all_extreme / 5000\n",
    "\n",
    "print(\"The p-value is:\", pvalue)"
   ]
  },
  {
   "cell_type": "markdown",
   "id": "110a4d83-0946-471d-95c1-f2a9653b6582",
   "metadata": {
    "jp-MarkdownHeadingCollapsed": true,
    "slideshow": {
     "slide_type": "subslide"
    },
    "tags": []
   },
   "source": [
    "### Step 4\n",
    "\n",
    "Interpret the results.  \n",
    "\n",
    "Assuming that there is no difference in the mean tomato plant weights between A and B, 62% of simulations resulted in the absolute mean difference between the two fertilizers as large as or larger than the observed mean difference of 1.833. \n",
    "\n",
    "Therefore, there is little reason to doubt the null hypothesis that fertilizers produce similar yields."
   ]
  },
  {
   "cell_type": "markdown",
   "id": "e2f64210-5934-4e65-9284-45fcef90e577",
   "metadata": {
    "slideshow": {
     "slide_type": "subslide"
    }
   },
   "source": [
    "**Exercise**\n",
    "\n",
    "Suppose that in a similar study of two fertilizers effect on yield of tomatoes a similar simulation of 5000 yielded that 10 simulated absolute differences were greater than the observed difference (of 1.833).  How would this change your interpretation of the results?"
   ]
  },
  {
   "cell_type": "markdown",
   "id": "b3c07957-582e-42ac-85d2-3b1b2dda866b",
   "metadata": {
    "slideshow": {
     "slide_type": "subslide"
    }
   },
   "source": [
    "**Try on your own exercise:**\n",
    "\n",
    "Modify the simulation so that you compare the difference in medians instead of the difference in means."
   ]
  },
  {
   "cell_type": "code",
   "execution_count": null,
   "id": "44f70aaf-fb9b-4632-891f-d13237185a5d",
   "metadata": {},
   "outputs": [],
   "source": [
    "# hint: you can compute the observed difference as below:\n",
    "med_A_obs = plant_df.loc[plant_df[\"fert\"] == \"A\", \"tomatoes\"].median() \n",
    "med_B_obs = plant_df.loc[plant_df[\"fert\"] == \"B\", \"tomatoes\"].median()\n",
    "\n",
    "med_B_obs - med_A_obs"
   ]
  },
  {
   "cell_type": "markdown",
   "id": "ef1aec6d",
   "metadata": {
    "slideshow": {
     "slide_type": "slide"
    }
   },
   "source": [
    "What is the p-value for the case of Robert Swain?"
   ]
  },
  {
   "cell_type": "code",
   "execution_count": null,
   "id": "142384bb",
   "metadata": {},
   "outputs": [],
   "source": [
    "plt.hist(sim_counts, bins=bins, edgecolor=\"white\", color=\"grey\", density=True)\n",
    "plt.xlabel(\"Count in random sample\")\n",
    "plt.ylabel(\"Density\")\n",
    "plt.scatter(8, 0, color=\"coral\", s=150, marker=7);"
   ]
  },
  {
   "cell_type": "markdown",
   "id": "8cb5dab8",
   "metadata": {},
   "source": [
    "+  The simulated data is based on the assumption that the panel was selected fairly --- the null hypothesis.\n",
    "+  The observed data contained 8 black men out of 100 panel members.\n",
    "+  How many of the simulated values were as extreme or more than 8?"
   ]
  },
  {
   "cell_type": "markdown",
   "id": "e600855b",
   "metadata": {
    "slideshow": {
     "slide_type": "slide"
    }
   },
   "source": [
    "## Are mammals are larger or smaller than birds?\n"
   ]
  },
  {
   "cell_type": "markdown",
   "id": "65ab6620-6b81-489a-9b4c-992392199aeb",
   "metadata": {},
   "source": [
    "We want to use the birds and mammals common in the IUCN and Amniote Data files. Let's read them in."
   ]
  },
  {
   "cell_type": "code",
   "execution_count": null,
   "id": "0c8e601d",
   "metadata": {},
   "outputs": [],
   "source": [
    "import pandas as pd\n",
    "animal_iucn = pd.read_csv(\"animal_iucn.csv\")\n",
    "amniote_db = pd.read_csv(\"amniote_Database_Aug_2015.csv\")"
   ]
  },
  {
   "cell_type": "code",
   "execution_count": null,
   "id": "3b5b3c2f-ce31-40b2-8e72-6d24b6fc65d3",
   "metadata": {
    "slideshow": {
     "slide_type": "subslide"
    }
   },
   "outputs": [],
   "source": [
    "print(animal_iucn.columns)\n",
    "animal_iucn.shape"
   ]
  },
  {
   "cell_type": "code",
   "execution_count": null,
   "id": "ee557db4",
   "metadata": {
    "slideshow": {
     "slide_type": "subslide"
    }
   },
   "outputs": [],
   "source": [
    "print(amniote_db.columns)\n",
    "amniote_db.shape"
   ]
  },
  {
   "cell_type": "markdown",
   "id": "ea9ad66e-8de6-49f8-9955-409b92a498c6",
   "metadata": {
    "slideshow": {
     "slide_type": "subslide"
    }
   },
   "source": [
    "## Merge IUCN and Amniote DataFrames\n",
    "\n",
    "- We want to merge `Amniote_db` and `animal_iucn`\n",
    "- What column can we merge on?\n",
    "- The `'scientificName'` column in `animal_iucn` can be found in `Amniote_db` if we concatenate `'genus'`, `' '`, and `'species'`.\n",
    "- `+` concatenates (links) strings together in python. "
   ]
  },
  {
   "cell_type": "code",
   "execution_count": null,
   "id": "65488213-4487-4858-bb8f-975ebcf1c81c",
   "metadata": {},
   "outputs": [],
   "source": [
    "# an example of of concatenation\n",
    "\n",
    "string1 = \"IUCN\"\n",
    "\n",
    "string3 = \"is an interesting\"\n",
    "\n",
    "string4 = \"dataset.\"\n",
    "\n",
    "space = \" \"\n",
    "\n",
    "string1 + space + string3 + space + string4"
   ]
  },
  {
   "cell_type": "markdown",
   "id": "1ff38c46-12f4-4a88-bec0-33360b10987c",
   "metadata": {
    "slideshow": {
     "slide_type": "subslide"
    }
   },
   "source": [
    "Let's create a column called `\"sciname\"` in `Amniote_db`."
   ]
  },
  {
   "cell_type": "code",
   "execution_count": null,
   "id": "e8c4a86d",
   "metadata": {},
   "outputs": [],
   "source": [
    "sciname = amniote_db[\"genus\"] + \" \" + amniote_db[\"species\"]\n",
    "amniote_db[\"sciname\"] = sciname"
   ]
  },
  {
   "cell_type": "code",
   "execution_count": null,
   "id": "6e8ac227",
   "metadata": {},
   "outputs": [],
   "source": [
    "amniote_db[[\"genus\", \"species\", \"sciname\"]]"
   ]
  },
  {
   "cell_type": "markdown",
   "id": "64385256-29a4-478e-957c-85c41c2ca3c4",
   "metadata": {
    "slideshow": {
     "slide_type": "subslide"
    }
   },
   "source": [
    "### `merge`\n",
    "\n",
    "Use the `pandas` `merge` function to join `Amniote_iucn` and `animal_iucn`."
   ]
  },
  {
   "cell_type": "code",
   "execution_count": null,
   "id": "b4e8d4de",
   "metadata": {},
   "outputs": [],
   "source": [
    "amniote_iucn = amniote_db.merge(animal_iucn, left_on=\"sciname\", right_on=\"scientificName\")\n",
    "amniote_iucn[[\"scientificName\", \"sciname\"]].head()"
   ]
  },
  {
   "cell_type": "markdown",
   "id": "952d1ef4-6978-493b-92fe-b3af0160591e",
   "metadata": {
    "slideshow": {
     "slide_type": "subslide"
    }
   },
   "source": [
    "- We want to compare body mass between `\"Aves\"` and `\"Mammalia\"`. \n",
    "\n",
    "- So, let's create a DataFrame with only these two classes."
   ]
  },
  {
   "cell_type": "code",
   "execution_count": null,
   "id": "8966cfab-945b-489d-a786-ffdc346f33de",
   "metadata": {},
   "outputs": [],
   "source": [
    "aves = amniote_iucn[\"class\"] == \"Aves\"\n",
    "mam = amniote_iucn[\"class\"] == \"Mammalia\"\n",
    "\n",
    "# select aves or mammals\n",
    "amniote_iucn_aves_mam = amniote_iucn[aves | mam]"
   ]
  },
  {
   "cell_type": "code",
   "execution_count": null,
   "id": "2a9d09c0-107a-4dc9-81eb-2539bb38584a",
   "metadata": {},
   "outputs": [],
   "source": [
    "amniote_iucn_aves_mam[\"class\"].value_counts()"
   ]
  },
  {
   "cell_type": "markdown",
   "id": "57ae9df1-cc1f-4817-b0c3-59c1405c1d3a",
   "metadata": {
    "slideshow": {
     "slide_type": "subslide"
    }
   },
   "source": [
    "The observed weight distributions in the two groups is:"
   ]
  },
  {
   "cell_type": "code",
   "execution_count": null,
   "id": "69807bdd",
   "metadata": {},
   "outputs": [],
   "source": [
    "amniote_iucn_aves_mam.groupby(\"class\")[\"adult_body_mass_g\"].describe()"
   ]
  },
  {
   "cell_type": "markdown",
   "id": "19cd05c9-f47d-45f5-8a6c-bd9b3f664471",
   "metadata": {
    "slideshow": {
     "slide_type": "subslide"
    }
   },
   "source": [
    "Extract the group means."
   ]
  },
  {
   "cell_type": "code",
   "execution_count": null,
   "id": "01993697",
   "metadata": {},
   "outputs": [],
   "source": [
    "mean_table = amniote_iucn_aves_mam.groupby(\"class\")[\"adult_body_mass_g\"].mean()\n",
    "mean_table"
   ]
  },
  {
   "cell_type": "markdown",
   "id": "f7c61cec-e969-4e1d-9b1f-2f366c4e59e4",
   "metadata": {
    "slideshow": {
     "slide_type": "subslide"
    }
   },
   "source": [
    "Compute the observed difference."
   ]
  },
  {
   "cell_type": "code",
   "execution_count": null,
   "id": "d6c11d48",
   "metadata": {},
   "outputs": [],
   "source": [
    "observed_mean_difference = mean_table.iloc[1] - mean_table.iloc[0]\n",
    "observed_mean_difference "
   ]
  },
  {
   "cell_type": "markdown",
   "id": "ec40cb28-774d-4a75-ba09-43c7c454ba59",
   "metadata": {
    "slideshow": {
     "slide_type": "fragment"
    }
   },
   "source": [
    "- So, mammals are on average 132,658 grams larger than aves.\n",
    "\n",
    "- Could this difference be due to the sample of mammmals and aves in our data?  In other words, is this due to chance? "
   ]
  },
  {
   "cell_type": "markdown",
   "id": "25437607",
   "metadata": {
    "slideshow": {
     "slide_type": "subslide"
    }
   },
   "source": [
    "## Steps for the hypothesis test\n",
    "\n",
    "### 1. Hypotheses\n",
    "\n",
    "Two claims:\n",
    "\n",
    "1. There is no difference in the mean body weight between mammals and Aves. This is the null hypothesis.\n",
    "\n",
    "2. There is a difference in the mean body weight between mammals and Aves. This is called the alternative hypothesis."
   ]
  },
  {
   "cell_type": "markdown",
   "id": "e2d2caf0",
   "metadata": {
    "slideshow": {
     "slide_type": "subslide"
    }
   },
   "source": [
    "### 2. Test statistic\n",
    "\n",
    "The test statistic is a number, calculated from the data, that captures what we're interested in.\n",
    "\n",
    "What would be a useful test statistic for this study?  `observed_mean_difference`"
   ]
  },
  {
   "cell_type": "markdown",
   "id": "81f65603",
   "metadata": {
    "slideshow": {
     "slide_type": "subslide"
    }
   },
   "source": [
    "### 3. Simulate what the null hypothesis predicts will happen\n",
    "\n",
    "- If the null hypothesis is true then the mean weight in mammals should be the same as aves.  This implies that we can randomly shuffle the labels and the mean difference should be close to 0.\n",
    "\n",
    "\n",
    "- Imagine we have 8644 playing cards labelled `Aves` and 4490 cards labelled `Mammalia`.\n",
    "\n",
    "\n",
    "- Shuffle the cards ...\n",
    "\n",
    "\n",
    "- Assign the cards to the 13,134 animals then calculate the mean difference between `Aves` and `Mammalia`.  This is one simulated value of the test statistic. \n",
    "\n",
    "\n",
    "- Shuffle the cards again ...\n",
    "\n",
    "\n",
    "- Assign the cards to the 13,134 animals then calculate the mean difference between `Aves` and `Mammalia`.  This is one simulated value of the test statistic. \n",
    "\n",
    "\n",
    "- Continue shuffling, assigning to neigbourhoods, and computing the mean difference."
   ]
  },
  {
   "cell_type": "markdown",
   "id": "eb46f23f-ab2d-4987-a622-21b2948077c6",
   "metadata": {
    "slideshow": {
     "slide_type": "subslide"
    }
   },
   "source": [
    "## Simulating what the null hypothesis predicts\n",
    "\n",
    "### Step 1\n",
    "\n",
    "Randomly shuffle the assignment of `Aves` and `Mammalia` to animals"
   ]
  },
  {
   "cell_type": "code",
   "execution_count": null,
   "id": "82151d2a-85e2-47fc-a33f-0f081706ebd8",
   "metadata": {},
   "outputs": [],
   "source": [
    "avemam_sim = amniote_iucn_aves_mam[\"class\"].sample(frac=1, replace=False).reset_index(drop=True)\n",
    "avemam_sim"
   ]
  },
  {
   "cell_type": "markdown",
   "id": "1e8b8e76-bc0d-4094-a9e4-f43ef779d2c4",
   "metadata": {
    "slideshow": {
     "slide_type": "subslide"
    }
   },
   "source": [
    "## Step 2\n",
    "\n",
    "Calculate the mean difference for the shuffled labels."
   ]
  },
  {
   "cell_type": "code",
   "execution_count": null,
   "id": "a2e3dd85-5a90-483c-ac5f-6411656973ab",
   "metadata": {},
   "outputs": [],
   "source": [
    "ave_mean_sim = amniote_iucn_aves_mam.loc[avemam_sim == \"Aves\", \"adult_body_mass_g\"].mean()\n",
    "\n",
    "mam_mean_sim = amniote_iucn_aves_mam.loc[avemam_sim == \"Mammalia\", \"adult_body_mass_g\"].mean()\n",
    "\n",
    "sim_diff = Mam_mean_sim - Ave_mean_sim\n",
    "\n",
    "sim_diff"
   ]
  },
  {
   "cell_type": "markdown",
   "id": "ead47d19-38d0-4467-9396-d004c9c4abb3",
   "metadata": {
    "slideshow": {
     "slide_type": "subslide"
    },
    "tags": []
   },
   "source": [
    "### Step 3\n",
    "\n",
    "Repeat Steps 1 and 2 a large number of times (e.g., 10000) to get the distribution of mean differences. "
   ]
  },
  {
   "cell_type": "code",
   "execution_count": null,
   "id": "42a0069c-3e04-4142-acda-5f6282b64eed",
   "metadata": {},
   "outputs": [],
   "source": [
    "simulated_diffs = []\n",
    "\n",
    "for _ in range(10000):\n",
    "    avemam_sim = amniote_iucn_aves_mam[\"class\"].sample(frac=1, replace=False).reset_index(drop=True) # shuffling bird + mammal labels\n",
    "    ave_mean_sim = amniote_iucn_aves_mam.loc[avemam_sim == \"Aves\", \"adult_body_mass_g\"].mean() # calculate mean bird weight\n",
    "    mam_mean_sim = amniote_iucn_aves_mam.loc[avemam_sim == \"Mammalia\", \"adult_body_mass_g\"].mean()  # mean mammal weight\n",
    "    sim_diff = mam_mean_sim - ave_mean_sim # difference in simulated mammal and bird weight\n",
    "    simulated_diffs.append(sim_diff)\n",
    "    "
   ]
  },
  {
   "cell_type": "code",
   "execution_count": null,
   "id": "2e7f435d-ea99-4d5e-9cb0-955d55375983",
   "metadata": {
    "slideshow": {
     "slide_type": "subslide"
    }
   },
   "outputs": [],
   "source": [
    "import matplotlib.pyplot as plt\n",
    "\n",
    "plt.hist(simulated_diffs, edgecolor=\"white\", color=\"teal\")\n",
    "plt.vlines(x=observed_mean_difference , ymin=0, ymax=2000, color=\"pink\", linewidth=3);"
   ]
  },
  {
   "cell_type": "markdown",
   "id": "ad395309-b6af-457a-a650-9e9162513015",
   "metadata": {
    "slideshow": {
     "slide_type": "fragment"
    }
   },
   "source": [
    "- The histogram above shows the randomization distribution with the observed difference as the pink line.\n",
    "\n",
    "- What proportion of the simulated differences are larger than the observed mean difference of 35829.4?  This is known as the **p-value**."
   ]
  },
  {
   "cell_type": "code",
   "execution_count": null,
   "id": "50974999-7730-4aec-a3d8-a40fdbc441f6",
   "metadata": {
    "slideshow": {
     "slide_type": "subslide"
    }
   },
   "outputs": [],
   "source": [
    "simulated_diffs_series = pd.Series(simulated_diffs)\n",
    "\n",
    "right_extreme_count = (simulated_diffs_series >= observed_mean_difference).sum()\n",
    "left_extreme_count = (simulated_diffs_series <= -observed_mean_difference).sum()\n",
    "\n",
    "\n",
    "all_extreme = right_extreme_count + left_extreme_count\n",
    "\n",
    "\n",
    "print(\"The number of simulated differences greater than the observed difference is:\", all_extreme)\n",
    "\n",
    "pvalue = all_extreme / 10000\n",
    "\n",
    "print(\"The p-value is:\", pvalue)"
   ]
  },
  {
   "cell_type": "markdown",
   "id": "707231f5-2491-4f34-b486-bd7a5be5602e",
   "metadata": {
    "slideshow": {
     "slide_type": "subslide"
    },
    "tags": []
   },
   "source": [
    "### Step 4\n",
    "\n",
    "Interpret the results.  \n",
    "\n",
    "Assuming that there is no difference in the mean weights between Aves and Mammalia, 0% of simulations had as large or larger value than the observed mean difference of 35829.4.  Therefore, there is reason to doubt the null hypothesis that one group is larger than the other."
   ]
  },
  {
   "cell_type": "markdown",
   "id": "5f599144",
   "metadata": {
    "slideshow": {
     "slide_type": "subslide"
    }
   },
   "source": [
    "_Does the biological class **cause** a higher weight in Mammalia?_"
   ]
  },
  {
   "cell_type": "markdown",
   "id": "b48d13f2",
   "metadata": {
    "slideshow": {
     "slide_type": "slide"
    }
   },
   "source": [
    "## Causality\n",
    "\n",
    "Imagine...\n",
    "\n",
    "<div class=\"grid-row\">\n",
    "<div class=\"col-sm-7\">\n",
    "<ul>\n",
    "<li>You have a headache.</li>\n",
    "</ul>\n",
    "</div>\n",
    "<div class=\"col-sm-5\"><img src=\"headache.svg\" />\n",
    "</div>\n",
    "\n"
   ]
  },
  {
   "cell_type": "markdown",
   "id": "4c01e54f",
   "metadata": {
    "slideshow": {
     "slide_type": "subslide"
    }
   },
   "source": [
    "<div class=\"grid-row\">\n",
    "<div class=\"col-sm-7\">\n",
    "<ul>\n",
    "<li>You take an Aspirin at 10:00 to relieve your pain.</li>\n",
    "<li>Your pain goes away after <strong>30 minutes</strong>.</li>\n",
    "</ul>\n",
    "</div>\n",
    "<div class=\"col-sm-5\"><img src=\"pill.svg\" />\n",
    "</div>\n",
    "\n"
   ]
  },
  {
   "cell_type": "markdown",
   "id": "b260fe4c",
   "metadata": {
    "slideshow": {
     "slide_type": "subslide"
    }
   },
   "source": [
    "<div class=\"grid-row\">\n",
    "<div class=\"col-sm-7\">\n",
    "<ul>\n",
    "<li>Now, you go back in time to 10:00 and you don't take an Aspirin.</li>\n",
    "<li>Your pain goes away after 48 minutes.</li>\n",
    "</ul>\n",
    "</div>\n",
    "<div class=\"col-sm-5\"><img src=\"clock.svg\" />\n",
    "</div>\n",
    "\n"
   ]
  },
  {
   "cell_type": "markdown",
   "id": "be9c56bd",
   "metadata": {
    "slideshow": {
     "slide_type": "subslide"
    }
   },
   "source": [
    "The **causal effect** of taking an Aspirin is 18 minutes (48 minutes - 30 minutes).\n"
   ]
  },
  {
   "cell_type": "markdown",
   "id": "eed6c6ce",
   "metadata": {},
   "source": [
    "![](causal.jpeg)"
   ]
  },
  {
   "cell_type": "markdown",
   "id": "c3593c79",
   "metadata": {
    "slideshow": {
     "slide_type": "subslide"
    }
   },
   "source": [
    "## Potential outcomes and randomized control trials\n",
    "\n",
    "- Establishing causality involves comparing these **potential outcomes**.  \n",
    "\n",
    "- The problem is that we can never observe both taking an Aspirin and not taking as Aspirin (in the same person at the same time under the same conditions).\n",
    "\n",
    "- A close approximation to comparing potential outcomes is to compare two groups of people that are similar on average (age, sex, income, etc.) except one group is allowed to take Aspirin after a headache and the other group takes a fake Aspirin (sugar pill/placebo) after a headache.  This is an example of a randomized control trial.\n",
    "\n",
    "- Then the mean difference between time to pain relief should be due to Aspirin and not other factors related to why people may or may not take an Aspirin.  \n",
    "\n"
   ]
  },
  {
   "cell_type": "markdown",
   "id": "4c51a434-a072-4b75-940e-2718a103f660",
   "metadata": {
    "slideshow": {
     "slide_type": "slide"
    }
   },
   "source": [
    "## Review\n",
    "\n",
    "- The tomato plant example is an example of a test where the conclusion is indeterminate. The observed difference between groups is plausible under the model that the fertilizer had no effect on the weight of tomatoes. \n",
    "\n",
    "- If the null hypothesis is true then the two results from each particular pot will be exchangeable.  But, this hypothesis could be false if, say, some of the plants were diseased.\n",
    "\n",
    "- The example investigating the weight difference between two biological classes provided strong evidence for difference in weights; but the hypothesis analysis doesn't prove a cause-and-effect relationship.\n",
    "\n",
    "- It would be more reasonable to believe another factor/attribute not studied in the analysis _caused_ the difference in weights AND labelling of the biological classes."
   ]
  }
 ],
 "metadata": {
  "celltoolbar": "Slideshow",
  "kernelspec": {
   "display_name": "eeb125",
   "language": "python",
   "name": "python3"
  },
  "language_info": {
   "codemirror_mode": {
    "name": "ipython",
    "version": 3
   },
   "file_extension": ".py",
   "mimetype": "text/x-python",
   "name": "python",
   "nbconvert_exporter": "python",
   "pygments_lexer": "ipython3",
   "version": "3.10.13"
  }
 },
 "nbformat": 4,
 "nbformat_minor": 5
}
