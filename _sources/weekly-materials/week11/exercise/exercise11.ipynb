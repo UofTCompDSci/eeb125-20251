{
 "cells": [
  {
   "cell_type": "markdown",
   "metadata": {},
   "source": [
    "# Week 11: Exercises \n",
    "\n",
    "_A practice exercise with sample solutions._"
   ]
  },
  {
   "cell_type": "markdown",
   "metadata": {},
   "source": [
    "## Introduction\n",
    "\n",
    "For these exercises, we will investigate the predominance of coral presence in relation to temperature. We will analyze data coming from six sites within a coral reef in French Polynesia. Scientists collected data there from 2005 to 2022. The sampling design involves swimming away from the shore over the corals, and every 10 meters take a photo of the bottom surface, using a square of a defined size. This kind of data collection uses something called a \"quadrat sampling design along several linear transects increasing in depth\".\n",
    "\n",
    "Once in the lab, the biodiversity is estimated in terms of surface cover. How much area of the square is occupied by each species or abiotic component (E.g. corals, algae, sand). \n",
    "Since the linear transect runs from towards the inner ocean, as the scientists swimm off-shore, depth increases and temperature decreases.\n",
    "\n",
    "We will explore how the surface cover changes as these two conditions change.\n",
    "\n",
    "## Main Question\n",
    "\n",
    "_Questions: At which temperature do we find a greater percentage cover of corals? Do corals prefer warmer temperatures than the mean temperature across sites or colder temperatures?_\n"
   ]
  },
  {
   "cell_type": "code",
   "execution_count": null,
   "metadata": {},
   "outputs": [],
   "source": [
    "import numpy as np\n",
    "import pandas as pd\n",
    "import matplotlib.pyplot as plt"
   ]
  },
  {
   "cell_type": "markdown",
   "metadata": {},
   "source": [
    "## Hypothesis testing\n",
    "\n",
    "### Exercise 1:\n",
    "\n",
    "Create the following pandas dataframes:\n",
    "\n",
    "+ `corals_data`: the `DataFrame` created by reading the `LTER_data` file.\n",
    "\n",
    "+ `corals_clean`: the `DataFrame` with cleaner column names of your choice."
   ]
  },
  {
   "cell_type": "code",
   "execution_count": null,
   "metadata": {},
   "outputs": [],
   "source": [
    "# Write your answer to Exercise 1 in this cell\n"
   ]
  },
  {
   "cell_type": "code",
   "execution_count": null,
   "id": "ae187736",
   "metadata": {},
   "outputs": [],
   "source": [
    "# Sample solution\n",
    "corals_data = pd.read_csv(\"LTER_data.csv\")\n",
    "\n",
    "co_columns = corals_data.columns\n",
    "\n",
    "# We\"re replacing spaces with _ and \"%\" with \"percent\" and so on.\n",
    "co_columns_clean = co_columns.str.lower().str.replace(\n",
    "    \" \", \"_\").str.replace(\n",
    "    \"%\", \"percent\").str.replace(\n",
    "    \"metres\", \"m\").str.replace(\n",
    "    \"celsius\", \"c\").str.replace(\n",
    "    \"temperature\", \"temp\").str.strip(\"_\")\n",
    "\n",
    "corals_data.columns = co_columns_clean\n",
    "\n",
    "corals_clean = corals_data\n",
    "corals_clean"
   ]
  },
  {
   "cell_type": "code",
   "execution_count": null,
   "metadata": {},
   "outputs": [],
   "source": [
    "# Check your column names:\n",
    "list(corals_clean.columns)"
   ]
  },
  {
   "cell_type": "markdown",
   "metadata": {},
   "source": [
    "### Exercise 2\n",
    "\n",
    "Select the columns relevant to this analysis. Those are:\n",
    "\n",
    "+ `site`\n",
    "+ `year`\n",
    "+ `temp_c`\n",
    "+ `corals_percent`\n",
    "\n",
    "Name the final result `corals_select_data_raw`."
   ]
  },
  {
   "cell_type": "code",
   "execution_count": null,
   "metadata": {},
   "outputs": [],
   "source": [
    "# Write your answer to Exercise 2 in this cell\n"
   ]
  },
  {
   "cell_type": "code",
   "execution_count": null,
   "id": "89c7b98d",
   "metadata": {},
   "outputs": [],
   "source": [
    "# Sample solution\n",
    "corals_select_data_raw = corals_data[[\"site\",\n",
    "                                      \"year\",\n",
    "                                      \"temp_c\",\n",
    "                                      \"corals_percent\"]]\n",
    "\n",
    "corals_select_data_raw"
   ]
  },
  {
   "cell_type": "markdown",
   "metadata": {},
   "source": [
    "### Exercise 3\n",
    "\n",
    "A quadrat is a square in the grid.\n",
    "\n",
    "Make a copy of `corals_select_data_raw` and name it `corals_select_data`.\n",
    "\n",
    "Create a column indicating whether a quadrat has a greater percentage surface area of coral surface area. \n",
    "\n",
    "Create a column in `corals_select_data` named `\"is_percent_corals_over_50\"` that has the value `1` if the quadrat has a percentage surface area of corals greater than or equal to 50%, or otherwise, has the value `0`."
   ]
  },
  {
   "cell_type": "code",
   "execution_count": null,
   "metadata": {},
   "outputs": [],
   "source": [
    "# Write your answer to Exercise 3 in this cell\n"
   ]
  },
  {
   "cell_type": "code",
   "execution_count": null,
   "id": "9be383e8",
   "metadata": {},
   "outputs": [],
   "source": [
    "# Sample solution\n",
    "corals_select_data = corals_select_data_raw.copy()\n",
    "\n",
    "corals_select_data.loc[corals_select_data[\"corals_percent\"] >= 50.0, \n",
    "                       \"is_percent_corals_over_50\"] = 1 \n",
    "corals_select_data.loc[corals_select_data[\"corals_percent\"] < 50.0,\n",
    "                       \"is_percent_corals_over_50\"] = 0\n",
    "\n",
    "corals_select_data"
   ]
  },
  {
   "cell_type": "markdown",
   "metadata": {
    "tags": []
   },
   "source": [
    "### Exercise 4\n",
    "\n",
    "Create a function to compute the difference in mean temperature between quadrats with lower coral surface area and greater coral surface area.\n",
    "\n",
    "Name the function `mean_diff_temperature_by_coral_sa`.\n",
    "\n",
    "The function has one parameter:\n",
    "+ `data`: the `DataFrame` containing information about the coral surface area by quadrat and by temperature.\n",
    "\n",
    "Using column `\"temp_c\"` in `data`, your function should compute the mean temperature of \n",
    " of all quadrats belonging to the two groups indicated in `is_percent_corals_over_50`.\n",
    "\n",
    "The function then returns that difference in mean temperature."
   ]
  },
  {
   "cell_type": "code",
   "execution_count": null,
   "metadata": {},
   "outputs": [],
   "source": [
    "# Write your answer to Exercise 4 in this cell\n"
   ]
  },
  {
   "cell_type": "code",
   "execution_count": null,
   "id": "a149a2df",
   "metadata": {},
   "outputs": [],
   "source": [
    "# Sample solution\n",
    "def mean_diff_temperature_by_coral_sa(data):\n",
    "    \n",
    "    mean_temp_high_coral_sa = data.loc[data[\"is_percent_corals_over_50\"] == 1, \"temp_c\"].mean()\n",
    "    \n",
    "    mean_temp_low_coral_sa = data.loc[data[\"is_percent_corals_over_50\"] == 0, \"temp_c\"].mean()\n",
    "    \n",
    "    return mean_temp_low_coral_sa - mean_temp_high_coral_sa"
   ]
  },
  {
   "cell_type": "markdown",
   "metadata": {},
   "source": [
    "### Exercise 5\n",
    "\n",
    "Call your function to calculate the observed difference in mean temperature between quadrats with low coral surface area and greater coral surface area, and name your result `observed_diff_in_mean_temperature`.\n",
    "\n",
    "(Later on, you're going to call that function inside a for loop to compute a sampling distribution.)"
   ]
  },
  {
   "cell_type": "code",
   "execution_count": null,
   "metadata": {},
   "outputs": [],
   "source": [
    "# Write your answer to Exercise 5 in this cell\n"
   ]
  },
  {
   "cell_type": "code",
   "execution_count": null,
   "id": "45eb6217",
   "metadata": {},
   "outputs": [],
   "source": [
    "# Sample solution\n",
    "observed_diff_in_mean_temperature = mean_diff_temperature_by_coral_sa(corals_select_data)\n",
    "\n",
    "observed_diff_in_mean_temperature"
   ]
  },
  {
   "cell_type": "markdown",
   "metadata": {},
   "source": [
    "### Exercise 6\n",
    "\n",
    "Now we're going to shuffle the two groups (the 1\"s and 0's marking whether a sample has high or low coral coverage) in order to determine if there is a meaningful difference if the group assignment is random. (This is equivalent to testing for a difference assuming the null hypothesis.)\n",
    "\n",
    "Write a helper function that shuffles our labels (values) found in the column `is_percent_corals_over_50`. Name the function `shuffle_labels`.\n",
    "\n",
    "The function will have one parameter:\n",
    "+ `data`: the `DataFrame` containing information about the coral surface area by quadrat AND temperature.\n",
    "\n",
    "Your function will return a series that has shuffled the labels in the column `is_percent_corals_over_50`.\n"
   ]
  },
  {
   "cell_type": "code",
   "execution_count": null,
   "metadata": {},
   "outputs": [],
   "source": [
    "# Write your answer to Exercise 6 in this cell\n"
   ]
  },
  {
   "cell_type": "code",
   "execution_count": null,
   "id": "a3a54a9c",
   "metadata": {},
   "outputs": [],
   "source": [
    "# Solution, delete to create handout\n",
    "def shuffle_labels(data):\n",
    "    \n",
    "    return data[\"is_percent_corals_over_50\"].sample(\n",
    "        frac=1, replace=False).reset_index(drop=True)"
   ]
  },
  {
   "cell_type": "markdown",
   "metadata": {},
   "source": [
    "### Exercise 7 \n",
    "\n",
    "Simulate the sample means to generate a sampling distribution.\n",
    "\n",
    "Our null hypothesis is that there is no difference in sampling means between the two groups.\n",
    "\n",
    "Here, we will write code for the machinery of our hypothesis test. Specifically, we will simulate samples under assumption of the null hypothesis — that is, we will generate a sampling distribution of the difference in mean temperature between our two groups of quadrats.\n",
    "\n",
    "Brace yourselves.\n",
    "\n",
    "We're going to collect random sampling distribution of mean differences in a list named `resample_test_statistics`. We will use this list to plot a histogram.\n",
    "\n",
    "Here are the details:\n",
    "\n",
    "+ Initialize `resample_test_statistics` as the empty list. (In the for loop, you'll append to this list.)\n",
    "+ Write a for loop to collect 1000 outcomes.\n",
    "  - Each iteration, call your `shuffle_labels` function to shuffle the labels of column `\"is_percent_corals_over_50\"` from `corals_shuffled_data`. Assign these shuffled labels to the column `\"is_percent_corals_over_50\"` in the `corals_shuffled_data` dataframe.\n",
    "  - Now call your `mean_diff_temperature_by_coral_sa` function to calculate the difference in mean temperature between quadrats with low and high coral surface area in your random shuffled sample. Name this value `mean_diff`.\n",
    "  - Append `mean_diff` to `resample_test_statistics`.\n",
    "+ Outside of the for loop, call `pd.Series` to create a series based on list `resample_test_statistics`."
   ]
  },
  {
   "cell_type": "code",
   "execution_count": null,
   "metadata": {},
   "outputs": [],
   "source": [
    "# Write your answer to Exercise 7 in this cell\n"
   ]
  },
  {
   "cell_type": "code",
   "execution_count": null,
   "id": "6266b68a",
   "metadata": {},
   "outputs": [],
   "source": [
    "# Sample solution\n",
    "# np.random.seed(2) # if you wish to keep the same values\n",
    "\n",
    "corals_shuffled_data = corals_select_data.copy()\n",
    "\n",
    "resample_test_statistics = []\n",
    "\n",
    "for _ in range(1000):\n",
    "    \n",
    "    resampled_labels = shuffle_labels(corals_shuffled_data)\n",
    "    \n",
    "    corals_shuffled_data[\"is_percent_corals_over_50\"]=resampled_labels\n",
    "    \n",
    "    resample_test_statistics.append(\n",
    "        mean_diff_temperature_by_coral_sa(corals_shuffled_data))\n",
    "    \n",
    "resample_test_statistics = pd.Series(resample_test_statistics)\n",
    "resample_test_statistics"
   ]
  },
  {
   "cell_type": "markdown",
   "metadata": {},
   "source": [
    "### Exercise 8 \n",
    "\n",
    "How likely are we to observe a mean difference that is as extreme as the mean difference that we observed in Exercise 5?\n",
    "\n",
    "Calculate the p-value of the random sampling result. We can calculate a p-value by following these steps:\n",
    "+ Take the absolute value of this `Series`. We do this because we want to consider both tails of our sample distribution. (`resample_test_statistics.abs()` will calculate this.)\n",
    "+ Create a boolean series that is `True` if the absolute value of the test statistic is geater than or equal to the observed mean difference, `observed_diff_in_mean_temperature`.\n",
    "+ Finally, determine the probability by calculating the proportion of entries that are `True` in `resample_test_statistics_series`. Name your result `p_value`. "
   ]
  },
  {
   "cell_type": "code",
   "execution_count": null,
   "metadata": {},
   "outputs": [],
   "source": [
    "# Write your answer to Exercise 8 in this cell\n"
   ]
  },
  {
   "cell_type": "code",
   "execution_count": null,
   "id": "b88faecd",
   "metadata": {},
   "outputs": [],
   "source": [
    "# Sample solution\n",
    "abs_test_statistics = resample_test_statistics.abs()\n",
    "\n",
    "p_value = (abs_test_statistics >= observed_diff_in_mean_temperature).mean()\n",
    "\n",
    "p_value"
   ]
  },
  {
   "cell_type": "markdown",
   "metadata": {},
   "source": [
    "### Exercise 9 \n",
    "\n",
    "Visualize the p-value. Although, we don\"t need a visualization to calculate our p-value, it might help in illustrating whether our p-value makes sense. In one plot, plot the following three things: \n",
    "\n",
    "+ a histogram plotting the test statistics\n",
    "+ two vertical lines plotting the observed difference in mean temperature between quadrats of the two groups."
   ]
  },
  {
   "cell_type": "code",
   "execution_count": null,
   "metadata": {},
   "outputs": [],
   "source": [
    "# Write your answer to Exercise 9 in this cell\n"
   ]
  },
  {
   "cell_type": "code",
   "execution_count": null,
   "id": "5161807f",
   "metadata": {},
   "outputs": [],
   "source": [
    "# Solution, delete to create handout\n",
    "plt.hist(resample_test_statistics, color=\"pink\", edgecolor=\"white\", bins=15)\n",
    "plt.vlines(x=observed_diff_in_mean_temperature, \n",
    "           ymin=0, ymax=170, color=\"red\", linestyle=\"dotted\")\n",
    "plt.vlines(x=-1 * observed_diff_in_mean_temperature, # check both directions\n",
    "           ymin=0, ymax=170, color=\"red\", linestyle=\"dotted\")\n",
    "observed_diff_in_mean_temperature"
   ]
  },
  {
   "cell_type": "markdown",
   "metadata": {},
   "source": [
    "### Exercise 10: Interpretation Questions\n",
    "\n",
    "1. State the difference in mean temperature between quadrats with high coral surface area and those with low coral surface area. From your results, state the p-value, and give its interpretation. What conclusions can you make from the observed p-value.\n",
    "\n",
    "2. If you were to do further analysis to study how surface area covered by corals is different for various sampling units (Quadrats), which additional environmental variables might you consider? Why? Write 3-5 sentences identifying 1-2 variables of interest and what differences in percentage covered by corals you might expect to find.\n",
    "\n",
    "\n"
   ]
  },
  {
   "cell_type": "markdown",
   "metadata": {},
   "source": [
    "## Regression"
   ]
  },
  {
   "cell_type": "code",
   "execution_count": null,
   "metadata": {},
   "outputs": [],
   "source": [
    "\n",
    "import pandas as pd\n",
    "import matplotlib.pyplot as plt\n",
    "import numpy as np\n",
    "\n",
    "pantheria = pd.read_csv(\"pantheria.txt\", sep = \"\\t\")\n",
    "\n",
    "important_columns = [\"5-1_AdultBodyMass_g\", \"23-1_SexualMaturityAge_d\", \n",
    "                     \"17-1_MaxLongevity_m\",\"25-1_WeaningAge_d\", \n",
    "                     \"9-1_GestationLen_d\"]\n",
    "\n",
    "sub_pantheria = pantheria[important_columns]\n",
    "\n",
    "columnnames = {\"5-1_AdultBodyMass_g\": \"bodymass\",\n",
    "               \"23-1_SexualMaturityAge_d\": \"maturity\",\n",
    "               \"17-1_MaxLongevity_m\": \"longevity\",\n",
    "               \"25-1_WeaningAge_d\": \"weaning\",\n",
    "               \"9-1_GestationLen_d\": \"gestation\"}\n",
    "\n",
    "rn_pantheria = sub_pantheria.rename(columns=columnnames)\n",
    "\n",
    "rn_pantheria = rn_pantheria.dropna()\n",
    "\n",
    "panthdat_trans = rn_pantheria.copy()\n",
    "\n",
    "panthdat_trans.head()\n",
    "\n",
    "trans_cols = [\"bodymass\", \"longevity\", \"gestation\", \"weaning\", \"maturity\"]\n",
    "\n",
    "panthdat_trans[trans_cols] = (panthdat_trans[trans_cols].apply(np.log))\n",
    "\n",
    "panthdat_trans.head()\n"
   ]
  },
  {
   "cell_type": "markdown",
   "metadata": {},
   "source": [
    "### Question 1\n",
    "\n",
    "We are interested in the shape of the distribution for maturation time. \n",
    "\n",
    "Make a suitable plot. \n",
    "\n",
    "Describe the shape of the distribution and explain the role of log-transformation in generating this shape.\n",
    "\n",
    "_Answer: Our data were originally lopsided. Calculating the logarithm of the measurements helps to bring the more spread out extreme values closer together and yield a more even and less lopsided frequency distribution. This will help us to better plot our data with body size and to fit a regression model._"
   ]
  },
  {
   "cell_type": "code",
   "execution_count": null,
   "metadata": {},
   "outputs": [],
   "source": [
    "# Write your answer to Question 1 in this cell\n"
   ]
  },
  {
   "cell_type": "code",
   "execution_count": null,
   "id": "a4b1fea6",
   "metadata": {},
   "outputs": [],
   "source": [
    "# Sample solution\n",
    "panthdat_trans[\"maturity\"].plot.hist(bins=20)\n",
    "plt.show()"
   ]
  },
  {
   "cell_type": "markdown",
   "metadata": {},
   "source": [
    "### Question 2\n",
    " Furthermore, it makes sense to visualize our data before we fit our regression model. Create scatter plot of temperature and the proportion of corals on the reef. \n",
    " What is the direction of the relationship. Describe the strength of the relationship.\n",
    "\n",
    "_Answer: The relationship is 'positive' - that is, the two variables are positively \n",
    "correlated. As the independent variable increases, so does the dependent variable._"
   ]
  },
  {
   "cell_type": "code",
   "execution_count": null,
   "metadata": {},
   "outputs": [],
   "source": [
    "# Write your answer to Question 2 in this cell\n"
   ]
  },
  {
   "cell_type": "code",
   "execution_count": null,
   "id": "884d3823",
   "metadata": {},
   "outputs": [],
   "source": [
    "# Sample solution\n",
    "plt.scatter(panthdat_trans[\"bodymass\"],\n",
    "            panthdat_trans[\"maturity\"],\n",
    "            alpha=0.3)\n",
    "\n",
    "plt.show()"
   ]
  },
  {
   "cell_type": "markdown",
   "metadata": {},
   "source": [
    "### Question 3\n",
    "\n",
    "Fit the linear regression line with bodymass as the independent variable.\n",
    " Print the summary of the model.\n",
    " Report the coefficient that the model estimates, giving an interpretation\n",
    " for each."
   ]
  },
  {
   "cell_type": "code",
   "execution_count": null,
   "metadata": {},
   "outputs": [],
   "source": [
    "# Write your answer to Question 3 in this cell\n"
   ]
  },
  {
   "cell_type": "code",
   "execution_count": null,
   "id": "d61c59ee",
   "metadata": {},
   "outputs": [],
   "source": [
    "# Sample solution\n",
    "from statsmodels.formula.api import ols\n",
    "\n",
    "\n",
    "regmod = ols(\"maturity ~ bodymass\", data = panthdat_trans) # setup the model\n",
    "\n",
    "regmod_fit = regmod.fit() # estimate/fit the model \n",
    "\n",
    "print(regmod_fit.summary().tables[1]) # get parameter estimates"
   ]
  },
  {
   "cell_type": "markdown",
   "id": "1da0a021",
   "metadata": {},
   "source": [
    "> _Sample answer: \n",
    "    The coefficient estimate is 4.4298. That \n",
    " means that a longer time to maturation is associated with larger body masses, meaning that larger mammals take longer to grow up._"
   ]
  },
  {
   "cell_type": "markdown",
   "id": "3d08364b",
   "metadata": {},
   "source": [
    "### Question 4\n",
    "\n",
    "Determine and interpret the R-squared value of the model. What does this metric tell us about our regression model?"
   ]
  },
  {
   "cell_type": "code",
   "execution_count": null,
   "id": "7c5867c4",
   "metadata": {},
   "outputs": [],
   "source": [
    "# Write your answer to Question 4 in this cell\n"
   ]
  },
  {
   "cell_type": "code",
   "execution_count": null,
   "metadata": {},
   "outputs": [],
   "source": [
    "# Sample solution\n",
    "print(regmod_fit.rsquared)"
   ]
  },
  {
   "cell_type": "markdown",
   "metadata": {},
   "source": [
    "### Question 5\n",
    "\n",
    "Calculate the residuals of the regression model. Use a scatter plot\n",
    "to plot the residuals (y-axis) against the fitted values (x-axis).\n",
    "Comment on any patterns (or lack of patterns you might see). Are the values fairly evenly distributed?"
   ]
  },
  {
   "cell_type": "code",
   "execution_count": null,
   "metadata": {},
   "outputs": [],
   "source": [
    "# Write your answer to Question 5 in this cell\n"
   ]
  },
  {
   "cell_type": "code",
   "execution_count": null,
   "id": "f17ddf31",
   "metadata": {},
   "outputs": [],
   "source": [
    "# Sample solution\n",
    "residuals = regmod_fit.resid\n",
    "fitted = regmod_fit.fittedvalues\n",
    "\n",
    "plt.scatter(fitted, residuals);"
   ]
  }
 ],
 "metadata": {
  "kernelspec": {
   "display_name": "Python 3",
   "language": "python",
   "name": "python3"
  },
  "language_info": {
   "codemirror_mode": {
    "name": "ipython",
    "version": 3
   },
   "file_extension": ".py",
   "mimetype": "text/x-python",
   "name": "python",
   "nbconvert_exporter": "python",
   "pygments_lexer": "ipython3",
   "version": "3.10.13"
  }
 },
 "nbformat": 4,
 "nbformat_minor": 5
}
