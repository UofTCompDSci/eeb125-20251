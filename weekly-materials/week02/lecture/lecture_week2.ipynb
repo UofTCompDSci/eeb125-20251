{
 "cells": [
  {
   "cell_type": "markdown",
   "metadata": {
    "slideshow": {
     "slide_type": "slide"
    }
   },
   "source": [
    "# Week 2: Reading a file and handling basic data types\n",
    "\n",
    "## EEB125 | W2025\n",
    "## Tomo Parins-Fukuchi\n",
    "\n"
   ]
  },
  {
   "cell_type": "markdown",
   "metadata": {
    "slideshow": {
     "slide_type": "slide"
    }
   },
   "source": [
    "### Learning Objectives\n",
    "By the end of this lecture, you will be able to\n",
    "- work with basic python data types to answer data science questions\n",
    "- open and read a data file using Python and Jupyter Notebook\n",
    "  * specifically, a dataset capturing occurrences of fossils across Canada\n",
    "- parse through the data to extract useful information"
   ]
  },
  {
   "cell_type": "markdown",
   "metadata": {
    "slideshow": {
     "slide_type": "slide"
    }
   },
   "source": [
    "## Why Python?\n",
    "- Python is a nice, general purpose programming language\n",
    "- It has excellent support for data science tools\n",
    "- It is easy to learn and sets you up for success with other tools\n"
   ]
  },
  {
   "cell_type": "markdown",
   "metadata": {
    "slideshow": {
     "slide_type": "slide"
    }
   },
   "source": [
    "## Techniques and concepts\n",
    "- Ints vs floats\n",
    "- Operators\n",
    "- Manipulating strings\n",
    "- Variables\n",
    "- Lists\n",
    "- Looping\n",
    "- Tabular data\n",
    "- The most fossiliferous(?) Canadian province"
   ]
  },
  {
   "cell_type": "markdown",
   "metadata": {
    "slideshow": {
     "slide_type": "slide"
    }
   },
   "source": [
    "### Data types\n",
    "\n",
    "Programming languages specify different types of data\n",
    "  - E.g., numbers and letters/words are often represented as different types\n",
    "  - In Python, some basic types are:\n",
    "    + integers ('ints'): whole numbers (0,1,2)\n",
    "    + floats: decimal numbers (e.g., 1.347)\n",
    "    + strings: letters and words (e.g., 'horse', 'cat')\n"
   ]
  },
  {
   "cell_type": "markdown",
   "metadata": {
    "slideshow": {
     "slide_type": "slide"
    }
   },
   "source": [
    "## Integers\n",
    "\n",
    "- Round numbers (can be positive or negative)"
   ]
  },
  {
   "cell_type": "code",
   "execution_count": null,
   "metadata": {
    "slideshow": {
     "slide_type": "subslide"
    }
   },
   "outputs": [],
   "source": [
    "type(23)"
   ]
  },
  {
   "cell_type": "markdown",
   "metadata": {
    "slideshow": {
     "slide_type": "slide"
    }
   },
   "source": [
    "## Floats\n",
    "\n",
    "- Decimal values"
   ]
  },
  {
   "cell_type": "code",
   "execution_count": null,
   "metadata": {
    "slideshow": {
     "slide_type": "subslide"
    }
   },
   "outputs": [],
   "source": [
    "type(23.54321)"
   ]
  },
  {
   "cell_type": "markdown",
   "metadata": {
    "slideshow": {
     "slide_type": "slide"
    }
   },
   "source": [
    "### Operators\n",
    "\n",
    "- Python has built-in operators for performing operations on ints and floats\n",
    "- In addition to `+`, there are others:\n",
    "  + `-`,`*`,`**`,`/`,`%`\n",
    "- Let's explore what they do:"
   ]
  },
  {
   "cell_type": "code",
   "execution_count": null,
   "metadata": {
    "slideshow": {
     "slide_type": "subslide"
    }
   },
   "outputs": [],
   "source": [
    "2 / 3"
   ]
  },
  {
   "cell_type": "markdown",
   "metadata": {
    "slideshow": {
     "slide_type": "slide"
    }
   },
   "source": [
    "## Strings\n",
    "\n",
    "- Words, letters, etc"
   ]
  },
  {
   "cell_type": "code",
   "execution_count": null,
   "metadata": {
    "slideshow": {
     "slide_type": "-"
    }
   },
   "outputs": [],
   "source": [
    "type(\"michael jordan\")"
   ]
  },
  {
   "cell_type": "markdown",
   "metadata": {
    "slideshow": {
     "slide_type": "slide"
    }
   },
   "source": [
    "### Variables\n",
    "\n",
    "Programming languages store data using _variables_\n",
    "  -  A programming variable represents a piece of data\n",
    "    + Can generally be any type\n",
    "  -  Variables reference value(s) that we assign to them\n",
    "  -  We can then manipulate those variables to perform tasks\n",
    "  "
   ]
  },
  {
   "cell_type": "markdown",
   "metadata": {
    "slideshow": {
     "slide_type": "slide"
    }
   },
   "source": [
    "### Example\n",
    "\n",
    "Create the variable 'x' and assign an integer value to it"
   ]
  },
  {
   "cell_type": "code",
   "execution_count": null,
   "metadata": {
    "slideshow": {
     "slide_type": "subslide"
    }
   },
   "outputs": [],
   "source": [
    "a_variable = 1 + 1"
   ]
  },
  {
   "cell_type": "markdown",
   "metadata": {
    "slideshow": {
     "slide_type": "slide"
    }
   },
   "source": [
    "### Example\n",
    "\n",
    "`x` is now stored in memory. We will make another and call it 'y'"
   ]
  },
  {
   "cell_type": "code",
   "execution_count": null,
   "metadata": {
    "slideshow": {
     "slide_type": "subslide"
    }
   },
   "outputs": [],
   "source": [
    "x = 1\n",
    "y = 1"
   ]
  },
  {
   "cell_type": "markdown",
   "metadata": {
    "slideshow": {
     "slide_type": "slide"
    }
   },
   "source": [
    "### Example\n",
    "\n",
    "We can now use both of these variables to do some arithmetic:"
   ]
  },
  {
   "cell_type": "code",
   "execution_count": null,
   "metadata": {
    "slideshow": {
     "slide_type": "subslide"
    }
   },
   "outputs": [],
   "source": [
    "x = 1\n",
    "y = 1\n",
    "x + y"
   ]
  },
  {
   "cell_type": "markdown",
   "metadata": {
    "slideshow": {
     "slide_type": "slide"
    }
   },
   "source": [
    "### Example\n",
    "\n",
    "We can assign pretty much any data type to a variable:"
   ]
  },
  {
   "cell_type": "code",
   "execution_count": null,
   "metadata": {
    "slideshow": {
     "slide_type": "subslide"
    }
   },
   "outputs": [],
   "source": [
    "a = \"spongebob \"\n",
    "b = \"squarepants\"\n",
    "print(a)\n",
    "print(b)"
   ]
  },
  {
   "cell_type": "markdown",
   "metadata": {
    "slideshow": {
     "slide_type": "slide"
    }
   },
   "source": [
    "### Example\n",
    "\n",
    "We also can use some of the same operators on other data types:"
   ]
  },
  {
   "cell_type": "code",
   "execution_count": null,
   "metadata": {
    "slideshow": {
     "slide_type": "subslide"
    }
   },
   "outputs": [],
   "source": [
    "a = \"spongebob \"\n",
    "b = \"squarepants\"\n",
    "a+b"
   ]
  },
  {
   "cell_type": "markdown",
   "metadata": {
    "slideshow": {
     "slide_type": "slide"
    }
   },
   "source": [
    "### Reassigning to variables\n",
    "\n",
    "We can also change the value assigned to a variable:"
   ]
  },
  {
   "cell_type": "code",
   "execution_count": null,
   "metadata": {
    "slideshow": {
     "slide_type": "subslide"
    }
   },
   "outputs": [],
   "source": [
    "b = \"loserpants\"\n",
    "print(a+b)"
   ]
  },
  {
   "cell_type": "code",
   "execution_count": null,
   "metadata": {
    "slideshow": {
     "slide_type": "slide"
    }
   },
   "outputs": [],
   "source": [
    "# can even reassign a variable to itself\n",
    "\n",
    "b = b\n",
    "print(a+b)\n",
    "a = a + b\n",
    "print(a)"
   ]
  },
  {
   "cell_type": "markdown",
   "metadata": {
    "slideshow": {
     "slide_type": "slide"
    }
   },
   "source": [
    "### 'Print' statement\n",
    "\n",
    "+ Often, we may want to see the results of some operation in our notebook or computer terminal\n",
    "+ We can use the \"print\" function in python to do this"
   ]
  },
  {
   "cell_type": "code",
   "execution_count": null,
   "metadata": {
    "slideshow": {
     "slide_type": "subslide"
    }
   },
   "outputs": [],
   "source": [
    "print(\"whoever thought that i would be the greatest growing up?\")"
   ]
  },
  {
   "cell_type": "markdown",
   "metadata": {
    "slideshow": {
     "slide_type": "slide"
    }
   },
   "source": [
    "### Example\n",
    "\n",
    "Adding two strings basically slams both together. Can we add a string and a number?"
   ]
  },
  {
   "cell_type": "code",
   "execution_count": null,
   "metadata": {
    "scrolled": true,
    "slideshow": {
     "slide_type": "-"
    }
   },
   "outputs": [],
   "source": [
    "#a+x"
   ]
  },
  {
   "cell_type": "markdown",
   "metadata": {
    "slideshow": {
     "slide_type": "slide"
    }
   },
   "source": [
    "### Nope! \n",
    "\n",
    "Interpreting errors is one of the most important parts of programming\n",
    "  - This is telling us that we cannot mix these data types when adding"
   ]
  },
  {
   "cell_type": "markdown",
   "metadata": {
    "slideshow": {
     "slide_type": "slide"
    }
   },
   "source": [
    "### Other errors \n",
    "\n",
    "- We have to be very careful with what we tell Python. It is very particular. \n",
    "- E.g.:"
   ]
  },
  {
   "cell_type": "code",
   "execution_count": null,
   "metadata": {
    "slideshow": {
     "slide_type": "subslide"
    }
   },
   "outputs": [],
   "source": [
    "real = 33\n",
    "# print(rea)"
   ]
  },
  {
   "cell_type": "markdown",
   "metadata": {
    "slideshow": {
     "slide_type": "slide"
    }
   },
   "source": [
    "### Other rules for variables \n",
    "\n",
    "- variable names can contain only letters, numbers, underscores\n",
    "- cannot start with a number\n",
    "- no spaces\n",
    "- don't use python keywords (e.g., `print`)"
   ]
  },
  {
   "cell_type": "markdown",
   "metadata": {
    "slideshow": {
     "slide_type": "slide"
    }
   },
   "source": [
    "### What else can we do with strings?\n",
    "\n",
    "- Python has many built-in tools for manipulating strings. Let's explore some:"
   ]
  },
  {
   "cell_type": "code",
   "execution_count": null,
   "metadata": {
    "slideshow": {
     "slide_type": "subslide"
    }
   },
   "outputs": [],
   "source": [
    "# make uppercase \n",
    "\n",
    "test = \"    what's the deal    \"\n",
    "\n",
    "#\"    what's the deal    \".upper()\n",
    "\n",
    "print(test.upper())"
   ]
  },
  {
   "cell_type": "code",
   "execution_count": null,
   "metadata": {
    "slideshow": {
     "slide_type": "subslide"
    }
   },
   "outputs": [],
   "source": [
    "# remove whitespace\n",
    "test = \"    what's the deal    \"\n",
    "print(test.strip())"
   ]
  },
  {
   "cell_type": "code",
   "execution_count": null,
   "metadata": {
    "slideshow": {
     "slide_type": "subslide"
    }
   },
   "outputs": [],
   "source": [
    "# do both\n",
    "test = \"    what's the deal    \"\n",
    "print(test.upper().strip())"
   ]
  },
  {
   "cell_type": "code",
   "execution_count": null,
   "metadata": {
    "scrolled": true,
    "slideshow": {
     "slide_type": "subslide"
    }
   },
   "outputs": [],
   "source": [
    "# do both and reassign to original variable\n",
    "test = \"    what's the deal    \"\n",
    "print(test)\n",
    "test = test.upper().strip()\n",
    "print(test)"
   ]
  },
  {
   "cell_type": "code",
   "execution_count": null,
   "metadata": {
    "slideshow": {
     "slide_type": "slide"
    }
   },
   "outputs": [],
   "source": [
    "# replace part of a string\n",
    "\n",
    "print(test)\n",
    "test = test.replace(\"WHAT'S\",\"THIS IS\")\n",
    "print(test)"
   ]
  },
  {
   "cell_type": "markdown",
   "metadata": {
    "slideshow": {
     "slide_type": "slide"
    }
   },
   "source": [
    "### Converting between types\n",
    "\n",
    "- In some cases, Python will also allow us to convert between data types"
   ]
  },
  {
   "cell_type": "code",
   "execution_count": null,
   "metadata": {
    "slideshow": {
     "slide_type": "subslide"
    }
   },
   "outputs": [],
   "source": [
    "# we can convert a float to a string:\n",
    "\n",
    "a = 3.21\n",
    "a = str(a)\n",
    "type(a)\n"
   ]
  },
  {
   "cell_type": "code",
   "execution_count": null,
   "metadata": {
    "slideshow": {
     "slide_type": "subslide"
    }
   },
   "outputs": [],
   "source": [
    "# now, if we try to treat it like it is a float, we will get into trouble:\n",
    "\n",
    "#print(a+3.3)"
   ]
  },
  {
   "cell_type": "code",
   "execution_count": null,
   "metadata": {
    "slideshow": {
     "slide_type": "subslide"
    }
   },
   "outputs": [],
   "source": [
    "# so we can also convert it back:\n",
    "\n",
    "a = float(a)\n",
    "print(a)\n",
    "print(a+3.3)"
   ]
  },
  {
   "cell_type": "markdown",
   "metadata": {
    "slideshow": {
     "slide_type": "slide"
    }
   },
   "source": [
    "### Be careful with types\n",
    "\n",
    "- This flexibility allows us to be very sloppy with types\n",
    "- Not always obvious what type a variable will be\n",
    "- Be careful"
   ]
  },
  {
   "cell_type": "markdown",
   "metadata": {
    "slideshow": {
     "slide_type": "slide"
    }
   },
   "source": [
    "### Containers\n",
    "\n",
    "- Besides the three we have examined, Python has many other data types\n",
    "- Some of these we can refer to as 'containers'\n",
    "  + These allow us to store many values within a single variable"
   ]
  },
  {
   "cell_type": "markdown",
   "metadata": {
    "slideshow": {
     "slide_type": "slide"
    }
   },
   "source": [
    "### Lists\n",
    "\n",
    "- Lists are a very common python container\n",
    "- We can specify a list using square brackets\n",
    "  \n",
    "```\n",
    "my_list = []\n",
    "```\n",
    "\n",
    "Generates an empty list. We can create a list with things in it: "
   ]
  },
  {
   "cell_type": "code",
   "execution_count": null,
   "metadata": {
    "slideshow": {
     "slide_type": "subslide"
    }
   },
   "outputs": [],
   "source": [
    "emcees = [\"cole\",\"rocky\",\"21\",\"drake\"]\n",
    "print(emcees)"
   ]
  },
  {
   "cell_type": "markdown",
   "metadata": {
    "slideshow": {
     "slide_type": "slide"
    }
   },
   "source": [
    "### Lists\n",
    "\n",
    "We can also add items to an existing list:"
   ]
  },
  {
   "cell_type": "code",
   "execution_count": null,
   "metadata": {
    "slideshow": {
     "slide_type": "subslide"
    }
   },
   "outputs": [],
   "source": [
    "emcees.append(\"kendrick\")\n",
    "print(emcees)"
   ]
  },
  {
   "cell_type": "markdown",
   "metadata": {
    "slideshow": {
     "slide_type": "slide"
    }
   },
   "source": [
    "### Indexing lists\n",
    "\n",
    "- We can select individual items from a list by 'indexing' it"
   ]
  },
  {
   "cell_type": "code",
   "execution_count": null,
   "metadata": {
    "slideshow": {
     "slide_type": "subslide"
    }
   },
   "outputs": [],
   "source": [
    "# the first item in python of anything is always accessed as the zeroth item\n",
    "#print(emcees)\n",
    "print(emcees[1])"
   ]
  },
  {
   "cell_type": "code",
   "execution_count": null,
   "metadata": {
    "slideshow": {
     "slide_type": "subslide"
    }
   },
   "outputs": [],
   "source": [
    "print(emcees[1])"
   ]
  },
  {
   "cell_type": "code",
   "execution_count": null,
   "metadata": {
    "slideshow": {
     "slide_type": "subslide"
    }
   },
   "outputs": [],
   "source": [
    "# can also index from the other end\n",
    "print(emcees[-2])"
   ]
  },
  {
   "cell_type": "markdown",
   "metadata": {
    "slideshow": {
     "slide_type": "slide"
    }
   },
   "source": [
    "### Slicing lists\n",
    "\n",
    "- We can select ranges of items from a list by 'slicing' it"
   ]
  },
  {
   "cell_type": "code",
   "execution_count": null,
   "metadata": {
    "slideshow": {
     "slide_type": "subslide"
    }
   },
   "outputs": [],
   "source": [
    "print(emcees)\n",
    "print(emcees[1:3])"
   ]
  },
  {
   "cell_type": "code",
   "execution_count": null,
   "metadata": {
    "slideshow": {
     "slide_type": "subslide"
    }
   },
   "outputs": [],
   "source": [
    "print(emcees)\n",
    "print(emcees[1:])"
   ]
  },
  {
   "cell_type": "code",
   "execution_count": null,
   "metadata": {
    "slideshow": {
     "slide_type": "subslide"
    }
   },
   "outputs": [],
   "source": [
    "print(emcees)\n",
    "print(emcees[:3])"
   ]
  },
  {
   "cell_type": "code",
   "execution_count": null,
   "metadata": {
    "slideshow": {
     "slide_type": "subslide"
    }
   },
   "outputs": [],
   "source": [
    "# lists also have tools associated with them\n",
    "# how many times does \"rocky \" appear in the list emcees?\n",
    "print(emcees.count(\"rocky\"))"
   ]
  },
  {
   "cell_type": "markdown",
   "metadata": {
    "slideshow": {
     "slide_type": "slide"
    }
   },
   "source": [
    "## Creating lists from strings\n",
    "\n",
    "- Python also has built-in tools for creating a list of smaller strings from a longer string"
   ]
  },
  {
   "cell_type": "code",
   "execution_count": null,
   "metadata": {
    "slideshow": {
     "slide_type": "subslide"
    }
   },
   "outputs": [],
   "source": [
    "emcees_str = \"cole, rocky, 21, drake, kendrick\"\n",
    "#print(emcees_str)\n",
    "emcees_ls = emcees_str.split(\",\")\n",
    "print(emcees_ls)"
   ]
  },
  {
   "cell_type": "markdown",
   "metadata": {
    "slideshow": {
     "slide_type": "slide"
    }
   },
   "source": [
    "## Creating strings from lists\n",
    "\n",
    "- We can also join the elements of a list composed of all strings into a larger string"
   ]
  },
  {
   "cell_type": "code",
   "execution_count": null,
   "metadata": {},
   "outputs": [],
   "source": [
    "print('string')"
   ]
  },
  {
   "cell_type": "code",
   "execution_count": null,
   "metadata": {
    "slideshow": {
     "slide_type": "subslide"
    }
   },
   "outputs": [],
   "source": [
    "emcees_str2 = \",\".join(emcees_ls)\n",
    "print(emcees_str2)\n",
    "print(type(emcees_str2))"
   ]
  },
  {
   "cell_type": "markdown",
   "metadata": {
    "slideshow": {
     "slide_type": "slide"
    }
   },
   "source": [
    "## Other tools\n",
    "\n",
    "- Python has many built-in tools for dealing with a variety of data types"
   ]
  },
  {
   "cell_type": "code",
   "execution_count": null,
   "metadata": {
    "slideshow": {
     "slide_type": "subslide"
    }
   },
   "outputs": [],
   "source": [
    "# how long is a list?\n",
    "#print(len(emcees_ls))\n",
    "# how long is a string?\n",
    "print(len(emcees_str))"
   ]
  },
  {
   "cell_type": "markdown",
   "metadata": {
    "slideshow": {
     "slide_type": "notes"
    }
   },
   "source": [
    "### Reviewing\n",
    "\n",
    "- Python represents data using different types\n",
    "  - ints, floats, strings\n",
    "- We can assign data to variables\n",
    "  + This allows us to commit it to memory and perform operations later\n",
    "- We can store data in 'containers'\n",
    "  + We can access data stored in containers by indexing slicing\n",
    "  + Containers can also be assigned to variables\n",
    "  "
   ]
  },
  {
   "cell_type": "markdown",
   "metadata": {
    "slideshow": {
     "slide_type": "slide"
    }
   },
   "source": [
    "### Looping \n",
    "\n",
    "- Much of computing fundamentally involves performing an operation on one piece of data at a time\n",
    "- Given a collecton of data, we can examine one item at a time by constructing a **loop**\n",
    "  \n"
   ]
  },
  {
   "cell_type": "markdown",
   "metadata": {
    "slideshow": {
     "slide_type": "slide"
    }
   },
   "source": [
    "### For loops \n",
    "\n",
    "- One way of looping over data in Python is by using a 'for loop'\n",
    "  \n"
   ]
  },
  {
   "cell_type": "code",
   "execution_count": null,
   "metadata": {
    "slideshow": {
     "slide_type": "subslide"
    }
   },
   "outputs": [],
   "source": [
    "print(emcees_ls)\n",
    "\n",
    "for z in emcees_ls:\n",
    "    print(z)  \n",
    "    print(z)\n",
    "\n",
    "print(emcees_ls)"
   ]
  },
  {
   "cell_type": "code",
   "execution_count": null,
   "metadata": {
    "slideshow": {
     "slide_type": "subslide"
    }
   },
   "outputs": [],
   "source": [
    "print(emcees_ls)\n",
    "\n",
    "for mc in emcees_ls:\n",
    "    print(len(mc))\n",
    "    print(mc.strip().upper())"
   ]
  },
  {
   "cell_type": "markdown",
   "metadata": {
    "slideshow": {
     "slide_type": "slide"
    }
   },
   "source": [
    "### Tabular data\n",
    "\n",
    "Much of the data that we will work with is in 'tabular' format\n",
    "  - Data contained within rows and columns\n",
    "  - Sort of like an Excel spreadsheet\n",
    "  \n"
   ]
  },
  {
   "cell_type": "markdown",
   "metadata": {
    "slideshow": {
     "slide_type": "slide"
    }
   },
   "source": [
    "### Tabular data\n",
    "\n",
    "We are often used to seeing data in table form:\n",
    "\n",
    "| Team          | # of Cups | Last cup | Country      | \n",
    "| -----------------------|------------|--------|--------------|\n",
    "| Canadiens          | 23          | 1993   | Canada |\n",
    "| Maple Leafs           | 13          | 1967  | Canada |\n",
    "| Red Wings                | 11          | 2008   | US        |\n",
    "| Bruins                   | 6          | 2011      | US|\n",
    "| Blackhawks                   | 6          | 2015   | US       |\n",
    "| Oilers    | 5          | 1990   | Canada |\n",
    "| Penguins               | 5          | 2017 | US      |\n",
    "\n"
   ]
  },
  {
   "cell_type": "markdown",
   "metadata": {
    "slideshow": {
     "slide_type": "slide"
    }
   },
   "source": [
    "### Tabular data\n",
    "\n",
    "- A common way of storing such data for programming is by separating each cell by a pre-specified character. Commas are common:\n",
    "\n",
    "```\n",
    "team,nCups,lastCup,country\n",
    "Canadiens,23,1993,Canada\n",
    "MapleLeafs,13,1967,Canada\n",
    "RedWings,11,2008,US\n",
    "Bruins,6,2011,US\n",
    "Blackhawks,6,2015,US\n",
    "Oilers,5,1990,Canada\n",
    "Penguins,5,2017,US\n",
    "```\n",
    "\n",
    "- We often refer to this as a \"comma-separated values\" (csv) file \n",
    "- Columns are separated by columns\n",
    "- The first line usually contains a guide to the data (the 'header')\n"
   ]
  },
  {
   "cell_type": "markdown",
   "metadata": {
    "slideshow": {
     "slide_type": "slide"
    }
   },
   "source": [
    "### Reading and writing data\n",
    "\n",
    "We often want to work with data stored in external files\n",
    "  - This requires us to read files into our active memory so we can perform analyses\n",
    "  - We may also want to write new files to save modified data or analyses\n",
    "  - We can do this using the `open` function in Python"
   ]
  },
  {
   "cell_type": "code",
   "execution_count": null,
   "metadata": {
    "slideshow": {
     "slide_type": "subslide"
    }
   },
   "outputs": [],
   "source": [
    "print(open)"
   ]
  },
  {
   "cell_type": "markdown",
   "metadata": {
    "slideshow": {
     "slide_type": "slide"
    }
   },
   "source": [
    "### 'Calling' (using) a function\n",
    "\n",
    "To actually use a function, we add parentheses after the function name:\n",
    "\n",
    "```open()```\n"
   ]
  },
  {
   "cell_type": "code",
   "execution_count": null,
   "metadata": {
    "slideshow": {
     "slide_type": "subslide"
    }
   },
   "outputs": [],
   "source": [
    "#open()"
   ]
  },
  {
   "cell_type": "markdown",
   "metadata": {
    "slideshow": {
     "slide_type": "slide"
    }
   },
   "source": [
    "### Calling `open()`\n",
    "\n",
    "Functions require 'arguments'-- information we provide that is necessary to perform the function\n",
    "  - We are being told that our call needs to specify a `'file'`\n",
    "  - We need to tell Python where to find the file we want to open\n",
    "  "
   ]
  },
  {
   "cell_type": "markdown",
   "metadata": {
    "slideshow": {
     "slide_type": "slide"
    }
   },
   "source": [
    "## Today's Data\n",
    "\n",
    "- We will be using data from the Paleobiology Database (https://paleobiodb.org/#/)\n",
    "- Public database of fossil occurrences all over the world\n",
    "    - What species did a fossil come from?\n",
    "    - Where did it occur?\n",
    "    - When did it occur"
   ]
  },
  {
   "cell_type": "markdown",
   "metadata": {
    "slideshow": {
     "slide_type": "slide"
    }
   },
   "source": [
    "### Reading a file\n",
    "\n",
    "We can use `open` to read a file that is stored in the directory and save it to a variable:\n",
    "\n",
    "```file = open(\"TESTFILE.csv\")```\n"
   ]
  },
  {
   "cell_type": "code",
   "execution_count": null,
   "metadata": {
    "slideshow": {
     "slide_type": "subslide"
    }
   },
   "outputs": [],
   "source": [
    "file = open(\"pbdb_data.csv\",\"r\")\n",
    "print(file)"
   ]
  },
  {
   "cell_type": "markdown",
   "metadata": {
    "slideshow": {
     "slide_type": "slide"
    }
   },
   "source": [
    "### Reading a file\n",
    "\n",
    "The information from the file is now assigned to the variable `file`\n",
    "  - How can we make this information human-readable?\n",
    "  \n",
    "```lines = file.readlines()```\n",
    "\n",
    "Will read all of the lines of text contained within the file and assign them to the variable `lines`\n"
   ]
  },
  {
   "cell_type": "code",
   "execution_count": null,
   "metadata": {
    "slideshow": {
     "slide_type": "slide"
    }
   },
   "outputs": [],
   "source": [
    "lines = file.readlines()"
   ]
  },
  {
   "cell_type": "markdown",
   "metadata": {
    "slideshow": {
     "slide_type": "slide"
    }
   },
   "source": [
    "### Reading a file\n",
    "\n",
    "We now have our information in a way we can interpret\n",
    "  - The lines of the file are stored as strings contained within a list\n",
    "  - The first line is a \"header\"-- it describes the data\n",
    "  - How can we examine this header?\n"
   ]
  },
  {
   "cell_type": "code",
   "execution_count": null,
   "metadata": {
    "slideshow": {
     "slide_type": "subslide"
    }
   },
   "outputs": [],
   "source": [
    "header = lines[0]\n",
    "print(header)"
   ]
  },
  {
   "cell_type": "code",
   "execution_count": null,
   "metadata": {
    "slideshow": {
     "slide_type": "subslide"
    }
   },
   "outputs": [],
   "source": [
    "# assign the rest of the data to a variable called data\n",
    "data = lines[1:]"
   ]
  },
  {
   "cell_type": "markdown",
   "metadata": {
    "slideshow": {
     "slide_type": "slide"
    }
   },
   "source": [
    "### Which Canadian province is the most fossil-rich?\n",
    "\n",
    "- We have the lines of our data stored in a list\n",
    "- That means we can loop over the lines and extract data one line at a time\n"
   ]
  },
  {
   "cell_type": "code",
   "execution_count": null,
   "metadata": {
    "slideshow": {
     "slide_type": "subslide"
    }
   },
   "outputs": [],
   "source": [
    "# create an empty list that we will populate with data\n",
    "province_recs = []\n",
    "\n",
    "for line in lines[1:]:\n",
    "    line_dat = line.strip().split(\",\")\n",
    "    province = line_dat[-1].strip()\n",
    "    province_recs.append(province)"
   ]
  },
  {
   "cell_type": "markdown",
   "metadata": {
    "slideshow": {
     "slide_type": "slide"
    }
   },
   "source": [
    "## Quiz\n",
    "\n",
    "- What type is `province_recs`?"
   ]
  },
  {
   "cell_type": "markdown",
   "metadata": {
    "slideshow": {
     "slide_type": "fragment"
    }
   },
   "source": [
    "- What information does it contain from our data file?"
   ]
  },
  {
   "cell_type": "code",
   "execution_count": null,
   "metadata": {
    "slideshow": {
     "slide_type": "fragment"
    }
   },
   "outputs": [],
   "source": [
    "print(province_recs)"
   ]
  },
  {
   "cell_type": "markdown",
   "metadata": {
    "slideshow": {
     "slide_type": "slide"
    }
   },
   "source": [
    "## One at a time\n",
    "\n",
    "- We could look up the number of fossils one province/territory at a time\n",
    "- Count the number of times that province/territory occurs in the list using `.count()`"
   ]
  },
  {
   "cell_type": "code",
   "execution_count": null,
   "metadata": {
    "slideshow": {
     "slide_type": "fragment"
    }
   },
   "outputs": [],
   "source": [
    "province = \"Ontario\"\n",
    "province_recs.count(province)"
   ]
  },
  {
   "cell_type": "markdown",
   "metadata": {
    "slideshow": {
     "slide_type": "slide"
    }
   },
   "source": [
    "## Brainstorm\n",
    "\n",
    "- How else might we do this? Is there a more efficient way to get results for every province?"
   ]
  },
  {
   "cell_type": "code",
   "execution_count": null,
   "metadata": {
    "slideshow": {
     "slide_type": "slide"
    }
   },
   "outputs": [],
   "source": [
    "province_ls = [\"Ontario\",\"British Columbia\",\"Alberta\",\"Saskatchewan\",\"Manitoba\",\"Newfoundland and Labrador\",\"Northwest Territories\",\"Yukon\",\"Prince Edward Island\",\"Nunavut\",\"Nova Scotia\",\"Quebec\",\"New Brunswick\"]\n",
    "print(province_ls)"
   ]
  },
  {
   "cell_type": "code",
   "execution_count": null,
   "metadata": {
    "slideshow": {
     "slide_type": "slide"
    }
   },
   "outputs": [],
   "source": [
    "for i in province_ls:\n",
    "    print(i,province_recs.count(i))"
   ]
  },
  {
   "cell_type": "markdown",
   "metadata": {
    "slideshow": {
     "slide_type": "slide"
    }
   },
   "source": [
    "## END "
   ]
  }
 ],
 "metadata": {
  "celltoolbar": "Slideshow",
  "kernelspec": {
   "display_name": "Python 3 (ipykernel)",
   "language": "python",
   "name": "python3"
  },
  "language_info": {
   "codemirror_mode": {
    "name": "ipython",
    "version": 3
   },
   "file_extension": ".py",
   "mimetype": "text/x-python",
   "name": "python",
   "nbconvert_exporter": "python",
   "pygments_lexer": "ipython3",
   "version": "3.13.1"
  },
  "vscode": {
   "interpreter": {
    "hash": "1c940db1eb58f6fbee827ffb13ec44c09672a4e0e1421712aae71c754925658d"
   }
  }
 },
 "nbformat": 4,
 "nbformat_minor": 4
}
