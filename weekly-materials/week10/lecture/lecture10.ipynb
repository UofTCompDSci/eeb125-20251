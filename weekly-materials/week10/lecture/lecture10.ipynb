{
 "cells": [
  {
   "cell_type": "markdown",
   "id": "df2fcea2-dbfe-44b2-87bf-9eb76fb9ff84",
   "metadata": {
    "slideshow": {
     "slide_type": "slide"
    }
   },
   "source": [
    "# Week 10: Bootstrap\n",
    "\n",
    "## March 19, 2025\n",
    "\n",
    "**Michael Jongho Moon**"
   ]
  },
  {
   "cell_type": "markdown",
   "id": "35affc44",
   "metadata": {
    "slideshow": {
     "slide_type": "slide"
    }
   },
   "source": [
    "## Recap of Data Visualization\n",
    "\n",
    "We have seen histograms and boxplots (for numeric/quantitative data).  \n",
    "What do they tell us?"
   ]
  },
  {
   "cell_type": "markdown",
   "id": "b33ae866",
   "metadata": {
    "slideshow": {
     "slide_type": "subslide"
    }
   },
   "source": [
    "### Shape of a Histogram: Modality\n",
    "\n",
    "<img src=\"modes.png\" width=\"800\">"
   ]
  },
  {
   "cell_type": "markdown",
   "id": "efcdadf1",
   "metadata": {
    "slideshow": {
     "slide_type": "fragment"
    }
   },
   "source": [
    "### Shape of a Histogram: Skewness\n",
    "\n",
    "<img src=\"symmetry.png\" width=\"800\">"
   ]
  },
  {
   "cell_type": "markdown",
   "id": "577a26a2",
   "metadata": {
    "slideshow": {
     "slide_type": "subslide"
    }
   },
   "source": [
    "### Data Descriptions: Percentiles\n",
    "\n",
    "The $k^{th}$ percentile is a point in the data in which $k$% of the data is below that percentile."
   ]
  },
  {
   "cell_type": "markdown",
   "id": "8bd96559",
   "metadata": {
    "slideshow": {
     "slide_type": "fragment"
    }
   },
   "source": [
    "> For example, if 170 cm is the $90^{th}$ percentile for female heights, that means that 90% of females are below 170 cm tall."
   ]
  },
  {
   "cell_type": "markdown",
   "id": "0e09b4b8",
   "metadata": {
    "slideshow": {
     "slide_type": "subslide"
    }
   },
   "source": [
    "Common percentiles: \n",
    "\n",
    "+ the **median** is the $50^{th}$ percentile.\n",
    "+ the **first quartile (Q1)** is the $25^{th}$ percentile.\n",
    "+ the **third quartile (Q3)** is the $75^{th}$ percentile."
   ]
  },
  {
   "cell_type": "markdown",
   "id": "047e2f52",
   "metadata": {
    "slideshow": {
     "slide_type": "subslide"
    }
   },
   "source": [
    "### Shape of a Boxplot\n",
    "\n",
    "<img src=\"boxplot.png\" width=\"400\">"
   ]
  },
  {
   "cell_type": "markdown",
   "id": "0aaf10a9",
   "metadata": {
    "slideshow": {
     "slide_type": "subslide"
    }
   },
   "source": [
    "### Shape of a Boxplot: Skewness\n",
    "\n",
    "<img src=\"boxplot_skew.png\" width=\"800\">"
   ]
  },
  {
   "cell_type": "markdown",
   "id": "2a646e94",
   "metadata": {
    "slideshow": {
     "slide_type": "subslide"
    }
   },
   "source": [
    "## Center of the data\n",
    "\n",
    "If you have the following data: what is the *mean*? what is the *median*?\n",
    "\n",
    "{4, 4, 5, 6, 7}"
   ]
  },
  {
   "cell_type": "markdown",
   "id": "c060d6d2",
   "metadata": {
    "slideshow": {
     "slide_type": "fragment"
    }
   },
   "source": [
    "+ The mean is: $\\frac{4 + 4 + 5 + 5 + 7}{5} = 5$\n",
    "+ The median is: $5$"
   ]
  },
  {
   "cell_type": "markdown",
   "id": "5e61e09a",
   "metadata": {
    "slideshow": {
     "slide_type": "subslide"
    }
   },
   "source": [
    "### Center of the data based on skewness\n",
    "\n",
    "What if your data was right skewed? What is the *mean* and what is the *median* for the data below? \n",
    "\n",
    "{4, 4, 5, 5, 20}"
   ]
  },
  {
   "cell_type": "markdown",
   "id": "84811a81",
   "metadata": {
    "slideshow": {
     "slide_type": "fragment"
    }
   },
   "source": [
    "+ The mean is: 7.6\n",
    "+ The median is: 5"
   ]
  },
  {
   "cell_type": "markdown",
   "id": "53c1ee51",
   "metadata": {
    "slideshow": {
     "slide_type": "subslide"
    }
   },
   "source": [
    "The <b style=\"color: maroon;\">mean</b> gets pulled toward the outliers while the <b style=\"color: forestgreen;\">median</b> is less sensitive to outlisers. This makes median a better representation for skewed data, or data with a lot of outliers, in general."
   ]
  },
  {
   "cell_type": "code",
   "execution_count": null,
   "id": "4da26c99",
   "metadata": {},
   "outputs": [],
   "source": [
    "import matplotlib.pyplot as plt\n",
    "import numpy as np\n",
    "plt.axvline(x=np.mean([4, 4, 5, 5, 20]), color=\"maroon\")\n",
    "plt.axvline(x=np.median([4, 4, 5, 5, 20]), color=\"forestgreen\")\n",
    "plt.ylim([0.5, 2.5])\n",
    "fig = plt.scatter(x=[4, 4, 5, 5, 20], \n",
    "                  y=[1, 2, 1, 2, 1],\n",
    "                  s=50,  \n",
    "                  color=\"black\", \n",
    "                  edgecolor=\"black\")\n",
    "ax = fig.axes\n",
    "ax.get_yaxis().set_visible(False)\n",
    "ax.set_aspect(1)"
   ]
  },
  {
   "cell_type": "markdown",
   "id": "971da91b",
   "metadata": {
    "slideshow": {
     "slide_type": "subslide"
    }
   },
   "source": [
    "### Center of the data based on skewness\n",
    "\n",
    "Generally, we have:\n",
    "\n",
    "+ symmetric data has: mean $\\approx$ median\n",
    "+ left-skewed data has: mean < median\n",
    "+ right-skewed data has: mean > median"
   ]
  },
  {
   "cell_type": "markdown",
   "id": "3bf55988",
   "metadata": {
    "slideshow": {
     "slide_type": "slide"
    }
   },
   "source": [
    "## The Bootstrap \n",
    "\n",
    "Last week we covered hypothesis testing, where we tested if:\n",
    "\n",
    "+ a percentage was different from some number (i.e., 26%)\n",
    "+ if the average was different between two groups (i.e., do mammals weigh more than birds)"
   ]
  },
  {
   "cell_type": "markdown",
   "id": "b548b422",
   "metadata": {
    "slideshow": {
     "slide_type": "subslide"
    }
   },
   "source": [
    "What if instead we wanted to just look at a statistic and provide a reasonable estimate of what we think the parameter is. \n",
    "\n",
    "This is where we can use bootstrapping to provide a plausible range in which we think our metric of interest will land.\n",
    "\n",
    "For example, producing a statement such as \"we are confident that the mean heights of all females is between 164 cm and 167 cm.\""
   ]
  },
  {
   "cell_type": "markdown",
   "id": "6e7e75cb",
   "metadata": {
    "slideshow": {
     "slide_type": "subslide"
    }
   },
   "source": [
    "<div style=\"display:flex; justify-content: space-between; column-gap: 25px;\">\n",
    "<div>\n",
    "<img src=\"stats00.png\" width=\"50%\">\n",
    "</div>\n",
    "<div>\n",
    "<p>A data scientist is using the data in a random sample to estimate an unknown statistical parameter.</p>\n",
    "<p>They use the sample to calculate the value of a statistic to estimate.</p>\n",
    "</div>\n",
    "</div>"
   ]
  },
  {
   "cell_type": "markdown",
   "id": "06482f75",
   "metadata": {
    "slideshow": {
     "slide_type": "subslide"
    }
   },
   "source": [
    "<div style=\"display:flex; justify-content: space-between; column-gap: 25px;\">\n",
    "<div>\n",
    "<img src=\"stats01.png\" width=\"50%\">\n",
    "</div>\n",
    "<div>\n",
    "<p>Once they calculate the observed value of the statistic, they can present it as their estimate and go on their merry way.</p>\n",
    "<p>But they are a data scientist. They know that their random sample is just one of numerous possible random samples, and thus their estimate is just one of numerous plausible estimates.</p>\n",
    "</div>\n",
    "</div>"
   ]
  },
  {
   "cell_type": "markdown",
   "id": "20f1b57c",
   "metadata": {
    "slideshow": {
     "slide_type": "subslide"
    }
   },
   "source": [
    "<div style=\"display:flex; justify-content: space-between; column-gap: 25px;\">\n",
    "<div>\n",
    "<img src=\"stats02.png\" width=\"50%\">\n",
    "</div>\n",
    "<div>\n",
    "<p>By how much could those estimates vary? </p>\n",
    "<p>To answer this, it appears as though they need to draw another sample from the population, and compute a new estimate based on the new sample, and repeat, and repeat...</p> \n",
    "<p>But they don't have the resources to go back to the population and draw another sample.</p>\n",
    "</div>\n",
    "</div>\n"
   ]
  },
  {
   "cell_type": "markdown",
   "id": "42440fbd-c283-4bcb-9ebc-f10760966b66",
   "metadata": {
    "slideshow": {
     "slide_type": "subslide"
    }
   },
   "source": [
    "Fortunately, a brilliant idea called the bootstrap can help. Since it is not feasible to generate new samples from the population, the bootstrap generates new random samples by a method called **resampling --- the new samples are drawn at random from the original sample.**\n",
    "\n",
    "<img src=\"bootstraps.png\" width=\"400\" style=\"float: left; margin: 5px 25px;\">\n",
    "\n",
    "_\"Achieve the impossible!\" ... \"Achieve the difficult but possible.\"_\n",
    "\n",
    "_Source: Useless Etymology, The origins of the phrase “pull yourself up by your bootstraps”. https://uselessetymology.com/2019/11/07/the-origins-of-the-phrase-pull-yourself-up-by-your-bootstraps/_"
   ]
  },
  {
   "cell_type": "markdown",
   "id": "fa90e925-66ed-43b8-ac74-b48e502c89b2",
   "metadata": {
    "slideshow": {
     "slide_type": "subslide"
    }
   },
   "source": [
    "For example, you sample 5 students and see that their heights are: {160, 162, 165, 168, 170} in cm and the median of this sample is 165."
   ]
  },
  {
   "cell_type": "code",
   "execution_count": null,
   "id": "e291f8cf",
   "metadata": {},
   "outputs": [],
   "source": [
    "import numpy as np\n",
    "import matplotlib.pyplot as plt\n",
    "\n",
    "def plt_sample(samp):\n",
    "    \"\"\"Display resampled values.\n",
    "    \n",
    "    Don't worry about the code. Treat it as a black box.\n",
    "    \"\"\"\n",
    "    fig = plt.scatter(None, None)\n",
    "    max_n = 0\n",
    "    for (x, n) in samp.value_counts().items():\n",
    "        max_n = np.max([n, max_n])\n",
    "        for y in np.arange(n):\n",
    "            plt.scatter(x=x, y=y, s=50,\n",
    "                        color=\"lightgrey\",\n",
    "                        edgecolor=\"grey\")\n",
    "    plt.ylim([-1, max_n])\n",
    "    plt.xlim([159, 171])\n",
    "    plt.xticks([160, 162, 165, 168, 170])\n",
    "    plt.axvline(x=np.median(samp), color=\"forestgreen\")\n",
    "    ax = fig.axes\n",
    "    ax.get_yaxis().set_visible(False)\n",
    "    ax.set_aspect(1)\n"
   ]
  },
  {
   "cell_type": "code",
   "execution_count": null,
   "id": "34ced91e",
   "metadata": {},
   "outputs": [],
   "source": [
    "import pandas as pd\n",
    "heights = pd.Series([160, 162, 165, 168, 170])\n",
    "plt_sample(heights);\n",
    "heights.median()"
   ]
  },
  {
   "cell_type": "markdown",
   "id": "79e2b39d",
   "metadata": {
    "slideshow": {
     "slide_type": "subslide"
    }
   },
   "source": [
    "+ One example of a \"resample\" of the original sample/data is: {165, 168, 168, 168, 170} and the median of this resample is 168."
   ]
  },
  {
   "cell_type": "code",
   "execution_count": null,
   "id": "46b19f13",
   "metadata": {},
   "outputs": [],
   "source": [
    "np.random.seed(125)\n",
    "heights_1 = heights.sample(frac=1, replace=True)\n",
    "plt_sample(heights_1);\n",
    "heights_1.median()"
   ]
  },
  {
   "cell_type": "markdown",
   "id": "8514536b",
   "metadata": {
    "slideshow": {
     "slide_type": "slide"
    }
   },
   "source": [
    "+ Another resample of the original sample/data is: {160, 160, 165, 165, 168} and the mean of this resample is 165."
   ]
  },
  {
   "cell_type": "code",
   "execution_count": null,
   "id": "e1d21429",
   "metadata": {},
   "outputs": [],
   "source": [
    "heights_2 = heights.sample(frac=1, replace=True)\n",
    "plt_sample(heights_2);\n",
    "heights_2.median()"
   ]
  },
  {
   "cell_type": "markdown",
   "id": "cf4ab96a",
   "metadata": {
    "slideshow": {
     "slide_type": "subslide"
    }
   },
   "source": [
    "+ Another resample of the original sample/data is: {162, 166, 168, 168, 170} and the median of this resample is 168."
   ]
  },
  {
   "cell_type": "code",
   "execution_count": null,
   "id": "2960fa84",
   "metadata": {},
   "outputs": [],
   "source": [
    "heights_3 = heights.sample(frac=1, replace=True)\n",
    "plt_sample(heights_3);\n",
    "heights_3.median()"
   ]
  },
  {
   "cell_type": "markdown",
   "id": "15c745c7",
   "metadata": {
    "slideshow": {
     "slide_type": "subslide"
    }
   },
   "source": [
    "Now, with all of our resamples we have the medians of the resamples are 168, 165, and 168."
   ]
  },
  {
   "cell_type": "markdown",
   "id": "748b9437",
   "metadata": {
    "slideshow": {
     "slide_type": "fragment"
    }
   },
   "source": [
    "The resample medians of 168, 165, and 168 have a mean of 167, which is pretty close to the original datas median (which was 165)."
   ]
  },
  {
   "cell_type": "markdown",
   "id": "90ab75d4",
   "metadata": {
    "slideshow": {
     "slide_type": "subslide"
    }
   },
   "source": [
    "Logic of the bootstrap:\n",
    "\n",
    "+  choose your statistic of interest (e.g., median heights of female students)\n",
    "+  use `.sample(frac=1, replace=True)` to resample your data and calculate the statistic for the resample.\n",
    "+  repeat the previous step a lot of times (say, at least 1000 times)\n",
    "+  look at the distribution of the statistic from all of the resamples (e.g., look at the histogram of all of the resample medians).\n",
    "    +  The bootstrap distribution provides an approximation of the distribution of the statistic if you were to draw many samples.\n",
    "    +  E.g., find the 5th and 95th percentiles of the resampled statistics to get an interval which captures the middle 90% of the resampled statistics to approximate the range of values the statisic would fall 90% of times."
   ]
  },
  {
   "cell_type": "markdown",
   "id": "3d2a2952",
   "metadata": {
    "slideshow": {
     "slide_type": "subslide"
    }
   },
   "source": [
    "Reminder: we can use the `.sample(frac=1, replace=True)` to create the resamples."
   ]
  },
  {
   "cell_type": "code",
   "execution_count": null,
   "id": "38eb4fa6-3a99-488f-b0b9-9af193f8bd38",
   "metadata": {},
   "outputs": [],
   "source": [
    "pantheria = pd.read_csv(\"pantheria.txt\", sep=\"\\t\")\n",
    "\n",
    "print(pantheria.shape)"
   ]
  },
  {
   "cell_type": "code",
   "execution_count": null,
   "id": "9a284d80",
   "metadata": {},
   "outputs": [],
   "source": [
    "pantheria[\"9-1_GestationLen_d\"].plot.hist(color=\"pink\", edgecolor=\"white\", bins=np.arange(0, 650, 50))\n",
    "plt.axvline(x=pantheria[\"9-1_GestationLen_d\"].median(), color=\"forestgreen\")\n",
    "plt.axvline(x=pantheria[\"9-1_GestationLen_d\"].mean(), color=\"maroon\")\n",
    "plt.ylabel(\"Frequency\")\n",
    "plt.xlabel(\"Gestational length (days)\");"
   ]
  },
  {
   "cell_type": "markdown",
   "id": "36835569",
   "metadata": {
    "slideshow": {
     "slide_type": "fragment"
    }
   },
   "source": [
    "What is a good representation of the centre of the data: <span style=\"color: maroon;\">mean</span> or <span style=\"color: forestgreen;\">median</span>?"
   ]
  },
  {
   "cell_type": "code",
   "execution_count": null,
   "id": "d112fe85-41be-4365-8de8-8c9cad3f3f45",
   "metadata": {
    "slideshow": {
     "slide_type": "subslide"
    }
   },
   "outputs": [],
   "source": [
    "pantheria[\"9-1_GestationLen_d\"].median()"
   ]
  },
  {
   "cell_type": "markdown",
   "id": "1f1dd646-8a2a-4001-940e-788e7032925f",
   "metadata": {
    "slideshow": {
     "slide_type": "subslide"
    }
   },
   "source": [
    "- Draw a random sample with replacement of the same size (number of rows) as the original sample.\n",
    "\n",
    "- This opens the possibility for the new sample to be different from the original sample."
   ]
  },
  {
   "cell_type": "code",
   "execution_count": null,
   "id": "8eec6b51-e0d1-41eb-a269-18d2bdbdd476",
   "metadata": {
    "slideshow": {
     "slide_type": "fragment"
    }
   },
   "outputs": [],
   "source": [
    "boot_gest = pantheria[\"9-1_GestationLen_d\"].sample(frac=1, replace=True)\n",
    "\n",
    "boot_gest.plot.hist(color=\"grey\", edgecolor=\"white\", bins=np.arange(0, 650, 50))\n",
    "plt.axvline(x=boot_gest.median(), color=\"forestgreen\")\n",
    "plt.ylabel(\"Frequency\")\n",
    "plt.xlabel(\"Resampled gestational length (days)\");"
   ]
  },
  {
   "cell_type": "code",
   "execution_count": null,
   "id": "6d252555",
   "metadata": {
    "slideshow": {
     "slide_type": "fragment"
    }
   },
   "outputs": [],
   "source": [
    "boot_gest.median()"
   ]
  },
  {
   "cell_type": "code",
   "execution_count": null,
   "id": "032bf293-5a18-42ed-9dc9-49880dc63cf5",
   "metadata": {
    "slideshow": {
     "slide_type": "subslide"
    }
   },
   "outputs": [],
   "source": [
    "np.random.seed(20250319) # To keep your solution consistent\n",
    "\n",
    "boot_gest = pantheria[\"9-1_GestationLen_d\"].sample(frac=1, replace=True)\n",
    "\n",
    "boot_gest.plot.hist(color=\"grey\", edgecolor=\"white\") \n",
    "plt.axvline(x=boot_gest.median(), color=\"forestgreen\")\n",
    "plt.ylabel(\"Frequency\")\n",
    "plt.xlabel(\"Resampled gestational length (days)\");\n",
    "\n",
    "boot_gest.median()"
   ]
  },
  {
   "cell_type": "markdown",
   "id": "8e57c6d6-1d50-4f8e-8e96-978559d6f944",
   "metadata": {
    "slideshow": {
     "slide_type": "subslide"
    }
   },
   "source": [
    "### Why is this a good idea?\n",
    "\n",
    "- By the law of averages, the distribution of the original sample is likely to resemble the population.  \n",
    "\n",
    "- The distributions of all the “resamples” are likely to resemble the original sample. \n",
    "\n",
    "- So the distributions of all the resamples are likely to resemble the population as well."
   ]
  },
  {
   "cell_type": "markdown",
   "id": "fc4e8a4a-fec0-457d-89fc-9b8dd6e5d69d",
   "metadata": {
    "slideshow": {
     "slide_type": "subslide"
    }
   },
   "source": [
    "### Resampled median\n",
    "\n",
    "- We generated one resampled or *bootstrapped* median above.\n",
    "\n",
    "- By resampling many times we can compute the empirical distribution of the median gestation time."
   ]
  },
  {
   "cell_type": "code",
   "execution_count": null,
   "id": "ae9b195e-3e08-473e-8d0a-0a68d8c9dd23",
   "metadata": {
    "slideshow": {
     "slide_type": "fragment"
    }
   },
   "outputs": [],
   "source": [
    "def boot_single_median():\n",
    "    \"\"\"Generate a bootstrapped median of gestation period.\n",
    "    \"\"\"\n",
    "    boot_gest_med = pantheria[\"9-1_GestationLen_d\"].sample(frac=1, replace=True).median()\n",
    "    return boot_gest_med"
   ]
  },
  {
   "cell_type": "code",
   "execution_count": null,
   "id": "3ad3b3c8-476e-4107-963e-17790dfffb6a",
   "metadata": {
    "slideshow": {
     "slide_type": "fragment"
    }
   },
   "outputs": [],
   "source": [
    "np.random.seed(125)\n",
    "boot_single_median()"
   ]
  },
  {
   "cell_type": "markdown",
   "id": "dd7720ac-069a-48c1-92a2-8d9d8cff7750",
   "metadata": {
    "slideshow": {
     "slide_type": "subslide"
    }
   },
   "source": [
    "- Now let's compute many bootstrap medians by writing a `for` loop."
   ]
  },
  {
   "cell_type": "code",
   "execution_count": null,
   "id": "1fb17d80-be93-4eaa-b515-c0f7081d95ed",
   "metadata": {
    "slideshow": {
     "slide_type": "fragment"
    }
   },
   "outputs": [],
   "source": [
    "bootstrap_medians = []  # empty list to collect medians\n",
    "\n",
    "np.random.seed(2025)\n",
    "\n",
    "for _ in range(5000):\n",
    "    bootstrap_medians.append(boot_single_median())"
   ]
  },
  {
   "cell_type": "code",
   "execution_count": null,
   "id": "8a10f3ed-9bda-4e0b-b3dc-cc4cff1c319e",
   "metadata": {
    "slideshow": {
     "slide_type": "subslide"
    }
   },
   "outputs": [],
   "source": [
    "plt.hist(bootstrap_medians, color=\"teal\", edgecolor=\"white\", bins=np.arange(60, 95, 3))\n",
    "plt.ylabel(\"Frequency\")\n",
    "plt.xlabel(\"Medians of resampled gestational lengths (days)\");"
   ]
  },
  {
   "cell_type": "markdown",
   "id": "1b56f45d-df65-44d3-bb0d-5828a0cb495d",
   "metadata": {
    "slideshow": {
     "slide_type": "slide"
    }
   },
   "source": [
    "## Boostrap confidence intervals\n",
    "\n",
    "- We can use the bootstrap distribution to construct a range of values such that 95% of the random samples will contain the true median.\n",
    "\n",
    "- The range of values is called a confidence interval.\n",
    "\n",
    "- A 95% confidence interval for the median can be constructed finding the 2.5% percentile and the 97.5% percentile.  \n",
    "\n",
    "- The reason for choosing 2.5% and 97.5% is that 0.05/2 = 0.025, and 1 - 0.025 = 0.975.   \n",
    "\n",
    "- We can do this using the `percentile` function in `numpy`."
   ]
  },
  {
   "cell_type": "code",
   "execution_count": null,
   "id": "18c0522b-5ab6-452d-a88d-030f6268fe9f",
   "metadata": {},
   "outputs": [],
   "source": [
    "np.percentile(bootstrap_medians, 2.5)"
   ]
  },
  {
   "cell_type": "code",
   "execution_count": null,
   "id": "34493516-c986-45e4-874d-1e705c912215",
   "metadata": {},
   "outputs": [],
   "source": [
    "np.percentile(bootstrap_medians, 97.5)"
   ]
  },
  {
   "cell_type": "markdown",
   "id": "42826aaf-46d0-433b-b42c-d100e0730d3f",
   "metadata": {
    "slideshow": {
     "slide_type": "subslide"
    }
   },
   "source": [
    "A 95% bootstrap confidence interval for median is 62.99 days to 78.21 days."
   ]
  },
  {
   "cell_type": "code",
   "execution_count": null,
   "id": "48a265b0",
   "metadata": {},
   "outputs": [],
   "source": [
    "lwr = np.percentile(bootstrap_medians, 2.5)\n",
    "upr = np.percentile(bootstrap_medians, 97.5)\n",
    "plt.hist(bootstrap_medians, color=\"lightgrey\", edgecolor=\"white\", bins=np.arange(60, 95, 3))\n",
    "plt.hist(pd.Series(bootstrap_medians)[(bootstrap_medians > lwr) & (bootstrap_medians < upr)], \n",
    "         color=\"teal\", edgecolor=\"white\", bins=np.arange(60, 95, 3))\n",
    "plt.axvline(x=lwr, color=\"coral\", linewidth=2)\n",
    "plt.axvline(x=upr, color=\"coral\", linewidth=2)\n",
    "plt.ylabel(\"Frequency\")\n",
    "plt.xlabel(\"Medians of resampled gestational lengths (days)\");"
   ]
  },
  {
   "cell_type": "markdown",
   "id": "d3fd9ad3-997d-4266-82eb-f862d17743b3",
   "metadata": {
    "slideshow": {
     "slide_type": "slide"
    }
   },
   "source": [
    "## Bootstrap confidence intervals for other statistics"
   ]
  },
  {
   "cell_type": "markdown",
   "id": "edea41fc-6e87-4eec-ba04-1f11ccc046ee",
   "metadata": {
    "slideshow": {
     "slide_type": "subslide"
    }
   },
   "source": [
    "### Do Primate carnivores have different body sizes compared to Carnivora carnivores?\n",
    "\n",
    "- Let's create a dataset (`DataFrame`) with primates and carnivora body mass measurements. "
   ]
  },
  {
   "cell_type": "code",
   "execution_count": null,
   "id": "70bb7559-1d04-4598-99b0-4bf4fd0844fe",
   "metadata": {
    "slideshow": {
     "slide_type": "fragment"
    }
   },
   "outputs": [],
   "source": [
    "cols = [\"MSW05_Order\", \"5-1_AdultBodyMass_g\"]\n",
    "\n",
    "condition = (pantheria[\"MSW05_Order\"] == \"Primates\") | (pantheria[\"MSW05_Order\"] == \"Carnivora\")\n",
    "\n",
    "primcarn_df = pantheria.loc[condition, cols].dropna()  # .loc[rows, columns]\n",
    "\n",
    "primcarn_df.groupby(\"MSW05_Order\").describe()"
   ]
  },
  {
   "cell_type": "code",
   "execution_count": null,
   "id": "04924399-bef8-42f4-b751-050b6053fa26",
   "metadata": {
    "slideshow": {
     "slide_type": "subslide"
    }
   },
   "outputs": [],
   "source": [
    "primcarn_df.hist(by=\"MSW05_Order\", bins=75, edgecolor=\"white\", color=\"grey\",\n",
    "                #  orientation=\"horizontal\",\n",
    "                # layout=[2, 1], # [rows, columns]\n",
    "                # sharex=True, # share same axis\n",
    "                xrot=0);"
   ]
  },
  {
   "cell_type": "markdown",
   "id": "ac837b41-b087-4f06-8cfd-95aa8ee3f3bb",
   "metadata": {
    "slideshow": {
     "slide_type": "subslide"
    }
   },
   "source": [
    "Create a function to create one bootstrap sample of the median difference."
   ]
  },
  {
   "cell_type": "code",
   "execution_count": null,
   "id": "45efd773-331f-4f75-b1b5-f719eecdb2d5",
   "metadata": {},
   "outputs": [],
   "source": [
    "def boot_single_median_diff():\n",
    "    \"\"\"Generate a bootstrapped difference in adult body mass medians.\n",
    "    \n",
    "    The function computes the difference of the medians by subtracting the bootstrapped median\n",
    "    of primates from the bootstrapped median of carnivoras.\n",
    "    \"\"\"\n",
    "    # sample body mass with replacement\n",
    "    boot_mass = primcarn_df.sample(frac=1, replace=True)\n",
    "    # primate rows\n",
    "    primes = boot_mass[\"MSW05_Order\"] == \"Primates\"\n",
    "    # carnivora rows\n",
    "    carns = boot_mass[\"MSW05_Order\"] == \"Carnivora\"\n",
    "    \n",
    "    # compute difference in medians on bootstrap sample\n",
    "    boot_mass_med_diff = (\n",
    "        boot_mass.loc[carns, \"5-1_AdultBodyMass_g\"].median() \n",
    "        - boot_mass.loc[primes, \"5-1_AdultBodyMass_g\"].median())    # carnivores - primates\n",
    "    return boot_mass_med_diff"
   ]
  },
  {
   "cell_type": "code",
   "execution_count": null,
   "id": "8b9065ec",
   "metadata": {
    "slideshow": {
     "slide_type": "fragment"
    }
   },
   "outputs": [],
   "source": [
    "boot_single_median_diff()"
   ]
  },
  {
   "cell_type": "markdown",
   "id": "3ff2c7c3-da2c-4e8e-a5b0-9512cc7f940b",
   "metadata": {
    "slideshow": {
     "slide_type": "subslide"
    }
   },
   "source": [
    "Now, compute bootstrap distribution for a `for` loop."
   ]
  },
  {
   "cell_type": "code",
   "execution_count": null,
   "id": "0007862d-46cc-41fa-a30e-2dccfceeb892",
   "metadata": {
    "slideshow": {
     "slide_type": "fragment"
    }
   },
   "outputs": [],
   "source": [
    "bootst_med_diffs = []\n",
    "\n",
    "for _ in range(5000):\n",
    "    bootst_med_diffs.append(boot_single_median_diff())"
   ]
  },
  {
   "cell_type": "code",
   "execution_count": null,
   "id": "55172566-d50a-4acd-ae9c-ce90bc52a443",
   "metadata": {
    "slideshow": {
     "slide_type": "slide"
    }
   },
   "outputs": [],
   "source": [
    "plt.hist(bootst_med_diffs, color=\"grey\", edgecolor=\"white\", bins=np.arange(-2000, 4000, 250))\n",
    "plt.ylabel(\"Frequency\")\n",
    "plt.xlabel(\"Resampled differences of body mass medians (grams)\");"
   ]
  },
  {
   "cell_type": "markdown",
   "id": "3d04b5a2-c614-42b0-8b3c-6c0cf982199c",
   "metadata": {
    "slideshow": {
     "slide_type": "subslide"
    }
   },
   "source": [
    "A 95% confidence interval for the median difference in mass of carnivores and primates is:"
   ]
  },
  {
   "cell_type": "code",
   "execution_count": null,
   "id": "78df8341-cd97-43a6-a9f2-9182d46d4b0c",
   "metadata": {
    "slideshow": {
     "slide_type": "fragment"
    }
   },
   "outputs": [],
   "source": [
    "np.percentile(bootst_med_diffs, 2.5), np.percentile(bootst_med_diffs, 97.5) "
   ]
  },
  {
   "cell_type": "markdown",
   "id": "11b54377-10de-4ce9-8930-6c090e2678dd",
   "metadata": {
    "slideshow": {
     "slide_type": "fragment"
    }
   },
   "source": [
    "The confidence interval contains 0. So we cannot really rule out that the medians are the same.\n",
    "\n",
    "Therefore there is very weak evidence that the medians are different. "
   ]
  },
  {
   "cell_type": "markdown",
   "id": "d238cd20",
   "metadata": {
    "slideshow": {
     "slide_type": "slide"
    }
   },
   "source": [
    "## Overview\n",
    "\n",
    "Hypothesis testing covered how to:\n",
    "+ test if a percentage (statistic) is different from some hypothesized values.\n",
    "+ test if two different groups have different means (or median)."
   ]
  },
  {
   "cell_type": "markdown",
   "id": "a5dc6672",
   "metadata": {
    "slideshow": {
     "slide_type": "fragment"
    }
   },
   "source": [
    "Confidence intervals covered how to:\n",
    "+ get a range of values which estimate a parameter (i.e., mean, median, percentage).\n",
    "+ get a range of values which estimate the difference in means (or medians) of two different groups."
   ]
  },
  {
   "cell_type": "markdown",
   "id": "67abfddc",
   "metadata": {
    "slideshow": {
     "slide_type": "fragment"
    }
   },
   "source": [
    "With linear regression we will cover how to:\n",
    "+ look at the relationship between two columns in a data frame. (E.g., the relationship between height and mass of mammals)."
   ]
  },
  {
   "cell_type": "markdown",
   "id": "b012aa46-cdfa-4372-abd0-c1b285f81ccf",
   "metadata": {
    "slideshow": {
     "slide_type": "slide"
    }
   },
   "source": [
    "## Linear Regression\n",
    "\n",
    "### Basic idea\n",
    "\n",
    "- Linear regression is a useful technique for creating models to explain relationships between variables. \n",
    "\n",
    "- The dependent variable must be numeric, and have meaningful numeric values. \n",
    "\n",
    "- The independent variables can be quantitative or categorical variables."
   ]
  },
  {
   "cell_type": "markdown",
   "id": "7b0f4298",
   "metadata": {
    "slideshow": {
     "slide_type": "subslide"
    }
   },
   "source": [
    "Essentially we have some data and want to estimate the line. \n",
    "\n",
    "<img src=\"line.png\" width=\"400\" style=\"float:left; margin: 5px 25px;\">\n",
    "\n",
    "We call the estimated line $\\hat{Y} = b_0 + b_1 X$, where:\n",
    "+ $b_0$ is the estimated y-intercept\n",
    "+ $b_1$ is the estimated slope"
   ]
  },
  {
   "cell_type": "markdown",
   "id": "4b299df1-57c6-4cdc-93ea-4525d5adb942",
   "metadata": {
    "slideshow": {
     "slide_type": "subslide"
    }
   },
   "source": [
    "### Example 1: A perfect linear relationship "
   ]
  },
  {
   "cell_type": "code",
   "execution_count": null,
   "id": "65a0cefd-8938-4137-b3e6-8a7cb2addac2",
   "metadata": {},
   "outputs": [],
   "source": [
    "import pandas as pd\n",
    "import numpy as np\n",
    "\n",
    "data = {\"indvar\" : np.arange(start=0, stop=9, step=1),\n",
    "       \"depvar\" : np.arange(start=7, stop=16, step=1)}\n",
    "\n",
    "df = pd.DataFrame(data)\n",
    "\n",
    "df"
   ]
  },
  {
   "cell_type": "markdown",
   "id": "8703b81b-a3cf-4f1c-a5a0-ca83800fcd98",
   "metadata": {
    "slideshow": {
     "slide_type": "subslide"
    }
   },
   "source": [
    "Let's plot the data"
   ]
  },
  {
   "cell_type": "code",
   "execution_count": null,
   "id": "b901bbaf-da1e-42e0-81d4-84456ac9422f",
   "metadata": {
    "slideshow": {
     "slide_type": "fragment"
    }
   },
   "outputs": [],
   "source": [
    "import matplotlib.pyplot as plt\n",
    "\n",
    "plt.scatter(x=df[\"indvar\"], y=df[\"depvar\"])\n",
    "plt.xlabel(\"indvar\")\n",
    "plt.ylabel(\"depvar\");"
   ]
  },
  {
   "cell_type": "markdown",
   "id": "48ab0e4f-eaa8-43e8-9236-28cad126d63f",
   "metadata": {
    "slideshow": {
     "slide_type": "fragment"
    }
   },
   "source": [
    "- The scatter plot shows each pair of points (0, 7), (1, 8), etc. \n",
    "- `\"indvar\"` is sometimes called an _independent_ or _predictor_ variable, or _covariate_,  \n",
    "and `\"depvar\"` is called the _dependent_ variable or _response_ variable.\n",
    "- In this example the dependent variable is perfectly predicted by the independent variable using the line y=7+1x. "
   ]
  },
  {
   "cell_type": "markdown",
   "id": "10775734-fe62-4e02-aa56-145ef82e46d7",
   "metadata": {
    "slideshow": {
     "slide_type": "subslide"
    }
   },
   "source": [
    "### Compute the regression line"
   ]
  },
  {
   "cell_type": "code",
   "execution_count": null,
   "id": "bce4fa88-d67d-4685-ae01-64a9c02eb2cb",
   "metadata": {
    "slideshow": {
     "slide_type": "fragment"
    }
   },
   "outputs": [],
   "source": [
    "import statsmodels.formula.api as smf\n",
    "\n",
    "regmod = smf.ols(\"depvar ~ indvar\", data=df) # setup the model"
   ]
  },
  {
   "cell_type": "markdown",
   "id": "8b21874f-701e-4c72-a30d-b3d277a6f684",
   "metadata": {
    "slideshow": {
     "slide_type": "fragment"
    }
   },
   "source": [
    "- The code above uses the `ols()` function from `statsmodels.formula.api` \n",
    "\n",
    "- The syntax in the function `ols()` function `\"depvar ~ indvar\"` is a special syntax for describing statistical models.  \n",
    "\n",
    "- The column name to the **left** of `~` specifies the dependent variable.\n",
    "\n",
    "- The column name to the **right** of `~` specifies the independent variable(s)."
   ]
  },
  {
   "cell_type": "code",
   "execution_count": null,
   "id": "94bd5fb2-36a3-4fe9-9448-d1a9b01ef6f0",
   "metadata": {
    "slideshow": {
     "slide_type": "subslide"
    }
   },
   "outputs": [],
   "source": [
    "regmod_fit = regmod.fit() # estimate/fit the model "
   ]
  },
  {
   "cell_type": "markdown",
   "id": "b86e7b6c-c743-4282-88be-6edf161e294d",
   "metadata": {
    "slideshow": {
     "slide_type": "fragment"
    }
   },
   "source": [
    "After the model is setup then the `fit` function can be applied to the model.  This function computes the equation of the regression line."
   ]
  },
  {
   "cell_type": "code",
   "execution_count": null,
   "id": "1c8e103a-5128-4179-94b4-133c69f7c00e",
   "metadata": {
    "slideshow": {
     "slide_type": "subslide"
    }
   },
   "outputs": [],
   "source": [
    "regmod_fit.params # get parameter estimates"
   ]
  },
  {
   "cell_type": "markdown",
   "id": "9c435d0d-a925-49e9-b29b-4d98ed830695",
   "metadata": {
    "slideshow": {
     "slide_type": "fragment"
    }
   },
   "source": [
    "- The estimates of the **y-intercept** and **slope** are labelled `Intercept` (7.0)  and `indvar` (1.0).\n",
    "\n",
    "- This means the regression equation is: $$\\texttt{depvar} = 7 + 1 \\times \\texttt{indvar}$$ or $$Y = 7 + 1 \\times X$$"
   ]
  },
  {
   "cell_type": "markdown",
   "id": "aba31f01-a590-4cd3-bf8d-94fa12da634d",
   "metadata": {
    "slideshow": {
     "slide_type": "subslide"
    }
   },
   "source": [
    "### Example 2: Another perfect linear relationship"
   ]
  },
  {
   "cell_type": "code",
   "execution_count": null,
   "id": "a44794dd-dd16-47d0-b65b-ee70c8af8100",
   "metadata": {},
   "outputs": [],
   "source": [
    "data = {\"depvar\" : np.arange(start=0, stop=8, step=1) + 2,\n",
    "       \"indvar\" : np.arange(start=0, stop=8, step=1)}\n",
    "\n",
    "df = pd.DataFrame(data)\n",
    "\n",
    "df"
   ]
  },
  {
   "cell_type": "code",
   "execution_count": null,
   "id": "d442fa07-c907-4907-9315-5d547b0eb3ed",
   "metadata": {
    "slideshow": {
     "slide_type": "subslide"
    }
   },
   "outputs": [],
   "source": [
    "plt.scatter(x=df[\"indvar\"], y=df[\"depvar\"])\n",
    "plt.xlabel(\"indvar\")\n",
    "plt.ylabel(\"depvar\");"
   ]
  },
  {
   "cell_type": "code",
   "execution_count": null,
   "id": "82ceed5b-5ccd-4b64-babb-1164c1dc496a",
   "metadata": {
    "slideshow": {
     "slide_type": "subslide"
    }
   },
   "outputs": [],
   "source": [
    "regmod = smf.ols(\"depvar ~ indvar\", data=df) # setup the model\n",
    "\n",
    "regmod_fit = regmod.fit() # estimate/fit the model \n",
    "\n",
    "regmod_fit.params # get parameter estimates"
   ]
  },
  {
   "cell_type": "markdown",
   "id": "c862c762-f03f-4e15-a309-ac146b410975",
   "metadata": {
    "slideshow": {
     "slide_type": "fragment"
    }
   },
   "source": [
    "- The scatter plot is similar to Example 1 except that the values of the dependent variable has been increased by 2.\n",
    "\n",
    "- The equation of the regression line for this data is:  $$\\texttt{depvar} = 2 + 1 \\times \\texttt{indvar} $$"
   ]
  },
  {
   "cell_type": "markdown",
   "id": "e8666734",
   "metadata": {
    "slideshow": {
     "slide_type": "subslide"
    }
   },
   "source": [
    "For the line: $$\\texttt{depvar} = 2 + 1 \\times \\texttt{indvar} $$\n",
    "\n",
    "### Interpretation of y-intercept\n",
    "\n",
    "- When the independent variable is 0 the dependent variable is 2.  This is the meaning of the **y-intercept** value of 2.\n",
    "\n",
    "### Interpretation of slope\n",
    "\n",
    "- For a one-unit change in the independent variable we expect the dependent variable increases by 1 unit."
   ]
  },
  {
   "cell_type": "markdown",
   "id": "c9a9f16b-f5b8-4260-bd96-97c660fa5a9f",
   "metadata": {
    "slideshow": {
     "slide_type": "subslide"
    }
   },
   "source": [
    "### Example 3: Close to linear\n",
    "\n",
    "- Examples 1 and 2 were perfect linear relationships.\n",
    "\n",
    "- In this example we examine what happens if the relationship between the dependent and independent variables is almost perfectly linear."
   ]
  },
  {
   "cell_type": "code",
   "execution_count": null,
   "id": "8677b893-d3e3-4376-9998-bdfa4ca68407",
   "metadata": {},
   "outputs": [],
   "source": [
    "np.random.seed(2025) # set the seed so that it's reproducible\n",
    "\n",
    "data = {\"depvar\" : np.arange(start=0, stop=8, step=1) + 2,\n",
    "        \"indvar\" : np.arange(start=0, stop=8, step=1) + np.random.uniform(low=0, high=2, size=8)}\n",
    "\n",
    "df = pd.DataFrame(data)\n",
    "\n",
    "df"
   ]
  },
  {
   "cell_type": "code",
   "execution_count": null,
   "id": "238bd266-67d1-4568-939d-cb04a92ec5cd",
   "metadata": {
    "slideshow": {
     "slide_type": "subslide"
    }
   },
   "outputs": [],
   "source": [
    "plt.scatter(x=df[\"indvar\"], y=df[\"depvar\"])\n",
    "plt.xlabel(\"indvar\")\n",
    "plt.ylabel(\"depvar\");"
   ]
  },
  {
   "cell_type": "code",
   "execution_count": null,
   "id": "3c732692-4d06-4b4a-95ff-9fd4c881a594",
   "metadata": {},
   "outputs": [],
   "source": [
    "regmod = smf.ols(\"depvar ~ indvar\", data=df) # setup the model\n",
    "\n",
    "regmod_fit = regmod.fit() # estimate/fit the model \n",
    "\n",
    "regmod_fit.params # get parameter estimates"
   ]
  },
  {
   "cell_type": "markdown",
   "id": "c0fa1e91-0ede-4065-8381-2a1b1d891d93",
   "metadata": {
    "slideshow": {
     "slide_type": "subslide"
    }
   },
   "source": [
    "So, now the relationship isn't perfectly linear, but close.  The equation of this regression line is:\n",
    "\n",
    "$$\\texttt{depvar} = 1.112654 + 0.964393 \\times \\texttt{indvar}$$"
   ]
  },
  {
   "cell_type": "code",
   "execution_count": null,
   "id": "312aefc6",
   "metadata": {},
   "outputs": [],
   "source": [
    "plt.scatter(x=df[\"indvar\"], y=df[\"depvar\"])\n",
    "plt.axline(xy1=(0, 1.112654), slope=0.964393)\n",
    "plt.xlabel(\"indvar\")\n",
    "plt.ylabel(\"depvar\");"
   ]
  },
  {
   "cell_type": "markdown",
   "id": "316b8ed0",
   "metadata": {},
   "source": [
    "+  `plt.axline()` from the `matplotlib.pyplot` can be used to add a line to a plot.\n",
    "+  We can use `xy1` and `slope` to specify the intercept point and the slope of the line respectively."
   ]
  },
  {
   "cell_type": "code",
   "execution_count": null,
   "id": "0ece0480-1f98-40af-9d24-a0fa829f8f5a",
   "metadata": {
    "slideshow": {
     "slide_type": "subslide"
    }
   },
   "outputs": [],
   "source": [
    "import seaborn as sns\n",
    "sns.regplot(x=\"indvar\", y=\"depvar\", data=df, ci=None);"
   ]
  },
  {
   "cell_type": "markdown",
   "id": "3b8c6e30-8209-4d4b-9b58-256c1db34560",
   "metadata": {
    "slideshow": {
     "slide_type": "fragment"
    }
   },
   "source": [
    "The `regplot()` function in the `seaborn` library will produce a scatter plot with the regression line.\n",
    "\n",
    "The parameters of `regplot()`\n",
    "\n",
    "- `x` is the independent variable.\n",
    "- `y` is the dependent variable.\n",
    "- `ci=None` specifies no confidence interval for the regression line."
   ]
  },
  {
   "cell_type": "markdown",
   "id": "f440e4d0-8a2f-4807-9be9-2fd8475e79ed",
   "metadata": {
    "slideshow": {
     "slide_type": "subslide"
    }
   },
   "source": [
    "### Statistical summary of linear regression"
   ]
  },
  {
   "cell_type": "code",
   "execution_count": null,
   "id": "3be12c93-1bea-4367-b04b-4d7aa34bf580",
   "metadata": {},
   "outputs": [],
   "source": [
    "import warnings\n",
    "warnings.filterwarnings(\"ignore\") # turn off warnings\n",
    "\n",
    "regsum = regmod_fit.summary()\n",
    "# warnings.filterwarnings(\"default\") # turn warnings back on\n",
    "regsum.tables[1]\n"
   ]
  },
  {
   "cell_type": "markdown",
   "id": "858c950f",
   "metadata": {
    "slideshow": {
     "slide_type": "fragment"
    }
   },
   "source": [
    "- A statistical summary of the regression model is given above using the `summary` function in `statsmodels`.\n",
    "\n",
    "- There are three summary tables, but we will only be interested in the second summary table --- `regsum.tables[1]` (in this course)."
   ]
  },
  {
   "cell_type": "code",
   "execution_count": null,
   "id": "333a5013",
   "metadata": {
    "slideshow": {
     "slide_type": "subslide"
    }
   },
   "outputs": [],
   "source": [
    "regsum.tables[1]"
   ]
  },
  {
   "cell_type": "markdown",
   "id": "da5d106b",
   "metadata": {
    "slideshow": {
     "slide_type": "fragment"
    }
   },
   "source": [
    "What does the statistical summary represent?\n",
    "\n",
    "- the column labelled `coef` are same values as `regmod_fit.params`.  In this case the average increase `depvar` for a one unit change in `indvar` is 0.9319."
   ]
  },
  {
   "cell_type": "markdown",
   "id": "d7bd9d67",
   "metadata": {
    "slideshow": {
     "slide_type": "fragment"
    }
   },
   "source": [
    "- the `std err` column represents the standard deviation of the intercept and slope (we won't discuss in this course)."
   ]
  },
  {
   "cell_type": "markdown",
   "id": "be83e5bd",
   "metadata": {
    "slideshow": {
     "slide_type": "fragment"
    }
   },
   "source": [
    "- the `t` column represents the value of the t-statistic (we won't discuss in this course)."
   ]
  },
  {
   "cell_type": "markdown",
   "id": "7f039595",
   "metadata": {
    "slideshow": {
     "slide_type": "fragment"
    }
   },
   "source": [
    "- the column `P>|t|` represents the p-value corresponding to the null hypothesis that the intercept or slope are equal to 0.  If the value is small then this is evidence against the null hypothesis.  But if the p-value is large then there is no evidence against the null hypothesis.  "
   ]
  },
  {
   "cell_type": "code",
   "execution_count": null,
   "id": "8d299f57",
   "metadata": {
    "slideshow": {
     "slide_type": "subslide"
    }
   },
   "outputs": [],
   "source": [
    "regsum.tables[1]"
   ]
  },
  {
   "cell_type": "markdown",
   "id": "8bb37d87",
   "metadata": {
    "slideshow": {
     "slide_type": "fragment"
    }
   },
   "source": [
    "- The traditional threshold is 0.05 (i.e., a p-value less than or equal to 0.05 is supposed to indicate evidence against the null hypothesis). However, we shouldn't conclude solely based on the p-value being smaller than an arbitrary threshold."
   ]
  },
  {
   "cell_type": "markdown",
   "id": "da301a16",
   "metadata": {
    "slideshow": {
     "slide_type": "fragment"
    }
   },
   "source": [
    "- In the example above the p-value for the slope is 0 (or too close to 0 to display).  This indicates strong evidence that the *true* value of the slope is non-zero."
   ]
  },
  {
   "cell_type": "markdown",
   "id": "aeb520c9-e1ac-4e5c-a903-b7fd91c4d9c7",
   "metadata": {
    "slideshow": {
     "slide_type": "fragment"
    }
   },
   "source": [
    "- The columns `[0.025   0.975]` form a plausible range of values for the y-intercept and slope (formally known as a 95% confidence interval). In this case the plausible values for the slope are 0.738 and 1.191.  "
   ]
  },
  {
   "cell_type": "markdown",
   "id": "edc7e120",
   "metadata": {
    "slideshow": {
     "slide_type": "fragment"
    }
   },
   "source": [
    "- If the plausible range includes 0 then this is usually interpreted as not providing evidence against the null hypothesis (equivalent to saying a p-value greater than 0.05 does not provide the evidence)."
   ]
  },
  {
   "cell_type": "markdown",
   "id": "0b73bd6e-c36d-4625-9d4f-457001a14fe1",
   "metadata": {
    "slideshow": {
     "slide_type": "subslide"
    }
   },
   "source": [
    "### Fitted values, predicted values, and residuals\n",
    "\n",
    "If the values of the independent variable are plugged into the regression equation then we obtain the fitted values.\n",
    "\n",
    "$$\\texttt{depvar} = 1.1127 + 0.9644 \\times \\texttt{indvar}$$"
   ]
  },
  {
   "cell_type": "code",
   "execution_count": null,
   "id": "3994e8b3-cd43-46cc-ae68-1f3f6ff97132",
   "metadata": {},
   "outputs": [],
   "source": [
    "df"
   ]
  },
  {
   "cell_type": "markdown",
   "id": "46c19eb7-ad94-410c-a5c5-27f71fa262de",
   "metadata": {},
   "source": [
    "The **fitted value** for the first row of `df` is:"
   ]
  },
  {
   "cell_type": "code",
   "execution_count": null,
   "id": "aec4c8e0-9084-4e4a-8ad0-4ca36d14d4dd",
   "metadata": {},
   "outputs": [],
   "source": [
    "1.1127 + 0.9644 * df.loc[0, \"indvar\"]"
   ]
  },
  {
   "cell_type": "markdown",
   "id": "d0ec4dfa-b91a-4566-989f-2de167ef276d",
   "metadata": {
    "slideshow": {
     "slide_type": "fragment"
    }
   },
   "source": [
    "- If the linear regression model is used on an independent variable that is not in the data set used to build the model then it's often referred to as a **predicted value**."
   ]
  },
  {
   "cell_type": "markdown",
   "id": "0e293e1e-a94d-4aed-84cc-d42f9064c776",
   "metadata": {
    "slideshow": {
     "slide_type": "subslide"
    }
   },
   "source": [
    "To extract the fitted values from a regression model access the `fittedvalues` attribute of the fitted `statsmodels` object."
   ]
  },
  {
   "cell_type": "code",
   "execution_count": null,
   "id": "2d2e0523-9df6-49c7-9a04-bf93a7ffc413",
   "metadata": {
    "slideshow": {
     "slide_type": "fragment"
    }
   },
   "outputs": [],
   "source": [
    "regmod_fit.fittedvalues"
   ]
  },
  {
   "cell_type": "markdown",
   "id": "a784a7e2-4035-45d1-bce8-86d832c0428c",
   "metadata": {
    "slideshow": {
     "slide_type": "fragment"
    }
   },
   "source": [
    "The **residual** is how far above or below the line a point is. So, it is the dependent variable minus the fitted value.  \n",
    "\n",
    "So, for the first row the residual is:"
   ]
  },
  {
   "cell_type": "code",
   "execution_count": null,
   "id": "35b9cb24-a5ca-4ccc-a772-6a491ea155cd",
   "metadata": {
    "slideshow": {
     "slide_type": "fragment"
    }
   },
   "outputs": [],
   "source": [
    "2 - 1.373982"
   ]
  },
  {
   "cell_type": "markdown",
   "id": "4c5b6b3c-6702-4ab3-9ed2-85fe141d9a14",
   "metadata": {
    "slideshow": {
     "slide_type": "subslide"
    }
   },
   "source": [
    "We will chat more about residuals next week."
   ]
  },
  {
   "cell_type": "markdown",
   "id": "b4fda4f8-1a45-4b8b-af59-46c0bb8b0bbf",
   "metadata": {
    "slideshow": {
     "slide_type": "slide"
    }
   },
   "source": [
    "## Accuracy of linear regression\n",
    "\n",
    "- There are several measures of accuracy for linear regression.\n",
    "\n",
    "- Popular measures are R-squared and root mean squared error; we will discuss root mean squared error next class.\n",
    "\n",
    "- R-squared can be calculated from a fitted model regression model using the `rsquared` attribute in a fitted `statsmodels` object.\n",
    "\n",
    "- R-squared is always between 0 and 1.  \n",
    "     + R-squared of 0 indicates a poor fit\n",
    "     + R-squared of 1 indicates a perfect fit"
   ]
  },
  {
   "cell_type": "code",
   "execution_count": null,
   "id": "33979c00-d8bd-4b03-84a7-7fb647c50782",
   "metadata": {},
   "outputs": [],
   "source": [
    "regmod_fit.rsquared"
   ]
  },
  {
   "cell_type": "markdown",
   "id": "1e24200e-3a17-4b3d-b1b2-dbd274112f30",
   "metadata": {
    "slideshow": {
     "slide_type": "subslide"
    }
   },
   "source": [
    "### Example 4: Regression with two or more independent variables\n",
    "\n",
    "It's possible to include more than one independent variable in a regression model.  "
   ]
  },
  {
   "cell_type": "code",
   "execution_count": null,
   "id": "2288c6dd-ea23-442b-9a33-21b4609a80ac",
   "metadata": {},
   "outputs": [],
   "source": [
    "np.random.seed(11) #set the seed so that it's reproducible\n",
    "\n",
    "data = {\"depvar\" : np.arange(start=0, stop=8, step=1) + 2,\n",
    "        \"indvar1\" : np.arange(start=0, stop=8, step=1) + np.random.uniform(low=0, high=2, size=8),\n",
    "        \"indvar2\" : np.arange(start=0, stop=8, step=1) + np.random.normal(loc=0, scale=1, size=8)}\n",
    "\n",
    "df = pd.DataFrame(data)\n",
    "\n",
    "df"
   ]
  },
  {
   "cell_type": "markdown",
   "id": "94869b31-9174-4720-8905-157314352bd3",
   "metadata": {
    "slideshow": {
     "slide_type": "subslide"
    }
   },
   "source": [
    "To include more than one independent variable in a regression model add it to the right side of syntax for describing statistical models.\n",
    "\n",
    "`\"depvar ~ indvar1 + indvar2\"`"
   ]
  },
  {
   "cell_type": "code",
   "execution_count": null,
   "id": "44ed7bb9-c1a9-4e6b-aa78-75cca3af3da2",
   "metadata": {
    "slideshow": {
     "slide_type": "fragment"
    }
   },
   "outputs": [],
   "source": [
    "regmod = smf.ols(\"depvar ~ indvar1 + indvar2\", data=df) # setup the model"
   ]
  },
  {
   "cell_type": "markdown",
   "id": "ac8eaa26-30e8-4010-9815-6ac6effdb591",
   "metadata": {
    "slideshow": {
     "slide_type": "subslide"
    }
   },
   "source": [
    "Now `fit` `regmod`."
   ]
  },
  {
   "cell_type": "code",
   "execution_count": null,
   "id": "18f954d1-2b78-4510-8e7e-629ddfa4c962",
   "metadata": {
    "slideshow": {
     "slide_type": "fragment"
    }
   },
   "outputs": [],
   "source": [
    "regmod_fit = regmod.fit() # estimate/fit the model "
   ]
  },
  {
   "cell_type": "markdown",
   "id": "2db7e60d-7e02-460d-a271-26fef999f03e",
   "metadata": {
    "slideshow": {
     "slide_type": "subslide"
    }
   },
   "source": [
    "Extract the regression parameter estimates using `params`."
   ]
  },
  {
   "cell_type": "code",
   "execution_count": null,
   "id": "8fff8b02-e5cc-4209-a054-8894eb7010a9",
   "metadata": {
    "slideshow": {
     "slide_type": "fragment"
    }
   },
   "outputs": [],
   "source": [
    "regmod_fit.params # get parameter estimates"
   ]
  },
  {
   "cell_type": "markdown",
   "id": "b1fbb313-cd06-4a05-b23e-fc1c3dcfdbe1",
   "metadata": {
    "slideshow": {
     "slide_type": "fragment"
    }
   },
   "source": [
    "The estimated linear (multiple) linear regression model is:\n",
    "\n",
    "$$\\texttt{depvar} = 1.892482 + 0.549341 \\times \\texttt{indvar1} + 0.385197 \\times \\texttt{indvar2}$$\n",
    "\n",
    "- The y-intercept value (1.892482) is the value of the dependent variable when `indvar1` and `indvar2` are both 0.\n",
    "\n",
    "-  If `indvar1` changes by one-unit, `depvar` changes (on average) by 0.549341.\n",
    "\n",
    "-  If `indvar2` changes by one-unit, `depvar` changes (on average) by 0.385197. "
   ]
  },
  {
   "cell_type": "markdown",
   "id": "d8de2ca5-78f8-4094-a035-ad63540cbbcd",
   "metadata": {
    "slideshow": {
     "slide_type": "subslide"
    }
   },
   "source": [
    "### Statistical summary of a multiple regression model"
   ]
  },
  {
   "cell_type": "code",
   "execution_count": null,
   "id": "22ba6a39-b64a-43bb-9793-ce8451adb5cc",
   "metadata": {},
   "outputs": [],
   "source": [
    "multregsummary = regmod_fit.summary()\n",
    "\n",
    "multregsummary.tables[1]"
   ]
  },
  {
   "cell_type": "markdown",
   "id": "92c189d5-8418-4451-94f2-0f425c510337",
   "metadata": {
    "slideshow": {
     "slide_type": "fragment"
    }
   },
   "source": [
    "The statistical summary indicates:\n",
    "\n",
    "- the p-value for `indvar1` is 0.003 and the range of plausible values for the slope is 0.288 to 0.810.\n",
    "\n",
    "- the p-value for `indvar2` is 0.010 and the range of plausible values for the slope is 0.137 to 0.634.  \n",
    "\n",
    "- Since, both p-values are small there is evidence that slope is different from 0, and the range of plausible values does not include 0."
   ]
  },
  {
   "cell_type": "markdown",
   "id": "401d1241-0aaa-4f1c-93fd-335fe6ee7a22",
   "metadata": {
    "slideshow": {
     "slide_type": "subslide"
    }
   },
   "source": [
    "### Accuracy of multiple regression model"
   ]
  },
  {
   "cell_type": "code",
   "execution_count": null,
   "id": "fa0bedb1-c380-453f-95df-49853f70e227",
   "metadata": {},
   "outputs": [],
   "source": [
    "regmod_fit.rsquared"
   ]
  },
  {
   "cell_type": "markdown",
   "id": "afcfa85d-2242-4986-a861-fbd4e48b45e1",
   "metadata": {
    "slideshow": {
     "slide_type": "slide"
    }
   },
   "source": [
    "## A regression model of longevity on gestation\n",
    "\n",
    "### Data\n",
    "\n",
    "- pantheria data contains data on longevity and body mass."
   ]
  },
  {
   "cell_type": "code",
   "execution_count": null,
   "id": "5fd1228a-08f3-4509-9785-27a9ed014879",
   "metadata": {},
   "outputs": [],
   "source": [
    "import pandas as pd\n",
    "import matplotlib.pyplot as plt \n",
    "import numpy as np\n",
    "import seaborn as sns\n",
    "\n",
    "pantheria = pd.read_csv(\"pantheria.txt\", sep=\"\\t\")\n",
    "pantheria.head()"
   ]
  },
  {
   "cell_type": "markdown",
   "id": "cdbe6594-79e5-473c-af38-dd451460340f",
   "metadata": {
    "slideshow": {
     "slide_type": "subslide"
    }
   },
   "source": [
    "We will be interested in the following columns."
   ]
  },
  {
   "cell_type": "code",
   "execution_count": null,
   "id": "e1410c4e-6640-466a-8fb5-24cdd3394242",
   "metadata": {},
   "outputs": [],
   "source": [
    "cols = [\"5-1_AdultBodyMass_g\", \"17-1_MaxLongevity_m\", \"9-1_GestationLen_d\", \"MSW05_Binomial\"]\n",
    "\n",
    "panthdat_trans = pantheria[cols]\n",
    "\n",
    "colnames = {cols[0] : \"bodymass\",\n",
    "            cols[1] : \"longevity\",\n",
    "            cols[2] : \"gestation\",\n",
    "            cols[3] : \"name\"}\n",
    "\n",
    "panthdat_trans = panthdat_trans.copy()\n",
    "\n",
    "panthdat_trans.rename(columns=colnames, inplace=True)\n",
    "\n",
    "panthdat_trans.head()"
   ]
  },
  {
   "cell_type": "markdown",
   "id": "49eab91e-8d22-4a40-b322-caa52d23781a",
   "metadata": {
    "slideshow": {
     "slide_type": "subslide"
    }
   },
   "source": [
    "Let's look at the distribution of `\"bodymass\"` `\"longevity\"`, and `\"gestation\"`."
   ]
  },
  {
   "cell_type": "code",
   "execution_count": null,
   "id": "d04d5716-1ff6-42d3-8b23-fbd0fa9d2019",
   "metadata": {
    "slideshow": {
     "slide_type": "fragment"
    }
   },
   "outputs": [],
   "source": [
    "panthdat_trans.hist(column=[\"bodymass\", \"longevity\", \"gestation\"],\n",
    "                    bins=15, color=\"grey\", edgecolor=\"white\", grid=False);"
   ]
  },
  {
   "cell_type": "markdown",
   "id": "dd78fe06",
   "metadata": {
    "slideshow": {
     "slide_type": "subslide"
    }
   },
   "source": [
    "Let's specifically now look at longevity and gestation:"
   ]
  },
  {
   "cell_type": "code",
   "execution_count": null,
   "id": "f0cf0209-99a9-4de1-814c-9fea3e000196",
   "metadata": {
    "slideshow": {
     "slide_type": "fragment"
    }
   },
   "outputs": [],
   "source": [
    "plt.scatter(y=panthdat_trans[\"gestation\"], x=panthdat_trans[\"longevity\"],\n",
    "            alpha=.3) # helps display overlapping data values \n",
    "plt.xlabel(\"Longevity (months)\")\n",
    "plt.ylabel(\"Gestation (days)\");"
   ]
  },
  {
   "cell_type": "markdown",
   "id": "a83972c9-d6f4-47b5-b8bd-2a29981246d5",
   "metadata": {
    "slideshow": {
     "slide_type": "subslide"
    }
   },
   "source": [
    "## A regression model of length of longevity on gestation\n",
    "\n",
    "### Fit the regression model"
   ]
  },
  {
   "cell_type": "code",
   "execution_count": null,
   "id": "2507a1b6-da71-4031-abf1-7bfc9c143dbb",
   "metadata": {},
   "outputs": [],
   "source": [
    "import statsmodels.formula.api as smf\n",
    "\n",
    "reg_longgest = smf.ols(\"gestation ~ longevity\", data=panthdat_trans) # setup the model\n",
    "\n",
    "reg_longgest_fit = reg_longgest.fit() # estimate/fit the model "
   ]
  },
  {
   "cell_type": "markdown",
   "id": "7d565005-6dc8-4bc9-a6e0-534e9843abcf",
   "metadata": {
    "slideshow": {
     "slide_type": "subslide"
    }
   },
   "source": [
    "## Statistical summary of the regression model"
   ]
  },
  {
   "cell_type": "code",
   "execution_count": null,
   "id": "c13e81e3-8022-4899-b559-68a4afaae270",
   "metadata": {
    "slideshow": {
     "slide_type": "fragment"
    }
   },
   "outputs": [],
   "source": [
    "reg_longgest_summ = reg_longgest_fit.summary()\n",
    "\n",
    "reg_longgest_summ.tables[1]"
   ]
  },
  {
   "cell_type": "markdown",
   "id": "367b6917-af4c-4155-9192-febea1e05a19",
   "metadata": {
    "slideshow": {
     "slide_type": "fragment"
    }
   },
   "source": [
    "- The regression equation is: $\\texttt{gestation} = 38.6062 + 0.431\\times \\texttt{longevity}$\n",
    "- The **slope** indicates that for a 1 month **increase** in longevity, we expectat the gestational period to increase by 0.43 days.\n",
    "- The **y-intercept** indicates that when longevity is 0 months, gestational period is 38.6 days."
   ]
  },
  {
   "cell_type": "markdown",
   "id": "27776bac",
   "metadata": {
    "slideshow": {
     "slide_type": "subslide"
    }
   },
   "source": [
    "Are there any species with 0 longevitiy?"
   ]
  },
  {
   "cell_type": "markdown",
   "id": "8a869866",
   "metadata": {
    "slideshow": {
     "slide_type": "fragment"
    }
   },
   "source": [
    "- No! "
   ]
  },
  {
   "cell_type": "markdown",
   "id": "b68dc868",
   "metadata": {
    "slideshow": {
     "slide_type": "fragment"
    }
   },
   "source": [
    "The **y-intercept** in regression models often doesn\"t have a sensible interpretation, but is often mathematically important for regression to work well."
   ]
  },
  {
   "cell_type": "markdown",
   "id": "bba4e57d-bcf1-4194-827c-e129c099fe39",
   "metadata": {
    "slideshow": {
     "slide_type": "subslide"
    }
   },
   "source": [
    "### Accuracy of regression model"
   ]
  },
  {
   "cell_type": "code",
   "execution_count": null,
   "id": "8ce9e76f-55ff-4f72-abdc-60e37c6e40f9",
   "metadata": {},
   "outputs": [],
   "source": [
    "reg_longgest_fit.rsquared"
   ]
  },
  {
   "cell_type": "markdown",
   "id": "76e703f5",
   "metadata": {
    "slideshow": {
     "slide_type": "fragment"
    }
   },
   "source": [
    "This $R^2$ is pretty far from 1, and so using a line to predict the relationship between longevity and gestational length probably isn't the best approach."
   ]
  },
  {
   "cell_type": "markdown",
   "id": "79294518",
   "metadata": {
    "slideshow": {
     "slide_type": "fragment"
    }
   },
   "source": [
    "We can probably do better, but we will save \"model improvements\" for next week."
   ]
  },
  {
   "cell_type": "markdown",
   "id": "d72ceb99-2e57-4e98-9ad8-d100a3a7c017",
   "metadata": {
    "slideshow": {
     "slide_type": "slide"
    }
   },
   "source": [
    "## Conclusion of data analysis using linear regression model\n",
    "\n",
    "The regression model appears to provide an okay to moderate fit the data. The scatter plot indicated that there is a lot of variation in gestational length based on the different longevities.\n",
    "\n",
    "- As the longevity increases, we expect gestational length to increase too. "
   ]
  },
  {
   "cell_type": "markdown",
   "id": "2c98d3d1-c652-414e-b87f-837b0c55e622",
   "metadata": {
    "slideshow": {
     "slide_type": "fragment"
    }
   },
   "source": [
    "- Next week we will build on this and look at other factors that might affect gestation."
   ]
  }
 ],
 "metadata": {
  "celltoolbar": "Slideshow",
  "kernelspec": {
   "display_name": "eeb125",
   "language": "python",
   "name": "python3"
  },
  "language_info": {
   "codemirror_mode": {
    "name": "ipython",
    "version": 3
   },
   "file_extension": ".py",
   "mimetype": "text/x-python",
   "name": "python",
   "nbconvert_exporter": "python",
   "pygments_lexer": "ipython3",
   "version": "3.10.13"
  }
 },
 "nbformat": 4,
 "nbformat_minor": 5
}
