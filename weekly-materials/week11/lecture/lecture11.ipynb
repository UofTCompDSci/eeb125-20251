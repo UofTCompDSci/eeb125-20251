{
 "cells": [
  {
   "cell_type": "markdown",
   "id": "df2fcea2-dbfe-44b2-87bf-9eb76fb9ff84",
   "metadata": {
    "slideshow": {
     "slide_type": "slide"
    }
   },
   "source": [
    "# Week 11: Linear Regression\n",
    "\n",
    "## March 26, 2025\n",
    "\n",
    "**Michael Jongho Moon**"
   ]
  },
  {
   "cell_type": "markdown",
   "id": "88b859a7",
   "metadata": {
    "slideshow": {
     "slide_type": "slide"
    }
   },
   "source": [
    "## Exam Info\n",
    "\n",
    "<div style=\"float:left; width:45%;\">\n",
    "<ul>\n",
    "<li>Final Exam is on Thursday, April 17, 2025 from 2 pm ET to 5 pm ET.</li>\n",
    "<li>The final exam will be written in a supervised, in-person setting, in computer labs in Bahen Centre.</li>\n",
    "<li>Bring your Tcard or some other form of goernment-issued photo ID. The <a href=\"https://artsci.calendar.utoronto.ca/term-work-tests-and-final-exams#final-exams\" target=\"_blank\">FAS rules on in-person final exams</a> will apply.</li>\n",
    "<li>Each student will use a lab computer, <em>not their own laptop,</em> to complete the exam.</li>\n",
    "<li>You'll login with your UTORid and password, and will also need your U of T email address to login to JupyterHub.</li>\n",
    "</ul>\n",
    "</div>\n",
    "<div style=\"float:left; width:45%;\">\n",
    "<ul>\n",
    "<li><strong>Allowed aids</strong></li>\n",
    "    <ul>\n",
    "    <li>The exam will be written on a Jupyter notebook.</li>\n",
    "    <li>You'll have access to the EEB125 course website, JupyterHub (including all of your course work from the semester), and MarkUs. However, you won't have access to any other websites (e.g., Quercus, Google, Facebook), and of course will not be allowed to communicate with anyone else during the exam.</li>\n",
    "    <li>You may bring additional course notes on paper (handwritten or printed).</li>\n",
    "    </ul>\n",
    "</ul>\n",
    "</div>"
   ]
  },
  {
   "cell_type": "markdown",
   "id": "28211155",
   "metadata": {
    "slideshow": {
     "slide_type": "subslide"
    }
   },
   "source": [
    "## Course Evaluations\n",
    "\n",
    "<img src=\"evals.png\" width=\"400\" style=\"float:left; margin: 0px 25px;\"> \n",
    "\n",
    "Course evaluations are until April 8."
   ]
  },
  {
   "cell_type": "markdown",
   "id": "d238cd20",
   "metadata": {
    "slideshow": {
     "slide_type": "slide"
    }
   },
   "source": [
    "## Data Science Methods\n",
    "\n",
    "**Hypothesis testing** covered how to:\n",
    "\n",
    "+ test if a percentage (statistic) is different from some hypothesized values.\n",
    "+ test if two different groups have different means (or median)."
   ]
  },
  {
   "cell_type": "markdown",
   "id": "a5dc6672",
   "metadata": {
    "slideshow": {
     "slide_type": "fragment"
    }
   },
   "source": [
    "**Confidence intervals** covered how to:\n",
    "+ get a range of values which estimate a parameter (i.e., mean, median, percentage).\n",
    "+ get a range of values which estimate the difference in means (or medians) of two different groups."
   ]
  },
  {
   "cell_type": "markdown",
   "id": "67abfddc",
   "metadata": {
    "slideshow": {
     "slide_type": "fragment"
    }
   },
   "source": [
    "**Linear regression** we covered how to:\n",
    "+ look at the relationship between two columns in a data frame. (e.g., the relationship between height and mass of mammals)."
   ]
  },
  {
   "cell_type": "markdown",
   "id": "b012aa46-cdfa-4372-abd0-c1b285f81ccf",
   "metadata": {
    "slideshow": {
     "slide_type": "slide"
    }
   },
   "source": [
    "## Linear Regression\n",
    "\n",
    "### Basic idea\n",
    "\n",
    "- Linear regression is a useful technique for creating models to explain relationships between variables. \n",
    "\n",
    "- The dependent variable must be numeric, and have meaningful numeric values. \n",
    "\n",
    "- The independent variables can be interval or categorical variables."
   ]
  },
  {
   "cell_type": "markdown",
   "id": "26402ae2",
   "metadata": {
    "slideshow": {
     "slide_type": "subslide"
    }
   },
   "source": [
    "Essentially we have some data and want to estimate the line. \n",
    "\n",
    "<img src=\"line.png\" width=\"400\" style=\"float:left; margin: 5px 25px;\">\n",
    "\n",
    "We call the estimated line $\\hat{Y} = b_0 + b_1 X$, where:\n",
    "\n",
    "+ $b_0$ is the estimated y-intercept\n",
    "+ $b_1$ is the estimated slope"
   ]
  },
  {
   "cell_type": "markdown",
   "id": "538e8fcf",
   "metadata": {
    "slideshow": {
     "slide_type": "subslide"
    }
   },
   "source": [
    "<img src=\"lines.png\" width=\"400\" style=\"float:left; margin: 5px 25px;\">\n",
    "\n",
    "Specifically, we are looking for the slope to be non-zero, to have an analytical linear relationship between the independent and dependent variables. \n",
    "\n",
    "**Recall, the summary table will output a p-value for testing: $H_0: slope = 0$.**"
   ]
  },
  {
   "cell_type": "markdown",
   "id": "b1ab35c5",
   "metadata": {
    "slideshow": {
     "slide_type": "subslide"
    }
   },
   "source": [
    "Thus, if the p-value is small there is evidence against the null hypothesis that there is no linear relationship between the variables."
   ]
  },
  {
   "cell_type": "markdown",
   "id": "13566389",
   "metadata": {
    "slideshow": {
     "slide_type": "fragment"
    }
   },
   "source": [
    "+ if the p-value is small then we say that analytically, there is evidence that the slope is not 0. Implying there is a linear relationship between the independent and dependent variable.\n",
    "+ if the p-value is large then we say that analytically, there is evidence that the slope is 0. Implying there is not a lineawr relationship between the independent and dependent variable."
   ]
  },
  {
   "cell_type": "markdown",
   "id": "c9a9f16b-f5b8-4260-bd96-97c660fa5a9f",
   "metadata": {
    "slideshow": {
     "slide_type": "subslide"
    }
   },
   "source": [
    "### Example 3: Close to linear - from last week\n",
    "\n",
    "- Last week in Example 3 we did a linear regression on data that was almost perfectly linear.\n",
    "- Let's build on this example to assess whether the model is appropriate."
   ]
  },
  {
   "cell_type": "code",
   "execution_count": null,
   "id": "850c7d1b",
   "metadata": {
    "slideshow": {
     "slide_type": "subslide"
    }
   },
   "outputs": [],
   "source": [
    "import pandas as pd\n",
    "import numpy as np"
   ]
  },
  {
   "cell_type": "code",
   "execution_count": null,
   "id": "8677b893-d3e3-4376-9998-bdfa4ca68407",
   "metadata": {
    "slideshow": {
     "slide_type": "fragment"
    }
   },
   "outputs": [],
   "source": [
    "np.random.seed(2025) # set the seed so that it's reproducible\n",
    "\n",
    "data = {\"depvar\" : np.arange(start=0, stop=8, step=1) + 2,\n",
    "        \"indvar\" : np.arange(start=0, stop=8, step=1) + np.random.uniform(low=0, high=2, size=8)}\n",
    "\n",
    "df = pd.DataFrame(data)\n",
    "\n",
    "df"
   ]
  },
  {
   "cell_type": "code",
   "execution_count": null,
   "id": "238bd266-67d1-4568-939d-cb04a92ec5cd",
   "metadata": {
    "slideshow": {
     "slide_type": "subslide"
    }
   },
   "outputs": [],
   "source": [
    "import matplotlib.pyplot as plt \n",
    "\n",
    "plt.scatter(x=df[\"indvar\"], y=df[\"depvar\"])\n",
    "plt.xlabel(\"indvar\")\n",
    "plt.ylabel(\"depvar\");"
   ]
  },
  {
   "cell_type": "code",
   "execution_count": null,
   "id": "3c732692-4d06-4b4a-95ff-9fd4c881a594",
   "metadata": {
    "slideshow": {
     "slide_type": "subslide"
    }
   },
   "outputs": [],
   "source": [
    "import statsmodels.formula.api as smf\n",
    "\n",
    "regmod = smf.ols(\"depvar ~ indvar\", data=df) # setup the model\n",
    "\n",
    "regmod_fit = regmod.fit() # estimate/fit the model \n",
    "\n",
    "regmod_fit.params # get parameter estimates"
   ]
  },
  {
   "cell_type": "markdown",
   "id": "c0fa1e91-0ede-4065-8381-2a1b1d891d93",
   "metadata": {},
   "source": [
    "So, now the relationship isn't perfectly linear, but close.  The equation of this regression line is:\n",
    "\n",
    "$$\\texttt{depvar} = 1.1127 + 0.9644 \\times \\texttt{indvar}$$"
   ]
  },
  {
   "cell_type": "code",
   "execution_count": null,
   "id": "0ece0480-1f98-40af-9d24-a0fa829f8f5a",
   "metadata": {
    "slideshow": {
     "slide_type": "subslide"
    }
   },
   "outputs": [],
   "source": [
    "import seaborn as sns\n",
    "\n",
    "# sns.regplot(x=\"indvar\", y=\"depvar\", data=df, ci=90); # 90% confidence interval\n",
    "sns.regplot(x=\"indvar\", y=\"depvar\", data=df, ci=None);"
   ]
  },
  {
   "cell_type": "markdown",
   "id": "3b8c6e30-8209-4d4b-9b58-256c1db34560",
   "metadata": {
    "slideshow": {
     "slide_type": "fragment"
    }
   },
   "source": [
    "The `regplot()` function in the `seaborn` library will produce a scatter plot with the regression line.\n",
    "\n",
    "The parameters of `regplot()`\n",
    "\n",
    "- `x` is the independent variable.\n",
    "- `y` is the dependent variable.\n",
    "- `ci=None` specifies no confidence interval for the regression line "
   ]
  },
  {
   "cell_type": "markdown",
   "id": "0b73bd6e-c36d-4625-9d4f-457001a14fe1",
   "metadata": {
    "slideshow": {
     "slide_type": "subslide"
    }
   },
   "source": [
    "### Predicted values and residuals\n",
    "\n",
    "If the values of the independent variable are plugged into the regression equation then we obtain the fitted values.\n",
    "\n",
    "$$\\texttt{depvar} = 1.1127 + 0.9644 \\times \\texttt{indvar}$$"
   ]
  },
  {
   "cell_type": "code",
   "execution_count": null,
   "id": "3994e8b3-cd43-46cc-ae68-1f3f6ff97132",
   "metadata": {
    "slideshow": {
     "slide_type": "fragment"
    }
   },
   "outputs": [],
   "source": [
    "df"
   ]
  },
  {
   "cell_type": "markdown",
   "id": "46c19eb7-ad94-410c-a5c5-27f71fa262de",
   "metadata": {
    "slideshow": {
     "slide_type": "fragment"
    }
   },
   "source": [
    "The fitted value for the first row of `df` is:"
   ]
  },
  {
   "cell_type": "code",
   "execution_count": null,
   "id": "aec4c8e0-9084-4e4a-8ad0-4ca36d14d4dd",
   "metadata": {
    "slideshow": {
     "slide_type": "fragment"
    }
   },
   "outputs": [],
   "source": [
    "regmod_fit.params[0] + regmod_fit.params[1] * df.iloc[0, 1] # 1.1127 + 0.9644 * 0.2710"
   ]
  },
  {
   "cell_type": "markdown",
   "id": "d0ec4dfa-b91a-4566-989f-2de167ef276d",
   "metadata": {
    "slideshow": {
     "slide_type": "fragment"
    }
   },
   "source": [
    "- If the linear regression model is used on an independent variable that is not in the data set used to build the model then it's often referred to as a **predicted value**."
   ]
  },
  {
   "cell_type": "code",
   "execution_count": null,
   "id": "ed005e8e",
   "metadata": {
    "slideshow": {
     "slide_type": "fragment"
    }
   },
   "outputs": [],
   "source": [
    "regmod_fit.params[0] + regmod_fit.params[1] * 9 # e.g., independent variable at 9"
   ]
  },
  {
   "cell_type": "markdown",
   "id": "0e293e1e-a94d-4aed-84cc-d42f9064c776",
   "metadata": {
    "slideshow": {
     "slide_type": "subslide"
    }
   },
   "source": [
    "To extract the fitted values from a regression model use the `fittedvalues` function in `statsmodels`."
   ]
  },
  {
   "cell_type": "code",
   "execution_count": null,
   "id": "2d2e0523-9df6-49c7-9a04-bf93a7ffc413",
   "metadata": {
    "slideshow": {
     "slide_type": "fragment"
    }
   },
   "outputs": [],
   "source": [
    "regmod_fit.fittedvalues"
   ]
  },
  {
   "cell_type": "markdown",
   "id": "a784a7e2-4035-45d1-bce8-86d832c0428c",
   "metadata": {
    "slideshow": {
     "slide_type": "fragment"
    }
   },
   "source": [
    "The **residual** is how far above or below the line a point is. So, it is the dependent variable minus the fitted value.  \n",
    "\n",
    "So, for the first row the residual is:"
   ]
  },
  {
   "cell_type": "code",
   "execution_count": null,
   "id": "35b9cb24-a5ca-4ccc-a772-6a491ea155cd",
   "metadata": {
    "slideshow": {
     "slide_type": "fragment"
    }
   },
   "outputs": [],
   "source": [
    "2 - 1.37398"
   ]
  },
  {
   "cell_type": "markdown",
   "id": "dc2c2e49",
   "metadata": {
    "slideshow": {
     "slide_type": "subslide"
    }
   },
   "source": [
    "Below is what the residuals look like on a scatter plot against the independent variable, in comparison to the scatter plot of the dependent variable (with the line of best fit overlaidon top of it).\n",
    "\n",
    "<img src=\"residuals_explain.png\" width=\"400\">"
   ]
  },
  {
   "cell_type": "markdown",
   "id": "4c5b6b3c-6702-4ab3-9ed2-85fe141d9a14",
   "metadata": {
    "slideshow": {
     "slide_type": "subslide"
    }
   },
   "source": [
    "To extract the residuals from a regression model use the `resid` attribute of the fitted object (i.e., `regmod_fit`)."
   ]
  },
  {
   "cell_type": "code",
   "execution_count": null,
   "id": "2a6fd014-3a4c-49c1-baa2-f70b9b5f7074",
   "metadata": {
    "slideshow": {
     "slide_type": "fragment"
    }
   },
   "outputs": [],
   "source": [
    "regmod_fit.resid"
   ]
  },
  {
   "cell_type": "code",
   "execution_count": null,
   "id": "99996773",
   "metadata": {},
   "outputs": [],
   "source": [
    "df[\"depvar\"] - regmod_fit.fittedvalues"
   ]
  },
  {
   "cell_type": "markdown",
   "id": "dc43dbf7-5d67-4014-bb80-074f34c81d29",
   "metadata": {
    "slideshow": {
     "slide_type": "subslide"
    }
   },
   "source": [
    "Visualizing the **residuals** against the **fitted values** can reveal unwanted patterns."
   ]
  },
  {
   "cell_type": "code",
   "execution_count": null,
   "id": "7e3666c0-17a5-4d03-94ce-c0ec6577f813",
   "metadata": {
    "slideshow": {
     "slide_type": "slide"
    }
   },
   "outputs": [],
   "source": [
    "plt.scatter(regmod_fit.fittedvalues, regmod_fit.resid)\n",
    "plt.axhline(y=0, color=\"red\", linestyle=\"dotted\")\n",
    "plt.xlabel(\"fitted values\")\n",
    "plt.ylabel(\"residuals\")"
   ]
  },
  {
   "cell_type": "markdown",
   "id": "909403f0",
   "metadata": {
    "slideshow": {
     "slide_type": "fragment"
    }
   },
   "source": [
    "- The scatter plot of residuals versus fitted values is an example of a **diagnostic** plot of the model.\n",
    "\n",
    "- If the linear regression model fits the data well then the residuals should be close to and randomly spread around 0.\n",
    "\n",
    "- A plot that looks like a random scatter of points around 0 indicates that linear regression is an appropriate model.\n",
    "\n",
    "- Since there are only 8 points it's hard to spot a pattern in this toy example."
   ]
  },
  {
   "cell_type": "markdown",
   "id": "fd0b84e6",
   "metadata": {
    "slideshow": {
     "slide_type": "subslide"
    }
   },
   "source": [
    "- If the model is good/appropriate, the residuals shouldn't have a pattern not captured by the regression line/model.\n",
    "\n",
    " - We want a plot of the residuals to look like the first graphic below:\n",
    "\n",
    "<img src=\"residuals.png\" width=\"400\">"
   ]
  },
  {
   "cell_type": "markdown",
   "id": "b4fda4f8-1a45-4b8b-af59-46c0bb8b0bbf",
   "metadata": {
    "slideshow": {
     "slide_type": "subslide"
    }
   },
   "source": [
    "## Accuracy of linear regression\n",
    "\n",
    "- There are several measures of accuracy for linear regression.\n",
    "\n",
    "- Popular measures are R-squared and root-mean squared error.\n",
    "\n",
    "- R-squared can be calculated from a fitted model regression model using the `rsquared` function in `statsmodels`.\n",
    "\n",
    "- R-squared is always between 0 and 1.  \n",
    "     + R-squared of 0 indicates a poor fit\n",
    "     + R-squared of 1 indicates a perfect fit"
   ]
  },
  {
   "cell_type": "code",
   "execution_count": null,
   "id": "33979c00-d8bd-4b03-84a7-7fb647c50782",
   "metadata": {},
   "outputs": [],
   "source": [
    "regmod_fit.rsquared"
   ]
  },
  {
   "cell_type": "markdown",
   "id": "afcfa85d-2242-4986-a861-fbd4e48b45e1",
   "metadata": {
    "slideshow": {
     "slide_type": "slide"
    }
   },
   "source": [
    "## Regression model to estimate gestation using some combination of body mass and longevity\n",
    "\n",
    "### Data\n",
    "\n",
    "- pantheria data contains data on longevity and body mass."
   ]
  },
  {
   "cell_type": "code",
   "execution_count": null,
   "id": "5fd1228a-08f3-4509-9785-27a9ed014879",
   "metadata": {
    "slideshow": {
     "slide_type": "fragment"
    }
   },
   "outputs": [],
   "source": [
    "import pandas as pd\n",
    "import matplotlib.pyplot as plt \n",
    "import numpy as np\n",
    "import seaborn as sns\n",
    "\n",
    "pantheria = pd.read_csv(\"pantheria.txt\", sep=\"\\t\")\n",
    "pantheria.head()"
   ]
  },
  {
   "cell_type": "markdown",
   "id": "f263fcf1",
   "metadata": {
    "slideshow": {
     "slide_type": "subslide"
    }
   },
   "source": [
    "### Disclaimer\n",
    "\n",
    "+ In this example, we are showcasing some ways to \"statistically\" select a regression model.\n",
    "+ There are lots of other approaches to select a regression model.\n",
    "+ And selecting using *only* statistical output is usually not enough. i.e., usually you want to speak with a subject-matter expert to help avoid spurious findings and ensure that the model makes sense."
   ]
  },
  {
   "cell_type": "markdown",
   "id": "cdbe6594-79e5-473c-af38-dd451460340f",
   "metadata": {
    "slideshow": {
     "slide_type": "subslide"
    }
   },
   "source": [
    "We will be interested in the following columns."
   ]
  },
  {
   "cell_type": "code",
   "execution_count": null,
   "id": "e1410c4e-6640-466a-8fb5-24cdd3394242",
   "metadata": {
    "slideshow": {
     "slide_type": "fragment"
    }
   },
   "outputs": [],
   "source": [
    "cols = [\"5-1_AdultBodyMass_g\", \"17-1_MaxLongevity_m\", \"9-1_GestationLen_d\", \"MSW05_Binomial\"]\n",
    "\n",
    "panthdat = pantheria[cols]\n",
    "\n",
    "colnames = {cols[0] : \"bodymass\",\n",
    "            cols[1] : \"longevity\",\n",
    "            cols[2] : \"gestation\",\n",
    "            cols[3] : \"name\"}\n",
    "\n",
    "panthdata = panthdat.copy()\n",
    "\n",
    "panthdata.rename(columns=colnames, inplace=True)\n",
    "\n",
    "panthdata.head()"
   ]
  },
  {
   "cell_type": "markdown",
   "id": "49eab91e-8d22-4a40-b322-caa52d23781a",
   "metadata": {
    "slideshow": {
     "slide_type": "subslide"
    }
   },
   "source": [
    "Let's look at the distribution of `\"bodymass\"`, `\"longevity\"`, and `\"gestation\"`."
   ]
  },
  {
   "cell_type": "code",
   "execution_count": null,
   "id": "d04d5716-1ff6-42d3-8b23-fbd0fa9d2019",
   "metadata": {
    "slideshow": {
     "slide_type": "fragment"
    }
   },
   "outputs": [],
   "source": [
    "panthdata.hist(column=[\"bodymass\", \"longevity\", \"gestation\"], \n",
    "               bins=15, color=\"grey\", edgecolor=\"white\", grid=False);"
   ]
  },
  {
   "cell_type": "markdown",
   "id": "27323c07",
   "metadata": {
    "slideshow": {
     "slide_type": "subslide"
    }
   },
   "source": [
    "We can start by estimating the line with gestation as the dependent variable and longevity as the independent variable."
   ]
  },
  {
   "cell_type": "code",
   "execution_count": null,
   "id": "f0cf0209-99a9-4de1-814c-9fea3e000196",
   "metadata": {
    "slideshow": {
     "slide_type": "fragment"
    }
   },
   "outputs": [],
   "source": [
    "sns.regplot(x=\"longevity\", y=\"gestation\", data=panthdata, ci=None,\n",
    "            scatter_kws={\"alpha\":0.1}) # helps display overlapping data values \n",
    "# seaborn also uses matplotlib as the backend\n",
    "plt.xlabel(\"Longevity (months)\")\n",
    "plt.ylabel(\"Gestation (days)\");"
   ]
  },
  {
   "cell_type": "code",
   "execution_count": null,
   "id": "f58787e5",
   "metadata": {
    "slideshow": {
     "slide_type": "fragment"
    }
   },
   "outputs": [],
   "source": [
    "plt.scatter(y=panthdata[\"gestation\"], x=panthdata[\"longevity\"],\n",
    "            alpha=.3) # helps display overlapping data values \n",
    "plt.xlabel(\"Longevity (months)\")\n",
    "plt.ylabel(\"Gestation (days)\");"
   ]
  },
  {
   "cell_type": "markdown",
   "id": "6084c643",
   "metadata": {
    "slideshow": {
     "slide_type": "subslide"
    }
   },
   "source": [
    "Now let's think about the line with gestation as the dependent variable and body mass as the independent variable."
   ]
  },
  {
   "cell_type": "code",
   "execution_count": null,
   "id": "254a3774",
   "metadata": {
    "slideshow": {
     "slide_type": "fragment"
    }
   },
   "outputs": [],
   "source": [
    "plt.scatter(y=panthdata[\"gestation\"], x=panthdata[\"bodymass\"], alpha=.2)\n",
    "plt.xlabel(\"Body mass (g)\")\n",
    "plt.ylabel(\"Gestation (days)\");"
   ]
  },
  {
   "cell_type": "markdown",
   "id": "894343af-85e1-4396-943a-135a48664bc8",
   "metadata": {
    "slideshow": {
     "slide_type": "subslide"
    }
   },
   "source": [
    "### Transform the data\n",
    "\n",
    "+ This is a bit hard to interpret and the body mass vs. gestation scatterplot looks non-linear. \n",
    "\n",
    "+ One way to deal with data that is clumped together on the left (right-skewed) is to transform the x-values using $\\log_{e}(x)$ to stretch the clump on the left. \n",
    "\n",
    "+ Note: there are other ways to address this issue\n",
    "     + e.g., maybe filter to only look at body mass between 0g and 0.1g, \n",
    "     + e.g., maybe take the y-values and transform them using $e^y$"
   ]
  },
  {
   "cell_type": "code",
   "execution_count": null,
   "id": "543488e9-3c41-4182-902f-4e57e8489f9f",
   "metadata": {
    "slideshow": {
     "slide_type": "fragment"
    }
   },
   "outputs": [],
   "source": [
    "x = np.power(10, np.arange(start=1, stop=10, step=1))\n",
    "logx = np.log(x)\n",
    "plt.scatter(x=x, y=logx)\n",
    "plt.xlabel(\"x\")\n",
    "plt.ylabel(\"log(x)\");"
   ]
  },
  {
   "cell_type": "markdown",
   "id": "81039ba1-44fc-485f-bea6-c7dac63d1caf",
   "metadata": {
    "slideshow": {
     "slide_type": "subslide"
    }
   },
   "source": [
    "We can compute $log(x)$ of each `\"bodymass\"` and `\"longevity\"` using `np.log()`."
   ]
  },
  {
   "cell_type": "code",
   "execution_count": null,
   "id": "647804c7",
   "metadata": {
    "slideshow": {
     "slide_type": "fragment"
    }
   },
   "outputs": [],
   "source": [
    "np.log(panthdata[[\"bodymass\", \"longevity\"]]).head()"
   ]
  },
  {
   "cell_type": "code",
   "execution_count": null,
   "id": "a294d10d-ec6e-49da-bfd2-6bf3275460a5",
   "metadata": {
    "slideshow": {
     "slide_type": "fragment"
    }
   },
   "outputs": [],
   "source": [
    "panthdata[[\"bodymass_log\", \"longevity_log\"]] = np.log(panthdata[[\"bodymass\", \"longevity\"]])"
   ]
  },
  {
   "cell_type": "code",
   "execution_count": null,
   "id": "af10640a",
   "metadata": {
    "slideshow": {
     "slide_type": "subslide"
    }
   },
   "outputs": [],
   "source": [
    "plt.scatter(y=panthdata[\"gestation\"], x=panthdata[\"longevity_log\"], alpha=.3)\n",
    "plt.xlabel(\"log of Longevity (months)\")\n",
    "plt.ylabel(\"Gestation (days)\");"
   ]
  },
  {
   "cell_type": "code",
   "execution_count": null,
   "id": "7a559baf",
   "metadata": {
    "slideshow": {
     "slide_type": "subslide"
    }
   },
   "outputs": [],
   "source": [
    "plt.scatter(y=panthdata[\"gestation\"], x=panthdata[\"bodymass_log\"], alpha=.1)\n",
    "plt.xlabel(\"log of Body mass (g)\")\n",
    "plt.ylabel(\"Gestation (days)\");"
   ]
  },
  {
   "cell_type": "markdown",
   "id": "d7a40f30-c685-4b85-ba21-29c9149ae5a5",
   "metadata": {
    "slideshow": {
     "slide_type": "subslide"
    }
   },
   "source": [
    "It will also be helpful to drop missing values.  This can be done using the `pandas` function `dropna` with the parameter `inplace=True`, so that it modifies the existing `DataFrame`."
   ]
  },
  {
   "cell_type": "code",
   "execution_count": null,
   "id": "2c8e6f44-00e7-4d65-9eb6-fb945ac99c9e",
   "metadata": {
    "slideshow": {
     "slide_type": "fragment"
    }
   },
   "outputs": [],
   "source": [
    "print(panthdata.isna().sum()) # check for missing values"
   ]
  },
  {
   "cell_type": "code",
   "execution_count": null,
   "id": "1802027a",
   "metadata": {},
   "outputs": [],
   "source": [
    "panthdata.dropna(inplace=True)\n",
    "\n",
    "print(panthdata.isna().sum()) # check for missing values\n"
   ]
  },
  {
   "cell_type": "code",
   "execution_count": null,
   "id": "e1415549",
   "metadata": {},
   "outputs": [],
   "source": [
    "# we are not ready to fit models\n",
    "panthdata.head()"
   ]
  },
  {
   "cell_type": "markdown",
   "id": "a83972c9-d6f4-47b5-b8bd-2a29981246d5",
   "metadata": {
    "slideshow": {
     "slide_type": "slide"
    }
   },
   "source": [
    "## Regression Model 1: Length of longevity on gestation\n",
    "\n",
    "### Fit the regression model"
   ]
  },
  {
   "cell_type": "code",
   "execution_count": null,
   "id": "2507a1b6-da71-4031-abf1-7bfc9c143dbb",
   "metadata": {},
   "outputs": [],
   "source": [
    "import statsmodels.formula.api as smf\n",
    "\n",
    "reg_mod1 = smf.ols(\"gestation ~ longevity\", data=panthdata) # setup the model\n",
    "\n",
    "reg_mod1_fit = reg_mod1.fit() # estimate/fit the model "
   ]
  },
  {
   "cell_type": "markdown",
   "id": "7d565005-6dc8-4bc9-a6e0-534e9843abcf",
   "metadata": {
    "slideshow": {
     "slide_type": "subslide"
    }
   },
   "source": [
    "### Statistical summary of the regression model"
   ]
  },
  {
   "cell_type": "code",
   "execution_count": null,
   "id": "c13e81e3-8022-4899-b559-68a4afaae270",
   "metadata": {
    "slideshow": {
     "slide_type": "fragment"
    }
   },
   "outputs": [],
   "source": [
    "reg_mod1_summ = reg_mod1_fit.summary()\n",
    "\n",
    "reg_mod1_summ.tables[1]"
   ]
  },
  {
   "cell_type": "markdown",
   "id": "367b6917-af4c-4155-9192-febea1e05a19",
   "metadata": {
    "slideshow": {
     "slide_type": "fragment"
    }
   },
   "source": [
    "- The regression equation is: $\\texttt{gestation} = 39.04 + 0.43\\times \\texttt{longevity}$\n",
    "- The **slope** indicates that for a 1 month **increase** in longevity, we expect the gestational period to increase by 0.43 days.\n",
    "- The **y-intercept** indicates that when longevity is 0 months, gestational period is 39 days."
   ]
  },
  {
   "cell_type": "markdown",
   "id": "d7197e09",
   "metadata": {
    "slideshow": {
     "slide_type": "fragment"
    }
   },
   "source": [
    "+ The p-value for the slope is 0 indicating the slope is significantly different from 0."
   ]
  },
  {
   "cell_type": "markdown",
   "id": "bba4e57d-bcf1-4194-827c-e129c099fe39",
   "metadata": {
    "slideshow": {
     "slide_type": "subslide"
    }
   },
   "source": [
    "### Accuracy of regression model"
   ]
  },
  {
   "cell_type": "code",
   "execution_count": null,
   "id": "8ce9e76f-55ff-4f72-abdc-60e37c6e40f9",
   "metadata": {},
   "outputs": [],
   "source": [
    "reg_mod1_fit.rsquared"
   ]
  },
  {
   "cell_type": "code",
   "execution_count": null,
   "id": "42c7d9cc-54fd-4837-920b-d1e285195ef6",
   "metadata": {},
   "outputs": [],
   "source": [
    "plt.scatter(x=reg_mod1_fit.fittedvalues , y=reg_mod1_fit.resid, alpha=.3)\n",
    "plt.axhline(y=0, color=\"red\", linestyle=\"dotted\")\n",
    "plt.xlabel(\"Fitted values\")\n",
    "plt.ylabel(\"Residuals\");"
   ]
  },
  {
   "cell_type": "markdown",
   "id": "f2cec2eb",
   "metadata": {
    "slideshow": {
     "slide_type": "fragment"
    }
   },
   "source": [
    "_What do you notice?_"
   ]
  },
  {
   "cell_type": "markdown",
   "id": "e549c25e",
   "metadata": {
    "slideshow": {
     "slide_type": "slide"
    }
   },
   "source": [
    "## Regression Model 2: Log of length of longevity on gestation"
   ]
  },
  {
   "cell_type": "code",
   "execution_count": null,
   "id": "e9d9cb35",
   "metadata": {
    "slideshow": {
     "slide_type": "fragment"
    }
   },
   "outputs": [],
   "source": [
    "reg_mod2 = smf.ols(\"......\", data=panthdata) # setup the model\n",
    "reg_mod2_fit = reg_mod2.fit() # estimate/fit the model \n",
    "reg_mod2_summ = reg_mod2_fit.summary()\n",
    "reg_mod2_summ.tables[1]"
   ]
  },
  {
   "cell_type": "markdown",
   "id": "697a98e5",
   "metadata": {
    "slideshow": {
     "slide_type": "fragment"
    }
   },
   "source": [
    "- The regression equation is: $\\texttt{gestation} = -280 + 81.94\\times \\texttt{log.longevity}$\n",
    "- The **slope** indicates that for a _____ month **increase** in longevity, we expect the gestational period to increase by 81.9 days.\n",
    "- The **y-intercept** indicates that when longevity is _______ months, gestational period is -280.9 days, which isn't sensible.\n",
    "- The p-value for the slope indicates that log of longevity has a non-zero slope when predicting gestation."
   ]
  },
  {
   "cell_type": "markdown",
   "id": "fee58976",
   "metadata": {
    "slideshow": {
     "slide_type": "subslide"
    }
   },
   "source": [
    "Let's take a look at the model's accuracy, by checking it's R squared and residuals."
   ]
  },
  {
   "cell_type": "code",
   "execution_count": null,
   "id": "f11996b7",
   "metadata": {
    "slideshow": {
     "slide_type": "fragment"
    }
   },
   "outputs": [],
   "source": [
    "reg_mod2_fit.rsquared"
   ]
  },
  {
   "cell_type": "code",
   "execution_count": null,
   "id": "110efef7",
   "metadata": {
    "slideshow": {
     "slide_type": "fragment"
    }
   },
   "outputs": [],
   "source": [
    "plt.scatter(x=reg_mod2_fit.fittedvalues , y=reg_mod2_fit.resid, alpha=.3)\n",
    "plt.axhline(y=0, color=\"red\", linestyle=\"dotted\")\n",
    "plt.xlabel(\"Fitted values\")\n",
    "plt.ylabel(\"Residuals\");"
   ]
  },
  {
   "cell_type": "code",
   "execution_count": null,
   "id": "41440142",
   "metadata": {
    "slideshow": {
     "slide_type": "subslide"
    }
   },
   "outputs": [],
   "source": [
    "print(\"Model 1 R squared:\", np.round(reg_mod1_fit.rsquared, 3))\n",
    "print(\"Model 2 R squared:\", np.round(reg_mod2_fit.rsquared, 3))"
   ]
  },
  {
   "cell_type": "markdown",
   "id": "7b97fc86",
   "metadata": {},
   "source": [
    "The $R^2$ of model 2 is lower than model 1 and the residuals look worse in model 2. So we should probably stick with model 1 (`longevity`) in lieu of model 2 (`longevity_log`). \n",
    "\n",
    "How else can we improve the model?"
   ]
  },
  {
   "cell_type": "markdown",
   "id": "07545a83",
   "metadata": {
    "slideshow": {
     "slide_type": "slide"
    }
   },
   "source": [
    "## Regression Model 3: Body mass on gestation\n"
   ]
  },
  {
   "cell_type": "code",
   "execution_count": null,
   "id": "1f7144a4",
   "metadata": {
    "slideshow": {
     "slide_type": "fragment"
    }
   },
   "outputs": [],
   "source": [
    "## Recall the scatterplot didn't look great\n",
    "plt.scatter(y=panthdata[\"gestation\"], x=panthdata[\"bodymass\"], alpha=.2)\n",
    "plt.xlabel(\"Body mass (g)\")\n",
    "plt.ylabel(\"Gestation (days)\");"
   ]
  },
  {
   "cell_type": "code",
   "execution_count": null,
   "id": "df96bcc4",
   "metadata": {
    "slideshow": {
     "slide_type": "subslide"
    }
   },
   "outputs": [],
   "source": [
    "reg_mod3 = smf.ols(\"......\", data=panthdata) # setup the model\n",
    "reg_mod3_fit = reg_mod3.fit() # estimate/fit the model \n",
    "reg_mod3_summ = reg_mod3_fit.summary()\n",
    "reg_mod3_summ.tables[1]"
   ]
  },
  {
   "cell_type": "markdown",
   "id": "5f91c323",
   "metadata": {
    "slideshow": {
     "slide_type": "fragment"
    }
   },
   "source": [
    "- The regression equation is: $\\texttt{gestation} = 128 + 0.00000308 \\times \\texttt{body.mass}$\n",
    "- The p-value for the slope indicates that body mass has a non-zero slope when predicting gestation."
   ]
  },
  {
   "cell_type": "code",
   "execution_count": null,
   "id": "c9430831",
   "metadata": {
    "slideshow": {
     "slide_type": "subslide"
    }
   },
   "outputs": [],
   "source": [
    "reg_mod3_fit.rsquared"
   ]
  },
  {
   "cell_type": "code",
   "execution_count": null,
   "id": "149250a4",
   "metadata": {
    "slideshow": {
     "slide_type": "fragment"
    }
   },
   "outputs": [],
   "source": [
    "plt.scatter(x=reg_mod3_fit.fittedvalues , y=reg_mod3_fit.resid, alpha=.3)\n",
    "plt.axhline(y=0, color=\"red\", linestyle=\"dotted\")\n",
    "plt.xlabel(\"Fitted values\")\n",
    "plt.ylabel(\"Residuals\");"
   ]
  },
  {
   "cell_type": "markdown",
   "id": "5e512e3d",
   "metadata": {
    "slideshow": {
     "slide_type": "fragment"
    }
   },
   "source": [
    "The same issue in the scatterplot is showing in the residual plot. But specifically, there is inconsistent variance so this model is not appropriate. "
   ]
  },
  {
   "cell_type": "markdown",
   "id": "2b5165e5",
   "metadata": {
    "slideshow": {
     "slide_type": "slide"
    }
   },
   "source": [
    "## Regression Model 4: Log of body mass on gestation"
   ]
  },
  {
   "cell_type": "code",
   "execution_count": null,
   "id": "a4612fe3",
   "metadata": {
    "slideshow": {
     "slide_type": "fragment"
    }
   },
   "outputs": [],
   "source": [
    "## Recall the scatterplot\n",
    "plt.scatter(y=panthdata[\"gestation\"], x=panthdata[\"bodymass_log\"], alpha=.2)\n",
    "plt.xlabel(\"log of Body mass (g)\")\n",
    "plt.ylabel(\"Gestation (days)\");"
   ]
  },
  {
   "cell_type": "code",
   "execution_count": null,
   "id": "c01d2a74",
   "metadata": {
    "slideshow": {
     "slide_type": "subslide"
    }
   },
   "outputs": [],
   "source": [
    "reg_mod4 = smf.ols(\"......\", data=panthdata) # setup the model\n",
    "reg_mod4_fit = reg_mod4.fit() # estimate/fit the model \n",
    "reg_mod4_summ = reg_mod4_fit.summary()\n",
    "reg_mod4_summ.tables[1]"
   ]
  },
  {
   "cell_type": "markdown",
   "id": "7cb77cb6",
   "metadata": {
    "slideshow": {
     "slide_type": "fragment"
    }
   },
   "source": [
    "- The regression equation is: $\\texttt{gestation} = -65 + 25 \\times \\log(\\texttt{body.mass})$\n",
    "- The p-value for the slope is still significant after transformation. So log body mass has a non-zero slope when predicting gestation."
   ]
  },
  {
   "cell_type": "code",
   "execution_count": null,
   "id": "e07e5608",
   "metadata": {
    "slideshow": {
     "slide_type": "subslide"
    }
   },
   "outputs": [],
   "source": [
    "reg_mod4_fit.rsquared"
   ]
  },
  {
   "cell_type": "code",
   "execution_count": null,
   "id": "34009fd9",
   "metadata": {
    "slideshow": {
     "slide_type": "fragment"
    }
   },
   "outputs": [],
   "source": [
    "plt.scatter(x=reg_mod4_fit.fittedvalues , y=reg_mod4_fit.resid, alpha=.3)\n",
    "plt.axhline(y=0, color=\"red\", linestyle=\"dotted\")\n",
    "plt.xlabel(\"Fitted values\")\n",
    "plt.ylabel(\"Residuals\")"
   ]
  },
  {
   "cell_type": "markdown",
   "id": "8cf06ac9",
   "metadata": {
    "slideshow": {
     "slide_type": "fragment"
    }
   },
   "source": [
    "+ Still not perfect, but this looks better than the model 3 residual plot.\n",
    "+ The $R^2$ value is also much higher."
   ]
  },
  {
   "cell_type": "markdown",
   "id": "4b4fec34",
   "metadata": {
    "slideshow": {
     "slide_type": "slide"
    }
   },
   "source": [
    "## Regression Model 5\n",
    "\n",
    "### Multiple regression with longevity and log body mass"
   ]
  },
  {
   "cell_type": "code",
   "execution_count": null,
   "id": "51c67895",
   "metadata": {
    "slideshow": {
     "slide_type": "subslide"
    }
   },
   "outputs": [],
   "source": [
    "## Recall the scatterplot for longevity and gestation (model 1)\n",
    "plt.scatter(y=panthdata[\"gestation\"], x=panthdata[\"longevity\"], alpha=.3) \n",
    "plt.xlabel(\"Longevity (months)\")\n",
    "plt.ylabel(\"Gestation (days)\");"
   ]
  },
  {
   "cell_type": "code",
   "execution_count": null,
   "id": "9c14f9b3",
   "metadata": {
    "slideshow": {
     "slide_type": "subslide"
    }
   },
   "outputs": [],
   "source": [
    "## Recall the scatterplot for log body mass and gestation (model 4)\n",
    "plt.scatter(y=panthdata[\"gestation\"], x=panthdata[\"bodymass_log\"], alpha=.1)\n",
    "plt.xlabel(\"log of Body mass (g)\")\n",
    "plt.ylabel(\"Gestation (days)\");"
   ]
  },
  {
   "cell_type": "code",
   "execution_count": null,
   "id": "292a09c9",
   "metadata": {
    "slideshow": {
     "slide_type": "subslide"
    }
   },
   "outputs": [],
   "source": [
    "reg_mod5 = smf.ols(\"......\", data=panthdata) # setup the model\n",
    "reg_mod5_fit = reg_mod5.fit() # estimate/fit the model \n",
    "reg_mod5_summ = reg_mod5_fit.summary()\n",
    "reg_mod5_summ.tables[1]"
   ]
  },
  {
   "cell_type": "markdown",
   "id": "1fb296d1",
   "metadata": {
    "slideshow": {
     "slide_type": "fragment"
    }
   },
   "source": [
    "- The regression equation is: $\\texttt{gestation} = \\texttt{\\{...\\}} + \\texttt{\\{...\\}} \\times \\texttt{longevity}+ \\texttt{\\{...\\}} \\times \\log(\\texttt{body.mass})$\n",
    "- The **slope** of longevity indicates that for every 1 month **increase** in longevity, _while keeping body mass constant_, we expect the gestational period to increase by _____ days.\n",
    "- The **slope** of log body mass indicates that for every 1 unit **increase** in log body mass, _while keeping longevity length constant_, we expect the gestational period to increase by _____ days.\n",
    "- The **y-intercept** indicates that when longevity is 0 months and log body mass is 0, gestational period is _____ days."
   ]
  },
  {
   "cell_type": "markdown",
   "id": "2eee3e99",
   "metadata": {
    "slideshow": {
     "slide_type": "fragment"
    }
   },
   "source": [
    "- Note: both slopes have small p-values, meaning they are both helpful in predicting gestational length in the model."
   ]
  },
  {
   "cell_type": "code",
   "execution_count": null,
   "id": "47420409",
   "metadata": {
    "slideshow": {
     "slide_type": "subslide"
    }
   },
   "outputs": [],
   "source": [
    "reg_mod5_fit.rsquared"
   ]
  },
  {
   "cell_type": "code",
   "execution_count": null,
   "id": "584ff8e0",
   "metadata": {
    "slideshow": {
     "slide_type": "fragment"
    }
   },
   "outputs": [],
   "source": [
    "plt.scatter(x=reg_mod5_fit.fittedvalues , y=reg_mod5_fit.resid, alpha=.3)\n",
    "plt.axhline(y=0, color=\"red\", linestyle=\"dotted\")\n",
    "plt.xlabel(\"Fitted values\")\n",
    "plt.ylabel(\"Residuals\");"
   ]
  },
  {
   "cell_type": "markdown",
   "id": "d4cdbf53",
   "metadata": {
    "slideshow": {
     "slide_type": "fragment"
    }
   },
   "source": [
    "The residuals of model 5 aren't great. They are showing similar issues to the residual plots of models 1 and 4. "
   ]
  },
  {
   "cell_type": "markdown",
   "id": "007f9770",
   "metadata": {
    "slideshow": {
     "slide_type": "slide"
    }
   },
   "source": [
    "## Comparing Models 1, 4 and 5"
   ]
  },
  {
   "cell_type": "markdown",
   "id": "6dbf1449",
   "metadata": {
    "slideshow": {
     "slide_type": "fragment"
    }
   },
   "source": [
    "+ Residual plots of all 3 show similar attributes.\n",
    "+ $R^2$ of model 5 is highest."
   ]
  },
  {
   "cell_type": "code",
   "execution_count": null,
   "id": "c8f31efb",
   "metadata": {},
   "outputs": [],
   "source": [
    "print(f\"Model 1: {round(reg_mod1_fit.rsquared, 2)}\")\n",
    "print(f\"Model 4: {round(reg_mod4_fit.rsquared, 2)}\")\n",
    "print(f\"Model 5: {round(reg_mod5_fit.rsquared, 2)}\")"
   ]
  },
  {
   "cell_type": "markdown",
   "id": "02c00ffb",
   "metadata": {
    "slideshow": {
     "slide_type": "fragment"
    }
   },
   "source": [
    "+ p-values of all slopes indicate non-zero relationships in models 1, 4 and 5; it suggests that the two independent variables together have non-zero linear relationship with gestation. \n",
    "+ Note that a lower p-value **does NOT** indicate a more accurate model. Each p-value for the slopes indicates whether there is evidence for a non-zero linear relationship. How valid the assessment is will depend on the quality of the model."
   ]
  },
  {
   "cell_type": "markdown",
   "id": "9485b1a5",
   "metadata": {
    "slideshow": {
     "slide_type": "fragment"
    }
   },
   "source": [
    "Let's stick with model 5, which uses both longevity and log of body mass to make predictions of gestational period."
   ]
  },
  {
   "cell_type": "markdown",
   "id": "07df5822",
   "metadata": {
    "slideshow": {
     "slide_type": "subslide"
    }
   },
   "source": [
    "### Conclusions when trying to model gestation:\n",
    "\n",
    "- The regression equation is: $\\texttt{gestation} = -50.6 + 0.2\\times \\texttt{longevity}+ 17.7\\times \\texttt{log.body.mass}$\n",
    "- The **slope** of longevity indicates that for every 1 month **increase** in longevity, while keeping body mass constant, we expect the gestational period to increase by 0.2 days.\n",
    "- The **slope** of log body mass indicates that for every 1 unit **increase** in log body mass, while keeping longevity length constant, we expect the gestational period to increase by 17.7 days.\n",
    "- The **y-intercept** indicates that when longevity is 0 months and log body mass is 0, gestational period is -50.6 days."
   ]
  },
  {
   "cell_type": "markdown",
   "id": "562b3260",
   "metadata": {
    "slideshow": {
     "slide_type": "subslide"
    }
   },
   "source": [
    "## Causality\n",
    "\n",
    "Recall that **correlation does not imply causation**. All data we analyzed are observational, and has hidden/confounding variables that may be leading the relationship. "
   ]
  },
  {
   "cell_type": "markdown",
   "id": "a3577732",
   "metadata": {
    "slideshow": {
     "slide_type": "fragment"
    }
   },
   "source": [
    "+ e.g., our results show that (log) body mass has a positive relationship with gestation length, but that does not mean that body mass itself is **causing** gestational period to increased."
   ]
  },
  {
   "cell_type": "markdown",
   "id": "1ee6387f",
   "metadata": {
    "slideshow": {
     "slide_type": "fragment"
    }
   },
   "source": [
    "+ What is an example of a confounding/hidden variable in this relationship?"
   ]
  },
  {
   "cell_type": "markdown",
   "id": "dbbc3fcf",
   "metadata": {
    "slideshow": {
     "slide_type": "subslide"
    }
   },
   "source": [
    "### Potential outcomes and randomized control trials\n",
    "\n",
    "+ Establishing causality involves comparing **potential outcomes**.  \n",
    "+ The problem is that we can never observe all (log) body masses and the resulting gestational length (in the same animal at the same time under the same conditions).\n",
    "+ Randomized control trials are studies (usually on human subjects) where we randomly assign subjects to different options (e.g., medication vs placebo) and then compare the outcomes; the idea is that if people are randomly assigned, there should be balance in the confounding variables.\n",
    "+ Randomized control trials are considered the gold standard way to explore a causal relationship (from a statistical perspective)."
   ]
  },
  {
   "cell_type": "markdown",
   "id": "e28ce151-d4b4-4cfe-a969-b25cf091d016",
   "metadata": {
    "slideshow": {
     "slide_type": "slide"
    }
   },
   "source": [
    "## Alternative for Model Selection\n",
    "\n",
    "### Training vs Testing\n",
    "\n",
    "- Ideally we could assess the accuracy of this linear regression model on a new set of data (i.e., longevity in species from another study). \n",
    "\n",
    "- But, we don't have this data.\n",
    "\n",
    "- One trick that data scientists use to fit the model on part of the data (training data) and use the remaining part (testing data) to test the accuracy.\n",
    "\n",
    "- If we only have one data set then the training data can be obtained by randomly selecting rows from the data to fit the regression model, then the remaining rows can be used to test the accuracy of the model."
   ]
  },
  {
   "cell_type": "markdown",
   "id": "f45aaca6",
   "metadata": {
    "slideshow": {
     "slide_type": "subslide"
    }
   },
   "source": [
    "### Root Mean Squared Error (RMSE)\n",
    "\n",
    "$$RMSE = \\sqrt{\\frac{\\sum_{i=1}^n (\\hat{y}_i-y_i)^2}{n}}$$\n",
    "\n",
    "where $\\hat{y}_i$ are the fitted and $y_i$ are the observed values for $i=1,2,...n$.\n",
    "\n",
    "> i.e., RMSE is the \"average\" of the residuals.\n"
   ]
  },
  {
   "cell_type": "markdown",
   "id": "6dd84567",
   "metadata": {
    "slideshow": {
     "slide_type": "fragment"
    }
   },
   "source": [
    "+ We want RMSE to be small.\n",
    "+ We do NOT want RMSE of training data to be much smaller than the RMSE of test data, since we are likely overfitting - fit to the current sample but not to the general population."
   ]
  },
  {
   "cell_type": "markdown",
   "id": "2faf31f9-ddbb-4c2e-a3b1-7d4cb9690781",
   "metadata": {
    "slideshow": {
     "slide_type": "subslide"
    }
   },
   "source": [
    "### Splitting a `pandas` `DataFrame` by `index`"
   ]
  },
  {
   "cell_type": "code",
   "execution_count": null,
   "id": "c75e2ade-ec9b-4b16-a27d-1e70f864a39a",
   "metadata": {
    "slideshow": {
     "slide_type": "fragment"
    }
   },
   "outputs": [],
   "source": [
    "data = {'a' : [1, 2, 3, 4, 5]}\n",
    "\n",
    "df = pd.DataFrame(data)\n",
    "\n",
    "df.index"
   ]
  },
  {
   "cell_type": "markdown",
   "id": "8e86d666-0d79-47a2-b6d1-ae3e7967fefe",
   "metadata": {
    "slideshow": {
     "slide_type": "subslide"
    }
   },
   "source": [
    "A Boolean array that is `True` if the index is `0` or `1` and `False` otherwise. "
   ]
  },
  {
   "cell_type": "code",
   "execution_count": null,
   "id": "ec39965d-6d0a-451f-9f22-68e51354bf3e",
   "metadata": {
    "slideshow": {
     "slide_type": "fragment"
    }
   },
   "outputs": [],
   "source": [
    "df.index.isin([0,1])"
   ]
  },
  {
   "cell_type": "markdown",
   "id": "2b5a75c7-beb7-4a11-905a-efa60587fa78",
   "metadata": {
    "slideshow": {
     "slide_type": "fragment"
    }
   },
   "source": [
    "To create a Boolean series that is `False` if the index is `0` or `1` and `True` otherwise we can negate `df.index.isin([0,1])` this Boolean series using the `~` operator `~df.index.isin([0,1])`"
   ]
  },
  {
   "cell_type": "code",
   "execution_count": null,
   "id": "2b1d3cda-2450-44b3-a993-ec562cf0eeba",
   "metadata": {
    "slideshow": {
     "slide_type": "fragment"
    }
   },
   "outputs": [],
   "source": [
    "~df.index.isin([0,1])"
   ]
  },
  {
   "cell_type": "code",
   "execution_count": null,
   "id": "85e10077-213d-4e0a-b998-71fe54be3961",
   "metadata": {
    "slideshow": {
     "slide_type": "fragment"
    }
   },
   "outputs": [],
   "source": [
    "df[~df.index.isin([0,1])]"
   ]
  },
  {
   "cell_type": "markdown",
   "id": "3627dbf5-f59a-41fc-adaf-27ffb04baf80",
   "metadata": {
    "slideshow": {
     "slide_type": "subslide"
    }
   },
   "source": [
    "### Creating training and test data sets from a single dataset"
   ]
  },
  {
   "cell_type": "markdown",
   "id": "fc7fa7be-34a4-4fba-b2df-7f0ced43585d",
   "metadata": {
    "slideshow": {
     "slide_type": "fragment"
    }
   },
   "source": [
    "### Step 1: \n",
    "\n",
    "- Split the data into a training set with 75% of the rows.\n",
    "\n",
    "- Use the remaining 25% of the data for testing. \n",
    "\n",
    "> _Note: In practice, other splits may be used._"
   ]
  },
  {
   "cell_type": "code",
   "execution_count": null,
   "id": "013fd6bf-86e7-4838-881b-1b5c0bcc5bdd",
   "metadata": {
    "slideshow": {
     "slide_type": "fragment"
    }
   },
   "outputs": [],
   "source": [
    "np.random.seed(11) # for reproducibility\n",
    "\n",
    "# randomly select 75% of neighbourhoods; we don't want to replace rows\n",
    "reg_df_train = panthdata.sample(frac=0.75, replace=False) \n",
    "\n",
    "# get index of training data\n",
    "train_index = reg_df_train.index"
   ]
  },
  {
   "cell_type": "markdown",
   "id": "5129398e-9425-4740-9598-763272cab59c",
   "metadata": {
    "slideshow": {
     "slide_type": "subslide"
    },
    "tags": []
   },
   "source": [
    "- Exclude indicies from `reg_df_train` using `pandas` `isin` function. "
   ]
  },
  {
   "cell_type": "code",
   "execution_count": null,
   "id": "e09b3e18-2a8f-4e69-a824-18abee528dfb",
   "metadata": {
    "slideshow": {
     "slide_type": "fragment"
    }
   },
   "outputs": [],
   "source": [
    "# exclude rows in training to define test data\n",
    "reg_df_test = panthdata[~panthdata.index.isin(train_index)]\n",
    "\n",
    "print(panthdata.shape)\n",
    "\n",
    "print(reg_df_train.shape)\n",
    "\n",
    "print(reg_df_test.shape)"
   ]
  },
  {
   "cell_type": "markdown",
   "id": "7283d164-35dd-4ff0-859a-6069965e005f",
   "metadata": {
    "slideshow": {
     "slide_type": "subslide"
    }
   },
   "source": [
    "### Step 2: Fit the regression model on the training data"
   ]
  },
  {
   "cell_type": "code",
   "execution_count": null,
   "id": "6cd9f0f2-cfdd-40f6-ad06-3c1ea6c04333",
   "metadata": {
    "slideshow": {
     "slide_type": "fragment"
    }
   },
   "outputs": [],
   "source": [
    "reg_train = smf.ols(\"gestation ~ longevity\", data=reg_df_train) # setup the model\n",
    "\n",
    "reg_train_fit = reg_train.fit() # estimate/fit the model "
   ]
  },
  {
   "cell_type": "markdown",
   "id": "fbe4959b-1f73-4482-941d-c48661a7a6c9",
   "metadata": {
    "slideshow": {
     "slide_type": "subslide"
    }
   },
   "source": [
    "### Step 3: Compute predicted (fitted) values using training data "
   ]
  },
  {
   "cell_type": "code",
   "execution_count": null,
   "id": "066e306b-11cb-462a-999a-97347ebc0cb6",
   "metadata": {
    "slideshow": {
     "slide_type": "fragment"
    }
   },
   "outputs": [],
   "source": [
    "# use the model fit on the training data to predict longevity rates\n",
    "# from the test set. \n",
    "predvalues_train = reg_train_fit.predict(reg_df_train[\"longevity\"])"
   ]
  },
  {
   "cell_type": "markdown",
   "id": "45f5882e-906d-4372-a7fa-1c974760ee07",
   "metadata": {
    "slideshow": {
     "slide_type": "subslide"
    }
   },
   "source": [
    "### Step 4: Evaluate accuracy using root mean-squared error on training data\n",
    "\n",
    "- Compares observed values of the dependent variable with the fitted values.\n",
    "\n",
    "- It can be computed using the `rmse()` function from `statsmodels`."
   ]
  },
  {
   "cell_type": "markdown",
   "id": "56c553f1-ea9f-43e4-b38c-c481ea7dc9dc",
   "metadata": {
    "slideshow": {
     "slide_type": "subslide"
    }
   },
   "source": [
    "Compute root mean-squared error for the training data."
   ]
  },
  {
   "cell_type": "code",
   "execution_count": null,
   "id": "7fa6b134-0065-4ba9-9751-4e4d21d73f6f",
   "metadata": {
    "slideshow": {
     "slide_type": "fragment"
    }
   },
   "outputs": [],
   "source": [
    "from statsmodels.tools.eval_measures import rmse\n",
    "\n",
    "# compute the accuracy of these predictions\n",
    "rmse(predvalues_train,          # predicted values\n",
    "     reg_df_train[\"gestation\"]) # observed values"
   ]
  },
  {
   "cell_type": "code",
   "execution_count": null,
   "id": "726bae22",
   "metadata": {
    "slideshow": {
     "slide_type": "fragment"
    }
   },
   "outputs": [],
   "source": [
    "# computing it \"manually\"\n",
    "np.sqrt(                   # root\n",
    "    np.mean(               # mean\n",
    "        np.power(          # squared\n",
    "            predvalues_train - reg_df_train[\"gestation\"], # error\n",
    "        2)))"
   ]
  },
  {
   "cell_type": "markdown",
   "id": "b17559ca-38d5-4dac-b087-eaabd702c27f",
   "metadata": {
    "slideshow": {
     "slide_type": "fragment"
    }
   },
   "source": [
    "- The observed gestational periods deviate from the predictted values for each species by 78 days in the training set on \"average\".\n",
    "\n",
    "- Is this an acceptable prediction error?\n",
    "\n",
    "- Let's examine the accuracy of the linear regression model on the test set\n",
    "\n",
    "- First compute the predicted values using the test data."
   ]
  },
  {
   "cell_type": "markdown",
   "id": "8341aef6-6641-44b8-9d91-6d8ab1c5b962",
   "metadata": {
    "slideshow": {
     "slide_type": "subslide"
    }
   },
   "source": [
    "### Step 5: Evaluate the accuracy of regression model on the test data using root mean-squared error\n",
    "\n",
    "- Compute predictions using test data"
   ]
  },
  {
   "cell_type": "code",
   "execution_count": null,
   "id": "c4268305-14d9-4982-bf34-966ca7255f73",
   "metadata": {
    "slideshow": {
     "slide_type": "fragment"
    }
   },
   "outputs": [],
   "source": [
    "predvalues_test = reg_train_fit.predict(reg_df_test[\"longevity\"])"
   ]
  },
  {
   "cell_type": "markdown",
   "id": "a56afff4-e45d-4b37-a71b-beac10943604",
   "metadata": {
    "slideshow": {
     "slide_type": "fragment"
    }
   },
   "source": [
    "- Now compute the root mean-squared error for the test data using the model fit on the training data."
   ]
  },
  {
   "cell_type": "code",
   "execution_count": null,
   "id": "48e6a1ff-54b0-4fd9-83b0-061aa50d2562",
   "metadata": {
    "slideshow": {
     "slide_type": "fragment"
    }
   },
   "outputs": [],
   "source": [
    "rmse(predvalues_test, reg_df_test[\"gestation\"])"
   ]
  },
  {
   "cell_type": "markdown",
   "id": "b602bad8",
   "metadata": {
    "slideshow": {
     "slide_type": "slide"
    }
   },
   "source": [
    "## Note of caution\n",
    "\n",
    "+ In this class we discussed how to \"statistically\" select a model, but model selection should consider more than the statistical measures. \n",
    "\n",
    "+ e.g., if you want to answer \"What is the relationship between hours slept and grade on the exam, controlling for other factors?\" then you need to have _\"hours slept\"_ in your model while you may be able to add or remove _\"other factors\"_."
   ]
  },
  {
   "cell_type": "markdown",
   "id": "8a7f70e5",
   "metadata": {
    "slideshow": {
     "slide_type": "fragment"
    }
   },
   "source": [
    "+ Having a team to bounce ideas off of, and collaborate is a good idea."
   ]
  },
  {
   "cell_type": "markdown",
   "id": "a371cbd5",
   "metadata": {
    "slideshow": {
     "slide_type": "fragment"
    }
   },
   "source": [
    "+ If you aren't sure of something reach out to a data scientist/statistician. The [Data Sciences Institute](https://datasciences.utoronto.ca/) has lots of resources."
   ]
  },
  {
   "cell_type": "markdown",
   "id": "65216c41",
   "metadata": {
    "slideshow": {
     "slide_type": "slide"
    }
   },
   "source": [
    "## Overview\n",
    "\n",
    "You are now able to:\n",
    "- perform a hypothesis test which assess if a percentage is different/greater than/less than some number.  \n",
    "e.g. \"Is the percentage of educated citizens greater than 10%?\"\n",
    "- perform a hypothesis test which assesses if the mean (or median) of one group are different/greater than/less than the mean (or median) of another group.  \n",
    "e.g. \"do women have a higher GPA than men?\"\n",
    "- produce a plausible range of values for a certain metric of interest.  \n",
    "e.g., \"What is the 95% confidence interval for the median body mass of mammals?\"\n",
    "- perform a multiple linear regression to look at the relationship between two or more numeric columns.  \n",
    "e.g., \"What is the relationship between heights and body weights of mammals?\"\n",
    "\n",
    "A [practice exercise set](../exercise/exercise11.ipynb) is available with sample solutions."
   ]
  }
 ],
 "metadata": {
  "celltoolbar": "Slideshow",
  "kernelspec": {
   "display_name": "eeb125",
   "language": "python",
   "name": "python3"
  },
  "language_info": {
   "codemirror_mode": {
    "name": "ipython",
    "version": 3
   },
   "file_extension": ".py",
   "mimetype": "text/x-python",
   "name": "python",
   "nbconvert_exporter": "python",
   "pygments_lexer": "ipython3",
   "version": "3.10.13"
  }
 },
 "nbformat": 4,
 "nbformat_minor": 5
}
