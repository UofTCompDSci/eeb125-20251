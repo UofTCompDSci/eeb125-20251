{
 "cells": [
  {
   "cell_type": "markdown",
   "metadata": {},
   "source": [
    "# Homework 8: Investigating Mammalian Fecundity and Conservation using Filtering, Joins, and Arithmetic\n",
    "\n",
    "## Logistics\n",
    "\n",
    "**Due date**: The homework is due 11:59pm on Tuesday, March 11\n",
    "\n",
    "You will submit your work on [MarkUs](https://markus.teach.cs.toronto.edu/markus/main/login_remote_auth).\n",
    "To submit your work:\n",
    "\n",
    "1. Download this file (`Homework_8.ipynb`) from JupyterHub. (See [our JupyterHub Guide](../../../guides/jupyterhub_guide.ipynb) for detailed instructions.)\n",
    "2. Submit this file to MarkUs under the **hw8** assignment. (See [our MarkUs Guide](../../../guides/markus_guide.ipynb) for detailed instructions.)\n",
    "\n",
    "All homeworks will take place in a Jupyter notebook (like this one)."
   ]
  },
  {
   "cell_type": "markdown",
   "metadata": {},
   "source": [
    "## Introduction\n",
    "\n",
    "For this week's homework, we are going to continue to work with the PanTHERIA dataset and the IUCN categories.\n",
    "\n",
    "We will create a new metric using the PanTHERIA data that estimates: how many offspring do individuals within each species produce throughout their lifetime, on average? We call this \"lifetime fecundity\". We will be looking to see whether there is a relationship between average lifetime fecundity and a species' risk of going extinct.\n",
    "\n",
    "In this homework, you will:\n",
    "\n",
    "* Start a data story in a notebook exploring the question: is the number of offspring birthed by a lineage related to its risk of extinction?\n",
    "* Write and use advanced Boolean expressions to filter specific observations in our dataset. (Specifically, you're encourage to practice using logical operators such as `!=`, `<=`, `>=`, `>`, `<`.)\n",
    "* Join two related datasets to create a larger, more comprehensive dataset.\n",
    "* Perform arithmetic on several pandas series to estimate the maximum theoretical number of offspring that mothers within each species are capable of siring throughout their lifetime."
   ]
  },
  {
   "cell_type": "markdown",
   "metadata": {},
   "source": [
    "### Question\n",
    "\n",
    "The overarching question you're answering in this homework:\n",
    "\n",
    "> **Is there a difference in IUCN category between species with smaller mean lifetime fecundity and species with larger mean lifetime fecundity?**"
   ]
  },
  {
   "cell_type": "markdown",
   "metadata": {},
   "source": [
    "## Problem 1: Read in the data files\n",
    "\n",
    "Import the raw data from the PanTHERIA (`PanTHERIA_WR05_Aug2008.csv`) and phylacine (`phylacine.csv`) datasets and name the `DataFrame`s as `pantheria_raw` and `iucn_raw`, respectively."
   ]
  },
  {
   "cell_type": "code",
   "execution_count": null,
   "metadata": {},
   "outputs": [],
   "source": [
    "# The following code is provided for you; please do not change it.\n",
    "import pandas as pd\n",
    "pd.set_option('mode.chained_assignment', None) \n",
    "\n",
    "# Write your code here\n",
    "\n"
   ]
  },
  {
   "cell_type": "code",
   "execution_count": null,
   "metadata": {},
   "outputs": [],
   "source": [
    "# Check your work\n",
    "display(pantheria_raw.head())\n",
    "display(iucn_raw.head())"
   ]
  },
  {
   "cell_type": "markdown",
   "metadata": {},
   "source": [
    "## Problem 2: Cleaning the data\n",
    "\n",
    "You'll now perform various data cleaning operations on these two datasets, similar to what you did last week.\n",
    "At each step, we've specified a variable to store the result in, so that all of your work can be autograded.\n",
    "Note that as we saw in lecture, all of these steps create a new `DataFrame`, rather than modifying an existing `DataFrame`. (That makes it easier for you to check your work at each step.)\n",
    "You should use the result of the previous step as the \"input\" of the next step."
   ]
  },
  {
   "cell_type": "markdown",
   "metadata": {},
   "source": [
    "### Problem 2a: Cleaning the PanTHERIA data\n",
    "\n",
    "1. Extract just the columns `'MSW05_Order'`, `'MSW05_Binomial'`, `'23-1_SexualMaturityAge_d'`, and `'14-1_InterbirthInterval_d'`, `'17-1_MaxLongevity_m'`, and `'15-1_LitterSize'`, in the order listed.\n",
    "    Store the resulting `DataFrame` in `pantheria_data`.\n",
    "    \n",
    "    You are encouraged, but not required, to create a new list variable to store the column names, just like we did in lecture.\n",
    "\n",
    "2. Rename the columns according to the table below. Store the result in `pantheria_data_renamed`.\n",
    "\n",
    "    | Old column name              | New column name            |\n",
    "    |------------------------------|----------------------------|\n",
    "    | `MSW05_Order`                | `Order`                    |\n",
    "    | `MSW05_Binomial`             | `Genus_Species`            |\n",
    "    | `23-1_SexualMaturityAge_d`   | `Age to Maturity (days)`   |\n",
    "    | `14-1_InterbirthInterval_d`  | `Interbirth Interval (days)` |\n",
    "    | `17-1_MaxLongevity_m`        | `Max Longevity (months)`   |\n",
    "    | `15-1_LitterSize`            | `Litter Size`              |\n",
    "\n",
    "3. Use the `DataFrame.convert_dtypes()` method to automatically convert each column into its most appropriate type, storing the resulting `DataFrame` in a variable called `pantheria_data_converted`.\n",
    "\n",
    "4. Finally, use the `DataFrame.replace(old, new)` method to replace all occurrences of `-999` with `pd.NA`. Store the result in a variable called `pantheria_data_clean`."
   ]
  },
  {
   "cell_type": "code",
   "execution_count": 1,
   "metadata": {},
   "outputs": [],
   "source": [
    "# Write your code here\n",
    "\n",
    "# Check your work\n",
    "pantheria_data_clean.head()"
   ]
  },
  {
   "cell_type": "markdown",
   "metadata": {},
   "source": [
    "### Problem 2b: Cleaning the IUCN data\n",
    "\n",
    "1. Extract just the columns `'Binomial.1.2'` and `'IUCN.Status.1.2'`. Store the resulting `DataFrame` in `iucn_data`.\n",
    "\n",
    "2. Rename the columns to `Genus_Species_IUCN` and `IUCN Status`, respectively. Store the resulting `DataFrame` in `iucn_data_renamed`.\n",
    "\n",
    "3. Convert column types using `DataFrame.convert_dtypes`, and store the resulting `DataFrame` in `iucn_data_clean`."
   ]
  },
  {
   "cell_type": "code",
   "execution_count": null,
   "metadata": {},
   "outputs": [],
   "source": [
    "# Write your code here\n",
    "\n",
    "# Check your work\n",
    "iucn_data_clean.head()"
   ]
  },
  {
   "cell_type": "markdown",
   "metadata": {},
   "source": [
    "## Problem 3: Merging the DataFrames\n",
    "\n",
    "Now let's do something we just learned this week: merge the two `DataFrame`s together.\n",
    "To do so, we'll need to make sure that the two \"Genus_Species\" columns in the `DataFrame`s match.\n",
    "We'll take a similar, but slightly different approach, from the one we used in lecture."
   ]
  },
  {
   "cell_type": "markdown",
   "metadata": {},
   "source": [
    "### Problem 3a: String formatting\n",
    "\n",
    "1. Create a new `Series` called `genus_species_formatted` that consists of the `'Genus_Species'` column from `pantheria_data_clean`, except with all spaces (`\" \"`) replaced by underscores (`\"_\"`).\n",
    "    To do this, you'll need to extract the right column from the `DataFrame` and then use the `DataFrame.str.replace(old, new)` method on the column.\n",
    "\n",
    "2. *Modify* `pantheria_data_clean` by adding the `Series` from the previous step to it under the column name `'Genus_Species_Formatted'`.\n",
    "\n",
    "    *Reminder*: because your code for this question actually modifies `pantheria_data_clean`, if you want to restart you should re-run all cells above this one (in the JupyterHub menu, select Cell -> Run All Above)."
   ]
  },
  {
   "cell_type": "code",
   "execution_count": null,
   "metadata": {},
   "outputs": [],
   "source": [
    "# Write your code here\n",
    "\n",
    "# Check your work\n",
    "pantheria_data_clean.head()"
   ]
  },
  {
   "cell_type": "markdown",
   "metadata": {},
   "source": [
    "### Problem 3b: Merge the two `DataFrame`s\n",
    "\n",
    "Merge `pantheria_data_clean` and `iucn_data_clean` using function `pd.merge`.\n",
    "You'll need to determine the appropriate arguments for `left_on` and `right_on`.\n",
    "\n",
    "Name the resulting `DataFrame` `joined_pantheria_iucn_data`."
   ]
  },
  {
   "cell_type": "code",
   "execution_count": null,
   "metadata": {},
   "outputs": [],
   "source": [
    "# Write your code here\n",
    "\n",
    "# Check your work\n",
    "joined_pantheria_iucn_data.head()"
   ]
  },
  {
   "cell_type": "markdown",
   "metadata": {},
   "source": [
    "## Problem 4: Eliminate irrelevant IUCN categories\n",
    "\n",
    "Now that we have our joined `DataFrame`, we're almost ready to perform the computation necessary to answer our question.\n",
    "But first, the IUCN status values `'DD'` and `'EP'` are not useful to us, so we'll remove them."
   ]
  },
  {
   "cell_type": "markdown",
   "metadata": {},
   "source": [
    "1. Extract all rows from `joined_pantheria_iucn_data` with IUCN categories OTHER THAN `'DD'` and `'EP'`. Name this resulting `DataFrame` `pantheria_iucn_clean`.\n",
    "\n",
    "    You are strongly encouraged to create your own variable to store the *boolean `Series`* you're using as a filter. You'll need to use a comparison operator (e.g., `==` or `!=`) along with one of the two logical operators, either `&` or `|`."
   ]
  },
  {
   "cell_type": "code",
   "execution_count": null,
   "metadata": {},
   "outputs": [],
   "source": [
    "# Write your code here\n",
    "\n",
    "# Check your work\n",
    "pantheria_iucn_clean"
   ]
  },
  {
   "cell_type": "markdown",
   "metadata": {},
   "source": [
    "## Problem 5: Computing fecundity\n",
    "\n",
    "Using `pantheria_iucn_clean`, you will estimate a new measurement that we will call `Max Lifetime Fecundity`.\n",
    "\n",
    "This will be computed using the following columns:\n",
    "\n",
    "`'Age to Maturity (days)'`: How long it takes for the average individual to grow to maturity. This is measured in days as the interval between birth and the time when the individual first reproduces.\n",
    " \n",
    "`'Max Longevity (months)'`: How long can individuals within each species live, expressed in months.\n",
    "\n",
    "`'Interbirth Interval (days)'`: How long do adult females wait, on average, between giving birth and becoming pregnant again?\n",
    "\n",
    "`'Litter Size'`: How many babies do females within each species have at one time, on average?\n",
    "\n",
    "The **maximum fecundity** of a species is calculated using the following formula:\n",
    "\n",
    "$$ \\frac{\\text{max longevity} - \\text{age to maturity}}{\\text{interbirth interval}} \\times \\text{litter size}\n",
    "$$\n",
    "\n",
    "### Problem 5a: Adding the column\n",
    "\n",
    "Your task is to add a new column called `'Max Fecundity'` to `pantheria_iucn_clean` that contains the maximum fecundity of each species. Do not perform any rounding.\n",
    "\n",
    "**NOTE**: currently, the age to maturity/longevity/interbrith interval columns use different units. You'll first need to convert them to *years* by dividing by 365 (for days) or 12 (months) before you can use the above formula.\n",
    "Do not modify the existing `pantheria_iucn_clean` for these unit conversions; instead, use new variables to store the converted `Series`."
   ]
  },
  {
   "cell_type": "code",
   "execution_count": null,
   "metadata": {},
   "outputs": [],
   "source": [
    "# Write your code here\n",
    "\n",
    "# Check your work\n",
    "pantheria_iucn_clean"
   ]
  },
  {
   "cell_type": "markdown",
   "metadata": {},
   "source": [
    "### Problem 5b: Sort\n",
    "\n",
    "Finally, use the `DataFrame.sort_values` method to sort `pantheria_iucn_clean` in ascending order of its `'Max Fecundity'` column. You may, but are not required, to store the result in a variable.\n"
   ]
  },
  {
   "cell_type": "code",
   "execution_count": null,
   "metadata": {},
   "outputs": [],
   "source": [
    "# Write your code here\n"
   ]
  },
  {
   "cell_type": "markdown",
   "metadata": {},
   "source": [
    "## Problem 6: Computing the average Max Fecundity for each IUCN Status\n",
    "\n",
    "You will now calculate the average `Max Fecundity` value for each IUCN Status group.\n",
    "\n",
    "Like in the lecture, this will involve two steps:\n",
    "1. Group the `pantheria_iucn_clean` by the `IUCN Status` column, using the `DataFrame.groupby()` function.\n",
    "2. Compute the `mean` of the `Max Fecundity` column for the grouped data.\n",
    "\n",
    "Store the output of these steps in a new variable called `iucn_avg_fecundity`. This variable should be of type `Series`, and associate each IUCN category with the average of the `Max Fecundity` values for the species in that category.\n",
    "\n",
    "You may store the output of Step 1 in another variable, if you wish, or chain both the steps together in one command."
   ]
  },
  {
   "cell_type": "code",
   "execution_count": 11,
   "metadata": {},
   "outputs": [],
   "source": [
    "# Write your code here\n"
   ]
  },
  {
   "cell_type": "code",
   "execution_count": null,
   "metadata": {},
   "outputs": [],
   "source": [
    "# This code is provided to check your work. Do not modify it.\n",
    "print(type(iucn_avg_fecundity))\n",
    "display(iucn_avg_fecundity.sort_values())"
   ]
  },
  {
   "cell_type": "markdown",
   "metadata": {},
   "source": [
    "## Conclusion\n",
    "\n",
    "Based on your analysis, answer each of these questions:\n",
    " \n",
    "1. Explain, in biological terms, what our new `'Max Fecundity'` column measures. __(3 marks)__\n",
    "2. What can you say about the relationship between the IUCN Status and the average maximum fecundity of species? __(3 marks)__"
   ]
  },
  {
   "cell_type": "markdown",
   "metadata": {},
   "source": [
    "**WRITE YOUR RESPONSE HERE.**"
   ]
  }
 ],
 "metadata": {
  "kernelspec": {
   "display_name": "Python 3",
   "language": "python",
   "name": "python3"
  },
  "language_info": {
   "codemirror_mode": {
    "name": "ipython",
    "version": 3
   },
   "file_extension": ".py",
   "mimetype": "text/x-python",
   "name": "python",
   "nbconvert_exporter": "python",
   "pygments_lexer": "ipython3",
   "version": "3.10.9"
  },
  "markus": {
   "assessment_id": 213,
   "course_id": 10,
   "url": "https://markus-ds.teach.cs.toronto.edu"
  }
 },
 "nbformat": 4,
 "nbformat_minor": 2
}
