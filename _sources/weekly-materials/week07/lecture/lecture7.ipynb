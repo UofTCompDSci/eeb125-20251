{
 "cells": [
  {
   "cell_type": "markdown",
   "metadata": {
    "slideshow": {
     "slide_type": "slide"
    }
   },
   "source": [
    "# EEB125 Lecture 7: Introduction to Pandas\n",
    "\n",
    "## Feb 26, 2025\n",
    "\n",
    "## Karen Reid"
   ]
  },
  {
   "cell_type": "markdown",
   "metadata": {
    "slideshow": {
     "slide_type": "slide"
    }
   },
   "source": [
    "## Introducing `pandas`\n",
    "\n",
    "So far this semester, you've worked in *base Python*, using only types of data, functions, and methods that are built into Python.\n",
    "\n",
    "For the next few weeks, we'll learn how to use one of the most common **libraries** for doing data science in Python: `pandas`."
   ]
  },
  {
   "cell_type": "markdown",
   "metadata": {
    "slideshow": {
     "slide_type": "slide"
    }
   },
   "source": [
    "## What is `pandas`?\n",
    "\n",
    "[`pandas`](https://pandas.pydata.org/) \"is a fast, powerful, flexible and easy to use open source data analysis and manipulation tool,\n",
    "built on top of the Python programming language.\" \n",
    "\n",
    "<img width=\"400\" src=\"https://cdn.britannica.com/80/150980-050-84B9202C/Giant-panda-cub-branch.jpg\" alt=\"Image of a panda\"/>"
   ]
  },
  {
   "cell_type": "markdown",
   "metadata": {
    "slideshow": {
     "slide_type": "slide"
    }
   },
   "source": [
    "Today, we'll learn how to use `pandas` to:\n",
    "\n",
    "- Read in a dataset from a CSV file\n",
    "- Identify, use, and differentiate two new Pandas data types, `DataFrame` and `Series`\n",
    "- Describe the properties of a dataset representation in Pandas\n",
    "- Inspect parts of a large dataset\n",
    "- Perform simple *data cleaning* and *data transformation* operations on a dataset\n",
    "- Compute some summary statistics on a dataset"
   ]
  },
  {
   "cell_type": "markdown",
   "metadata": {
    "slideshow": {
     "slide_type": "slide"
    }
   },
   "source": [
    "## Importing `pandas`\n",
    "\n",
    "Because `pandas` doesn't come built-in with Python, we need to **import it** to be able to use it in our code.\n",
    "\n",
    "This is done with a Python statement called an **import statement**."
   ]
  },
  {
   "cell_type": "code",
   "execution_count": null,
   "metadata": {
    "slideshow": {
     "slide_type": "fragment"
    }
   },
   "outputs": [],
   "source": [
    "import pandas"
   ]
  },
  {
   "cell_type": "markdown",
   "metadata": {
    "slideshow": {
     "slide_type": "fragment"
    }
   },
   "source": [
    "Common alternate: import with a renaming (\"nickname\"):"
   ]
  },
  {
   "cell_type": "code",
   "execution_count": null,
   "metadata": {
    "slideshow": {
     "slide_type": "-"
    }
   },
   "outputs": [],
   "source": [
    "import pandas as pd"
   ]
  },
  {
   "cell_type": "markdown",
   "metadata": {
    "slideshow": {
     "slide_type": "slide"
    }
   },
   "source": [
    "## Reading in data from a CSV file\n",
    "\n",
    "Using pandas, we can read in data from a csv file using the `read_csv` function."
   ]
  },
  {
   "cell_type": "code",
   "execution_count": null,
   "metadata": {},
   "outputs": [],
   "source": [
    "species_data = pd.read_csv('PanTHERIA_WR05_Aug2008.csv')"
   ]
  },
  {
   "cell_type": "markdown",
   "metadata": {
    "slideshow": {
     "slide_type": "slide"
    }
   },
   "source": [
    "Let's explore: what is `species_data`?"
   ]
  },
  {
   "cell_type": "code",
   "execution_count": null,
   "metadata": {
    "scrolled": false
   },
   "outputs": [],
   "source": [
    "species_data"
   ]
  },
  {
   "cell_type": "code",
   "execution_count": null,
   "metadata": {
    "slideshow": {
     "slide_type": "slide"
    }
   },
   "outputs": [],
   "source": [
    "type(species_data)"
   ]
  },
  {
   "cell_type": "markdown",
   "metadata": {
    "slideshow": {
     "slide_type": "fragment"
    }
   },
   "source": [
    "Formally, `species_data` is a `DataFrame`, which is a custom data type defined by `pandas` to represent **tabular data**."
   ]
  },
  {
   "cell_type": "markdown",
   "metadata": {
    "slideshow": {
     "slide_type": "slide"
    }
   },
   "source": [
    "## Exploring `DataFrame`s"
   ]
  },
  {
   "cell_type": "markdown",
   "metadata": {
    "slideshow": {
     "slide_type": "slide"
    }
   },
   "source": [
    "We can use the `DataFrame.head()` method to quickly see the first few rows."
   ]
  },
  {
   "cell_type": "code",
   "execution_count": null,
   "metadata": {},
   "outputs": [],
   "source": [
    "species_data.head()"
   ]
  },
  {
   "cell_type": "markdown",
   "metadata": {
    "slideshow": {
     "slide_type": "slide"
    }
   },
   "source": [
    "We use the `.shape` **attribute** to obtain the number of rows and columns of a `DataFrame`.\n",
    "\n",
    "- An **attribute** is like a method, but it just stores a piece of data, and is not a function.\n",
    "- You do *not* write parentheses after an attribute name."
   ]
  },
  {
   "cell_type": "code",
   "execution_count": null,
   "metadata": {},
   "outputs": [],
   "source": [
    "species_data.shape"
   ]
  },
  {
   "cell_type": "markdown",
   "metadata": {
    "slideshow": {
     "slide_type": "slide"
    }
   },
   "source": [
    "We can access just the number of rows or columns by using indexing on `.shape` (with square brackets), just like with lists."
   ]
  },
  {
   "cell_type": "code",
   "execution_count": null,
   "metadata": {},
   "outputs": [],
   "source": [
    "num_rows = species_data.shape[0]\n",
    "num_cols = species_data.shape[1]\n",
    "\n",
    "print(f\"There are {num_rows} rows and {num_cols} columns in the dataset.\")"
   ]
  },
  {
   "cell_type": "markdown",
   "metadata": {
    "slideshow": {
     "slide_type": "slide"
    }
   },
   "source": [
    "## `DataFrame` columns properties\n",
    "\n",
    "One of the most important properties of a `DataFrame` are its **columns**.\n",
    "Each column has two important pieces of \"metadata\":\n",
    "\n",
    "- the column's name\n",
    "- the column's type (i.e., the type of data stored in that column)"
   ]
  },
  {
   "cell_type": "markdown",
   "metadata": {
    "slideshow": {
     "slide_type": "slide"
    }
   },
   "source": [
    "We can see the **column names** by accessing the `.columns` attribute of a `DataFrame`."
   ]
  },
  {
   "cell_type": "code",
   "execution_count": null,
   "metadata": {},
   "outputs": [],
   "source": [
    "species_data.columns"
   ]
  },
  {
   "cell_type": "markdown",
   "metadata": {
    "slideshow": {
     "slide_type": "slide"
    }
   },
   "source": [
    "The `.columns` attribute has a special type called `Index`, which is like a `list`.\n",
    "\n",
    "You don't need to worry about what `Index` is exactly, but if you want you can convert it into a `list`:"
   ]
  },
  {
   "cell_type": "code",
   "execution_count": null,
   "metadata": {},
   "outputs": [],
   "source": [
    "list(species_data.columns)"
   ]
  },
  {
   "cell_type": "markdown",
   "metadata": {
    "slideshow": {
     "slide_type": "slide"
    }
   },
   "source": [
    "We can access *column types* by using the `.dtypes` attribute:"
   ]
  },
  {
   "cell_type": "code",
   "execution_count": null,
   "metadata": {},
   "outputs": [],
   "source": [
    "species_data.dtypes"
   ]
  },
  {
   "cell_type": "markdown",
   "metadata": {
    "slideshow": {
     "slide_type": "slide"
    }
   },
   "source": [
    "Pandas uses its own custom data types to represent large datasets efficiently.\n",
    "They typically correspond to Python's built-in data types.\n",
    "\n",
    "For example:\n",
    "\n",
    "- `float64` corresponds to a Python `float`\n",
    "- `object` is a special `dtype` that means \"any value\""
   ]
  },
  {
   "cell_type": "markdown",
   "metadata": {
    "slideshow": {
     "slide_type": "fragment"
    }
   },
   "source": [
    "**Note**: by default, Pandas reads in text column data as `object`, not `string`.\n",
    "\n",
    "We'll see how to improve this later this lecture."
   ]
  },
  {
   "cell_type": "markdown",
   "metadata": {
    "slideshow": {
     "slide_type": "slide"
    }
   },
   "source": [
    "Finally, we can use the `DataFrame.info()` **method** to display all of the previous information and more:"
   ]
  },
  {
   "cell_type": "code",
   "execution_count": null,
   "metadata": {},
   "outputs": [],
   "source": [
    "species_data.info()"
   ]
  },
  {
   "cell_type": "markdown",
   "metadata": {
    "slideshow": {
     "slide_type": "slide"
    }
   },
   "source": [
    "### Summary\n",
    "\n",
    "Given a `DataFrame`, we can access the following attributes/methods to obtain information about it.\n",
    "\n",
    "| Attribute/Method | Description                                       |\n",
    "|------------------|---------------------------------------------------|\n",
    "| `.shape`         | (number of rows, number of columns)               |\n",
    "| `.columns`       | column names                                      |\n",
    "| `.dtypes`        | column names and types                            |\n",
    "| `.info()`        | all of the above, and more (e.g. non-null counts) |\n",
    "| `.head()`        | display the first few rows of the `DataFrame`     |\n"
   ]
  },
  {
   "cell_type": "markdown",
   "metadata": {
    "slideshow": {
     "slide_type": "slide"
    }
   },
   "source": [
    "## Data Wrangling: Columns"
   ]
  },
  {
   "cell_type": "markdown",
   "metadata": {
    "slideshow": {
     "slide_type": "slide"
    }
   },
   "source": [
    "In data science, **data wrangling** is the process of turning raw data into a format more suitable for subsequent computation, analysis, and visualization.  This might be more properly called Data Cleaning.\n",
    "\n",
    "There are many different types of data wrangling, but for now we'll look at three techniques centred on *columns*:\n",
    "\n",
    "- renaming columns\n",
    "- converting column types\n",
    "- identifying and replacing \"invalid\" values\n",
    "- extracting a subset of columns to work with"
   ]
  },
  {
   "cell_type": "markdown",
   "metadata": {
    "slideshow": {
     "slide_type": "slide"
    }
   },
   "source": [
    "### Renaming columns\n",
    "\n",
    "We rename columns by using the `DataFrame.rename(columns=...)` method, where we pass in a **dictionary** mapping \"original column name\" to \"new column name\"."
   ]
  },
  {
   "cell_type": "code",
   "execution_count": null,
   "metadata": {
    "slideshow": {
     "slide_type": "slide"
    }
   },
   "outputs": [],
   "source": [
    "old_to_new = {\n",
    "    'MSW05_Genus': 'Genus',\n",
    "    'MSW05_Species': 'Species',\n",
    "    '1-1_ActivityCycle': 'Activity Cycle',\n",
    "    '5-1_AdultBodyMass_g': 'Adult Body Mass (g)',\n",
    "    '2-1_AgeatEyeOpening_d': 'Age at Eye Opening (days)',\n",
    "    '17-1_MaxLongevity_m': 'Max Longevity (months)'\n",
    "}\n",
    "\n",
    "species_data_renamed = species_data.rename(columns=old_to_new)\n",
    "species_data_renamed.head()"
   ]
  },
  {
   "cell_type": "markdown",
   "metadata": {
    "slideshow": {
     "slide_type": "slide"
    }
   },
   "source": [
    "### Converting column types\n",
    "\n",
    "We can also ask Pandas to *automatically choose* the best column types for an existing `DataFrame`.\n",
    "This is done with the `DataFrame.convert_dtypes()` method."
   ]
  },
  {
   "cell_type": "code",
   "execution_count": null,
   "metadata": {
    "slideshow": {
     "slide_type": "slide"
    }
   },
   "outputs": [],
   "source": [
    "species_data_converted = species_data_renamed.convert_dtypes()\n",
    "\n",
    "species_data_converted.dtypes"
   ]
  },
  {
   "cell_type": "markdown",
   "metadata": {
    "slideshow": {
     "slide_type": "slide"
    }
   },
   "source": [
    "### Identifying and replacing \"missing\" values\n",
    "\n",
    "The PanTHERIA dataset uses a special value, `-999`, to represent missing or unknown data.\n",
    "\n",
    "Instead of leaving these values in our `DataFrame`, we'll **replace** them with a special `pandas` value called `NA`."
   ]
  },
  {
   "cell_type": "code",
   "execution_count": null,
   "metadata": {
    "slideshow": {
     "slide_type": "slide"
    }
   },
   "outputs": [],
   "source": [
    "species_data_with_na = species_data_converted.replace(-999, pd.NA)\n",
    "species_data_with_na.head()"
   ]
  },
  {
   "cell_type": "markdown",
   "metadata": {
    "slideshow": {
     "slide_type": "slide"
    }
   },
   "source": [
    "### Extracting a subset of columns\n",
    "\n",
    "Sometimes our full dataset contains *too much information*, and we only care about a subset of the data.\n",
    "\n",
    "One common occurrence is when we only want a *subset of the columns* in a dataset.\n",
    "\n",
    "For example, suppose we only care about the *genus*, *species*, *body mass*, and *longevity* of each species in our dataset."
   ]
  },
  {
   "cell_type": "markdown",
   "metadata": {
    "slideshow": {
     "slide_type": "slide"
    }
   },
   "source": [
    "### Extracting a subset of columns\n",
    "\n",
    "We select a subset of columns in two steps:\n",
    "\n",
    "1. Define a *list* containing the *column names* that we want to select.\n",
    "2. Use *square bracket \"lookup\" syntax* on a `DataFrame`, with the list inside the square brackets."
   ]
  },
  {
   "cell_type": "code",
   "execution_count": null,
   "metadata": {
    "slideshow": {
     "slide_type": "slide"
    }
   },
   "outputs": [],
   "source": [
    "columns_to_keep = [\n",
    "    'Genus',\n",
    "    'Species',\n",
    "    'Adult Body Mass (g)',\n",
    "    'Max Longevity (months)'\n",
    "]\n",
    "\n",
    "species_data_final = species_data_with_na[columns_to_keep]\n",
    "species_data_final.head()"
   ]
  },
  {
   "cell_type": "markdown",
   "metadata": {
    "slideshow": {
     "slide_type": "slide"
    }
   },
   "source": [
    "## Data Transformation: computing on columns"
   ]
  },
  {
   "cell_type": "markdown",
   "metadata": {
    "slideshow": {
     "slide_type": "slide"
    }
   },
   "source": [
    "A typical step in analysis of a dataset is to perform computations on invididual columns, or operations that combine columns in some way.\n",
    "\n",
    "For example:\n",
    "\n",
    "- Add 1 to each value in a column\n",
    "- Multiply the values in two columns together\n",
    "- \"Find and Replace\" values in a column"
   ]
  },
  {
   "cell_type": "markdown",
   "metadata": {
    "slideshow": {
     "slide_type": "slide"
    }
   },
   "source": [
    "### Retrieving a column by name\n",
    "\n",
    "We can extract a *single* column from a `DataFrame` using square brackets with a *single string* instead of a list of strings."
   ]
  },
  {
   "cell_type": "code",
   "execution_count": null,
   "metadata": {
    "slideshow": {
     "slide_type": "slide"
    }
   },
   "outputs": [],
   "source": [
    "masses = species_data_final['Adult Body Mass (g)']\n",
    "\n",
    "masses"
   ]
  },
  {
   "cell_type": "markdown",
   "metadata": {
    "slideshow": {
     "slide_type": "slide"
    }
   },
   "source": [
    "But what exactly is `totals`?"
   ]
  },
  {
   "cell_type": "code",
   "execution_count": null,
   "metadata": {
    "slideshow": {
     "slide_type": "-"
    }
   },
   "outputs": [],
   "source": [
    "type(masses)"
   ]
  },
  {
   "cell_type": "markdown",
   "metadata": {
    "slideshow": {
     "slide_type": "slide"
    }
   },
   "source": [
    "`masses` is a `Series`, which is a `pandas` data type that represents a single column of data.\n",
    "\n",
    "A `Series` is similar to a `DataFrame`, but it can only hold one \"series\" of data, rather than storing a whole table."
   ]
  },
  {
   "cell_type": "markdown",
   "metadata": {
    "slideshow": {
     "slide_type": "slide"
    }
   },
   "source": [
    "But most of the descriptive attributes/methods we learned for `DataFrame`s can be applied to `Series` as well:"
   ]
  },
  {
   "cell_type": "code",
   "execution_count": null,
   "metadata": {},
   "outputs": [],
   "source": [
    "masses.shape"
   ]
  },
  {
   "cell_type": "code",
   "execution_count": null,
   "metadata": {
    "slideshow": {
     "slide_type": "fragment"
    }
   },
   "outputs": [],
   "source": [
    "masses.dtypes"
   ]
  },
  {
   "cell_type": "code",
   "execution_count": null,
   "metadata": {
    "slideshow": {
     "slide_type": "fragment"
    }
   },
   "outputs": [],
   "source": [
    "masses.info()"
   ]
  },
  {
   "cell_type": "code",
   "execution_count": null,
   "metadata": {
    "slideshow": {
     "slide_type": "slide"
    }
   },
   "outputs": [],
   "source": [
    "# We can even obtain the original column name from the Series\n",
    "masses.name"
   ]
  },
  {
   "cell_type": "markdown",
   "metadata": {
    "slideshow": {
     "slide_type": "slide"
    }
   },
   "source": [
    "But if `Series` are a simplified version of `DataFrame`s, why bother with them?"
   ]
  },
  {
   "cell_type": "markdown",
   "metadata": {
    "slideshow": {
     "slide_type": "fragment"
    }
   },
   "source": [
    "Because we can perform computations on `Series` \"one element at a time\", without needing to use for loops!"
   ]
  },
  {
   "cell_type": "markdown",
   "metadata": {
    "slideshow": {
     "slide_type": "slide"
    }
   },
   "source": [
    "### Example: transform a single Series\n",
    "\n",
    "**Goal**: Given the species masses, convert to kg by dividing each one by 1000 and rounding to one decimal place."
   ]
  },
  {
   "cell_type": "markdown",
   "metadata": {
    "slideshow": {
     "slide_type": "fragment"
    }
   },
   "source": [
    "Example: for a single mass like `492714.47`, we'd compute\n",
    "\n",
    "```python\n",
    "round(492714.47 / 1000, 1)  # 492.7\n",
    "```\n",
    "\n",
    "But we want to do this for every mass!"
   ]
  },
  {
   "cell_type": "code",
   "execution_count": null,
   "metadata": {
    "slideshow": {
     "slide_type": "slide"
    }
   },
   "outputs": [],
   "source": [
    "masses_kg = masses / 1000\n",
    "masses_kg_rounded = masses_kg.round(1)\n",
    "masses_kg_rounded"
   ]
  },
  {
   "cell_type": "markdown",
   "metadata": {
    "slideshow": {
     "slide_type": "slide"
    }
   },
   "source": [
    "### Example: combine two `Series`\n",
    "\n",
    "Now let's consider another problem: we'll calculate the ratio between the longevity and mass of each species.\n",
    "\n",
    "Example: for *Camelus dromedarius*, we'll compute\n",
    "\n",
    "```python\n",
    "480.0 / 492714.47\n",
    "```\n",
    "\n",
    "But again, we want to do ths for each species!"
   ]
  },
  {
   "cell_type": "code",
   "execution_count": null,
   "metadata": {
    "slideshow": {
     "slide_type": "slide"
    }
   },
   "outputs": [],
   "source": [
    "masses = species_data_final[\"Adult Body Mass (g)\"]\n",
    "longevities = species_data_final[\"Max Longevity (months)\"]\n",
    "\n",
    "\n",
    "longevities / masses"
   ]
  },
  {
   "cell_type": "markdown",
   "metadata": {
    "slideshow": {
     "slide_type": "slide"
    }
   },
   "source": [
    "### Adding a new column to a `DataFrame`\n",
    "\n",
    "In addition to creating new variables to store computed `Series`, it is common to modify existing `DataFrame` by adding a computed `Series` as a new column.\n",
    "\n",
    "We can do this using square bracket notation again, this time on the left-hand side of an assignment statement."
   ]
  },
  {
   "cell_type": "code",
   "execution_count": null,
   "metadata": {
    "slideshow": {
     "slide_type": "slide"
    }
   },
   "outputs": [],
   "source": [
    "# You don't need to worry about the following line.\n",
    "# It just hides a warning message that's beyond the scope of this course.\n",
    "pd.set_option('mode.chained_assignment', None)\n",
    "\n",
    "species_data_final[\"Longevity-to-Mass Ratio\"] = longevities / masses\n",
    "\n",
    "species_data_final"
   ]
  },
  {
   "cell_type": "markdown",
   "metadata": {
    "slideshow": {
     "slide_type": "slide"
    }
   },
   "source": [
    "### WARNING!\n",
    "\n",
    "**Warning**: the previous code cell *changes* the existing data frame `species_data_final`, rather than creating a new `DataFrame`."
   ]
  },
  {
   "cell_type": "markdown",
   "metadata": {
    "slideshow": {
     "slide_type": "slide"
    }
   },
   "source": [
    "## Boolean `Series` and filtering rows"
   ]
  },
  {
   "cell_type": "markdown",
   "metadata": {
    "slideshow": {
     "slide_type": "slide"
    }
   },
   "source": [
    "Another common type of data transformation is to **filter** for specific rows in a dataset based on one or more conditions."
   ]
  },
  {
   "cell_type": "markdown",
   "metadata": {
    "slideshow": {
     "slide_type": "fragment"
    }
   },
   "source": [
    "**Goal**: filter the rows of the dataset to keep the species with a mass *greater than or equal to 100 kg*."
   ]
  },
  {
   "cell_type": "markdown",
   "metadata": {
    "slideshow": {
     "slide_type": "slide"
    }
   },
   "source": [
    "As a first step, we create a *boolean `Series`* that stores `True` for the rows we want to keep, and `False` for the other rows."
   ]
  },
  {
   "cell_type": "code",
   "execution_count": null,
   "metadata": {
    "slideshow": {
     "slide_type": "fragment"
    }
   },
   "outputs": [],
   "source": [
    "is_large = species_data_final[\"Adult Body Mass (g)\"] >= 100000\n",
    "is_large"
   ]
  },
  {
   "cell_type": "markdown",
   "metadata": {
    "slideshow": {
     "slide_type": "slide"
    }
   },
   "source": [
    "Then, we use this `Series` to index `species_data_final` by using square bracket notation."
   ]
  },
  {
   "cell_type": "code",
   "execution_count": null,
   "metadata": {
    "slideshow": {
     "slide_type": "-"
    }
   },
   "outputs": [],
   "source": [
    "species_data_final[is_large]"
   ]
  },
  {
   "cell_type": "markdown",
   "metadata": {
    "slideshow": {
     "slide_type": "slide"
    }
   },
   "source": [
    "### Note: lots of square brackets!\n",
    "\n",
    "One of the tricky things about `DataFrame`s is that there are different ways of obtaining subsets of the dataset that all have very similar code syntax:\n",
    "\n",
    "```python\n",
    "species_data_final[...]\n",
    "```\n",
    "\n",
    "The key principle is that **the type of the value inside the square brackets determines what kind of \"subsetting\" operation is being performed**."
   ]
  },
  {
   "cell_type": "markdown",
   "metadata": {
    "slideshow": {
     "slide_type": "slide"
    }
   },
   "source": [
    "| Type inside `[...]` | Example                    | Return type   | Which columns?  | Which rows? |\n",
    "|---------------------|----------------------------|---------------|-----------|-------|\n",
    "| `str`               | `species_data_final[\"Adult Body Mass (g)\"]` | `Series` | The one specified | All rows |\n",
    "| `list` of `str`     | `species_data_final[[\"Genus\", \"Species\"]]` | `DataFrame` | The ones specified | All rows |\n",
    "| `Series` of `bool`  | `species_data_final[is_large]` | `DataFrame` | All columns | The ones specified |"
   ]
  },
  {
   "cell_type": "markdown",
   "metadata": {
    "slideshow": {
     "slide_type": "slide"
    }
   },
   "source": [
    "### Logical operators: `&` and `|`\n",
    "\n",
    "Sometimes we want to filter on two conditions.\n",
    "To start, suppose we have these two boolean `Series`:"
   ]
  },
  {
   "cell_type": "code",
   "execution_count": null,
   "metadata": {},
   "outputs": [],
   "source": [
    "is_large = species_data_final[\"Adult Body Mass (g)\"] >= 100000\n",
    "is_long_lived = species_data_final[\"Max Longevity (months)\"] >= 240"
   ]
  },
  {
   "cell_type": "markdown",
   "metadata": {
    "slideshow": {
     "slide_type": "fragment"
    }
   },
   "source": [
    "There are two common ways to filter based on a combination of these two conditions."
   ]
  },
  {
   "cell_type": "markdown",
   "metadata": {
    "slideshow": {
     "slide_type": "slide"
    }
   },
   "source": [
    "**Filter 1**: find rows where the species is large **and** is long-lived.\n",
    "\n",
    "To do this, we use the `&` operator to combine the two `Series`."
   ]
  },
  {
   "cell_type": "code",
   "execution_count": null,
   "metadata": {},
   "outputs": [],
   "source": [
    "filter1 = is_large & is_long_lived\n",
    "\n",
    "species_data_final[filter1]"
   ]
  },
  {
   "cell_type": "markdown",
   "metadata": {
    "slideshow": {
     "slide_type": "slide"
    }
   },
   "source": [
    "**Filter 2**: find rows where the species is large **or** is long-lived.\n",
    "\n",
    "To do this, we use the `|` operator to combine the two `Series`."
   ]
  },
  {
   "cell_type": "code",
   "execution_count": null,
   "metadata": {},
   "outputs": [],
   "source": [
    "filter2 = is_large | is_long_lived\n",
    "\n",
    "species_data_final[filter2]"
   ]
  },
  {
   "cell_type": "markdown",
   "metadata": {
    "slideshow": {
     "slide_type": "slide"
    }
   },
   "source": [
    "## Exploratory analysis: sorting and basic descriptive statistics"
   ]
  },
  {
   "cell_type": "markdown",
   "metadata": {
    "slideshow": {
     "slide_type": "slide"
    }
   },
   "source": [
    "### Sorting\n",
    "\n",
    "Suppose we want to take our `DataFrame` and sort it by the `\"Adult Body Mass (g)\"` column to see which species have the largest mass."
   ]
  },
  {
   "cell_type": "markdown",
   "metadata": {
    "slideshow": {
     "slide_type": "slide"
    }
   },
   "source": [
    "We do this by using the `DataFrame.sort_values(by=...)` method, where we pass in a `str` that names the column to sort by."
   ]
  },
  {
   "cell_type": "code",
   "execution_count": null,
   "metadata": {},
   "outputs": [],
   "source": [
    "species_data_final.sort_values(by=\"Adult Body Mass (g)\")"
   ]
  },
  {
   "cell_type": "markdown",
   "metadata": {
    "slideshow": {
     "slide_type": "slide"
    }
   },
   "source": [
    "By default, the column values are sorted in *ascending* (low-to-high) order.\n",
    "\n",
    "If we want to sort in *descending* (high-to-low) order, we can pass in an *optional* argument `ascending=False` to `DataFrame.sort_values`:"
   ]
  },
  {
   "cell_type": "code",
   "execution_count": null,
   "metadata": {},
   "outputs": [],
   "source": [
    "species_data_final.sort_values(by=\"Adult Body Mass (g)\", ascending=False)"
   ]
  },
  {
   "cell_type": "markdown",
   "metadata": {
    "slideshow": {
     "slide_type": "slide"
    }
   },
   "source": [
    "### Descriptive statistics\n",
    "\n",
    "Here are five simple *descriptive statistics* that we can use to describe a collection of numbers:\n",
    "\n",
    "- sum\n",
    "- count (i.e., size; number of elements)\n",
    "- mean (average)\n",
    "- min\n",
    "- max"
   ]
  },
  {
   "cell_type": "markdown",
   "metadata": {
    "slideshow": {
     "slide_type": "slide"
    }
   },
   "source": [
    "Unsurprisingly, we can compute all of these on any Pandas `Series` containing numeric data by calling a corresponding `Series` method.\n",
    "\n",
    "| Statistic | `Series` method |\n",
    "|-----------|-----------------|\n",
    "| sum       | `Series.sum()`  |\n",
    "| count     | `Series.count()` |\n",
    "| mean      | `Series.mean()` |\n",
    "| min       | `Series.min()`  |\n",
    "| max       | `Series.max()`  |\n",
    "\n",
    "**Note**: all five of these methods *ignore* `NA` values."
   ]
  },
  {
   "cell_type": "markdown",
   "metadata": {
    "slideshow": {
     "slide_type": "slide"
    }
   },
   "source": [
    "Let's start by extracting the body mass column (again)."
   ]
  },
  {
   "cell_type": "code",
   "execution_count": null,
   "metadata": {
    "slideshow": {
     "slide_type": "-"
    }
   },
   "outputs": [],
   "source": [
    "totals = species_data_final[\"Adult Body Mass (g)\"]\n",
    "totals.head()"
   ]
  },
  {
   "cell_type": "code",
   "execution_count": null,
   "metadata": {
    "slideshow": {
     "slide_type": "slide"
    }
   },
   "outputs": [],
   "source": [
    "totals.sum()"
   ]
  },
  {
   "cell_type": "code",
   "execution_count": null,
   "metadata": {
    "slideshow": {
     "slide_type": "-"
    }
   },
   "outputs": [],
   "source": [
    "totals.count()"
   ]
  },
  {
   "cell_type": "code",
   "execution_count": null,
   "metadata": {},
   "outputs": [],
   "source": [
    "totals.mean()"
   ]
  },
  {
   "cell_type": "code",
   "execution_count": null,
   "metadata": {},
   "outputs": [],
   "source": [
    "totals.min()"
   ]
  },
  {
   "cell_type": "code",
   "execution_count": null,
   "metadata": {},
   "outputs": [],
   "source": [
    "totals.max()"
   ]
  },
  {
   "cell_type": "markdown",
   "metadata": {
    "slideshow": {
     "slide_type": "slide"
    }
   },
   "source": [
    "## Further reading\n",
    "\n",
    "`pandas` is the most complex part of Python we've studied so far in this course, and so we expect you'll need to review and practice more as we dive deeper into this library.\n",
    "\n",
    "The official Pandas website has some great introductory materials, including:\n",
    "\n",
    "- [10 minutes to pandas](https://pandas.pydata.org/docs/user_guide/10min.html)\n",
    "- [*Getting Started* tutorials](https://pandas.pydata.org/docs/getting_started/intro_tutorials/index.html)\n"
   ]
  }
 ],
 "metadata": {
  "celltoolbar": "Slideshow",
  "kernelspec": {
   "display_name": "base",
   "language": "python",
   "name": "python3"
  },
  "language_info": {
   "codemirror_mode": {
    "name": "ipython",
    "version": 3
   },
   "file_extension": ".py",
   "mimetype": "text/x-python",
   "name": "python",
   "nbconvert_exporter": "python",
   "pygments_lexer": "ipython3",
   "version": "3.12.2"
  }
 },
 "nbformat": 4,
 "nbformat_minor": 2
}
