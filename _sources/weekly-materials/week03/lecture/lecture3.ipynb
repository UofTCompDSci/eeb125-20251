{
 "cells": [
  {
   "cell_type": "markdown",
   "metadata": {
    "slideshow": {
     "slide_type": "slide"
    }
   },
   "source": [
    "# Class 3: Booleans, Dictionaries, and Mammalian Diet\n",
    "\n",
    "### EEB 125, W2025\n",
    "### Tomo Parins-Fukuchi"
   ]
  },
  {
   "cell_type": "markdown",
   "metadata": {
    "slideshow": {
     "slide_type": "slide"
    }
   },
   "source": [
    "## Concepts and tools\n",
    "\n",
    "- Dictionaries\n",
    "- List comprehensions\n",
    "- Cleaning data and finding patterns"
   ]
  },
  {
   "cell_type": "markdown",
   "metadata": {
    "slideshow": {
     "slide_type": "slide"
    }
   },
   "source": [
    "### Some more techniques/tools in Python"
   ]
  },
  {
   "cell_type": "markdown",
   "metadata": {
    "slideshow": {
     "slide_type": "slide"
    }
   },
   "source": [
    "### Dictionaries\n",
    "\n",
    "- Another type of useful Python container is called a 'dictionary'\n",
    "- They are specified using curly brackets: `{}`\n",
    "- Each dictionary contains a 'key' and a 'value'. Let's explore:"
   ]
  },
  {
   "cell_type": "code",
   "execution_count": null,
   "metadata": {
    "slideshow": {
     "slide_type": "slide"
    }
   },
   "outputs": [],
   "source": [
    "# create an empty dictionary and assign it to a variable\n",
    "test_dict = {}\n",
    "print(test_dict)"
   ]
  },
  {
   "cell_type": "code",
   "execution_count": null,
   "metadata": {
    "slideshow": {
     "slide_type": "slide"
    }
   },
   "outputs": [],
   "source": [
    "# create an entry in our new dictionary:\n",
    "test_dict[\"test_key\"] = \"test_value\"\n",
    "print(test_dict)"
   ]
  },
  {
   "cell_type": "code",
   "execution_count": null,
   "metadata": {
    "slideshow": {
     "slide_type": "slide"
    }
   },
   "outputs": [],
   "source": [
    "# we can use the key to access the value:\n",
    "print(test_dict[\"test_key\"])"
   ]
  },
  {
   "cell_type": "markdown",
   "metadata": {
    "slideshow": {
     "slide_type": "slide"
    }
   },
   "source": [
    "### Dictionaries\n",
    "\n",
    "- Keys and values can be almost any data type\n",
    "- Keys have some restrictions on data type, but strings, floats, etc, all are fine (more later)"
   ]
  },
  {
   "cell_type": "code",
   "execution_count": null,
   "metadata": {
    "slideshow": {
     "slide_type": "subslide"
    }
   },
   "outputs": [],
   "source": [
    "# ex. 1. what data type are these keys? the values?\n",
    "test_dic = {\"a\" : [1.3,2.2], \"b\" : [4.3]}\n",
    "print(test_dic[\"a\"])"
   ]
  },
  {
   "cell_type": "code",
   "execution_count": null,
   "metadata": {
    "slideshow": {
     "slide_type": "subslide"
    }
   },
   "outputs": [],
   "source": [
    "# ex. 2. what data type are these keys? the values?\n",
    "test_dic = {0 : [\"a\",\"b\"], 1 : [\"c\"]}\n",
    "print(test_dic[0])"
   ]
  },
  {
   "cell_type": "code",
   "execution_count": null,
   "metadata": {
    "slideshow": {
     "slide_type": "subslide"
    }
   },
   "outputs": [],
   "source": [
    "# ex. 3. what data type are these keys? the values?\n",
    "test_dic = {0 : [\"a\",\"b\"], \"z\" : [\"c\"]}\n",
    "print(test_dic[\"z\"])"
   ]
  },
  {
   "cell_type": "code",
   "execution_count": null,
   "metadata": {
    "slideshow": {
     "slide_type": "slide"
    }
   },
   "outputs": [],
   "source": [
    "# dictionaries offer a lot of flexibility\n",
    "\n",
    "test_dic[0].append(\"d\")\n",
    "print(test_dic[0])"
   ]
  },
  {
   "cell_type": "code",
   "execution_count": null,
   "metadata": {
    "slideshow": {
     "slide_type": "slide"
    }
   },
   "outputs": [],
   "source": [
    "# we can also loop over a dictionary\n",
    "\n",
    "testd = {\"21\" : \"ia>iw\", \"kendrick\" : \"gkmc\",\"weezy\":\"tc3\"}\n",
    "for mc in testd:\n",
    "    key = mc\n",
    "    value = testd[mc]\n",
    "    print(key,value)"
   ]
  },
  {
   "cell_type": "markdown",
   "metadata": {
    "slideshow": {
     "slide_type": "slide"
    }
   },
   "source": [
    "## List comprehensions\n",
    "\n",
    "- Python offers another way of iterating through data that can be handy\n",
    "- It is similar to a for loop, but stated more compactly"
   ]
  },
  {
   "cell_type": "code",
   "execution_count": null,
   "metadata": {
    "slideshow": {
     "slide_type": "fragment"
    }
   },
   "outputs": [],
   "source": [
    "# count from zero to nine using a for loop and store the results in a list\n",
    "\n",
    "zero_to_nine = []\n",
    "for i in range(10):\n",
    "    zero_to_nine.append(i)\n",
    "print(zero_to_nine)"
   ]
  },
  {
   "cell_type": "code",
   "execution_count": null,
   "metadata": {
    "slideshow": {
     "slide_type": "fragment"
    }
   },
   "outputs": [],
   "source": [
    "# the same thing using a list comprehension\n",
    "\n",
    "zero_to_nine = [i for i in range(10)]\n",
    "print(zero_to_nine)"
   ]
  },
  {
   "cell_type": "markdown",
   "metadata": {
    "slideshow": {
     "slide_type": "slide"
    }
   },
   "source": [
    "## List comprehensions\n",
    "\n",
    "- We can use these to create slightly modified versions of existing lists"
   ]
  },
  {
   "cell_type": "code",
   "execution_count": null,
   "metadata": {
    "slideshow": {
     "slide_type": "fragment"
    }
   },
   "outputs": [],
   "source": [
    "emcees_str = \"cole, rocky, 21, weezy, kendrick\"\n",
    "emcees_ls = emcees_str.split(\",\")"
   ]
  },
  {
   "cell_type": "code",
   "execution_count": null,
   "metadata": {
    "slideshow": {
     "slide_type": "fragment"
    }
   },
   "outputs": [],
   "source": [
    "# we can use a list comprehension to generate a cleaner version of emcees_ls\n",
    "\n",
    "emcees_ls_cln = [mc.strip().upper() for mc in emcees_ls]\n",
    "print(emcees_ls_cln)"
   ]
  },
  {
   "cell_type": "markdown",
   "metadata": {
    "slideshow": {
     "slide_type": "slide"
    }
   },
   "source": [
    "## A brief aside \n",
    "\n",
    "![](images/programmers.svg)\n"
   ]
  },
  {
   "cell_type": "markdown",
   "metadata": {
    "slideshow": {
     "slide_type": "slide"
    }
   },
   "source": [
    "## A brief aside \n",
    "\n",
    "![](images/eniac.svg)\n"
   ]
  },
  {
   "cell_type": "markdown",
   "metadata": {
    "slideshow": {
     "slide_type": "slide"
    }
   },
   "source": [
    "## Which Canadian province has the most fossils?\n",
    "\n",
    "We can use list comprehensions to clean up the results we arrived at last week."
   ]
  },
  {
   "cell_type": "code",
   "execution_count": null,
   "metadata": {
    "slideshow": {
     "slide_type": "-"
    }
   },
   "outputs": [],
   "source": [
    "file = open(\"pbdb_data.csv\")\n",
    "file"
   ]
  },
  {
   "cell_type": "code",
   "execution_count": null,
   "metadata": {
    "slideshow": {
     "slide_type": "-"
    }
   },
   "outputs": [],
   "source": [
    "lines = file.readlines()\n",
    "header = lines[0]\n",
    "data = lines[1:]"
   ]
  },
  {
   "cell_type": "code",
   "execution_count": null,
   "metadata": {
    "slideshow": {
     "slide_type": "slide"
    }
   },
   "outputs": [],
   "source": [
    "## review from last week\n",
    "\n",
    "province_ls = [\"Ontario\",\"British Columbia\",\"Alberta\",\"Saskatchewan\",\"Manitoba\",\"Newfoundland and Labrador\",\"Northwest Territories\",\"Yukon\",\"Prince Edward Island\",\"Nunavut\"]"
   ]
  },
  {
   "cell_type": "code",
   "execution_count": null,
   "metadata": {
    "slideshow": {
     "slide_type": "-"
    }
   },
   "outputs": [],
   "source": [
    "province_recs = []\n",
    "for line in data:\n",
    "    line_dat = line.strip().split(\",\")\n",
    "    province = line_dat[-1].strip()\n",
    "    province_recs.append(province)"
   ]
  },
  {
   "cell_type": "code",
   "execution_count": null,
   "metadata": {
    "slideshow": {
     "slide_type": "slide"
    }
   },
   "outputs": [],
   "source": [
    "# RESULTS FROM LAST WEEK\n",
    "\n",
    "for i in province_ls:\n",
    "    print(i,province_recs.count(i))"
   ]
  },
  {
   "cell_type": "markdown",
   "metadata": {
    "slideshow": {
     "slide_type": "slide"
    }
   },
   "source": [
    "## Finding unique values \n",
    "\n",
    "- We might want to pick out the _unique_ values in a data column \n",
    "  + We don't always know what categories our data is divided into\n",
    "- Python `set` does this naturally"
   ]
  },
  {
   "cell_type": "markdown",
   "metadata": {
    "slideshow": {
     "slide_type": "slide"
    }
   },
   "source": [
    "## Python `set` data structure\n",
    "\n",
    "- A `set` is a native data _container_ (a `list`is another)\n",
    "  + No duplicates\n",
    "  + We can use it to find the unique values within our data"
   ]
  },
  {
   "cell_type": "code",
   "execution_count": null,
   "metadata": {
    "slideshow": {
     "slide_type": "slide"
    }
   },
   "outputs": [],
   "source": [
    "genres = [\"black metal\",\"rap\",\"rap\",\"country\",\"black metal\",\"rap\"]\n",
    "print(genres)\n",
    "print(set(genres))"
   ]
  },
  {
   "cell_type": "code",
   "execution_count": null,
   "metadata": {
    "slideshow": {
     "slide_type": "slide"
    }
   },
   "outputs": [],
   "source": [
    "# Notice a few of these seem to just be different in caps (e.g., \"British columbia\")\n",
    "\n",
    "unique = set(province_recs)\n",
    "print(unique)"
   ]
  },
  {
   "cell_type": "code",
   "execution_count": null,
   "metadata": {
    "scrolled": true,
    "slideshow": {
     "slide_type": "slide"
    }
   },
   "outputs": [],
   "source": [
    "province_ls_uc = [prov.upper() for prov in province_ls]\n",
    "province_recs_uc = [prov.upper() for prov in province_recs]\n",
    "for i in province_ls_uc:\n",
    "    print(i,province_recs_uc.count(i))"
   ]
  },
  {
   "cell_type": "markdown",
   "metadata": {
    "slideshow": {
     "slide_type": "slide"
    }
   },
   "source": [
    "## How many taxa are found in the fossil records of each province?\n",
    "\n",
    "We can use these new tools to ask another data science question: **which Canadian province (or territory) has the most diverse fossil record?**"
   ]
  },
  {
   "cell_type": "markdown",
   "metadata": {
    "slideshow": {
     "slide_type": "slide"
    }
   },
   "source": [
    "## Species richness\n",
    "\n",
    "- Many questions in ecology and evolution start by asking **how many species exist in a particular area**\n",
    "  - Fossils are often difficult to identify to the species level\n",
    "  - We can use 'taxon' richness-- could be species or could be higher taxonomic categories"
   ]
  },
  {
   "cell_type": "markdown",
   "metadata": {
    "slideshow": {
     "slide_type": "slide"
    }
   },
   "source": [
    "## Linnaean taxonomy\n",
    "\n",
    "Our 'taxon richness' metric could include any of these levels\n",
    "\n",
    "![](images/linnaeus.jpg)"
   ]
  },
  {
   "cell_type": "code",
   "execution_count": null,
   "metadata": {
    "scrolled": true,
    "slideshow": {
     "slide_type": "subslide"
    }
   },
   "outputs": [],
   "source": [
    "print(header)"
   ]
  },
  {
   "cell_type": "markdown",
   "metadata": {
    "slideshow": {
     "slide_type": "slide"
    }
   },
   "source": [
    "## Lists as dictionary values\n",
    "\n",
    "- We can create a dictionary to store all of the taxa found in each province\n",
    "- Start by creating an empty dictionary and fill it up\n",
    "  - unique province records as keys\n",
    "  - empty list as values"
   ]
  },
  {
   "cell_type": "code",
   "execution_count": null,
   "metadata": {
    "slideshow": {
     "slide_type": "-"
    }
   },
   "outputs": [],
   "source": [
    "prov_tax = {}\n",
    "for prov in unique:\n",
    "    upperprov = prov.upper()\n",
    "    prov_tax[upperprov] = []"
   ]
  },
  {
   "cell_type": "markdown",
   "metadata": {
    "slideshow": {
     "slide_type": "slide"
    }
   },
   "source": [
    "## Populate dictionary\n",
    "\n",
    "- Loop over the lines of our data file\n",
    "- For each line, add the taxon name to the list associated with the province"
   ]
  },
  {
   "cell_type": "code",
   "execution_count": null,
   "metadata": {
    "slideshow": {
     "slide_type": "fragment"
    }
   },
   "outputs": [],
   "source": [
    "for line in lines[1:]:\n",
    "    line_dat = line.strip().split(\",\")\n",
    "    prov = line_dat[-1].upper().strip()\n",
    "    tax = line_dat[3]\n",
    "    prov_tax[prov].append(tax)"
   ]
  },
  {
   "cell_type": "markdown",
   "metadata": {
    "slideshow": {
     "slide_type": "slide"
    }
   },
   "source": [
    "## Calculate taxon richness for each province\n",
    "\n",
    "- Look up the provinces in our dictionary, `prov_tax`\n",
    "- Count the number of taxa associated with each one"
   ]
  },
  {
   "cell_type": "code",
   "execution_count": null,
   "metadata": {
    "slideshow": {
     "slide_type": "fragment"
    }
   },
   "outputs": [],
   "source": [
    "print(\"province,num_taxa\")\n",
    "for prov in province_ls_uc: # why iterate over province_ls_uc instead of prov_tax?\n",
    "    tax_ls = prov_tax[prov]\n",
    "    unique_tax = set(tax_ls)\n",
    "    num_tax = len(unique_tax)\n",
    "    print(f\"{prov},{num_tax}\")"
   ]
  },
  {
   "cell_type": "markdown",
   "metadata": {
    "slideshow": {
     "slide_type": "slide"
    }
   },
   "source": [
    "## Switching gears\n",
    "\n",
    "- Now, we will introduce a different data set and explore some more questions using some new concepts\n",
    "- But first, a break"
   ]
  },
  {
   "cell_type": "markdown",
   "metadata": {
    "slideshow": {
     "slide_type": "slide"
    }
   },
   "source": [
    "## Trophic levels\n",
    "\n",
    "![Alt Text](images/trophic.png)\n",
    "\n",
    "- Sort of an oversimplification\n",
    "- But generally answers \"does it eat plants\" vs \"does it eat herbivores\" vs \"does it eat carnivores\"\n",
    "- There are no primary producers among mammals (or any other animal)"
   ]
  },
  {
   "cell_type": "markdown",
   "metadata": {
    "slideshow": {
     "slide_type": "slide"
    }
   },
   "source": [
    "## Trophic levels in Mammals\n",
    "\n",
    "- We will now explore a new data science question:\n",
    "    - What is the distribution of trophic levels in different mammalian taxa?\n",
    "    - Will explain this more as we go"
   ]
  },
  {
   "cell_type": "code",
   "execution_count": null,
   "metadata": {
    "slideshow": {
     "slide_type": "-"
    }
   },
   "outputs": [],
   "source": [
    "file = open(\"trophic_level.csv\")\n",
    "lines = file.readlines()\n",
    "header = lines[0]\n",
    "data = lines[1:]"
   ]
  },
  {
   "cell_type": "code",
   "execution_count": null,
   "metadata": {
    "slideshow": {
     "slide_type": "-"
    }
   },
   "outputs": [],
   "source": [
    "print(header)"
   ]
  },
  {
   "cell_type": "code",
   "execution_count": null,
   "metadata": {
    "slideshow": {
     "slide_type": "-"
    }
   },
   "outputs": [],
   "source": [
    "print(lines[1])"
   ]
  },
  {
   "cell_type": "code",
   "execution_count": null,
   "metadata": {
    "slideshow": {
     "slide_type": "-"
    }
   },
   "outputs": [],
   "source": [
    "# lets try to see what levels are in this dataset\n",
    "\n",
    "levels = []\n",
    "for line in data:\n",
    "    dat = line.strip().split(\",\")\n",
    "    level = dat[-1]\n",
    "    levels.append(level)"
   ]
  },
  {
   "cell_type": "markdown",
   "metadata": {
    "slideshow": {
     "slide_type": "slide"
    }
   },
   "source": [
    "What do you suppose these mean?"
   ]
  },
  {
   "cell_type": "code",
   "execution_count": null,
   "metadata": {
    "slideshow": {
     "slide_type": "-"
    }
   },
   "outputs": [],
   "source": [
    "unique = set(levels)\n",
    "print(unique)"
   ]
  },
  {
   "cell_type": "markdown",
   "metadata": {
    "slideshow": {
     "slide_type": "slide"
    }
   },
   "source": [
    "## Trophic level\n",
    "> Trophic level of each species measured using any qualitative or quantitative dietary measure, over any period of time, using any assessment method, for non-captive or non-provisioned populations; adult or age unspecified individuals, male, female, or sex unspecified individuals; primary, secondary, or extrapolated sources; all measures of central tendency; in all localities. Species were defined as **(1) herbivore (not vertebrate and/or invertebrate), (2) omnivore (vertebrate and/or invertebrate plus any of the other categories) and (3) carnivore (vertebrate and/or invertebrate only)**"
   ]
  },
  {
   "cell_type": "markdown",
   "metadata": {
    "slideshow": {
     "slide_type": "slide"
    }
   },
   "source": [
    "## Do bats or Carnivorans have more meat-eaters?\n",
    "\n",
    "- Let's shift to ask a more targetted question\n",
    "    - Do bats have fewer or more meat-eating species than Carnivorans (dogs, cats, etc)?\n",
    "    - _How might we begin to approach this question??_"
   ]
  },
  {
   "cell_type": "code",
   "execution_count": null,
   "metadata": {
    "slideshow": {
     "slide_type": "-"
    }
   },
   "outputs": [],
   "source": [
    "# Q: how can we check how many rows there are in the dataset?\n",
    "\n"
   ]
  },
  {
   "cell_type": "markdown",
   "metadata": {
    "slideshow": {
     "slide_type": "slide"
    }
   },
   "source": [
    "## Selecting Rows using a Condition\n",
    "\n",
    "- Okay, so we have a lot of rows to deal with. Sorting through manually would be impossible\n",
    "\n",
    "- We can select rows we want using **Boolean** logic"
   ]
  },
  {
   "cell_type": "markdown",
   "metadata": {
    "slideshow": {
     "slide_type": "slide"
    }
   },
   "source": [
    "## George Boole\n",
    "\n",
    "- Self-taught mathematician from the 19th century\n",
    "- Pioneered (what we now call) **Boolean algebra**\n",
    "  + System of algebra/logic using variables of `True` and `False` rather than numbers\n",
    "  + Absolutely fundamental concept for the computational sciences\n",
    "\n",
    "![Alt Text](images/boole.jpg)"
   ]
  },
  {
   "cell_type": "markdown",
   "metadata": {
    "slideshow": {
     "slide_type": "slide"
    }
   },
   "source": [
    "## Boolean variables\n",
    "\n",
    "- Is a condition `True` or `False`?\n",
    "- Python has notation for checking this:\n",
    "  + `a == b` -> \"a is equal to b\"\n",
    "  + `a != b` -> \"a is not equal to b\"\n",
    "\n"
   ]
  },
  {
   "cell_type": "code",
   "execution_count": null,
   "metadata": {
    "slideshow": {
     "slide_type": "slide"
    }
   },
   "outputs": [],
   "source": [
    "# We can compare numeric values:\n",
    "1 == 1"
   ]
  },
  {
   "cell_type": "code",
   "execution_count": null,
   "metadata": {
    "slideshow": {
     "slide_type": "slide"
    }
   },
   "outputs": [],
   "source": [
    "# We can compare numeric values:\n",
    "1 != 1"
   ]
  },
  {
   "cell_type": "code",
   "execution_count": null,
   "metadata": {
    "slideshow": {
     "slide_type": "slide"
    }
   },
   "outputs": [],
   "source": [
    "# We can compare numeric values:\n",
    "1 == 2"
   ]
  },
  {
   "cell_type": "code",
   "execution_count": null,
   "metadata": {
    "slideshow": {
     "slide_type": "slide"
    }
   },
   "outputs": [],
   "source": [
    "# We can compare numeric values:\n",
    "1 != 2"
   ]
  },
  {
   "cell_type": "code",
   "execution_count": null,
   "metadata": {
    "slideshow": {
     "slide_type": "slide"
    }
   },
   "outputs": [],
   "source": [
    "# We can also compare strings:\n",
    "\"star wars\" == \"star trek\""
   ]
  },
  {
   "cell_type": "code",
   "execution_count": null,
   "metadata": {
    "slideshow": {
     "slide_type": "slide"
    }
   },
   "outputs": [],
   "source": [
    "# We can also compare strings:\n",
    "\"star wars\" != \"star trek\""
   ]
  },
  {
   "cell_type": "markdown",
   "metadata": {
    "slideshow": {
     "slide_type": "slide"
    }
   },
   "source": [
    "### Booleans\n",
    "\n",
    "- Booleans are another native data type in Python"
   ]
  },
  {
   "cell_type": "code",
   "execution_count": null,
   "metadata": {
    "slideshow": {
     "slide_type": "fragment"
    }
   },
   "outputs": [],
   "source": [
    "type(True)"
   ]
  },
  {
   "cell_type": "markdown",
   "metadata": {
    "slideshow": {
     "slide_type": "slide"
    }
   },
   "source": [
    "## Using Booleans to extract data\n",
    "\n",
    "We can find the rows that correspond to each of our orders using Boolean logic\n",
    "    \n",
    "- Find rows that return `True` when the `order` variable is equal to (e.g.) Bats\n",
    "- Can use `if` keyword in Python:\n"
   ]
  },
  {
   "cell_type": "code",
   "execution_count": null,
   "metadata": {
    "slideshow": {
     "slide_type": "fragment"
    }
   },
   "outputs": [],
   "source": [
    "have_code_problems = False\n",
    "\n",
    "if have_code_problems == True:\n",
    "    print(\"i feel bad for ya son\")\n",
    "elif have_code_problems == False:\n",
    "    print(\"noice\")"
   ]
  },
  {
   "cell_type": "markdown",
   "metadata": {
    "slideshow": {
     "slide_type": "slide"
    }
   },
   "source": [
    "## Using Booleans to extract data\n",
    "\n",
    "- Can use `if` statements to compare many types of data\n"
   ]
  },
  {
   "cell_type": "code",
   "execution_count": null,
   "metadata": {
    "slideshow": {
     "slide_type": "fragment"
    }
   },
   "outputs": [],
   "source": [
    "prof = \"KP\"\n",
    "\n",
    "if prof == \"KP\":\n",
    "    print(\"wow, the semester is flying by!!!\")\n",
    "elif prof == \"michael\":\n",
    "    print(\"i'm so glad that midterm is over, phew\")\n",
    "else:\n",
    "    print(\"we must still be stuck with tomo...\")\n"
   ]
  },
  {
   "cell_type": "markdown",
   "metadata": {
    "slideshow": {
     "slide_type": "slide"
    }
   },
   "source": [
    "## Preparing\n",
    "\n",
    "- First, let's find out how many species belong to each of our orders of interest\n",
    "- Loop through our data and simply count how many records correspond to each\n"
   ]
  },
  {
   "cell_type": "code",
   "execution_count": null,
   "metadata": {
    "slideshow": {
     "slide_type": "fragment"
    }
   },
   "outputs": [],
   "source": [
    "n_bats = 0\n",
    "n_carn = 0\n",
    "for line in data:\n",
    "    line_dat = line.strip().split(\",\")\n",
    "    order = line_dat[0]\n",
    "    if order == \"Chiroptera\":\n",
    "        n_bats = n_bats + 1\n",
    "    elif order == \"Carnivora\":\n",
    "        n_carn = n_carn + 1\n",
    "        \n",
    "print(\"chiroptera:\",n_bats)\n",
    "print(\"carnivora:\",n_carn)"
   ]
  },
  {
   "cell_type": "markdown",
   "metadata": {
    "slideshow": {
     "slide_type": "slide"
    }
   },
   "source": [
    "## Which bats eat meat? Which Carnivorans do?\n",
    "\n",
    "- We can hone in on our focal question by just adding one more Boolean:\n"
   ]
  },
  {
   "cell_type": "code",
   "execution_count": null,
   "metadata": {
    "slideshow": {
     "slide_type": "-"
    }
   },
   "outputs": [],
   "source": [
    "bats_meat = 0\n",
    "carn_meat = 0\n",
    "for line in data:\n",
    "    line_dat = line.strip().split(\",\")\n",
    "    order = line_dat[0]\n",
    "    troph = line_dat[2]\n",
    "    if order == \"Chiroptera\":\n",
    "        if troph == \"3\":\n",
    "            bats_meat = bats_meat + 1\n",
    "    elif order == \"Carnivora\":\n",
    "        if troph == \"3\":\n",
    "            carn_meat = carn_meat + 1\n",
    "        \n",
    "print(\"chiroptera:\",bats_meat)\n",
    "print(\"carnivora:\",carn_meat)"
   ]
  },
  {
   "cell_type": "markdown",
   "metadata": {
    "slideshow": {
     "slide_type": "slide"
    }
   },
   "source": [
    "## Which bats eat meat? Which Carnivorans do?\n",
    "\n",
    "- We can hone in on our focal question by just adding one more Boolean\n",
    "- We can make this a little easier on the eyes by combining Booleans:\n"
   ]
  },
  {
   "cell_type": "code",
   "execution_count": null,
   "metadata": {
    "slideshow": {
     "slide_type": "-"
    }
   },
   "outputs": [],
   "source": [
    "bats_meat = 0\n",
    "carn_meat = 0\n",
    "for line in data:\n",
    "    line_dat = line.strip().split(\",\")\n",
    "    order = line_dat[0]\n",
    "    troph = line_dat[2]\n",
    "    if order == \"Chiroptera\" and troph == \"3\":\n",
    "            bats_meat = bats_meat + 1\n",
    "    elif order == \"Carnivora\" and troph == \"3\":\n",
    "            carn_meat = carn_meat + 1\n",
    "        \n",
    "print(\"chiroptera:\",bats_meat)\n",
    "print(\"carnivora:\",carn_meat)"
   ]
  },
  {
   "cell_type": "markdown",
   "metadata": {
    "slideshow": {
     "slide_type": "slide"
    }
   },
   "source": [
    "## What **proportion** of each eats meat?"
   ]
  },
  {
   "cell_type": "code",
   "execution_count": null,
   "metadata": {
    "slideshow": {
     "slide_type": "-"
    }
   },
   "outputs": [],
   "source": [
    "prop_bats_meat = bats_meat / n_bats\n",
    "prop_carn_meat = carn_meat / n_carn\n",
    "print(\"chiroptera:\",prop_bats_meat)\n",
    "print(\"carnivora:\",prop_carn_meat)"
   ]
  },
  {
   "cell_type": "markdown",
   "metadata": {
    "slideshow": {
     "slide_type": "slide"
    }
   },
   "source": [
    "## BUT WAIT"
   ]
  },
  {
   "cell_type": "markdown",
   "metadata": {
    "slideshow": {
     "slide_type": "slide"
    }
   },
   "source": [
    "## Missing data\n",
    "\n",
    "- Often times, our observations may be incomplete\n",
    "- These lead to 'missing data'\n",
    "- One common way of representing missing data is by writing 'NA'"
   ]
  },
  {
   "cell_type": "code",
   "execution_count": null,
   "metadata": {
    "slideshow": {
     "slide_type": "fragment"
    }
   },
   "outputs": [],
   "source": [
    "# what can we do with these 'NA' things!??!\n",
    "\n",
    "unique = set(levels)\n",
    "print(unique)"
   ]
  },
  {
   "cell_type": "markdown",
   "metadata": {
    "slideshow": {
     "slide_type": "slide"
    }
   },
   "source": [
    "## Missing data\n",
    "\n",
    "- In our loop, if we encounter a line where tropic_level is \"NA\", tell Python to skip to the next line\n",
    "- Can use the `continue` keyword for this:"
   ]
  },
  {
   "cell_type": "code",
   "execution_count": null,
   "metadata": {
    "slideshow": {
     "slide_type": "fragment"
    }
   },
   "outputs": [],
   "source": [
    "for i in range(5):\n",
    "    if i == 2:\n",
    "        continue\n",
    "    print(i)"
   ]
  },
  {
   "cell_type": "markdown",
   "metadata": {
    "slideshow": {
     "slide_type": "slide"
    }
   },
   "source": [
    "## Missing data\n",
    "\n",
    "- In our loop, if we encounter a line where tropic_level is \"NA\", tell Python to skip to the next line\n",
    "- Can use the `continue` keyword for this:"
   ]
  },
  {
   "cell_type": "code",
   "execution_count": null,
   "metadata": {
    "slideshow": {
     "slide_type": "fragment"
    }
   },
   "outputs": [],
   "source": [
    "n_bats = 0\n",
    "n_carn = 0\n",
    "for line in data:\n",
    "    line_dat = line.strip().split(\",\")\n",
    "    order = line_dat[0]\n",
    "    troph = line_dat[2]\n",
    "    if troph == \"NA\": \n",
    "        continue        # if the trophic level in the dataset is missing, skip to the next line without counting\n",
    "    if order == \"Chiroptera\":\n",
    "        n_bats = n_bats + 1\n",
    "    elif order == \"Carnivora\":\n",
    "        n_carn = n_carn + 1\n",
    "        \n",
    "print(\"chiroptera:\",n_bats)\n",
    "print(\"carnivora:\",n_carn)"
   ]
  },
  {
   "cell_type": "code",
   "execution_count": null,
   "metadata": {
    "slideshow": {
     "slide_type": "fragment"
    }
   },
   "outputs": [],
   "source": [
    "prop_bats_meat = bats_meat / n_bats\n",
    "prop_carn_meat = carn_meat / n_carn\n",
    "print(\"chiroptera:\",prop_bats_meat)\n",
    "print(\"carnivora:\",prop_carn_meat)"
   ]
  },
  {
   "cell_type": "markdown",
   "metadata": {
    "slideshow": {
     "slide_type": "slide"
    }
   },
   "source": [
    "## BUT WAIT"
   ]
  },
  {
   "cell_type": "markdown",
   "metadata": {
    "slideshow": {
     "slide_type": "slide"
    }
   },
   "source": [
    "## Trophic level\n",
    "> Trophic level of each species measured using any qualitative or quantitative dietary measure, over any period of time, using any assessment method, for non-captive or non-provisioned populations; adult or age unspecified individuals, male, female, or sex unspecified individuals; primary, secondary, or extrapolated sources; all measures of central tendency; in all localities. Species were defined as **(1) herbivore (not vertebrate and/or invertebrate), (2) omnivore (vertebrate and/or invertebrate plus any of the other categories) and (3) carnivore (vertebrate and/or invertebrate only)**"
   ]
  },
  {
   "cell_type": "markdown",
   "metadata": {
    "slideshow": {
     "slide_type": "slide"
    }
   },
   "source": [
    "## Trophic level\n",
    "\n",
    "- Maybe we want to consider anything at either levels 2 or 3 as meat-eating..."
   ]
  },
  {
   "cell_type": "markdown",
   "metadata": {
    "slideshow": {
     "slide_type": "slide"
    }
   },
   "source": [
    "### Expanding our Boolean toolkit\n",
    "\n",
    "- We can use the greater than (`>`) operator to accomplish this"
   ]
  },
  {
   "cell_type": "code",
   "execution_count": null,
   "metadata": {
    "slideshow": {
     "slide_type": "fragment"
    }
   },
   "outputs": [],
   "source": [
    "10 > 1"
   ]
  },
  {
   "cell_type": "code",
   "execution_count": null,
   "metadata": {
    "slideshow": {
     "slide_type": "fragment"
    }
   },
   "outputs": [],
   "source": [
    "10 >= 10"
   ]
  },
  {
   "cell_type": "code",
   "execution_count": null,
   "metadata": {
    "slideshow": {
     "slide_type": "fragment"
    }
   },
   "outputs": [],
   "source": [
    "10 < 1"
   ]
  },
  {
   "cell_type": "markdown",
   "metadata": {
    "slideshow": {
     "slide_type": "slide"
    }
   },
   "source": [
    "### Expanding our Boolean toolkit\n",
    "\n",
    "- Identify any species where trophic level is `>=` 2 as a meat-eater"
   ]
  },
  {
   "cell_type": "code",
   "execution_count": null,
   "metadata": {
    "slideshow": {
     "slide_type": "-"
    }
   },
   "outputs": [],
   "source": [
    "bats_meat = 0\n",
    "carn_meat = 0\n",
    "for line in data:\n",
    "    line_dat = line.strip().split(\",\")\n",
    "    order = line_dat[0]\n",
    "    troph = line_dat[2]\n",
    "    if troph == \"NA\": \n",
    "        continue        # if the trophic level in the dataset is missing, skip to the next line without counting\n",
    "    troph_int = int(troph)\n",
    "    if order == \"Chiroptera\" and troph_int >= 2:\n",
    "            bats_meat = bats_meat + 1\n",
    "    elif order == \"Carnivora\" and troph_int >= 2:\n",
    "            carn_meat = carn_meat + 1\n",
    "        \n",
    "print(\"chiroptera:\",bats_meat)\n",
    "print(\"carnivora:\",carn_meat)"
   ]
  },
  {
   "cell_type": "code",
   "execution_count": null,
   "metadata": {
    "slideshow": {
     "slide_type": "-"
    }
   },
   "outputs": [],
   "source": [
    "prop_bats_meat = bats_meat / n_bats\n",
    "prop_carn_meat = carn_meat / n_carn\n",
    "print(\"chiroptera:\",prop_bats_meat)\n",
    "print(\"carnivora:\",prop_carn_meat)"
   ]
  },
  {
   "cell_type": "markdown",
   "metadata": {
    "slideshow": {
     "slide_type": "slide"
    }
   },
   "source": [
    "## END OF WEEK 3"
   ]
  }
 ],
 "metadata": {
  "celltoolbar": "Slideshow",
  "kernelspec": {
   "display_name": "Python 3 (ipykernel)",
   "language": "python",
   "name": "python3"
  },
  "language_info": {
   "codemirror_mode": {
    "name": "ipython",
    "version": 3
   },
   "file_extension": ".py",
   "mimetype": "text/x-python",
   "name": "python",
   "nbconvert_exporter": "python",
   "pygments_lexer": "ipython3",
   "version": "3.13.1"
  }
 },
 "nbformat": 4,
 "nbformat_minor": 4
}
